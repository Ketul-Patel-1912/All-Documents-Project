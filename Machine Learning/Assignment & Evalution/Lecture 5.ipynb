{
 "cells": [
  {
   "cell_type": "markdown",
   "id": "0773638a",
   "metadata": {},
   "source": [
    "## Classification Introduction  (KNN)"
   ]
  },
  {
   "cell_type": "markdown",
   "id": "57209036",
   "metadata": {},
   "source": [
    "K in KNN is the number of nearest neighbors we consider for making the prediction. We determine the nearness of a point based on its distance(eg: Euclidean, Manhattan etc)from the point under consideration. For example, if K=5, we consider 5 nearest points and take the label of majority of these 5 points as the predicted label."
   ]
  },
  {
   "cell_type": "markdown",
   "id": "90f2b915",
   "metadata": {},
   "source": [
    "The KNN algorithm employs the same principle. Its aim is to locate all of the closest neighbours around a new unknown data point in order to figure out what class it belongs to. It’s a distance-based approach.\n",
    "\n"
   ]
  },
  {
   "cell_type": "markdown",
   "id": "948decba",
   "metadata": {},
   "source": [
    "Consider the diagram below; it is straightforward and easy for humans to identify it as a “Cat” based on its closest allies. This operation, however, cannot be performed directly by the algorithm."
   ]
  },
  {
   "cell_type": "markdown",
   "id": "b9885742",
   "metadata": {},
   "source": [
    "KNN calculates the distance from all points in the proximity of the unknown data and filters out the ones with the shortest distances to it. As a result, it’s often referred to as a distance-based algorithm.\n",
    "\n",
    "In order to correctly classify the results, we must first determine the value of K (Number of Nearest Neighbours).\n",
    "\n",
    "In the following diagram, the value of K is 5. Since there are four cats and just one dog in the proximity of the five closest neighbours, the algorithm would predict that it is a cat based on the proximity of the five closest neighbors in the red circle’s boundaries."
   ]
  },
  {
   "cell_type": "markdown",
   "id": "37fefa0b",
   "metadata": {},
   "source": [
    "<div>\n",
    "<img src=\"./images/knn_eg.png\" width=\"800\">\n",
    "</div>"
   ]
  },
  {
   "cell_type": "markdown",
   "id": "14661430",
   "metadata": {},
   "source": [
    "## Nearest Neighbor Method for Classification"
   ]
  },
  {
   "cell_type": "markdown",
   "id": "3b0e0d2a",
   "metadata": {},
   "source": [
    "- Non parametric algorithm i,e. It does not make any assumptions for underlying data assumptions\n",
    "- Does not learn during the training phase rather it stores the data points but learns during the testing phase\n"
   ]
  },
  {
   "cell_type": "markdown",
   "id": "f1286d51",
   "metadata": {},
   "source": [
    "#### Objectives\n",
    "- Working principle of KNN\n",
    "- Choosing an optimal K values\n",
    "- Different algorithms used in KNN"
   ]
  },
  {
   "cell_type": "markdown",
   "id": "8d75469c",
   "metadata": {},
   "source": [
    "<div>\n",
    "<img src=\"./images/knn.png\" width=\"800\">\n",
    "</div>"
   ]
  },
  {
   "cell_type": "markdown",
   "id": "d2761a12",
   "metadata": {},
   "source": [
    "Consider there are two categories, category A and category B. We want to classify which category the new datapoint lies in. To classify the point we can use the KNN algorithm which observes the behaviour of the nearest points and classify itself accordingly. In this case, the behaviour is which category it belongs to."
   ]
  },
  {
   "cell_type": "markdown",
   "id": "2265d24d",
   "metadata": {},
   "source": [
    "Consider an XY plane with data points plotted in the graph.\n",
    "\n"
   ]
  },
  {
   "cell_type": "markdown",
   "id": "b2361231",
   "metadata": {},
   "source": [
    "- Choose the K value\n",
    "- Calculate the distance between all the training points and new data points.\n",
    "- Sort the computed distance in ascending order between training points and new data points.\n",
    "- Choose the first K distances from the sorted list\n",
    "- Take the mode/mean of the classes associated with the distances.\n",
    "- For classification problem compute mode else for regression problem compute mean with the distances."
   ]
  },
  {
   "cell_type": "markdown",
   "id": "c3156574",
   "metadata": {},
   "source": [
    "### Distance Metrics\n"
   ]
  },
  {
   "cell_type": "markdown",
   "id": "3a175ef3",
   "metadata": {},
   "source": [
    "###### It is essential to choose the most appropriate distance metrics for a particular dataset. The following are the various distance metrics:\n",
    "\n"
   ]
  },
  {
   "cell_type": "markdown",
   "id": "92e16e0f",
   "metadata": {},
   "source": [
    "- Minkowski Distance-Minkowski distance is calculated where distances are in the form of vectors that have a length and the length cannot be negative.\n",
    "    $|4 – 5|^2 + |2 – 1|^2 + |6 – 7|^2 + |8 – 9|^2 )^{1/2}$\n",
    "    \n",
    "    $( Σ|vector1_{i}– vector2_{i}|^p )^{1/p}$\n",
    "\n",
    "\n",
    "- Manhattan Distance-The distance between two points is the sum of the absolute differences of their Cartesian coordinates.\n",
    "- Euclidean Distance- It is a measure of the true straight line distance between two points in Euclidean space.\n",
    "- Cosine Distance-It is used to calculate the similarity between two vectors. It measures the direction and uses the cosine function to calculate the angle between two vectors.\n",
    "- Jaccard Distance-It is similar to cosine distance as both the methods compare one type of attribute distributed among all data. The Jaccard approach looks at the two data sets and finds the incident where both values are equal to 1.\n",
    "\n",
    "\n",
    "\n",
    "\n",
    "\n"
   ]
  },
  {
   "cell_type": "markdown",
   "id": "e283abfc",
   "metadata": {},
   "source": [
    "### How to choose the K value?\n"
   ]
  },
  {
   "cell_type": "markdown",
   "id": "45c5873d",
   "metadata": {},
   "source": [
    "- Low value of K= 1 because it may lead to overfitting, i.e. train performance is good but testing performance is not so good.\n",
    "- Choosing a high value of K can also lead to underfitting i.e it performs poorly during the training and testing phase.\n",
    "- We should not use even values of K when classifying binary classification problems. Suppose we choose K=4 and the neighbouring 4 points are evenly distributed among classes i.e 2 data points belong to category 1 and 2 data points belong to category 2. In that case, the data point cannot classify as there is a tie between the classes.\n",
    "- Choose K value based on domain knowledge.\n",
    "- Plot the elbow curve between different K values and error. Choose the K value when there is a sudden drop in the error rate.\n",
    "\n",
    "<div>\n",
    "<img src=\"./images/elbow.png\" width=\"800\">\n",
    "</div>\n",
    "\n"
   ]
  },
  {
   "cell_type": "markdown",
   "id": "7af89b6a",
   "metadata": {},
   "source": [
    "### Advantages & Disadvantages of KNN Algorithm\n"
   ]
  },
  {
   "cell_type": "markdown",
   "id": "32974a40",
   "metadata": {},
   "source": [
    "#### Advantages"
   ]
  },
  {
   "cell_type": "markdown",
   "id": "40f18646",
   "metadata": {},
   "source": [
    "- It is very easy to understand and implement\n",
    "- It is an instance-based learning(lazy learning) algorithm.\n",
    "- KNN does not learn during the training phase hence new data points can be added with affecting the performance of the algorithm.\n",
    "- It is well suited for small datasets."
   ]
  },
  {
   "cell_type": "markdown",
   "id": "0a300424",
   "metadata": {},
   "source": [
    "#### Disadvantages"
   ]
  },
  {
   "cell_type": "markdown",
   "id": "f088dcb0",
   "metadata": {},
   "source": [
    "- It fails when variables have different scales.\n",
    "- It is difficult to choose K-value.\n",
    "- It leads to ambiguous interpretations.\n",
    "- It is sensitive to outliers and missing values.\n",
    "- Does not work well with large datasets.\n",
    "- It does not work well with high dimensions."
   ]
  },
  {
   "cell_type": "markdown",
   "id": "dcdd360e",
   "metadata": {},
   "source": [
    "### How does KNN Work?\n"
   ]
  },
  {
   "cell_type": "markdown",
   "id": "d357de15",
   "metadata": {},
   "source": [
    "##### Principle\n",
    "Consider the following figure. Let us say we have plotted data points from our training set on a two-dimensional feature space. As shown, we have a total of 6 data points (3 red and 3 blue)."
   ]
  },
  {
   "cell_type": "code",
   "execution_count": 1,
   "id": "4a1653c7",
   "metadata": {},
   "outputs": [
    {
     "name": "stderr",
     "output_type": "stream",
     "text": [
      "\n",
      "Bad key text.latex.preview in file /Users/saket/anaconda3/lib/python3.8/site-packages/matplotlib/mpl-data/stylelib/_classic_test.mplstyle, line 123 ('text.latex.preview : False')\n",
      "You probably need to get an updated matplotlibrc file from\n",
      "https://github.com/matplotlib/matplotlib/blob/v3.5.1/matplotlibrc.template\n",
      "or from the matplotlib source distribution\n",
      "\n",
      "Bad key mathtext.fallback_to_cm in file /Users/saket/anaconda3/lib/python3.8/site-packages/matplotlib/mpl-data/stylelib/_classic_test.mplstyle, line 155 ('mathtext.fallback_to_cm : True  # When True, use symbols from the Computer Modern')\n",
      "You probably need to get an updated matplotlibrc file from\n",
      "https://github.com/matplotlib/matplotlib/blob/v3.5.1/matplotlibrc.template\n",
      "or from the matplotlib source distribution\n",
      "\n",
      "Bad key savefig.jpeg_quality in file /Users/saket/anaconda3/lib/python3.8/site-packages/matplotlib/mpl-data/stylelib/_classic_test.mplstyle, line 418 ('savefig.jpeg_quality: 95       # when a jpeg is saved, the default quality parameter.')\n",
      "You probably need to get an updated matplotlibrc file from\n",
      "https://github.com/matplotlib/matplotlib/blob/v3.5.1/matplotlibrc.template\n",
      "or from the matplotlib source distribution\n",
      "\n",
      "Bad key keymap.all_axes in file /Users/saket/anaconda3/lib/python3.8/site-packages/matplotlib/mpl-data/stylelib/_classic_test.mplstyle, line 466 ('keymap.all_axes : a                 # enable all axes')\n",
      "You probably need to get an updated matplotlibrc file from\n",
      "https://github.com/matplotlib/matplotlib/blob/v3.5.1/matplotlibrc.template\n",
      "or from the matplotlib source distribution\n",
      "\n",
      "Bad key animation.avconv_path in file /Users/saket/anaconda3/lib/python3.8/site-packages/matplotlib/mpl-data/stylelib/_classic_test.mplstyle, line 477 ('animation.avconv_path: avconv     # Path to avconv binary. Without full path')\n",
      "You probably need to get an updated matplotlibrc file from\n",
      "https://github.com/matplotlib/matplotlib/blob/v3.5.1/matplotlibrc.template\n",
      "or from the matplotlib source distribution\n",
      "\n",
      "Bad key animation.avconv_args in file /Users/saket/anaconda3/lib/python3.8/site-packages/matplotlib/mpl-data/stylelib/_classic_test.mplstyle, line 479 ('animation.avconv_args:            # Additional arguments to pass to avconv')\n",
      "You probably need to get an updated matplotlibrc file from\n",
      "https://github.com/matplotlib/matplotlib/blob/v3.5.1/matplotlibrc.template\n",
      "or from the matplotlib source distribution\n"
     ]
    },
    {
     "data": {
      "text/html": [
       "<div>\n",
       "<style scoped>\n",
       "    .dataframe tbody tr th:only-of-type {\n",
       "        vertical-align: middle;\n",
       "    }\n",
       "\n",
       "    .dataframe tbody tr th {\n",
       "        vertical-align: top;\n",
       "    }\n",
       "\n",
       "    .dataframe thead th {\n",
       "        text-align: right;\n",
       "    }\n",
       "</style>\n",
       "<table border=\"1\" class=\"dataframe\">\n",
       "  <thead>\n",
       "    <tr style=\"text-align: right;\">\n",
       "      <th></th>\n",
       "      <th>sepal-length</th>\n",
       "      <th>sepal-width</th>\n",
       "      <th>petal-length</th>\n",
       "      <th>petal-width</th>\n",
       "      <th>Class</th>\n",
       "    </tr>\n",
       "  </thead>\n",
       "  <tbody>\n",
       "    <tr>\n",
       "      <th>0</th>\n",
       "      <td>5.1</td>\n",
       "      <td>3.5</td>\n",
       "      <td>1.4</td>\n",
       "      <td>0.2</td>\n",
       "      <td>Iris-setosa</td>\n",
       "    </tr>\n",
       "    <tr>\n",
       "      <th>1</th>\n",
       "      <td>4.9</td>\n",
       "      <td>3.0</td>\n",
       "      <td>1.4</td>\n",
       "      <td>0.2</td>\n",
       "      <td>Iris-setosa</td>\n",
       "    </tr>\n",
       "    <tr>\n",
       "      <th>2</th>\n",
       "      <td>4.7</td>\n",
       "      <td>3.2</td>\n",
       "      <td>1.3</td>\n",
       "      <td>0.2</td>\n",
       "      <td>Iris-setosa</td>\n",
       "    </tr>\n",
       "    <tr>\n",
       "      <th>3</th>\n",
       "      <td>4.6</td>\n",
       "      <td>3.1</td>\n",
       "      <td>1.5</td>\n",
       "      <td>0.2</td>\n",
       "      <td>Iris-setosa</td>\n",
       "    </tr>\n",
       "    <tr>\n",
       "      <th>4</th>\n",
       "      <td>5.0</td>\n",
       "      <td>3.6</td>\n",
       "      <td>1.4</td>\n",
       "      <td>0.2</td>\n",
       "      <td>Iris-setosa</td>\n",
       "    </tr>\n",
       "  </tbody>\n",
       "</table>\n",
       "</div>"
      ],
      "text/plain": [
       "   sepal-length  sepal-width  petal-length  petal-width        Class\n",
       "0           5.1          3.5           1.4          0.2  Iris-setosa\n",
       "1           4.9          3.0           1.4          0.2  Iris-setosa\n",
       "2           4.7          3.2           1.3          0.2  Iris-setosa\n",
       "3           4.6          3.1           1.5          0.2  Iris-setosa\n",
       "4           5.0          3.6           1.4          0.2  Iris-setosa"
      ]
     },
     "execution_count": 1,
     "metadata": {},
     "output_type": "execute_result"
    }
   ],
   "source": [
    "import pandas as pd\n",
    "import numpy as np\n",
    "import operator\n",
    "import matplotlib.pyplot as plt\n",
    "import seaborn as sns\n",
    "path = \"https://archive.ics.uci.edu/ml/machine-learning-databases/iris/iris.data\"\n",
    "headernames = ['sepal-length', 'sepal-width', 'petal-length', 'petal-width', 'Class']\n",
    "dataset = pd.read_csv(path, names = headernames)\n",
    "dataset.head()"
   ]
  },
  {
   "cell_type": "code",
   "execution_count": 2,
   "id": "4317c32b",
   "metadata": {},
   "outputs": [
    {
     "data": {
      "text/plain": [
       "150"
      ]
     },
     "execution_count": 2,
     "metadata": {},
     "output_type": "execute_result"
    }
   ],
   "source": [
    "len(dataset)"
   ]
  },
  {
   "cell_type": "code",
   "execution_count": null,
   "id": "b1dde2de",
   "metadata": {},
   "outputs": [],
   "source": []
  },
  {
   "cell_type": "code",
   "execution_count": null,
   "id": "4a2b4d90",
   "metadata": {},
   "outputs": [],
   "source": []
  },
  {
   "cell_type": "code",
   "execution_count": 3,
   "id": "aae3d74f",
   "metadata": {},
   "outputs": [
    {
     "name": "stderr",
     "output_type": "stream",
     "text": [
      "No artists with labels found to put in legend.  Note that artists whose label start with an underscore are ignored when legend() is called with no argument.\n"
     ]
    },
    {
     "data": {
      "text/plain": [
       "<AxesSubplot:title={'center':'sepal-length by petal-length'}, xlabel='sepal-length', ylabel='petal-length'>"
      ]
     },
     "execution_count": 3,
     "metadata": {},
     "output_type": "execute_result"
    },
    {
     "data": {
      "image/png": "[encoded data removed]",
      "text/plain": [
       "<Figure size 1080x720 with 1 Axes>"
      ]
     },
     "metadata": {
      "needs_background": "light"
     },
     "output_type": "display_data"
    }
   ],
   "source": [
    "fig,axes=plt.subplots(nrows=1,ncols=1,figsize=(15,10))\n",
    "plt.title(\"sepal-length by petal-length\")\n",
    "plt.xlabel('sepal-length')\n",
    "plt.ylabel('petal-length')\n",
    "plt.scatter([6], [4.7], color='red',s=150)\n",
    "plt.legend()\n",
    "sns.scatterplot(x='sepal-length',y='petal-length',data=dataset,hue='Class')"
   ]
  },
  {
   "cell_type": "code",
   "execution_count": 4,
   "id": "4d5f5980",
   "metadata": {},
   "outputs": [
    {
     "data": {
      "image/png": "[encoded data removed]",
      "text/plain": [
       "<Figure size 432x288 with 1 Axes>"
      ]
     },
     "metadata": {
      "needs_background": "light"
     },
     "output_type": "display_data"
    }
   ],
   "source": [
    "x1 = np.array([1,2,2, 3,3.5])\n",
    "x2 = np.array([6,6.2,7, 7.2,8])\n",
    "y1 = np.array([3,3.5,4,4,5])\n",
    "y2 = np.array([3.5, 3.8, 4.1, 4.4, 5])\n",
    "\n",
    "# Scatter Plot color array\n",
    "\n",
    "plt.scatter(x1, y1, color='blue')\n",
    "plt.scatter(x2, y2, color='red')\n",
    "plt.scatter([10], [10], color='green')\n",
    "\n",
    "# Display\n",
    "\n",
    "plt.show()"
   ]
  },
  {
   "cell_type": "code",
   "execution_count": null,
   "id": "1d680af3",
   "metadata": {},
   "outputs": [],
   "source": []
  },
  {
   "cell_type": "code",
   "execution_count": 5,
   "id": "f6b5728e",
   "metadata": {},
   "outputs": [
    {
     "data": {
      "text/plain": [
       "<matplotlib.collections.PathCollection at 0x7fd118a96f70>"
      ]
     },
     "execution_count": 5,
     "metadata": {},
     "output_type": "execute_result"
    },
    {
     "data": {
      "image/png": "[encoded data removed]",
      "text/plain": [
       "<Figure size 432x288 with 1 Axes>"
      ]
     },
     "metadata": {
      "needs_background": "light"
     },
     "output_type": "display_data"
    }
   ],
   "source": [
    "plt.scatter([1], [2], color='blue')"
   ]
  },
  {
   "cell_type": "markdown",
   "id": "7c729332",
   "metadata": {},
   "source": [
    "<div>\n",
    "<img src=\"./images/knn_working.png\" width=\"800\">\n",
    "</div>\n",
    "\n"
   ]
  },
  {
   "cell_type": "code",
   "execution_count": 6,
   "id": "a85677e0",
   "metadata": {},
   "outputs": [
    {
     "data": {
      "text/html": [
       "<div>\n",
       "<style scoped>\n",
       "    .dataframe tbody tr th:only-of-type {\n",
       "        vertical-align: middle;\n",
       "    }\n",
       "\n",
       "    .dataframe tbody tr th {\n",
       "        vertical-align: top;\n",
       "    }\n",
       "\n",
       "    .dataframe thead th {\n",
       "        text-align: right;\n",
       "    }\n",
       "</style>\n",
       "<table border=\"1\" class=\"dataframe\">\n",
       "  <thead>\n",
       "    <tr style=\"text-align: right;\">\n",
       "      <th></th>\n",
       "      <th>sepal-length</th>\n",
       "      <th>sepal-width</th>\n",
       "      <th>petal-length</th>\n",
       "      <th>petal-width</th>\n",
       "      <th>Class</th>\n",
       "    </tr>\n",
       "  </thead>\n",
       "  <tbody>\n",
       "    <tr>\n",
       "      <th>0</th>\n",
       "      <td>5.1</td>\n",
       "      <td>3.5</td>\n",
       "      <td>1.4</td>\n",
       "      <td>0.2</td>\n",
       "      <td>Iris-setosa</td>\n",
       "    </tr>\n",
       "    <tr>\n",
       "      <th>1</th>\n",
       "      <td>4.9</td>\n",
       "      <td>3.0</td>\n",
       "      <td>1.4</td>\n",
       "      <td>0.2</td>\n",
       "      <td>Iris-setosa</td>\n",
       "    </tr>\n",
       "    <tr>\n",
       "      <th>2</th>\n",
       "      <td>4.7</td>\n",
       "      <td>3.2</td>\n",
       "      <td>1.3</td>\n",
       "      <td>0.2</td>\n",
       "      <td>Iris-setosa</td>\n",
       "    </tr>\n",
       "    <tr>\n",
       "      <th>3</th>\n",
       "      <td>4.6</td>\n",
       "      <td>3.1</td>\n",
       "      <td>1.5</td>\n",
       "      <td>0.2</td>\n",
       "      <td>Iris-setosa</td>\n",
       "    </tr>\n",
       "    <tr>\n",
       "      <th>4</th>\n",
       "      <td>5.0</td>\n",
       "      <td>3.6</td>\n",
       "      <td>1.4</td>\n",
       "      <td>0.2</td>\n",
       "      <td>Iris-setosa</td>\n",
       "    </tr>\n",
       "    <tr>\n",
       "      <th>...</th>\n",
       "      <td>...</td>\n",
       "      <td>...</td>\n",
       "      <td>...</td>\n",
       "      <td>...</td>\n",
       "      <td>...</td>\n",
       "    </tr>\n",
       "    <tr>\n",
       "      <th>145</th>\n",
       "      <td>6.7</td>\n",
       "      <td>3.0</td>\n",
       "      <td>5.2</td>\n",
       "      <td>2.3</td>\n",
       "      <td>Iris-virginica</td>\n",
       "    </tr>\n",
       "    <tr>\n",
       "      <th>146</th>\n",
       "      <td>6.3</td>\n",
       "      <td>2.5</td>\n",
       "      <td>5.0</td>\n",
       "      <td>1.9</td>\n",
       "      <td>Iris-virginica</td>\n",
       "    </tr>\n",
       "    <tr>\n",
       "      <th>147</th>\n",
       "      <td>6.5</td>\n",
       "      <td>3.0</td>\n",
       "      <td>5.2</td>\n",
       "      <td>2.0</td>\n",
       "      <td>Iris-virginica</td>\n",
       "    </tr>\n",
       "    <tr>\n",
       "      <th>148</th>\n",
       "      <td>6.2</td>\n",
       "      <td>3.4</td>\n",
       "      <td>5.4</td>\n",
       "      <td>2.3</td>\n",
       "      <td>Iris-virginica</td>\n",
       "    </tr>\n",
       "    <tr>\n",
       "      <th>149</th>\n",
       "      <td>5.9</td>\n",
       "      <td>3.0</td>\n",
       "      <td>5.1</td>\n",
       "      <td>1.8</td>\n",
       "      <td>Iris-virginica</td>\n",
       "    </tr>\n",
       "  </tbody>\n",
       "</table>\n",
       "<p>150 rows × 5 columns</p>\n",
       "</div>"
      ],
      "text/plain": [
       "     sepal-length  sepal-width  petal-length  petal-width           Class\n",
       "0             5.1          3.5           1.4          0.2     Iris-setosa\n",
       "1             4.9          3.0           1.4          0.2     Iris-setosa\n",
       "2             4.7          3.2           1.3          0.2     Iris-setosa\n",
       "3             4.6          3.1           1.5          0.2     Iris-setosa\n",
       "4             5.0          3.6           1.4          0.2     Iris-setosa\n",
       "..            ...          ...           ...          ...             ...\n",
       "145           6.7          3.0           5.2          2.3  Iris-virginica\n",
       "146           6.3          2.5           5.0          1.9  Iris-virginica\n",
       "147           6.5          3.0           5.2          2.0  Iris-virginica\n",
       "148           6.2          3.4           5.4          2.3  Iris-virginica\n",
       "149           5.9          3.0           5.1          1.8  Iris-virginica\n",
       "\n",
       "[150 rows x 5 columns]"
      ]
     },
     "execution_count": 6,
     "metadata": {},
     "output_type": "execute_result"
    }
   ],
   "source": [
    "dataset"
   ]
  },
  {
   "cell_type": "markdown",
   "id": "2bd9d746",
   "metadata": {},
   "source": [
    "#### Steps for KNN\n",
    "\n",
    "##### Step 1. Import the libraries(Done Above)\n",
    "\n",
    "\n",
    "\n",
    "###### Step 2. Load the dataset(Done above)\n",
    "\n",
    "##### Step 3. Train Test Split\n",
    "\n"
   ]
  },
  {
   "cell_type": "code",
   "execution_count": 7,
   "id": "3bf587a3",
   "metadata": {},
   "outputs": [],
   "source": [
    "data=dataset.copy()"
   ]
  },
  {
   "cell_type": "code",
   "execution_count": 8,
   "id": "dfc847a9",
   "metadata": {},
   "outputs": [],
   "source": [
    "data.columns=[x.replace(\"-\",\"_\") for x in data.columns]"
   ]
  },
  {
   "cell_type": "code",
   "execution_count": 9,
   "id": "b24b8b1c",
   "metadata": {},
   "outputs": [
    {
     "data": {
      "text/html": [
       "<div>\n",
       "<style scoped>\n",
       "    .dataframe tbody tr th:only-of-type {\n",
       "        vertical-align: middle;\n",
       "    }\n",
       "\n",
       "    .dataframe tbody tr th {\n",
       "        vertical-align: top;\n",
       "    }\n",
       "\n",
       "    .dataframe thead th {\n",
       "        text-align: right;\n",
       "    }\n",
       "</style>\n",
       "<table border=\"1\" class=\"dataframe\">\n",
       "  <thead>\n",
       "    <tr style=\"text-align: right;\">\n",
       "      <th></th>\n",
       "      <th>sepal_length</th>\n",
       "      <th>sepal_width</th>\n",
       "      <th>petal_length</th>\n",
       "      <th>petal_width</th>\n",
       "      <th>Class</th>\n",
       "    </tr>\n",
       "  </thead>\n",
       "  <tbody>\n",
       "    <tr>\n",
       "      <th>0</th>\n",
       "      <td>5.1</td>\n",
       "      <td>3.5</td>\n",
       "      <td>1.4</td>\n",
       "      <td>0.2</td>\n",
       "      <td>Iris-setosa</td>\n",
       "    </tr>\n",
       "    <tr>\n",
       "      <th>1</th>\n",
       "      <td>4.9</td>\n",
       "      <td>3.0</td>\n",
       "      <td>1.4</td>\n",
       "      <td>0.2</td>\n",
       "      <td>Iris-setosa</td>\n",
       "    </tr>\n",
       "    <tr>\n",
       "      <th>2</th>\n",
       "      <td>4.7</td>\n",
       "      <td>3.2</td>\n",
       "      <td>1.3</td>\n",
       "      <td>0.2</td>\n",
       "      <td>Iris-setosa</td>\n",
       "    </tr>\n",
       "    <tr>\n",
       "      <th>3</th>\n",
       "      <td>4.6</td>\n",
       "      <td>3.1</td>\n",
       "      <td>1.5</td>\n",
       "      <td>0.2</td>\n",
       "      <td>Iris-setosa</td>\n",
       "    </tr>\n",
       "    <tr>\n",
       "      <th>4</th>\n",
       "      <td>5.0</td>\n",
       "      <td>3.6</td>\n",
       "      <td>1.4</td>\n",
       "      <td>0.2</td>\n",
       "      <td>Iris-setosa</td>\n",
       "    </tr>\n",
       "    <tr>\n",
       "      <th>...</th>\n",
       "      <td>...</td>\n",
       "      <td>...</td>\n",
       "      <td>...</td>\n",
       "      <td>...</td>\n",
       "      <td>...</td>\n",
       "    </tr>\n",
       "    <tr>\n",
       "      <th>145</th>\n",
       "      <td>6.7</td>\n",
       "      <td>3.0</td>\n",
       "      <td>5.2</td>\n",
       "      <td>2.3</td>\n",
       "      <td>Iris-virginica</td>\n",
       "    </tr>\n",
       "    <tr>\n",
       "      <th>146</th>\n",
       "      <td>6.3</td>\n",
       "      <td>2.5</td>\n",
       "      <td>5.0</td>\n",
       "      <td>1.9</td>\n",
       "      <td>Iris-virginica</td>\n",
       "    </tr>\n",
       "    <tr>\n",
       "      <th>147</th>\n",
       "      <td>6.5</td>\n",
       "      <td>3.0</td>\n",
       "      <td>5.2</td>\n",
       "      <td>2.0</td>\n",
       "      <td>Iris-virginica</td>\n",
       "    </tr>\n",
       "    <tr>\n",
       "      <th>148</th>\n",
       "      <td>6.2</td>\n",
       "      <td>3.4</td>\n",
       "      <td>5.4</td>\n",
       "      <td>2.3</td>\n",
       "      <td>Iris-virginica</td>\n",
       "    </tr>\n",
       "    <tr>\n",
       "      <th>149</th>\n",
       "      <td>5.9</td>\n",
       "      <td>3.0</td>\n",
       "      <td>5.1</td>\n",
       "      <td>1.8</td>\n",
       "      <td>Iris-virginica</td>\n",
       "    </tr>\n",
       "  </tbody>\n",
       "</table>\n",
       "<p>150 rows × 5 columns</p>\n",
       "</div>"
      ],
      "text/plain": [
       "     sepal_length  sepal_width  petal_length  petal_width           Class\n",
       "0             5.1          3.5           1.4          0.2     Iris-setosa\n",
       "1             4.9          3.0           1.4          0.2     Iris-setosa\n",
       "2             4.7          3.2           1.3          0.2     Iris-setosa\n",
       "3             4.6          3.1           1.5          0.2     Iris-setosa\n",
       "4             5.0          3.6           1.4          0.2     Iris-setosa\n",
       "..            ...          ...           ...          ...             ...\n",
       "145           6.7          3.0           5.2          2.3  Iris-virginica\n",
       "146           6.3          2.5           5.0          1.9  Iris-virginica\n",
       "147           6.5          3.0           5.2          2.0  Iris-virginica\n",
       "148           6.2          3.4           5.4          2.3  Iris-virginica\n",
       "149           5.9          3.0           5.1          1.8  Iris-virginica\n",
       "\n",
       "[150 rows x 5 columns]"
      ]
     },
     "execution_count": 9,
     "metadata": {},
     "output_type": "execute_result"
    }
   ],
   "source": [
    "data"
   ]
  },
  {
   "cell_type": "code",
   "execution_count": null,
   "id": "83d6b718",
   "metadata": {},
   "outputs": [],
   "source": []
  },
  {
   "cell_type": "code",
   "execution_count": 10,
   "id": "c1190c4b",
   "metadata": {},
   "outputs": [],
   "source": [
    "from sklearn.model_selection import train_test_split\n",
    "train_data,test_data=train_test_split(data,train_size=0.8,random_state=3)"
   ]
  },
  {
   "cell_type": "code",
   "execution_count": 11,
   "id": "1323667e",
   "metadata": {},
   "outputs": [
    {
     "name": "stderr",
     "output_type": "stream",
     "text": [
      "/var/folders/y0/b05q0ql9775f91gmh4wsbxf80000gn/T/ipykernel_26912/3258064851.py:1: FutureWarning: Dropping of nuisance columns in DataFrame reductions (with 'numeric_only=None') is deprecated; in a future version this will raise TypeError.  Select only valid columns before calling the reduction.\n",
      "  mean_train_set = train_data.mean()\n",
      "/var/folders/y0/b05q0ql9775f91gmh4wsbxf80000gn/T/ipykernel_26912/3258064851.py:2: FutureWarning: Dropping of nuisance columns in DataFrame reductions (with 'numeric_only=None') is deprecated; in a future version this will raise TypeError.  Select only valid columns before calling the reduction.\n",
      "  mean_test_set = test_data.mean()\n",
      "/var/folders/y0/b05q0ql9775f91gmh4wsbxf80000gn/T/ipykernel_26912/3258064851.py:3: FutureWarning: Dropping of nuisance columns in DataFrame reductions (with 'numeric_only=None') is deprecated; in a future version this will raise TypeError.  Select only valid columns before calling the reduction.\n",
      "  std_train_set = train_data.std()\n",
      "/var/folders/y0/b05q0ql9775f91gmh4wsbxf80000gn/T/ipykernel_26912/3258064851.py:4: FutureWarning: Dropping of nuisance columns in DataFrame reductions (with 'numeric_only=None') is deprecated; in a future version this will raise TypeError.  Select only valid columns before calling the reduction.\n",
      "  std_test_set = test_data.std()\n"
     ]
    }
   ],
   "source": [
    "mean_train_set = train_data.mean()\n",
    "mean_test_set = test_data.mean()\n",
    "std_train_set = train_data.std()\n",
    "std_test_set = test_data.std()"
   ]
  },
  {
   "cell_type": "code",
   "execution_count": 12,
   "id": "1c6176ea",
   "metadata": {},
   "outputs": [
    {
     "data": {
      "text/plain": [
       "sepal_length    5.837500\n",
       "sepal_width     3.065000\n",
       "petal_length    3.755833\n",
       "petal_width     1.193333\n",
       "dtype: float64"
      ]
     },
     "execution_count": 12,
     "metadata": {},
     "output_type": "execute_result"
    }
   ],
   "source": [
    "mean_train_set"
   ]
  },
  {
   "cell_type": "code",
   "execution_count": 13,
   "id": "6b22c132",
   "metadata": {},
   "outputs": [
    {
     "data": {
      "text/plain": [
       "sepal_length    5.866667\n",
       "sepal_width     3.010000\n",
       "petal_length    3.770000\n",
       "petal_width     1.220000\n",
       "dtype: float64"
      ]
     },
     "execution_count": 13,
     "metadata": {},
     "output_type": "execute_result"
    }
   ],
   "source": [
    "mean_test_set"
   ]
  },
  {
   "cell_type": "code",
   "execution_count": 14,
   "id": "9c60691d",
   "metadata": {},
   "outputs": [
    {
     "data": {
      "text/plain": [
       "sepal_length    0.798219\n",
       "sepal_width     0.428531\n",
       "petal_length    1.757662\n",
       "petal_width     0.760886\n",
       "dtype: float64"
      ]
     },
     "execution_count": 14,
     "metadata": {},
     "output_type": "execute_result"
    }
   ],
   "source": [
    "std_train_set"
   ]
  },
  {
   "cell_type": "code",
   "execution_count": 15,
   "id": "65c694ac",
   "metadata": {},
   "outputs": [
    {
     "data": {
      "text/plain": [
       "sepal_length    0.952794\n",
       "sepal_width     0.458145\n",
       "petal_length    1.821547\n",
       "petal_width     0.784945\n",
       "dtype: float64"
      ]
     },
     "execution_count": 15,
     "metadata": {},
     "output_type": "execute_result"
    }
   ],
   "source": [
    "std_test_set"
   ]
  },
  {
   "cell_type": "code",
   "execution_count": 16,
   "id": "937ea056",
   "metadata": {},
   "outputs": [
    {
     "data": {
      "text/html": [
       "<div>\n",
       "<style scoped>\n",
       "    .dataframe tbody tr th:only-of-type {\n",
       "        vertical-align: middle;\n",
       "    }\n",
       "\n",
       "    .dataframe tbody tr th {\n",
       "        vertical-align: top;\n",
       "    }\n",
       "\n",
       "    .dataframe thead th {\n",
       "        text-align: right;\n",
       "    }\n",
       "</style>\n",
       "<table border=\"1\" class=\"dataframe\">\n",
       "  <thead>\n",
       "    <tr style=\"text-align: right;\">\n",
       "      <th></th>\n",
       "      <th>sepal_length</th>\n",
       "      <th>sepal_width</th>\n",
       "      <th>petal_length</th>\n",
       "      <th>petal_width</th>\n",
       "    </tr>\n",
       "    <tr>\n",
       "      <th>Class</th>\n",
       "      <th></th>\n",
       "      <th></th>\n",
       "      <th></th>\n",
       "      <th></th>\n",
       "    </tr>\n",
       "  </thead>\n",
       "  <tbody>\n",
       "    <tr>\n",
       "      <th>Iris-setosa</th>\n",
       "      <td>5.0300</td>\n",
       "      <td>3.4200</td>\n",
       "      <td>1.4675</td>\n",
       "      <td>0.235</td>\n",
       "    </tr>\n",
       "    <tr>\n",
       "      <th>Iris-versicolor</th>\n",
       "      <td>5.9300</td>\n",
       "      <td>2.7875</td>\n",
       "      <td>4.2675</td>\n",
       "      <td>1.335</td>\n",
       "    </tr>\n",
       "    <tr>\n",
       "      <th>Iris-virginica</th>\n",
       "      <td>6.5525</td>\n",
       "      <td>2.9875</td>\n",
       "      <td>5.5325</td>\n",
       "      <td>2.010</td>\n",
       "    </tr>\n",
       "  </tbody>\n",
       "</table>\n",
       "</div>"
      ],
      "text/plain": [
       "                 sepal_length  sepal_width  petal_length  petal_width\n",
       "Class                                                                \n",
       "Iris-setosa            5.0300       3.4200        1.4675        0.235\n",
       "Iris-versicolor        5.9300       2.7875        4.2675        1.335\n",
       "Iris-virginica         6.5525       2.9875        5.5325        2.010"
      ]
     },
     "execution_count": 16,
     "metadata": {},
     "output_type": "execute_result"
    }
   ],
   "source": [
    "train_data.groupby('Class').mean()"
   ]
  },
  {
   "cell_type": "code",
   "execution_count": 17,
   "id": "55affbd1",
   "metadata": {},
   "outputs": [],
   "source": [
    "test_class = list(test_data.iloc[:,-1])\n",
    "dev_class = list(train_data.iloc[:,-1])"
   ]
  },
  {
   "cell_type": "code",
   "execution_count": null,
   "id": "d7013935",
   "metadata": {},
   "outputs": [],
   "source": []
  },
  {
   "cell_type": "code",
   "execution_count": 19,
   "id": "5a93cebc",
   "metadata": {},
   "outputs": [
    {
     "data": {
      "text/plain": [
       "['Iris-setosa',\n",
       " 'Iris-setosa',\n",
       " 'Iris-virginica',\n",
       " 'Iris-versicolor',\n",
       " 'Iris-setosa',\n",
       " 'Iris-setosa',\n",
       " 'Iris-versicolor',\n",
       " 'Iris-setosa',\n",
       " 'Iris-virginica',\n",
       " 'Iris-versicolor',\n",
       " 'Iris-virginica',\n",
       " 'Iris-versicolor',\n",
       " 'Iris-setosa',\n",
       " 'Iris-setosa',\n",
       " 'Iris-virginica',\n",
       " 'Iris-versicolor',\n",
       " 'Iris-setosa',\n",
       " 'Iris-versicolor',\n",
       " 'Iris-virginica',\n",
       " 'Iris-versicolor',\n",
       " 'Iris-setosa',\n",
       " 'Iris-setosa',\n",
       " 'Iris-virginica',\n",
       " 'Iris-versicolor',\n",
       " 'Iris-versicolor',\n",
       " 'Iris-setosa',\n",
       " 'Iris-virginica',\n",
       " 'Iris-setosa',\n",
       " 'Iris-virginica',\n",
       " 'Iris-versicolor',\n",
       " 'Iris-setosa',\n",
       " 'Iris-setosa',\n",
       " 'Iris-virginica',\n",
       " 'Iris-versicolor',\n",
       " 'Iris-setosa',\n",
       " 'Iris-setosa',\n",
       " 'Iris-versicolor',\n",
       " 'Iris-virginica',\n",
       " 'Iris-virginica',\n",
       " 'Iris-setosa',\n",
       " 'Iris-virginica',\n",
       " 'Iris-versicolor',\n",
       " 'Iris-setosa',\n",
       " 'Iris-setosa',\n",
       " 'Iris-virginica',\n",
       " 'Iris-virginica',\n",
       " 'Iris-virginica',\n",
       " 'Iris-versicolor',\n",
       " 'Iris-versicolor',\n",
       " 'Iris-versicolor',\n",
       " 'Iris-setosa',\n",
       " 'Iris-setosa',\n",
       " 'Iris-virginica',\n",
       " 'Iris-virginica',\n",
       " 'Iris-versicolor',\n",
       " 'Iris-virginica',\n",
       " 'Iris-versicolor',\n",
       " 'Iris-virginica',\n",
       " 'Iris-setosa',\n",
       " 'Iris-virginica',\n",
       " 'Iris-setosa',\n",
       " 'Iris-versicolor',\n",
       " 'Iris-versicolor',\n",
       " 'Iris-virginica',\n",
       " 'Iris-virginica',\n",
       " 'Iris-setosa',\n",
       " 'Iris-versicolor',\n",
       " 'Iris-setosa',\n",
       " 'Iris-versicolor',\n",
       " 'Iris-versicolor',\n",
       " 'Iris-versicolor',\n",
       " 'Iris-setosa',\n",
       " 'Iris-virginica',\n",
       " 'Iris-setosa',\n",
       " 'Iris-virginica',\n",
       " 'Iris-versicolor',\n",
       " 'Iris-virginica',\n",
       " 'Iris-versicolor',\n",
       " 'Iris-virginica',\n",
       " 'Iris-versicolor',\n",
       " 'Iris-setosa',\n",
       " 'Iris-virginica',\n",
       " 'Iris-versicolor',\n",
       " 'Iris-virginica',\n",
       " 'Iris-versicolor',\n",
       " 'Iris-setosa',\n",
       " 'Iris-versicolor',\n",
       " 'Iris-virginica',\n",
       " 'Iris-setosa',\n",
       " 'Iris-versicolor',\n",
       " 'Iris-setosa',\n",
       " 'Iris-setosa',\n",
       " 'Iris-setosa',\n",
       " 'Iris-versicolor',\n",
       " 'Iris-virginica',\n",
       " 'Iris-setosa',\n",
       " 'Iris-setosa',\n",
       " 'Iris-virginica',\n",
       " 'Iris-setosa',\n",
       " 'Iris-versicolor',\n",
       " 'Iris-virginica',\n",
       " 'Iris-versicolor',\n",
       " 'Iris-virginica',\n",
       " 'Iris-virginica',\n",
       " 'Iris-versicolor',\n",
       " 'Iris-versicolor',\n",
       " 'Iris-virginica',\n",
       " 'Iris-versicolor',\n",
       " 'Iris-setosa',\n",
       " 'Iris-versicolor',\n",
       " 'Iris-versicolor',\n",
       " 'Iris-setosa',\n",
       " 'Iris-versicolor',\n",
       " 'Iris-virginica',\n",
       " 'Iris-virginica',\n",
       " 'Iris-virginica',\n",
       " 'Iris-setosa',\n",
       " 'Iris-setosa',\n",
       " 'Iris-virginica',\n",
       " 'Iris-virginica']"
      ]
     },
     "execution_count": 19,
     "metadata": {},
     "output_type": "execute_result"
    }
   ],
   "source": [
    "dev_class"
   ]
  },
  {
   "cell_type": "markdown",
   "id": "cc3eda66",
   "metadata": {},
   "source": [
    "##### Step 4.\n",
    "\n",
    "Define functions to compute the value of the distance metrics: Euclidean, Normalized Euclidean and Cosine Similarity¹\n",
    "\n"
   ]
  },
  {
   "cell_type": "code",
   "execution_count": 24,
   "id": "7dded1d7",
   "metadata": {},
   "outputs": [],
   "source": [
    "row1=dataset.iloc[0][:4]\n",
    "row2=dataset.iloc[1][:4]"
   ]
  },
  {
   "cell_type": "code",
   "execution_count": 25,
   "id": "deca79dd",
   "metadata": {},
   "outputs": [],
   "source": [
    "def euclideanDistance(data_1, data_2, data_len):\n",
    "    dist = 0\n",
    "    for i in range(data_len):\n",
    "        dist = dist + np.square(data_1[i] - data_2[i])\n",
    "    return np.sqrt(dist)"
   ]
  },
  {
   "cell_type": "code",
   "execution_count": 26,
   "id": "1be2f088",
   "metadata": {},
   "outputs": [
    {
     "data": {
      "text/plain": [
       "0.5385164807134502"
      ]
     },
     "execution_count": 26,
     "metadata": {},
     "output_type": "execute_result"
    }
   ],
   "source": [
    "euclideanDistance(row1,row2,4)"
   ]
  },
  {
   "cell_type": "code",
   "execution_count": null,
   "id": "57eb4fde",
   "metadata": {},
   "outputs": [],
   "source": []
  },
  {
   "cell_type": "code",
   "execution_count": 27,
   "id": "29625794",
   "metadata": {},
   "outputs": [],
   "source": [
    "\n",
    "\n",
    "def normalizedEuclideanDistance(data_1, data_2, data_len, data_mean, data_std):\n",
    "    n_dist = 0\n",
    "    for i in range(data_len):\n",
    "        n_dist = n_dist + (np.square(((data_1[i] - data_mean[i])/data_std[i]) - ((data_2[i] - data_mean[i])/data_std[i])))\n",
    "    return np.sqrt(n_dist)\n",
    "\n",
    "def cosineSimilarity(data_1, data_2):\n",
    "    dot = np.dot(data_1, data_2[:-1])\n",
    "    norm_data_1 = np.linalg.norm(data_1)\n",
    "    norm_data_2 = np.linalg.norm(data_2[:-1])\n",
    "    cos = dot / (norm_data_1 * norm_data_2)\n",
    "    return (1-cos)\n"
   ]
  },
  {
   "cell_type": "code",
   "execution_count": null,
   "id": "69e7796c",
   "metadata": {},
   "outputs": [],
   "source": []
  },
  {
   "cell_type": "markdown",
   "id": "8148fd5b",
   "metadata": {},
   "source": [
    "##### Define the function to return k-Nearest Neighbors²\n",
    "\n"
   ]
  },
  {
   "cell_type": "code",
   "execution_count": 28,
   "id": "18d84d6d",
   "metadata": {},
   "outputs": [
    {
     "data": {
      "text/plain": [
       "(4,)"
      ]
     },
     "execution_count": 28,
     "metadata": {},
     "output_type": "execute_result"
    }
   ],
   "source": [
    "row1.shape"
   ]
  },
  {
   "cell_type": "code",
   "execution_count": 29,
   "id": "69504fa2",
   "metadata": {},
   "outputs": [],
   "source": [
    "def knn(dataset, testInstance, k, dist_method, dataset_mean, dataset_std): \n",
    "    # Dictionary to store Distances of each instance from training data\n",
    "    distances = {}\n",
    "    \n",
    "    length = testInstance.shape[1]\n",
    "    if dist_method == 'euclidean':\n",
    "        for x in range(len(dataset)):\n",
    "            dist_up = euclideanDistance(testInstance, dataset.iloc[x], length)\n",
    "            distances[x] = dist_up[0]\n",
    "    elif dist_method == 'normalized_euclidean':\n",
    "        for x in range(len(dataset)):\n",
    "            dist_up = normalizedEuclideanDistance(testInstance, dataset.iloc[x], length, dataset_mean, dataset_std)\n",
    "            distances[x] = dist_up[0]\n",
    "    elif dist_method == 'cosine':\n",
    "        for x in range(len(dataset)):\n",
    "            dist_up = cosineSimilarity(testInstance, dataset.iloc[x])\n",
    "            distances[x] = dist_up[0]\n",
    "    # Sort values based on distance\n",
    "    sort_distances = sorted(distances.items(), key=operator.itemgetter(1))\n",
    "    neighbors = []\n",
    "    # Extracting nearest k neighbors\n",
    "    for x in range(k):\n",
    "        neighbors.append(sort_distances[x][0])\n",
    "    # Initializing counts for 'class' labels counts as 0\n",
    "    counts = {\"Iris-setosa\" : 0, \"Iris-versicolor\" : 0, \"Iris-virginica\" : 0}\n",
    "    # Computing the most frequent class\n",
    "    for x in range(len(neighbors)):\n",
    "        response = dataset.iloc[neighbors[x]][-1] \n",
    "        if response in counts:\n",
    "            counts[response] += 1\n",
    "        else:\n",
    "            counts[response] = 1\n",
    "    # Sorting the class in reverse order to get the most frequest class\n",
    "    sort_counts = sorted(counts.items(), key=operator.itemgetter(1), reverse=True)\n",
    "    return(sort_counts[0][0])"
   ]
  },
  {
   "cell_type": "markdown",
   "id": "5c667b7e",
   "metadata": {},
   "source": [
    "##### Step 5.\n",
    "\n",
    "Using the train dataset, iterate over all of the development data instances and compute the class for each k value and each distance metric.\n",
    "\n"
   ]
  },
  {
   "cell_type": "code",
   "execution_count": 31,
   "id": "09bbdbec",
   "metadata": {},
   "outputs": [],
   "source": [
    "import operator"
   ]
  },
  {
   "cell_type": "code",
   "execution_count": 34,
   "id": "a68e5783",
   "metadata": {},
   "outputs": [],
   "source": [
    "# Creating a list of list of all columns except 'class' by iterating through the development set\n",
    "row_list = []\n",
    "for index, rows in train_data.iterrows():\n",
    "    my_list =[rows.sepal_length, rows.sepal_width, rows.petal_length, rows.petal_width]       \n",
    "    row_list.append([my_list])\n",
    "# k values for the number of neighbors that need to be considered\n",
    "k_n = [1, 3, 5, 7]\n",
    "# Distance metrics\n",
    "distance_methods = ['euclidean', 'normalized_euclidean', 'cosine']\n",
    "# Performing kNN on the development set by iterating all of the development set data points and for each k and each distance metric\n",
    "obs_k = {}\n",
    "for dist_method in distance_methods:\n",
    "    development_set_obs_k = {}\n",
    "    for k in k_n:\n",
    "        development_set_obs = []\n",
    "        for i in range(len(row_list)):\n",
    "            development_set_obs.append(knn(train_data, pd.DataFrame(row_list[i]), k, dist_method, mean_train_set, std_train_set))\n",
    "        development_set_obs_k[k] = development_set_obs\n",
    "    # Nested Dictionary containing the observed class for each k and each distance metric (obs_k of the form obs_k[dist_method][k])\n",
    "    obs_k[dist_method] = development_set_obs_k\n",
    "#print(obs_k)\n"
   ]
  },
  {
   "cell_type": "markdown",
   "id": "59525306",
   "metadata": {},
   "source": [
    "##### Compute the accuracy for the development set\n",
    "\n"
   ]
  },
  {
   "cell_type": "code",
   "execution_count": 35,
   "id": "07fb7d9e",
   "metadata": {},
   "outputs": [
    {
     "name": "stdout",
     "output_type": "stream",
     "text": [
      "   k  euclidean  normalized_euclidean    cosine\n",
      "0  1   1.000000              1.000000  1.000000\n",
      "1  3   0.966667              0.958333  0.983333\n",
      "2  5   0.966667              0.958333  0.983333\n",
      "3  7   0.975000              0.950000  0.991667\n"
     ]
    }
   ],
   "source": [
    "# Calculating the accuracy of the development set by comparing it with the development set 'class' list created earlier\n",
    "accuracy = {}\n",
    "for key in obs_k.keys():\n",
    "    accuracy[key] = {}\n",
    "    for k_value in obs_k[key].keys():\n",
    "        #print('k = ', key)\n",
    "        count = 0\n",
    "        for i,j in zip(dev_class, obs_k[key][k_value]):\n",
    "            if i == j:\n",
    "                count = count + 1\n",
    "            else:\n",
    "                pass\n",
    "        accuracy[key][k_value] = count/(len(dev_class))\n",
    "\n",
    "# Storing the accuracy for each k and each distance metric into a dataframe\n",
    "df_res = pd.DataFrame({'k': k_n})\n",
    "for key in accuracy.keys():\n",
    "    value = list(accuracy[key].values())\n",
    "    df_res[key] = value\n",
    "print(df_res)"
   ]
  },
  {
   "cell_type": "markdown",
   "id": "027d3f87",
   "metadata": {},
   "source": [
    "##### Plot a bar chart to compare the performance of hyperparameters.\n",
    "\n"
   ]
  },
  {
   "cell_type": "code",
   "execution_count": 36,
   "id": "d814c912",
   "metadata": {},
   "outputs": [
    {
     "data": {
      "text/plain": [
       "[Text(0, 0.5, 'Accuracy')]"
      ]
     },
     "execution_count": 36,
     "metadata": {},
     "output_type": "execute_result"
    },
    {
     "data": {
      "image/png": "[encoded data removed]",
      "text/plain": [
       "<Figure size 432x288 with 1 Axes>"
      ]
     },
     "metadata": {
      "needs_background": "light"
     },
     "output_type": "display_data"
    }
   ],
   "source": [
    "# Plotting a Bar Chart for accuracy\n",
    "draw = df_res.plot(x='k', y=['euclidean', 'normalized_euclidean', 'cosine'], kind=\"bar\", colormap='YlGnBu')\n",
    "draw.set(ylabel='Accuracy')\n"
   ]
  },
  {
   "cell_type": "markdown",
   "id": "7186b158",
   "metadata": {},
   "source": [
    "##### Find the optimal hyperparameters.\n",
    "\n"
   ]
  },
  {
   "cell_type": "code",
   "execution_count": 39,
   "id": "20fd9f67",
   "metadata": {},
   "outputs": [
    {
     "data": {
      "text/plain": [
       "'euclidean'"
      ]
     },
     "execution_count": 39,
     "metadata": {},
     "output_type": "execute_result"
    }
   ],
   "source": [
    "df_res[column_val].max().idxmax()"
   ]
  },
  {
   "cell_type": "code",
   "execution_count": 40,
   "id": "4b576923",
   "metadata": {},
   "outputs": [
    {
     "name": "stdout",
     "output_type": "stream",
     "text": [
      "\n",
      "\n",
      "\n",
      "Best k value is\u001b[1m 1 \u001b[0mand best distance metric is\u001b[1m euclidean \u001b[0m.\n"
     ]
    }
   ],
   "source": [
    "# In case the accuracy is the same for different k and different distance metric selecting the first of all the same\n",
    "column_val = [c for c in df_res.columns if not c.startswith('k')]\n",
    "col_max = df_res[column_val].max().idxmax()\n",
    "best_dist_method = col_max\n",
    "row_max = df_res[col_max].argmax()\n",
    "best_k = int(df_res.iloc[row_max]['k'])\n",
    "if df_res.isnull().values.any():\n",
    "    print('\\n\\n\\nBest k value is\\033[1m', best_k, '\\033[0mand best distance metric is\\033[1m', best_dist_method, '\\033[0m. Ignoring k=1 if the value of accuracy for k=1 is 100%, since this mostly implies overfitting')\n",
    "else:\n",
    "    print('\\n\\n\\nBest k value is\\033[1m', best_k, '\\033[0mand best distance metric is\\033[1m', best_dist_method, '\\033[0m.')"
   ]
  },
  {
   "cell_type": "markdown",
   "id": "4e3a8108",
   "metadata": {},
   "source": [
    "##### Step 7.\n",
    "\n"
   ]
  },
  {
   "cell_type": "code",
   "execution_count": 43,
   "id": "808401b9",
   "metadata": {},
   "outputs": [
    {
     "name": "stdout",
     "output_type": "stream",
     "text": [
      "Final Accuracy of the Test dataset is  1.0\n"
     ]
    }
   ],
   "source": [
    "# Creating a list of list of all columns except 'class' by iterating through the development set\n",
    "row_list_test = []\n",
    "for index, rows in test_data.iterrows(): \n",
    "    my_list =[rows.sepal_length, rows.sepal_width, rows.petal_length, rows.petal_width]       \n",
    "    row_list_test.append([my_list])\n",
    "test_set_obs = []\n",
    "for i in range(len(row_list_test)):\n",
    "    test_set_obs.append(knn(test_data, pd.DataFrame(row_list_test[i]), best_k, best_dist_method, mean_test_set, std_test_set))\n",
    "#print(test_set_obs)\n",
    "\n",
    "count = 0\n",
    "for i,j in zip(test_class, test_set_obs):\n",
    "    if i == j:\n",
    "        count = count + 1\n",
    "    else:\n",
    "        pass\n",
    "accuracy_test = count/(len(test_class))\n",
    "print('Final Accuracy of the Test dataset is ', accuracy_test)"
   ]
  },
  {
   "cell_type": "code",
   "execution_count": null,
   "id": "a057591d",
   "metadata": {},
   "outputs": [],
   "source": []
  }
 ],
 "metadata": {
  "kernelspec": {
   "display_name": "Python 3 (ipykernel)",
   "language": "python",
   "name": "python3"
  },
  "language_info": {
   "codemirror_mode": {
    "name": "ipython",
    "version": 3
   },
   "file_extension": ".py",
   "mimetype": "text/x-python",
   "name": "python",
   "nbconvert_exporter": "python",
   "pygments_lexer": "ipython3",
   "version": "3.8.13"
  }
 },
 "nbformat": 4,
 "nbformat_minor": 5
}

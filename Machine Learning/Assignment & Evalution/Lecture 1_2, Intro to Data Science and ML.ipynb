{
 "cells": [
  {
   "cell_type": "markdown",
   "id": "f028d795",
   "metadata": {},
   "source": [
    "# Introduction to Data Science\n",
    "\n",
    "\n",
    "\n",
    "# What is Data Science?\n",
    "\n",
    "\n",
    "\n",
    "Three correlated concepts: \n",
    "- Data Science\n",
    "- Artificial Intelligence \n",
    "- Machine Learning\n"
   ]
  },
  {
   "cell_type": "markdown",
   "id": "1508e996",
   "metadata": {},
   "source": [
    "#### Relationship between AI,ML and Data Science"
   ]
  },
  {
   "cell_type": "markdown",
   "id": "7fd8ab2c",
   "metadata": {},
   "source": [
    "- AI Systems Mimic or replicate human intelligence\n",
    "- ML Provides systems the ability to learn and improve from experiences without being programmed(Subset of AI).\n",
    "- Data Science is an umbrella term that encompasses Data Analytics, Data Mining,ML ,AI and several other related discplines\n"
   ]
  },
  {
   "cell_type": "markdown",
   "id": "64cf7993",
   "metadata": {},
   "source": [
    "<div>\n",
    "<img src=\"./images/process.png\" width=\"600\">\n",
    "</div>"
   ]
  },
  {
   "cell_type": "markdown",
   "id": "26985287",
   "metadata": {},
   "source": [
    "###### Raw Data-------> Features ----------->Model Building --------->Predictions----------------->Insights"
   ]
  },
  {
   "cell_type": "markdown",
   "id": "d0449ce3",
   "metadata": {},
   "source": [
    "## Terminology"
   ]
  },
  {
   "cell_type": "markdown",
   "id": "2419be46",
   "metadata": {},
   "source": [
    "### Labels and Features"
   ]
  },
  {
   "cell_type": "markdown",
   "id": "39849184",
   "metadata": {},
   "source": [
    "<b>Label:</b> A label is the thing we're predicting—the y variable in simple linear regression. The label could be the future price of wheat, the kind of animal shown in a picture, the meaning of an audio clip, or just about anything.\n",
    "-  Label is the variable we're predicting. Typically represented by the variable y\n",
    "-  Example: Email spam\n"
   ]
  },
  {
   "cell_type": "markdown",
   "id": "d1f5a6a4",
   "metadata": {},
   "source": [
    "<b>Features: </b> : A feature is an input variable—the x variable in simple linear regression. A simple machine learning project might use a single feature, while a more sophisticated machine learning project could use millions of features, specified as:\n",
    "- Typically represented by the variables {x1, x2, ..., xn}\n",
    "- In the spam detector example, the features could include the following:\n",
    "    - words in the email text\n",
    "    - sender's address\n",
    "    - time of day the email was sent\n",
    "    - email contains the phrase \"one weird trick.\""
   ]
  },
  {
   "cell_type": "markdown",
   "id": "df82e361",
   "metadata": {},
   "source": [
    "### Examples and Features\n",
    "\n",
    "- Example is a particular instance of data, x\n",
    "- Labeled example\n",
    "    - Labeled example has {features, label}: (x, y)\n",
    "    - Used to train the model\n",
    "- Unlabeled Example\n",
    "    - Unlabeled example has {features, ?}: (x, ?)\n",
    "    - Used for making predictions on new data\n"
   ]
  },
  {
   "cell_type": "markdown",
   "id": "47a33f7c",
   "metadata": {},
   "source": [
    "### Model"
   ]
  },
  {
   "cell_type": "markdown",
   "id": "695508af",
   "metadata": {},
   "source": [
    "A model defines the relationship between features and label. For example, a spam detection model might associate certain features strongly with \"spam\". \n",
    "- Model maps examples to predicted labels: y'\n",
    "- Defined by internal parameters, which are learned\n",
    "- A machine learning model is simply a way to be able to represent or guess what is going to happen next, where something belongs or what combination of features will work best to know what is going to happen next.\n",
    "- A machine learning model is not magic. It is simply a mathematical best-fit representation of the data.\n",
    "\n",
    "\n",
    "\n",
    "\n",
    "Let's highlight two phases of a model's life:\n",
    "- #### Training\n",
    "Training means creating or learning the model. That is, you show the model labeled examples and enable the model to gradually learn the relationships between features and label.\n",
    "- #### Inference \n",
    "Inference means applying the trained model to unlabeled examples. That is, you use the trained model to make useful predictions (y'). For example, during inference, you can predict medianHouseValue for new unlabeled examples.\n"
   ]
  },
  {
   "cell_type": "markdown",
   "id": "41b6296c",
   "metadata": {},
   "source": [
    "# Diving in to ML"
   ]
  },
  {
   "cell_type": "markdown",
   "id": "66d411a8",
   "metadata": {},
   "source": [
    "## Linear Regression"
   ]
  },
  {
   "cell_type": "markdown",
   "id": "6bec12e4",
   "metadata": {},
   "source": [
    "## y=mx+c  here x is a scaler\n",
    "## y=MX+c here X is a vector"
   ]
  },
  {
   "cell_type": "markdown",
   "id": "d0cd965c",
   "metadata": {},
   "source": [
    "<p>Linear regression is one of the most popular algorithms used in different fields well before the advent of computers. Today with the powerful computers, we can solve multi-dimensional linear regression which was not possible earlier. In single or multidimensional linear regression, the basic mathematical concept is quite the same.</p>"
   ]
  },
  {
   "cell_type": "markdown",
   "id": "6ddbcc02",
   "metadata": {},
   "source": [
    "##### What is linear Regression?\n",
    "\n",
    "-  What is the equation of straight line learnt in high school?\n",
    "- Mathematically, the representation of a straight line is represented as<br>\n",
    "    y = aX + b."
   ]
  },
  {
   "cell_type": "code",
   "execution_count": 1,
   "id": "663e877a",
   "metadata": {},
   "outputs": [],
   "source": [
    "#y=ax+b\n",
    "#if we substitute y = 0\n",
    "#Value of x?"
   ]
  },
  {
   "cell_type": "code",
   "execution_count": null,
   "id": "d8d47111",
   "metadata": {},
   "outputs": [],
   "source": [
    "y,x,z"
   ]
  },
  {
   "cell_type": "code",
   "execution_count": null,
   "id": "aa2e6ecd",
   "metadata": {},
   "outputs": [],
   "source": [
    "b=-1"
   ]
  },
  {
   "cell_type": "code",
   "execution_count": null,
   "id": "fb776769",
   "metadata": {},
   "outputs": [],
   "source": [
    "x+y=ax+by"
   ]
  },
  {
   "cell_type": "code",
   "execution_count": null,
   "id": "67f95692",
   "metadata": {},
   "outputs": [],
   "source": [
    "x,y"
   ]
  },
  {
   "cell_type": "code",
   "execution_count": null,
   "id": "b4a129e6",
   "metadata": {},
   "outputs": [],
   "source": [
    "y=mx+c"
   ]
  },
  {
   "cell_type": "code",
   "execution_count": null,
   "id": "3edd826b",
   "metadata": {},
   "outputs": [],
   "source": [
    "z=x*x"
   ]
  },
  {
   "cell_type": "code",
   "execution_count": null,
   "id": "ca1ae962",
   "metadata": {},
   "outputs": [],
   "source": [
    "y=ax+bx^2+c"
   ]
  },
  {
   "cell_type": "code",
   "execution_count": 2,
   "id": "3a86efee",
   "metadata": {},
   "outputs": [
    {
     "ename": "NameError",
     "evalue": "name 'ax' is not defined",
     "output_type": "error",
     "traceback": [
      "\u001b[0;31m---------------------------------------------------------------------------\u001b[0m",
      "\u001b[0;31mNameError\u001b[0m                                 Traceback (most recent call last)",
      "Input \u001b[0;32mIn [2]\u001b[0m, in \u001b[0;36m<cell line: 1>\u001b[0;34m()\u001b[0m\n\u001b[0;32m----> 1\u001b[0m y\u001b[38;5;241m=\u001b[39m\u001b[43max\u001b[49m\u001b[38;5;241m+\u001b[39mbzv\n",
      "\u001b[0;31mNameError\u001b[0m: name 'ax' is not defined"
     ]
    }
   ],
   "source": [
    "y=ax+bz+c"
   ]
  },
  {
   "cell_type": "code",
   "execution_count": null,
   "id": "f17e9e29",
   "metadata": {},
   "outputs": [],
   "source": [
    "y=mx+nz+d"
   ]
  },
  {
   "cell_type": "code",
   "execution_count": null,
   "id": "22e2b955",
   "metadata": {},
   "outputs": [],
   "source": [
    "y=ax+cz+d+e*(x*x)"
   ]
  },
  {
   "cell_type": "markdown",
   "id": "961288fc",
   "metadata": {},
   "source": [
    "<div>\n",
    "<img src=\"https://upload.wikimedia.org/wikipedia/commons/5/5f/Line_gen_no_slope.svg\" width=\"500\" height=\"1000\">\n",
    "</div>\n"
   ]
  },
  {
   "cell_type": "markdown",
   "id": "ed6e1155",
   "metadata": {},
   "source": [
    "<br>y = mx + b\n",
    "<br>Where, if you were to imagine a straight line (as shown above),\n",
    "<br>m: The slope of the line (The angle at which the line is turned)\n",
    "<br>b: The intercept (On the Y-Axis, how much higher or lower is the line)\n",
    "<br>y: The dependent/ target variable (The value we want to predict)\n",
    "<br>x: The independent/ predictor variable (The variable that we use to make the prediction)"
   ]
  },
  {
   "cell_type": "markdown",
   "id": "a785cf0b",
   "metadata": {},
   "source": [
    "- Linear in linear model stands for the straight line. The data has to be such that there is a linear trend in the data to be able to use linear regression. Let us look at one of the classic examples of a linear model \n",
    "\n",
    "— Newton’s first law of motion.\n",
    "\n"
   ]
  },
  {
   "cell_type": "markdown",
   "id": "ad1e4e9c",
   "metadata": {},
   "source": [
    "Let us look at one of the classic examples of a linear model — Newton’s first law of motion.\n",
    "\n",
    "&emsp; &emsp; &emsp; Force = Mass x Acceleration ( F = m x a )\n",
    "\n",
    "\n",
    "Let us now interpret this. If the mass of the object is constant, then, as we increase the acceleration of an object, the force applied increases.\n",
    "\n",
    "To compare this to the previous formula,\n",
    "\n"
   ]
  },
  {
   "cell_type": "markdown",
   "id": "194a23b6",
   "metadata": {},
   "source": [
    "&emsp; &emsp; &emsp; y = mx + b <br>\n",
    "For this case,  <br>\n",
    "&emsp; &emsp; &emsp; y = mx <br>\n",
    "and, there is no intercept: 'b' here. This means that the graph will pass through the origin. (when x = 0, y = 0) <br>"
   ]
  },
  {
   "cell_type": "code",
   "execution_count": null,
   "id": "98759fac",
   "metadata": {},
   "outputs": [],
   "source": [
    "revenue_old=β0 + β1(ad_spending_old)\n",
    "revenue_new=β0 + β1(ad_spending_old+1)=β0+β1(ad spending)+β1(1)"
   ]
  },
  {
   "cell_type": "code",
   "execution_count": null,
   "id": "cf8abde4",
   "metadata": {},
   "outputs": [],
   "source": [
    "revenue_new-revenue_old"
   ]
  },
  {
   "cell_type": "markdown",
   "id": "4bb5bd3b",
   "metadata": {},
   "source": [
    "#### Examples of Linear relationships in real life\n",
    "##### Advertising Spending VS Revenue\n",
    "    - Businesses often use linear regression to understand the relationship between advertising spending and revenue.\n",
    "For example, they might fit a simple linear regression model using advertising spending as the predictor variable and revenue as the response variable. The regression model would take the following form\n",
    "##### revenue = β0 + β1(ad spending)\n",
    "   - The coefficient β0 would represent total expected revenue when ad spending is zero.\n",
    "   - The coefficient β1 would represent the average change in  total revenue when ad spending is increased by one unit (e.g. one dollar).\n",
    "   - If β1 is negative, it would mean that more ad spending is associated with less revenue.\n",
    "   - If β1 is close to zero, it would mean that ad spending has little effect on revenue.\n",
    "   - And if β1 is positive, it would mean more ad spending is associated with more revenue.\n",
    "    - Depending on the value of β1, a company may decide to either decrease or increase their ad spending.\n",
    "\n",
    "#####  Drug(Medicine) dosage and Blood Pressure of patients\n",
    "\n",
    "    - Researchers might administer various dosages of a certain drug to patients and observe how their blood pressure responds. They might fit a simple linear regression model using dosage as the predictor variable and blood pressure as the response variable. The regression model would take the following form:\n",
    "    <br> &emsp; &emsp; &emsp; blood pressure = β0 + β1(dosage)\n",
    "    - The coefficient β0 would represent the expected blood pressure when dosage is zero.\n",
    "    - The coefficient β1 would represent the average change in  blood pressure when dosage is increased by one unit.\n",
    "    - If β1 is negative, it would mean that an increase in dosage is associated with a decrease in blood pressure.\n",
    "    - If β1 is close to zero, it would mean that an increase in dosage is associated with no change in blood pressure.\n",
    "    - If β1 is positive, it would mean that an increase in dosage is associated with an increase in blood pressure.\n",
    "    - Depending on the value of β1, researchers may decide to change the dosage given to a patient.\n",
    "\n",
    "#####  Effect of fertilizer and Water on crop yields\n",
    "    - Scientists might use different amounts of fertilizer and water on different fields and see how it affects crop yield. They might fit a multiple linear regression model using fertilizer and water as the predictor variables and crop yield as the response variable. The regression model would take the following form:\n",
    "        <br> &emsp; &emsp; &emsp; crop yield = β0 + β1(amount of fertilizer) + β2(amount of water)\n",
    "    - The coefficient β0 would represent the expected crop yield with no fertilizer or water.\n",
    "    - The coefficient β1 would represent the average change in crop yield when fertilizer is increased by one unit, assuming the amount of water remains unchanged.\n",
    "    - The coefficient β2 would represent the average change in crop yield when water is increased by one unit, assuming the amount of fertilizer remains unchanged.\n",
    "    - Depending on the values of β1 and β2, the scientists may change the amount of fertilizer and water used to maximize the crop yield.\n",
    "\n",
    "#####  Training regimens Vs player performance.\n",
    "    - data scientists in the NBA might analyze how different amounts of weekly yoga sessions and weightlifting sessions affect the number of points a player scores. They might fit a multiple linear regression model using yoga sessions and weightlifting sessions as the predictor variables and total points scored as the response variable. The regression model would take the following form\n",
    "points scored = β0 + β1(yoga sessions) + β2(weightlifting sessions)\n",
    " - The coefficient β0 would represent the expected points scored for a player who participates in zero yoga sessions and zero weightlifting sessions.\n",
    " - The coefficient β1 would represent the average change in points scored when weekly yoga sessions is increased by one, assuming the number of weekly weightlifting sessions remains unchanged.\n",
    " - The coefficient β2 would represent the average change in points scored when weekly weightlifting sessions is increased by one, assuming the number of weekly yoga sessions remains unchanged.\n",
    " - Depending on the values of β1 and β2, the data scientists may recommend that a player participates in more or less weekly yoga and weightlifting sessions in order to maximize their points scored.\n"
   ]
  },
  {
   "cell_type": "markdown",
   "id": "a43e7b37",
   "metadata": {},
   "source": [
    "Let us now look at what regression is in Linear Regression. In machine learning,\n",
    "- The dependent variable is represented as ‘y’\n",
    "- The independent variable(s) that will be used is/ are represented as ‘X’\n",
    "\n",
    "Regression is simply establishing a relationship between the independent variables and the dependent variable. Linear regression is establishing a relationship between the features and dependent variable that can be best represented by a <b>straight line</b>.\n",
    "\n"
   ]
  },
  {
   "cell_type": "markdown",
   "id": "6f70031e",
   "metadata": {},
   "source": [
    "Linear regression can be of two types: simple and multiple linear regression.\n",
    "- Simple Linear Regression: Using one independent variable to predict one dependent variable\n",
    "- Multiple Linear Regression: Using multiple independent variables to predict one dependent variable"
   ]
  },
  {
   "cell_type": "markdown",
   "id": "13b8c3ce",
   "metadata": {},
   "source": [
    "So, if you have a data scientist that says: <br>\n",
    "\"I shall be running a multiple linear regression model on the independent features and the predictor, understand that he is going to try to make a straight line through the data where the line is close to as many input data points as possible.\""
   ]
  },
  {
   "cell_type": "markdown",
   "id": "a4af82b6",
   "metadata": {},
   "source": [
    "A line can be drawn through the data in various ways.\n",
    "<br> <b>Q</b> What do you think the best-fit line means?\n",
    "\n"
   ]
  },
  {
   "cell_type": "markdown",
   "id": "0590739b",
   "metadata": {},
   "source": [
    "<br> <b>A</b>. This is where you will hear the data scientists say that they are trying to minimize the cost function."
   ]
  },
  {
   "cell_type": "markdown",
   "id": "95cd20d5",
   "metadata": {},
   "source": [
    "<br> <b>Q</b>. What does the cost function/ error function mean?\n"
   ]
  },
  {
   "cell_type": "markdown",
   "id": "48b53a0a",
   "metadata": {},
   "source": [
    "<br> <b>A</b> A function that sums up the errors. As a user, you would want an optimal cost function as this would mean that you have the least possible errors.\n",
    "\n"
   ]
  },
  {
   "cell_type": "markdown",
   "id": "50b4c61b",
   "metadata": {},
   "source": [
    "A best-fit line would have the tilt and intercept such that it passes through or as close to the data points as possible.\n",
    "\n"
   ]
  },
  {
   "cell_type": "markdown",
   "id": "ef2d389d",
   "metadata": {},
   "source": [
    "# Loss Function"
   ]
  },
  {
   "cell_type": "markdown",
   "id": "00ad2ac4",
   "metadata": {},
   "source": [
    "- At its core, a loss function is a measure of how good your prediction model does in terms of being able to predict the expected outcome(or value). We convert the learning problem into an optimization problem, define a loss function and then optimize the algorithm to minimize the loss function\n",
    "- Loss functions are at the heart of the machine learning algorithms we love to use."
   ]
  },
  {
   "cell_type": "markdown",
   "id": "54533e30",
   "metadata": {},
   "source": [
    "Let’s say you are on the top of a hill and need to climb down. How do you decide where to walk towards?\n",
    "\n"
   ]
  },
  {
   "cell_type": "markdown",
   "id": "f4bf6aaf",
   "metadata": {},
   "source": [
    "Here’s what I would do:\n",
    "\n",
    "- Look around to see all the possible paths\n",
    "- Reject the ones going up. This is because these paths would actually cost me more energy and make my task even more difficult\n",
    "- Finally, take the path that I think has the most slope downhill"
   ]
  },
  {
   "cell_type": "markdown",
   "id": "85f3a8df",
   "metadata": {},
   "source": [
    "This is exactly what a loss function provides.\n",
    "\n"
   ]
  },
  {
   "cell_type": "markdown",
   "id": "83aa3a01",
   "metadata": {},
   "source": [
    "A loss function maps decisions to their associated costs.\n",
    "\n"
   ]
  },
  {
   "cell_type": "markdown",
   "id": "57a66c28",
   "metadata": {},
   "source": [
    "Deciding to go up the slope will cost us energy and time. Deciding to go down will benefit us. Therefore, it has a negative cost.\n",
    "\n"
   ]
  },
  {
   "cell_type": "markdown",
   "id": "cceb1f09",
   "metadata": {},
   "source": [
    "In supervised machine learning algorithms, we want to minimize the error for each training example during the learning process. This is done using some optimization strategies like gradient descent. And this error comes from the loss function.\n",
    "\n"
   ]
  },
  {
   "cell_type": "markdown",
   "id": "729b89ea",
   "metadata": {},
   "source": [
    "### What’s the Difference between a Loss Function and a Cost Function?\n"
   ]
  },
  {
   "cell_type": "markdown",
   "id": "82dce24a",
   "metadata": {},
   "source": [
    "A loss function is for a single training example. It is also sometimes called an error function. A cost function, on the other hand, is the average loss over the entire training dataset. The optimization strategies aim at minimizing the cost function."
   ]
  },
  {
   "cell_type": "markdown",
   "id": "8c84659c",
   "metadata": {},
   "source": [
    "#### Regression Loss Functions\n"
   ]
  },
  {
   "cell_type": "markdown",
   "id": "4137c934",
   "metadata": {},
   "source": [
    "You must be quite familiar with linear regression at this point. It deals with modeling a linear relationship between a dependent variable, Y, and several independent variables, X_i’s. Thus, we essentially fit a line in space on these variables.\n",
    "\n"
   ]
  },
  {
   "cell_type": "markdown",
   "id": "b64c925c",
   "metadata": {},
   "source": [
    "<div>\n",
    "<img src=\"./images/loss.png\" width=\"400\">\n",
    "</div>"
   ]
  },
  {
   "cell_type": "markdown",
   "id": "2d6e12da",
   "metadata": {},
   "source": [
    "Here, theta_j is the weight to be updated, alpha is the learning rate and J is the cost function. The cost function is parameterized by theta. Our aim is to find the value of theta which yields minimum overall cost.\n",
    "\n"
   ]
  },
  {
   "cell_type": "markdown",
   "id": "6c4d5e4c",
   "metadata": {},
   "source": [
    "##### Steps to follow in order to minimise loss function below:"
   ]
  },
  {
   "cell_type": "markdown",
   "id": "7ee49826",
   "metadata": {},
   "source": [
    "- Write the expression for our predictor function, f(X) and identify the parameters that we need to find\n",
    "- Identify the loss to use for each training example\n",
    "- Find the expression for the Cost Function – the average loss on all examples\n",
    "- Find the gradient of the Cost Function with respect to each unknown parameter\n",
    "- Decide on the learning rate and run the weight update rule for a fixed number of iterations"
   ]
  },
  {
   "cell_type": "markdown",
   "id": "9741079d",
   "metadata": {},
   "source": [
    "##### Few types of Loss functions:\n"
   ]
  },
  {
   "cell_type": "markdown",
   "id": "d3cf88f5",
   "metadata": {},
   "source": [
    "1. Squared Error Loss <br>\n",
    "\n",
    "<div>\n",
    "<img src=\"./images/squared_loss.png\" width=\"400\">\n",
    "</div>\n",
    "- Squared Error loss for each training example, also known as L2 Loss, is the square of the difference between the actual and the predicted values \n",
    "- The corresponding cost function is the Mean of these Squared Errors (MSE).\n",
    "\n",
    "\n",
    "\n",
    "\n",
    "2. Absolute Error Loss <br>\n",
    "\n",
    "<div>\n",
    "<img src=\"./images/absolute_loss.png\" width=\"400\">\n",
    "</div>\n",
    "- the cost is the Mean of these Absolute Errors (MAE).\n",
    "- The MAE cost is more robust to outliers as compared to MSE. However, handling the absolute or modulus operator in mathematical equations is not easy. I’m sure a lot of you must agree with this! We can consider this as a disadvantage of MAE.\n",
    "\n"
   ]
  },
  {
   "cell_type": "markdown",
   "id": "442d9137",
   "metadata": {},
   "source": [
    "### Implementation"
   ]
  },
  {
   "cell_type": "markdown",
   "id": "61a81870",
   "metadata": {},
   "source": [
    "#### Step 1: We will use the python package NumPy for working with a sample dataset and Matplotlib to plot various graphs for visualisation.\n",
    "\n"
   ]
  },
  {
   "cell_type": "code",
   "execution_count": 2,
   "id": "db7d450b",
   "metadata": {},
   "outputs": [],
   "source": [
    "import numpy as np\n",
    "import pandas as pd\n",
    "import matplotlib.pyplot as plt"
   ]
  },
  {
   "cell_type": "markdown",
   "id": "e501be2f",
   "metadata": {},
   "source": [
    "#### Step 2: Let us consider a simple scenario where a single input /independent variable controls the outcome/dependent variable value. In the code below, we have declared two NumPy arrays to hold the values of the independent and dependent variables.\n",
    "\n"
   ]
  },
  {
   "cell_type": "code",
   "execution_count": 3,
   "id": "820b426e",
   "metadata": {},
   "outputs": [],
   "source": [
    "Independent_Variable=np.array([1,2,3,12,15,17,20,21,5,7,9,10,3,12,15,17,20,7])\n",
    "Dependent_Variable=np.array([7,14,21,84,105,116.1,139,144.15,32.6,50.1,65.4,75.4,20.8,83.4,103.15,110.9,136.6,48.7])"
   ]
  },
  {
   "cell_type": "markdown",
   "id": "d9ffec71",
   "metadata": {},
   "source": [
    "#### Step 3: Let us quickly draw a scatter plot to understand the data points.\n",
    "\n"
   ]
  },
  {
   "cell_type": "code",
   "execution_count": 4,
   "id": "53138832",
   "metadata": {},
   "outputs": [
    {
     "data": {
      "image/png": "[encoded data removed]",
      "text/plain": [
       "<Figure size 864x720 with 1 Axes>"
      ]
     },
     "metadata": {
      "needs_background": "light"
     },
     "output_type": "display_data"
    }
   ],
   "source": [
    "plt.figure(figsize=(12, 10))\n",
    "plt.scatter(Independent_Variable, Dependent_Variable,  color='green')\n",
    "plt.xlabel('Independent Variable/Input Parameter')\n",
    "plt.ylabel('Dependent Variable/ Output Parameter')\n",
    "plt.show()\n"
   ]
  },
  {
   "cell_type": "markdown",
   "id": "44284886",
   "metadata": {},
   "source": [
    "Our goal is to formulate a linear equation which can predict the dependent variable value with minimum error for an independent/input variable.\n",
    "\n"
   ]
  },
  {
   "cell_type": "markdown",
   "id": "a06f3c21",
   "metadata": {},
   "source": [
    "Dependent Variable = Constant * Independent Variable\n",
    "\n"
   ]
  },
  {
   "cell_type": "markdown",
   "id": "b30e5ce3",
   "metadata": {},
   "source": [
    "In mathematical terms, Y=constant*X\n",
    "\n"
   ]
  },
  {
   "cell_type": "markdown",
   "id": "b17e4ab7",
   "metadata": {},
   "source": [
    "In terms of visualisation, we need to find the best fit line to get a minimum error for points.\n",
    "\n"
   ]
  },
  {
   "cell_type": "markdown",
   "id": "1c475c80",
   "metadata": {},
   "source": [
    "Minimum error is also known as loss function in the machine learning world.\n",
    "\n"
   ]
  },
  {
   "cell_type": "markdown",
   "id": "0f98b6a1",
   "metadata": {},
   "source": [
    "<div>\n",
    "<img src=\"./images/loss_j.png\" width=\"400\">\n",
    "</div>"
   ]
  },
  {
   "cell_type": "markdown",
   "id": "77d79350",
   "metadata": {},
   "source": [
    "We can calculate the loss in the iteration for each assumed constant value in the equation Y=constant*X with all independent data points. The goal is to find the constant for which this loss is minimum and formulate the equation. Please note that in the loss function equation “m” stands for the number of points. In the current example, we have 18 points hence 1/2m translates to 1/36. Do not get terrified by seeing the loss function formula. We calculate the loss as the summation of the square of the difference between the calculated value and actual value for each data points and then divide it with twice the number of points. We will decipher it step by step in the article below with the help of code in python.\n",
    "\n"
   ]
  },
  {
   "cell_type": "markdown",
   "id": "074868a4",
   "metadata": {},
   "source": [
    "##### Step 4: To understand the core idea and math behind identifying the equation, we will consider the limited set of constant values mentioned in the code below and calculate the loss function."
   ]
  },
  {
   "cell_type": "markdown",
   "id": "4ce24785",
   "metadata": {},
   "source": [
    "In actual linear regression algorithms, in particular gaps, constants are considered for loss function calculation. Initially, the gaps between the two constants considered for loss function calculation is bigger. As we move closer to the actual solution constants with smaller gaps are considered. In the machine learning world, the learning rate is the gap in which constant is increased/decreased for loss function calculation."
   ]
  },
  {
   "cell_type": "code",
   "execution_count": 5,
   "id": "491d8cd6",
   "metadata": {},
   "outputs": [],
   "source": [
    "m=[-5,-3,-1,1,3,5,6.6,7,8.5,9,11,13,15]\n"
   ]
  },
  {
   "cell_type": "markdown",
   "id": "56024ef9",
   "metadata": {},
   "source": [
    "##### Step 5: In the code below, we calculate the loss function for each value of constant (i.e. values in the list m declared in the earlier step) for all input and output data points.\n",
    "\n"
   ]
  },
  {
   "cell_type": "markdown",
   "id": "ee56e5df",
   "metadata": {},
   "source": [
    "We store the calculated loss for each constant in a Numpy array “errormargin”.\n",
    "\n"
   ]
  },
  {
   "cell_type": "code",
   "execution_count": 15,
   "id": "2ba4c178",
   "metadata": {},
   "outputs": [],
   "source": [
    "errormargin=np.array([])\n",
    "\n",
    "for slope in m:\n",
    "    counter=0\n",
    "    sumerror=0\n",
    "    cost=sumerror/18\n",
    "    for x in Independent_Variable:\n",
    "        yhat=slope*x\n",
    "        error=(yhat-Dependent_Variable[counter])*(yhat-Dependent_Variable[counter])\n",
    "        sumerror=error+sumerror\n",
    "        counter=counter+1  \n",
    "    cost=sumerror/18\n",
    "    errormargin=np.append(errormargin,cost)\n"
   ]
  },
  {
   "cell_type": "code",
   "execution_count": 16,
   "id": "1f05ed71",
   "metadata": {},
   "outputs": [
    {
     "data": {
      "text/plain": [
       "array([2.26782058e+04, 1.56953614e+04, 9.99429472e+03, 5.57500583e+03,\n",
       "       2.43749472e+03, 5.81761389e+02, 2.00547222e+01, 7.80583333e+00,\n",
       "       4.18505833e+02, 7.15628056e+02, 2.70522806e+03, 5.97660583e+03,\n",
       "       1.05297614e+04])"
      ]
     },
     "execution_count": 16,
     "metadata": {},
     "output_type": "execute_result"
    }
   ],
   "source": [
    "errormargin"
   ]
  },
  {
   "cell_type": "markdown",
   "id": "90fc44b4",
   "metadata": {},
   "source": [
    "##### Step 6:We will plot the calculated loss function for the constant to determine the actual constant value.\n",
    "\n"
   ]
  },
  {
   "cell_type": "markdown",
   "id": "84361d55",
   "metadata": {},
   "source": [
    "The value of the constant for which the curve is at the lowest point is the real constant with which we can formulate the equation of the line.\n",
    "\n"
   ]
  },
  {
   "cell_type": "code",
   "execution_count": 20,
   "id": "a0b391ec",
   "metadata": {},
   "outputs": [
    {
     "data": {
      "image/png": "[encoded data removed]",
      "text/plain": [
       "<Figure size 432x288 with 1 Axes>"
      ]
     },
     "metadata": {
      "needs_background": "light"
     },
     "output_type": "display_data"
    }
   ],
   "source": [
    "plt.plot(m,errormargin)\n",
    "plt.xlabel(\"Slope Values\")\n",
    "plt.ylabel(\"Loss Function\")\n",
    "plt.show()\n"
   ]
  },
  {
   "cell_type": "markdown",
   "id": "908629d1",
   "metadata": {},
   "source": [
    "In our example, for the value of constant 6.8, the curve is at the lowest point.\n",
    "\n"
   ]
  },
  {
   "cell_type": "markdown",
   "id": "8a17d8c1",
   "metadata": {},
   "source": [
    "A line with this value as Y=6.8*X can best fit the data points with minimum error.\n",
    "\n"
   ]
  },
  {
   "cell_type": "code",
   "execution_count": 21,
   "id": "ce79c72d",
   "metadata": {},
   "outputs": [
    {
     "data": {
      "image/png": "[encoded data removed]",
      "text/plain": [
       "<Figure size 864x720 with 1 Axes>"
      ]
     },
     "metadata": {
      "needs_background": "light"
     },
     "output_type": "display_data"
    }
   ],
   "source": [
    "m, b = 6.8,0\n",
    "plt.figure(figsize=(12, 10))\n",
    "plt.scatter(Independent_Variable, Dependent_Variable,  color='green')\n",
    "plt.plot(Independent_Variable, m*Independent_Variable+b)\n",
    "plt.xlabel('Independent Variable/Input Parameter')\n",
    "plt.ylabel('Dependent Variable/ Output Parameter')\n",
    "plt.show()"
   ]
  },
  {
   "cell_type": "markdown",
   "id": "3fe48e7b",
   "metadata": {},
   "source": [
    "This approach of plotting the loss function and identifying the true values of the fixed parameters in the equation at the lowest point of the loss curve is known as gradient descent. As an example, we have considered one variable for simplicity, hence the loss function is a 2-dimensional curve. In the case of multiple linear regression, the <b> gradient descent</b> curve will be multi-dimensional.\n",
    "\n"
   ]
  },
  {
   "cell_type": "markdown",
   "id": "ae4ddf4c",
   "metadata": {},
   "source": [
    "##### Step to calculate the coefficient and intercept/bias in linear regression.\n",
    "\n"
   ]
  },
  {
   "cell_type": "markdown",
   "id": "9d05eeba",
   "metadata": {},
   "source": [
    "##### Step 1: Let us consider a sample set of independent and dependent variable values. These are the input and output data points available our goal is to formulate a linear equation which can predict the dependent variable value with minimum error for an independent/input variable.\n",
    "\n"
   ]
  },
  {
   "cell_type": "markdown",
   "id": "caf51585",
   "metadata": {},
   "source": [
    "- Dependent Variable = (Coefficient*Independent Variable)+ Constant\n",
    "\n"
   ]
  },
  {
   "cell_type": "markdown",
   "id": "5c47ef4c",
   "metadata": {},
   "source": [
    "- In mathematical terms, y=(Coefficient*x)+ c\n",
    "\n"
   ]
  },
  {
   "cell_type": "markdown",
   "id": "68c83b3e",
   "metadata": {},
   "source": [
    "Please note that coefficient is also a constant term multiplied with the independent variable in the equation.\n",
    "\n"
   ]
  },
  {
   "cell_type": "code",
   "execution_count": 22,
   "id": "25b5eba9",
   "metadata": {},
   "outputs": [],
   "source": [
    "explanatory_variable=np.array([1,2,4,3,5])\n",
    "explained_variable=np.array([1,3,3,2,5])"
   ]
  },
  {
   "cell_type": "markdown",
   "id": "18aa994f",
   "metadata": {},
   "source": [
    "##### Step 2: We will assume that the initial value of the coefficient and constant “m” and “c” respectively as zero. We will increase the value of m and c after each iteration of error calculation by a small learning rate of 0.001. Epoch is the number of times we want to do this calculation on the entire available data points. As we increase the number of epoch, the solution becomes more accurate, but it consumes time and computing power. Based on the business case, we can decide the acceptable error in the calculated values to stop the iterations.\n",
    "\n"
   ]
  },
  {
   "cell_type": "code",
   "execution_count": 23,
   "id": "fef74c81",
   "metadata": {},
   "outputs": [],
   "source": [
    "LR=0.001\n",
    "m=0\n",
    "c=0\n",
    "epoch=0\n"
   ]
  },
  {
   "cell_type": "markdown",
   "id": "f97357d4",
   "metadata": {},
   "source": [
    "##### Step 3: In the below code, we run 1100 iterations on the available dataset and calculate the coefficient and constant value.\n",
    "\n"
   ]
  },
  {
   "cell_type": "markdown",
   "id": "51333e85",
   "metadata": {},
   "source": [
    "For each independent data point, we calculate the dependent value (i.e. yhat) and then calculate the error between the calculated and actual dependent value.\n",
    "\n"
   ]
  },
  {
   "cell_type": "markdown",
   "id": "03affe10",
   "metadata": {},
   "source": [
    "Based on the error, we change the value of coefficient and constant for the next iteration calculation.\n",
    "\n"
   ]
  },
  {
   "cell_type": "markdown",
   "id": "d474b448",
   "metadata": {},
   "source": [
    "- New coefficient= Current coefficient — (Learning Rate*Error)\n",
    "\n"
   ]
  },
  {
   "cell_type": "markdown",
   "id": "8a9abb6d",
   "metadata": {},
   "source": [
    "- New Constant = Current Constant -(Learning Rate*Error*Independent Variable Value)\n",
    "\n"
   ]
  },
  {
   "cell_type": "code",
   "execution_count": 25,
   "id": "dd4ebc42",
   "metadata": {},
   "outputs": [],
   "source": [
    "while epoch<1100:\n",
    "    epoch=epoch+1\n",
    "    counter=0\n",
    "    for x in explanatory_variable:\n",
    "        yhat=(m*x)+c\n",
    "        error=yhat-explained_variable[counter]\n",
    "        c=c-(LR*error)\n",
    "        m=m-(LR*error*x)\n",
    "        counter=counter+1\n"
   ]
  },
  {
   "cell_type": "markdown",
   "id": "2b0ec9c7",
   "metadata": {},
   "source": [
    "We check the value of the coefficient and constant after 1100 iterations on the available dataset.\n",
    "\n"
   ]
  },
  {
   "cell_type": "code",
   "execution_count": 26,
   "id": "ee5f3062",
   "metadata": {},
   "outputs": [
    {
     "name": "stdout",
     "output_type": "stream",
     "text": [
      "The final value of  m 0.8196142526222164\n",
      "The final value of  c 0.332219792369142\n"
     ]
    }
   ],
   "source": [
    "print(\"The final value of  m\", m)\n",
    "print(\"The final value of  c\", c)\n"
   ]
  },
  {
   "cell_type": "code",
   "execution_count": 27,
   "id": "97434058",
   "metadata": {},
   "outputs": [
    {
     "data": {
      "image/png": "[encoded data removed]",
      "text/plain": [
       "<Figure size 864x720 with 1 Axes>"
      ]
     },
     "metadata": {
      "needs_background": "light"
     },
     "output_type": "display_data"
    }
   ],
   "source": [
    "\n",
    "plt.figure(figsize=(12, 10))\n",
    "plt.scatter(explanatory_variable, explained_variable,  color='green')\n",
    "plt.plot(explanatory_variable, m*explanatory_variable+c)\n",
    "plt.xlabel('Independent Variable/Input Parameter')\n",
    "plt.ylabel('Dependent Variable/ Output Parameter')\n",
    "plt.show()\n",
    "\n",
    "\n"
   ]
  },
  {
   "cell_type": "code",
   "execution_count": null,
   "id": "b70ad126",
   "metadata": {},
   "outputs": [],
   "source": []
  },
  {
   "cell_type": "markdown",
   "id": "4927949e",
   "metadata": {},
   "source": [
    "Finally, let us compare the earlier output with the Scikit-learn linear regression algorithm result\n",
    "\n"
   ]
  },
  {
   "cell_type": "code",
   "execution_count": 36,
   "id": "ae519b83",
   "metadata": {
    "scrolled": true
   },
   "outputs": [
    {
     "name": "stdout",
     "output_type": "stream",
     "text": [
      "[0.8]\n",
      "0.39999999999999947\n"
     ]
    }
   ],
   "source": [
    "from sklearn.linear_model import LinearRegression\n",
    "reg = LinearRegression().fit(explanatory_variable.reshape(-1,1), explained_variable)\n",
    "print(reg.coef_)\n",
    "print(reg.intercept_)"
   ]
  },
  {
   "cell_type": "markdown",
   "id": "ecfcabaa",
   "metadata": {},
   "source": [
    "With 1100 iterations on the available dataset the calculated value of the coefficient and constant/bias is very close to the output of Scikit-learn linear regression algorithm.\n",
    "\n",
    "I hope this gives article gave you a firm understanding on behind the scene mathematical calculation and concept in linear regression. Also, we have seen the way gradient descent is applied to find the optimal solution. In the case of multiple linear regression, the math and logic remain the same, and it is just scaled further in more dimensions.\n",
    "\n"
   ]
  },
  {
   "cell_type": "code",
   "execution_count": 37,
   "id": "8fd3abf8",
   "metadata": {},
   "outputs": [],
   "source": [
    "import pandas as pd\n",
    "pd.set_option('display.width', 1000)"
   ]
  },
  {
   "cell_type": "code",
   "execution_count": 38,
   "id": "951c084d",
   "metadata": {},
   "outputs": [
    {
     "name": "stdout",
     "output_type": "stream",
     "text": [
      "Coefficients: \n",
      " [938.23786125]\n",
      "Mean squared error: 2548.07\n",
      "Coefficient of determination: 0.47\n"
     ]
    },
    {
     "data": {
      "image/png": "[encoded data removed]",
      "text/plain": [
       "<Figure size 432x288 with 1 Axes>"
      ]
     },
     "metadata": {},
     "output_type": "display_data"
    }
   ],
   "source": [
    "import matplotlib.pyplot as plt\n",
    "import numpy as np\n",
    "from sklearn import datasets, linear_model\n",
    "from sklearn.metrics import mean_squared_error, r2_score\n",
    "\n",
    "# Load the diabetes dataset\n",
    "diabetes_X, diabetes_y = datasets.load_diabetes(return_X_y=True)\n",
    "\n",
    "# Use only one feature\n",
    "diabetes_X = diabetes_X[:, np.newaxis, 2]\n",
    "\n",
    "# Split the data into training/testing sets\n",
    "diabetes_X_train = diabetes_X[:-20]\n",
    "diabetes_X_test = diabetes_X[-20:]\n",
    "\n",
    "# Split the targets into training/testing sets\n",
    "diabetes_y_train = diabetes_y[:-20]\n",
    "diabetes_y_test = diabetes_y[-20:]\n",
    "\n",
    "# Create linear regression object\n",
    "regr = linear_model.LinearRegression()\n",
    "\n",
    "# Train the model using the training sets\n",
    "regr.fit(diabetes_X_train, diabetes_y_train)\n",
    "\n",
    "# Make predictions using the testing set\n",
    "diabetes_y_pred = regr.predict(diabetes_X_test)\n",
    "\n",
    "# The coefficients\n",
    "print(\"Coefficients: \\n\", regr.coef_)\n",
    "# The mean squared error\n",
    "print(\"Mean squared error: %.2f\" % mean_squared_error(diabetes_y_test, diabetes_y_pred))\n",
    "# The coefficient of determination: 1 is perfect prediction\n",
    "print(\"Coefficient of determination: %.2f\" % r2_score(diabetes_y_test, diabetes_y_pred))\n",
    "\n",
    "# Plot outputs\n",
    "plt.scatter(diabetes_X_test, diabetes_y_test, color=\"black\")\n",
    "plt.plot(diabetes_X_test, diabetes_y_pred, color=\"blue\", linewidth=3)\n",
    "\n",
    "plt.xticks(())\n",
    "plt.yticks(())\n",
    "\n",
    "plt.show()"
   ]
  },
  {
   "cell_type": "code",
   "execution_count": null,
   "id": "278d6610",
   "metadata": {},
   "outputs": [],
   "source": []
  }
 ],
 "metadata": {
  "kernelspec": {
   "display_name": "Python 3 (ipykernel)",
   "language": "python",
   "name": "python3"
  },
  "language_info": {
   "codemirror_mode": {
    "name": "ipython",
    "version": 3
   },
   "file_extension": ".py",
   "mimetype": "text/x-python",
   "name": "python",
   "nbconvert_exporter": "python",
   "pygments_lexer": "ipython3",
   "version": "3.10.1"
  }
 },
 "nbformat": 4,
 "nbformat_minor": 5
}

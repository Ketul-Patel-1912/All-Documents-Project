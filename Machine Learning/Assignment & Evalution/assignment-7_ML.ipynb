{
 "cells": [
  {
   "cell_type": "markdown",
   "id": "b59c7398",
   "metadata": {},
   "source": [
    "Assignment7"
   ]
  },
  {
   "cell_type": "markdown",
   "id": "89fb0783",
   "metadata": {},
   "source": [
    "ANS-1"
   ]
  },
  {
   "cell_type": "code",
   "execution_count": 1,
   "id": "88facce8",
   "metadata": {},
   "outputs": [],
   "source": [
    "import math\n",
    "def sigmoid(x):\n",
    " return 1 / (1 + math.exp(-x))"
   ]
  },
  {
   "cell_type": "code",
   "execution_count": 2,
   "id": "f79a8f5b",
   "metadata": {},
   "outputs": [
    {
     "data": {
      "text/plain": [
       "0.7310585786300049"
      ]
     },
     "execution_count": 2,
     "metadata": {},
     "output_type": "execute_result"
    }
   ],
   "source": [
    "sigmoid(1)\n"
   ]
  },
  {
   "cell_type": "code",
   "execution_count": 3,
   "id": "68fc3247",
   "metadata": {},
   "outputs": [
    {
     "data": {
      "text/plain": [
       "0.5"
      ]
     },
     "execution_count": 3,
     "metadata": {},
     "output_type": "execute_result"
    }
   ],
   "source": [
    "sigmoid(0)\n"
   ]
  },
  {
   "cell_type": "code",
   "execution_count": 5,
   "id": "556cf38a",
   "metadata": {},
   "outputs": [
    {
     "data": {
      "text/plain": [
       "0.9990889488055994"
      ]
     },
     "execution_count": 5,
     "metadata": {},
     "output_type": "execute_result"
    }
   ],
   "source": [
    "sigmoid(7)\n"
   ]
  },
  {
   "cell_type": "code",
   "execution_count": 8,
   "id": "e624fd57",
   "metadata": {},
   "outputs": [
    {
     "data": {
      "text/plain": [
       "0.9999999998973812"
      ]
     },
     "execution_count": 8,
     "metadata": {},
     "output_type": "execute_result"
    }
   ],
   "source": [
    "sigmoid(23)\n"
   ]
  },
  {
   "cell_type": "code",
   "execution_count": 9,
   "id": "69e42e89",
   "metadata": {},
   "outputs": [
    {
     "data": {
      "text/plain": [
       "1.0"
      ]
     },
     "execution_count": 9,
     "metadata": {},
     "output_type": "execute_result"
    }
   ],
   "source": [
    "sigmoid(45)\n"
   ]
  },
  {
   "cell_type": "markdown",
   "id": "5d0dae91",
   "metadata": {},
   "source": [
    "Ans 2"
   ]
  },
  {
   "cell_type": "markdown",
   "id": "a5906ae3",
   "metadata": {},
   "source": [
    "when our model overfitted means work well with training dataset and not with testing datasets\n",
    "to remove this condition so that\n",
    "our model become generalized means work well with training datasets and testing datasets we\n",
    "used a technique called\n",
    "regularization .\n",
    "\n",
    "Regularization is done by 2 techniques\n",
    "\n",
    "(1) Lasso\n",
    "\n",
    "(2) Ridge"
   ]
  },
  {
   "cell_type": "markdown",
   "id": "29889a92",
   "metadata": {},
   "source": [
    "# Ans 3 "
   ]
  },
  {
   "cell_type": "markdown",
   "id": "8391f10f",
   "metadata": {},
   "source": [
    "Lasso- (1) It is L1 Regularization\n",
    "\n",
    "(2) It take magnitude of coefficients\n",
    "\n",
    "(3) Here as we increase learning rate variable\n",
    "or features shrink to exact zero\n",
    "\n",
    "Ridge-(1) It is L2 Regularizations\n",
    "\n",
    "(2) It take square of coefficients\n",
    "\n",
    "(3) Here as we increase learning rate variable\n",
    "or features tends to shrink towards zero but\n",
    "not exact zero\n"
   ]
  },
  {
   "cell_type": "code",
   "execution_count": null,
   "id": "db247dca",
   "metadata": {},
   "outputs": [],
   "source": []
  }
 ],
 "metadata": {
  "kernelspec": {
   "display_name": "Python 3 (ipykernel)",
   "language": "python",
   "name": "python3"
  },
  "language_info": {
   "codemirror_mode": {
    "name": "ipython",
    "version": 3
   },
   "file_extension": ".py",
   "mimetype": "text/x-python",
   "name": "python",
   "nbconvert_exporter": "python",
   "pygments_lexer": "ipython3",
   "version": "3.9.7"
  }
 },
 "nbformat": 4,
 "nbformat_minor": 5
}

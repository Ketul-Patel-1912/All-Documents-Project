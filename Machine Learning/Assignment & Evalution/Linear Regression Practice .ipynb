{
 "cells": [
  {
   "cell_type": "markdown",
   "id": "315ba18f",
   "metadata": {},
   "source": [
    "# Linear Regression Example \n",
    "\n",
    "## This Problem is Multiple Linear regression\n",
    "#### Multiple Input feature avilable "
   ]
  },
  {
   "cell_type": "markdown",
   "id": "56bea9b2",
   "metadata": {},
   "source": [
    "### Import Usefull libraries"
   ]
  },
  {
   "cell_type": "code",
   "execution_count": 1,
   "id": "261c992f",
   "metadata": {},
   "outputs": [],
   "source": [
    "import numpy as np\n",
    "import pandas as pd\n",
    "import matplotlib.pyplot as plt\n",
    "import seaborn as sns"
   ]
  },
  {
   "cell_type": "markdown",
   "id": "827665d6",
   "metadata": {},
   "source": [
    "### Import dataset which is already available on sci-kit database "
   ]
  },
  {
   "cell_type": "code",
   "execution_count": 2,
   "id": "4a8e3627",
   "metadata": {},
   "outputs": [],
   "source": [
    "from sklearn.datasets import load_boston"
   ]
  },
  {
   "cell_type": "code",
   "execution_count": 3,
   "id": "5ab365ce",
   "metadata": {},
   "outputs": [
    {
     "name": "stderr",
     "output_type": "stream",
     "text": [
      "C:\\Python310\\lib\\site-packages\\sklearn\\utils\\deprecation.py:87: FutureWarning: Function load_boston is deprecated; `load_boston` is deprecated in 1.0 and will be removed in 1.2.\n",
      "\n",
      "    The Boston housing prices dataset has an ethical problem. You can refer to\n",
      "    the documentation of this function for further details.\n",
      "\n",
      "    The scikit-learn maintainers therefore strongly discourage the use of this\n",
      "    dataset unless the purpose of the code is to study and educate about\n",
      "    ethical issues in data science and machine learning.\n",
      "\n",
      "    In this special case, you can fetch the dataset from the original\n",
      "    source::\n",
      "\n",
      "        import pandas as pd\n",
      "        import numpy as np\n",
      "\n",
      "        data_url = \"http://lib.stat.cmu.edu/datasets/boston\"\n",
      "        raw_df = pd.read_csv(data_url, sep=\"\\s+\", skiprows=22, header=None)\n",
      "        data = np.hstack([raw_df.values[::2, :], raw_df.values[1::2, :2]])\n",
      "        target = raw_df.values[1::2, 2]\n",
      "\n",
      "    Alternative datasets include the California housing dataset (i.e.\n",
      "    :func:`~sklearn.datasets.fetch_california_housing`) and the Ames housing\n",
      "    dataset. You can load the datasets as follows::\n",
      "\n",
      "        from sklearn.datasets import fetch_california_housing\n",
      "        housing = fetch_california_housing()\n",
      "\n",
      "    for the California housing dataset and::\n",
      "\n",
      "        from sklearn.datasets import fetch_openml\n",
      "        housing = fetch_openml(name=\"house_prices\", as_frame=True)\n",
      "\n",
      "    for the Ames housing dataset.\n",
      "  warnings.warn(msg, category=FutureWarning)\n"
     ]
    },
    {
     "data": {
      "text/plain": [
       "{'data': array([[6.3200e-03, 1.8000e+01, 2.3100e+00, ..., 1.5300e+01, 3.9690e+02,\n",
       "         4.9800e+00],\n",
       "        [2.7310e-02, 0.0000e+00, 7.0700e+00, ..., 1.7800e+01, 3.9690e+02,\n",
       "         9.1400e+00],\n",
       "        [2.7290e-02, 0.0000e+00, 7.0700e+00, ..., 1.7800e+01, 3.9283e+02,\n",
       "         4.0300e+00],\n",
       "        ...,\n",
       "        [6.0760e-02, 0.0000e+00, 1.1930e+01, ..., 2.1000e+01, 3.9690e+02,\n",
       "         5.6400e+00],\n",
       "        [1.0959e-01, 0.0000e+00, 1.1930e+01, ..., 2.1000e+01, 3.9345e+02,\n",
       "         6.4800e+00],\n",
       "        [4.7410e-02, 0.0000e+00, 1.1930e+01, ..., 2.1000e+01, 3.9690e+02,\n",
       "         7.8800e+00]]),\n",
       " 'target': array([24. , 21.6, 34.7, 33.4, 36.2, 28.7, 22.9, 27.1, 16.5, 18.9, 15. ,\n",
       "        18.9, 21.7, 20.4, 18.2, 19.9, 23.1, 17.5, 20.2, 18.2, 13.6, 19.6,\n",
       "        15.2, 14.5, 15.6, 13.9, 16.6, 14.8, 18.4, 21. , 12.7, 14.5, 13.2,\n",
       "        13.1, 13.5, 18.9, 20. , 21. , 24.7, 30.8, 34.9, 26.6, 25.3, 24.7,\n",
       "        21.2, 19.3, 20. , 16.6, 14.4, 19.4, 19.7, 20.5, 25. , 23.4, 18.9,\n",
       "        35.4, 24.7, 31.6, 23.3, 19.6, 18.7, 16. , 22.2, 25. , 33. , 23.5,\n",
       "        19.4, 22. , 17.4, 20.9, 24.2, 21.7, 22.8, 23.4, 24.1, 21.4, 20. ,\n",
       "        20.8, 21.2, 20.3, 28. , 23.9, 24.8, 22.9, 23.9, 26.6, 22.5, 22.2,\n",
       "        23.6, 28.7, 22.6, 22. , 22.9, 25. , 20.6, 28.4, 21.4, 38.7, 43.8,\n",
       "        33.2, 27.5, 26.5, 18.6, 19.3, 20.1, 19.5, 19.5, 20.4, 19.8, 19.4,\n",
       "        21.7, 22.8, 18.8, 18.7, 18.5, 18.3, 21.2, 19.2, 20.4, 19.3, 22. ,\n",
       "        20.3, 20.5, 17.3, 18.8, 21.4, 15.7, 16.2, 18. , 14.3, 19.2, 19.6,\n",
       "        23. , 18.4, 15.6, 18.1, 17.4, 17.1, 13.3, 17.8, 14. , 14.4, 13.4,\n",
       "        15.6, 11.8, 13.8, 15.6, 14.6, 17.8, 15.4, 21.5, 19.6, 15.3, 19.4,\n",
       "        17. , 15.6, 13.1, 41.3, 24.3, 23.3, 27. , 50. , 50. , 50. , 22.7,\n",
       "        25. , 50. , 23.8, 23.8, 22.3, 17.4, 19.1, 23.1, 23.6, 22.6, 29.4,\n",
       "        23.2, 24.6, 29.9, 37.2, 39.8, 36.2, 37.9, 32.5, 26.4, 29.6, 50. ,\n",
       "        32. , 29.8, 34.9, 37. , 30.5, 36.4, 31.1, 29.1, 50. , 33.3, 30.3,\n",
       "        34.6, 34.9, 32.9, 24.1, 42.3, 48.5, 50. , 22.6, 24.4, 22.5, 24.4,\n",
       "        20. , 21.7, 19.3, 22.4, 28.1, 23.7, 25. , 23.3, 28.7, 21.5, 23. ,\n",
       "        26.7, 21.7, 27.5, 30.1, 44.8, 50. , 37.6, 31.6, 46.7, 31.5, 24.3,\n",
       "        31.7, 41.7, 48.3, 29. , 24. , 25.1, 31.5, 23.7, 23.3, 22. , 20.1,\n",
       "        22.2, 23.7, 17.6, 18.5, 24.3, 20.5, 24.5, 26.2, 24.4, 24.8, 29.6,\n",
       "        42.8, 21.9, 20.9, 44. , 50. , 36. , 30.1, 33.8, 43.1, 48.8, 31. ,\n",
       "        36.5, 22.8, 30.7, 50. , 43.5, 20.7, 21.1, 25.2, 24.4, 35.2, 32.4,\n",
       "        32. , 33.2, 33.1, 29.1, 35.1, 45.4, 35.4, 46. , 50. , 32.2, 22. ,\n",
       "        20.1, 23.2, 22.3, 24.8, 28.5, 37.3, 27.9, 23.9, 21.7, 28.6, 27.1,\n",
       "        20.3, 22.5, 29. , 24.8, 22. , 26.4, 33.1, 36.1, 28.4, 33.4, 28.2,\n",
       "        22.8, 20.3, 16.1, 22.1, 19.4, 21.6, 23.8, 16.2, 17.8, 19.8, 23.1,\n",
       "        21. , 23.8, 23.1, 20.4, 18.5, 25. , 24.6, 23. , 22.2, 19.3, 22.6,\n",
       "        19.8, 17.1, 19.4, 22.2, 20.7, 21.1, 19.5, 18.5, 20.6, 19. , 18.7,\n",
       "        32.7, 16.5, 23.9, 31.2, 17.5, 17.2, 23.1, 24.5, 26.6, 22.9, 24.1,\n",
       "        18.6, 30.1, 18.2, 20.6, 17.8, 21.7, 22.7, 22.6, 25. , 19.9, 20.8,\n",
       "        16.8, 21.9, 27.5, 21.9, 23.1, 50. , 50. , 50. , 50. , 50. , 13.8,\n",
       "        13.8, 15. , 13.9, 13.3, 13.1, 10.2, 10.4, 10.9, 11.3, 12.3,  8.8,\n",
       "         7.2, 10.5,  7.4, 10.2, 11.5, 15.1, 23.2,  9.7, 13.8, 12.7, 13.1,\n",
       "        12.5,  8.5,  5. ,  6.3,  5.6,  7.2, 12.1,  8.3,  8.5,  5. , 11.9,\n",
       "        27.9, 17.2, 27.5, 15. , 17.2, 17.9, 16.3,  7. ,  7.2,  7.5, 10.4,\n",
       "         8.8,  8.4, 16.7, 14.2, 20.8, 13.4, 11.7,  8.3, 10.2, 10.9, 11. ,\n",
       "         9.5, 14.5, 14.1, 16.1, 14.3, 11.7, 13.4,  9.6,  8.7,  8.4, 12.8,\n",
       "        10.5, 17.1, 18.4, 15.4, 10.8, 11.8, 14.9, 12.6, 14.1, 13. , 13.4,\n",
       "        15.2, 16.1, 17.8, 14.9, 14.1, 12.7, 13.5, 14.9, 20. , 16.4, 17.7,\n",
       "        19.5, 20.2, 21.4, 19.9, 19. , 19.1, 19.1, 20.1, 19.9, 19.6, 23.2,\n",
       "        29.8, 13.8, 13.3, 16.7, 12. , 14.6, 21.4, 23. , 23.7, 25. , 21.8,\n",
       "        20.6, 21.2, 19.1, 20.6, 15.2,  7. ,  8.1, 13.6, 20.1, 21.8, 24.5,\n",
       "        23.1, 19.7, 18.3, 21.2, 17.5, 16.8, 22.4, 20.6, 23.9, 22. , 11.9]),\n",
       " 'feature_names': array(['CRIM', 'ZN', 'INDUS', 'CHAS', 'NOX', 'RM', 'AGE', 'DIS', 'RAD',\n",
       "        'TAX', 'PTRATIO', 'B', 'LSTAT'], dtype='<U7'),\n",
       " 'DESCR': \".. _boston_dataset:\\n\\nBoston house prices dataset\\n---------------------------\\n\\n**Data Set Characteristics:**  \\n\\n    :Number of Instances: 506 \\n\\n    :Number of Attributes: 13 numeric/categorical predictive. Median Value (attribute 14) is usually the target.\\n\\n    :Attribute Information (in order):\\n        - CRIM     per capita crime rate by town\\n        - ZN       proportion of residential land zoned for lots over 25,000 sq.ft.\\n        - INDUS    proportion of non-retail business acres per town\\n        - CHAS     Charles River dummy variable (= 1 if tract bounds river; 0 otherwise)\\n        - NOX      nitric oxides concentration (parts per 10 million)\\n        - RM       average number of rooms per dwelling\\n        - AGE      proportion of owner-occupied units built prior to 1940\\n        - DIS      weighted distances to five Boston employment centres\\n        - RAD      index of accessibility to radial highways\\n        - TAX      full-value property-tax rate per $10,000\\n        - PTRATIO  pupil-teacher ratio by town\\n        - B        1000(Bk - 0.63)^2 where Bk is the proportion of black people by town\\n        - LSTAT    % lower status of the population\\n        - MEDV     Median value of owner-occupied homes in $1000's\\n\\n    :Missing Attribute Values: None\\n\\n    :Creator: Harrison, D. and Rubinfeld, D.L.\\n\\nThis is a copy of UCI ML housing dataset.\\nhttps://archive.ics.uci.edu/ml/machine-learning-databases/housing/\\n\\n\\nThis dataset was taken from the StatLib library which is maintained at Carnegie Mellon University.\\n\\nThe Boston house-price data of Harrison, D. and Rubinfeld, D.L. 'Hedonic\\nprices and the demand for clean air', J. Environ. Economics & Management,\\nvol.5, 81-102, 1978.   Used in Belsley, Kuh & Welsch, 'Regression diagnostics\\n...', Wiley, 1980.   N.B. Various transformations are used in the table on\\npages 244-261 of the latter.\\n\\nThe Boston house-price data has been used in many machine learning papers that address regression\\nproblems.   \\n     \\n.. topic:: References\\n\\n   - Belsley, Kuh & Welsch, 'Regression diagnostics: Identifying Influential Data and Sources of Collinearity', Wiley, 1980. 244-261.\\n   - Quinlan,R. (1993). Combining Instance-Based and Model-Based Learning. In Proceedings on the Tenth International Conference of Machine Learning, 236-243, University of Massachusetts, Amherst. Morgan Kaufmann.\\n\",\n",
       " 'filename': 'boston_house_prices.csv',\n",
       " 'data_module': 'sklearn.datasets.data'}"
      ]
     },
     "execution_count": 3,
     "metadata": {},
     "output_type": "execute_result"
    }
   ],
   "source": [
    "df = load_boston()\n",
    "df"
   ]
  },
  {
   "cell_type": "code",
   "execution_count": 4,
   "id": "28e798a4",
   "metadata": {},
   "outputs": [
    {
     "data": {
      "text/html": [
       "<div>\n",
       "<style scoped>\n",
       "    .dataframe tbody tr th:only-of-type {\n",
       "        vertical-align: middle;\n",
       "    }\n",
       "\n",
       "    .dataframe tbody tr th {\n",
       "        vertical-align: top;\n",
       "    }\n",
       "\n",
       "    .dataframe thead th {\n",
       "        text-align: right;\n",
       "    }\n",
       "</style>\n",
       "<table border=\"1\" class=\"dataframe\">\n",
       "  <thead>\n",
       "    <tr style=\"text-align: right;\">\n",
       "      <th></th>\n",
       "      <th>CRIM</th>\n",
       "      <th>ZN</th>\n",
       "      <th>INDUS</th>\n",
       "      <th>CHAS</th>\n",
       "      <th>NOX</th>\n",
       "      <th>RM</th>\n",
       "      <th>AGE</th>\n",
       "      <th>DIS</th>\n",
       "      <th>RAD</th>\n",
       "      <th>TAX</th>\n",
       "      <th>PTRATIO</th>\n",
       "      <th>B</th>\n",
       "      <th>LSTAT</th>\n",
       "    </tr>\n",
       "  </thead>\n",
       "  <tbody>\n",
       "    <tr>\n",
       "      <th>0</th>\n",
       "      <td>0.00632</td>\n",
       "      <td>18.0</td>\n",
       "      <td>2.31</td>\n",
       "      <td>0.0</td>\n",
       "      <td>0.538</td>\n",
       "      <td>6.575</td>\n",
       "      <td>65.2</td>\n",
       "      <td>4.0900</td>\n",
       "      <td>1.0</td>\n",
       "      <td>296.0</td>\n",
       "      <td>15.3</td>\n",
       "      <td>396.90</td>\n",
       "      <td>4.98</td>\n",
       "    </tr>\n",
       "    <tr>\n",
       "      <th>1</th>\n",
       "      <td>0.02731</td>\n",
       "      <td>0.0</td>\n",
       "      <td>7.07</td>\n",
       "      <td>0.0</td>\n",
       "      <td>0.469</td>\n",
       "      <td>6.421</td>\n",
       "      <td>78.9</td>\n",
       "      <td>4.9671</td>\n",
       "      <td>2.0</td>\n",
       "      <td>242.0</td>\n",
       "      <td>17.8</td>\n",
       "      <td>396.90</td>\n",
       "      <td>9.14</td>\n",
       "    </tr>\n",
       "    <tr>\n",
       "      <th>2</th>\n",
       "      <td>0.02729</td>\n",
       "      <td>0.0</td>\n",
       "      <td>7.07</td>\n",
       "      <td>0.0</td>\n",
       "      <td>0.469</td>\n",
       "      <td>7.185</td>\n",
       "      <td>61.1</td>\n",
       "      <td>4.9671</td>\n",
       "      <td>2.0</td>\n",
       "      <td>242.0</td>\n",
       "      <td>17.8</td>\n",
       "      <td>392.83</td>\n",
       "      <td>4.03</td>\n",
       "    </tr>\n",
       "    <tr>\n",
       "      <th>3</th>\n",
       "      <td>0.03237</td>\n",
       "      <td>0.0</td>\n",
       "      <td>2.18</td>\n",
       "      <td>0.0</td>\n",
       "      <td>0.458</td>\n",
       "      <td>6.998</td>\n",
       "      <td>45.8</td>\n",
       "      <td>6.0622</td>\n",
       "      <td>3.0</td>\n",
       "      <td>222.0</td>\n",
       "      <td>18.7</td>\n",
       "      <td>394.63</td>\n",
       "      <td>2.94</td>\n",
       "    </tr>\n",
       "    <tr>\n",
       "      <th>4</th>\n",
       "      <td>0.06905</td>\n",
       "      <td>0.0</td>\n",
       "      <td>2.18</td>\n",
       "      <td>0.0</td>\n",
       "      <td>0.458</td>\n",
       "      <td>7.147</td>\n",
       "      <td>54.2</td>\n",
       "      <td>6.0622</td>\n",
       "      <td>3.0</td>\n",
       "      <td>222.0</td>\n",
       "      <td>18.7</td>\n",
       "      <td>396.90</td>\n",
       "      <td>5.33</td>\n",
       "    </tr>\n",
       "  </tbody>\n",
       "</table>\n",
       "</div>"
      ],
      "text/plain": [
       "      CRIM    ZN  INDUS  CHAS    NOX     RM   AGE     DIS  RAD    TAX  \\\n",
       "0  0.00632  18.0   2.31   0.0  0.538  6.575  65.2  4.0900  1.0  296.0   \n",
       "1  0.02731   0.0   7.07   0.0  0.469  6.421  78.9  4.9671  2.0  242.0   \n",
       "2  0.02729   0.0   7.07   0.0  0.469  7.185  61.1  4.9671  2.0  242.0   \n",
       "3  0.03237   0.0   2.18   0.0  0.458  6.998  45.8  6.0622  3.0  222.0   \n",
       "4  0.06905   0.0   2.18   0.0  0.458  7.147  54.2  6.0622  3.0  222.0   \n",
       "\n",
       "   PTRATIO       B  LSTAT  \n",
       "0     15.3  396.90   4.98  \n",
       "1     17.8  396.90   9.14  \n",
       "2     17.8  392.83   4.03  \n",
       "3     18.7  394.63   2.94  \n",
       "4     18.7  396.90   5.33  "
      ]
     },
     "execution_count": 4,
     "metadata": {},
     "output_type": "execute_result"
    }
   ],
   "source": [
    "dataset = pd.DataFrame(df.data)\n",
    "dataset.columns=df.feature_names\n",
    "\n",
    "dataset.head()"
   ]
  },
  {
   "cell_type": "code",
   "execution_count": 5,
   "id": "fbdf282b",
   "metadata": {},
   "outputs": [],
   "source": [
    "X = dataset\n",
    "y = df.target"
   ]
  },
  {
   "cell_type": "markdown",
   "id": "e8a5c3c7",
   "metadata": {},
   "source": [
    "### Train Test Split "
   ]
  },
  {
   "cell_type": "code",
   "execution_count": 6,
   "id": "b54863f0",
   "metadata": {},
   "outputs": [],
   "source": [
    "from sklearn.model_selection import train_test_split"
   ]
  },
  {
   "cell_type": "code",
   "execution_count": 30,
   "id": "4802e1c8",
   "metadata": {},
   "outputs": [],
   "source": [
    "X_train, X_test, y_train, y_test = train_test_split(\n",
    "    X,y, test_size=0.30, random_state=42)"
   ]
  },
  {
   "cell_type": "code",
   "execution_count": 66,
   "id": "86ef3506",
   "metadata": {},
   "outputs": [
    {
     "name": "stdout",
     "output_type": "stream",
     "text": [
      "X_train:- (354, 13)\n",
      "y_train:- (354,)\n",
      "\n",
      "X_test:- (152, 13)\n",
      "y_test:- (152,)\n"
     ]
    }
   ],
   "source": [
    "print(\"X_train:-\",X_train.shape)\n",
    "print(\"y_train:-\",y_train.shape)\n",
    "print()\n",
    "print(\"X_test:-\",X_test.shape)\n",
    "print(\"y_test:-\",y_test.shape)"
   ]
  },
  {
   "cell_type": "code",
   "execution_count": 32,
   "id": "aaa2f989",
   "metadata": {},
   "outputs": [
    {
     "data": {
      "text/html": [
       "<div>\n",
       "<style scoped>\n",
       "    .dataframe tbody tr th:only-of-type {\n",
       "        vertical-align: middle;\n",
       "    }\n",
       "\n",
       "    .dataframe tbody tr th {\n",
       "        vertical-align: top;\n",
       "    }\n",
       "\n",
       "    .dataframe thead th {\n",
       "        text-align: right;\n",
       "    }\n",
       "</style>\n",
       "<table border=\"1\" class=\"dataframe\">\n",
       "  <thead>\n",
       "    <tr style=\"text-align: right;\">\n",
       "      <th></th>\n",
       "      <th>CRIM</th>\n",
       "      <th>ZN</th>\n",
       "      <th>INDUS</th>\n",
       "      <th>CHAS</th>\n",
       "      <th>NOX</th>\n",
       "      <th>RM</th>\n",
       "      <th>AGE</th>\n",
       "      <th>DIS</th>\n",
       "      <th>RAD</th>\n",
       "      <th>TAX</th>\n",
       "      <th>PTRATIO</th>\n",
       "      <th>B</th>\n",
       "      <th>LSTAT</th>\n",
       "    </tr>\n",
       "  </thead>\n",
       "  <tbody>\n",
       "    <tr>\n",
       "      <th>5</th>\n",
       "      <td>0.02985</td>\n",
       "      <td>0.0</td>\n",
       "      <td>2.18</td>\n",
       "      <td>0.0</td>\n",
       "      <td>0.458</td>\n",
       "      <td>6.430</td>\n",
       "      <td>58.7</td>\n",
       "      <td>6.0622</td>\n",
       "      <td>3.0</td>\n",
       "      <td>222.0</td>\n",
       "      <td>18.7</td>\n",
       "      <td>394.12</td>\n",
       "      <td>5.21</td>\n",
       "    </tr>\n",
       "    <tr>\n",
       "      <th>116</th>\n",
       "      <td>0.13158</td>\n",
       "      <td>0.0</td>\n",
       "      <td>10.01</td>\n",
       "      <td>0.0</td>\n",
       "      <td>0.547</td>\n",
       "      <td>6.176</td>\n",
       "      <td>72.5</td>\n",
       "      <td>2.7301</td>\n",
       "      <td>6.0</td>\n",
       "      <td>432.0</td>\n",
       "      <td>17.8</td>\n",
       "      <td>393.30</td>\n",
       "      <td>12.04</td>\n",
       "    </tr>\n",
       "    <tr>\n",
       "      <th>45</th>\n",
       "      <td>0.17142</td>\n",
       "      <td>0.0</td>\n",
       "      <td>6.91</td>\n",
       "      <td>0.0</td>\n",
       "      <td>0.448</td>\n",
       "      <td>5.682</td>\n",
       "      <td>33.8</td>\n",
       "      <td>5.1004</td>\n",
       "      <td>3.0</td>\n",
       "      <td>233.0</td>\n",
       "      <td>17.9</td>\n",
       "      <td>396.90</td>\n",
       "      <td>10.21</td>\n",
       "    </tr>\n",
       "    <tr>\n",
       "      <th>16</th>\n",
       "      <td>1.05393</td>\n",
       "      <td>0.0</td>\n",
       "      <td>8.14</td>\n",
       "      <td>0.0</td>\n",
       "      <td>0.538</td>\n",
       "      <td>5.935</td>\n",
       "      <td>29.3</td>\n",
       "      <td>4.4986</td>\n",
       "      <td>4.0</td>\n",
       "      <td>307.0</td>\n",
       "      <td>21.0</td>\n",
       "      <td>386.85</td>\n",
       "      <td>6.58</td>\n",
       "    </tr>\n",
       "    <tr>\n",
       "      <th>468</th>\n",
       "      <td>15.57570</td>\n",
       "      <td>0.0</td>\n",
       "      <td>18.10</td>\n",
       "      <td>0.0</td>\n",
       "      <td>0.580</td>\n",
       "      <td>5.926</td>\n",
       "      <td>71.0</td>\n",
       "      <td>2.9084</td>\n",
       "      <td>24.0</td>\n",
       "      <td>666.0</td>\n",
       "      <td>20.2</td>\n",
       "      <td>368.74</td>\n",
       "      <td>18.13</td>\n",
       "    </tr>\n",
       "    <tr>\n",
       "      <th>...</th>\n",
       "      <td>...</td>\n",
       "      <td>...</td>\n",
       "      <td>...</td>\n",
       "      <td>...</td>\n",
       "      <td>...</td>\n",
       "      <td>...</td>\n",
       "      <td>...</td>\n",
       "      <td>...</td>\n",
       "      <td>...</td>\n",
       "      <td>...</td>\n",
       "      <td>...</td>\n",
       "      <td>...</td>\n",
       "      <td>...</td>\n",
       "    </tr>\n",
       "    <tr>\n",
       "      <th>106</th>\n",
       "      <td>0.17120</td>\n",
       "      <td>0.0</td>\n",
       "      <td>8.56</td>\n",
       "      <td>0.0</td>\n",
       "      <td>0.520</td>\n",
       "      <td>5.836</td>\n",
       "      <td>91.9</td>\n",
       "      <td>2.2110</td>\n",
       "      <td>5.0</td>\n",
       "      <td>384.0</td>\n",
       "      <td>20.9</td>\n",
       "      <td>395.67</td>\n",
       "      <td>18.66</td>\n",
       "    </tr>\n",
       "    <tr>\n",
       "      <th>270</th>\n",
       "      <td>0.29916</td>\n",
       "      <td>20.0</td>\n",
       "      <td>6.96</td>\n",
       "      <td>0.0</td>\n",
       "      <td>0.464</td>\n",
       "      <td>5.856</td>\n",
       "      <td>42.1</td>\n",
       "      <td>4.4290</td>\n",
       "      <td>3.0</td>\n",
       "      <td>223.0</td>\n",
       "      <td>18.6</td>\n",
       "      <td>388.65</td>\n",
       "      <td>13.00</td>\n",
       "    </tr>\n",
       "    <tr>\n",
       "      <th>348</th>\n",
       "      <td>0.01501</td>\n",
       "      <td>80.0</td>\n",
       "      <td>2.01</td>\n",
       "      <td>0.0</td>\n",
       "      <td>0.435</td>\n",
       "      <td>6.635</td>\n",
       "      <td>29.7</td>\n",
       "      <td>8.3440</td>\n",
       "      <td>4.0</td>\n",
       "      <td>280.0</td>\n",
       "      <td>17.0</td>\n",
       "      <td>390.94</td>\n",
       "      <td>5.99</td>\n",
       "    </tr>\n",
       "    <tr>\n",
       "      <th>435</th>\n",
       "      <td>11.16040</td>\n",
       "      <td>0.0</td>\n",
       "      <td>18.10</td>\n",
       "      <td>0.0</td>\n",
       "      <td>0.740</td>\n",
       "      <td>6.629</td>\n",
       "      <td>94.6</td>\n",
       "      <td>2.1247</td>\n",
       "      <td>24.0</td>\n",
       "      <td>666.0</td>\n",
       "      <td>20.2</td>\n",
       "      <td>109.85</td>\n",
       "      <td>23.27</td>\n",
       "    </tr>\n",
       "    <tr>\n",
       "      <th>102</th>\n",
       "      <td>0.22876</td>\n",
       "      <td>0.0</td>\n",
       "      <td>8.56</td>\n",
       "      <td>0.0</td>\n",
       "      <td>0.520</td>\n",
       "      <td>6.405</td>\n",
       "      <td>85.4</td>\n",
       "      <td>2.7147</td>\n",
       "      <td>5.0</td>\n",
       "      <td>384.0</td>\n",
       "      <td>20.9</td>\n",
       "      <td>70.80</td>\n",
       "      <td>10.63</td>\n",
       "    </tr>\n",
       "  </tbody>\n",
       "</table>\n",
       "<p>354 rows × 13 columns</p>\n",
       "</div>"
      ],
      "text/plain": [
       "         CRIM    ZN  INDUS  CHAS    NOX     RM   AGE     DIS   RAD    TAX  \\\n",
       "5     0.02985   0.0   2.18   0.0  0.458  6.430  58.7  6.0622   3.0  222.0   \n",
       "116   0.13158   0.0  10.01   0.0  0.547  6.176  72.5  2.7301   6.0  432.0   \n",
       "45    0.17142   0.0   6.91   0.0  0.448  5.682  33.8  5.1004   3.0  233.0   \n",
       "16    1.05393   0.0   8.14   0.0  0.538  5.935  29.3  4.4986   4.0  307.0   \n",
       "468  15.57570   0.0  18.10   0.0  0.580  5.926  71.0  2.9084  24.0  666.0   \n",
       "..        ...   ...    ...   ...    ...    ...   ...     ...   ...    ...   \n",
       "106   0.17120   0.0   8.56   0.0  0.520  5.836  91.9  2.2110   5.0  384.0   \n",
       "270   0.29916  20.0   6.96   0.0  0.464  5.856  42.1  4.4290   3.0  223.0   \n",
       "348   0.01501  80.0   2.01   0.0  0.435  6.635  29.7  8.3440   4.0  280.0   \n",
       "435  11.16040   0.0  18.10   0.0  0.740  6.629  94.6  2.1247  24.0  666.0   \n",
       "102   0.22876   0.0   8.56   0.0  0.520  6.405  85.4  2.7147   5.0  384.0   \n",
       "\n",
       "     PTRATIO       B  LSTAT  \n",
       "5       18.7  394.12   5.21  \n",
       "116     17.8  393.30  12.04  \n",
       "45      17.9  396.90  10.21  \n",
       "16      21.0  386.85   6.58  \n",
       "468     20.2  368.74  18.13  \n",
       "..       ...     ...    ...  \n",
       "106     20.9  395.67  18.66  \n",
       "270     18.6  388.65  13.00  \n",
       "348     17.0  390.94   5.99  \n",
       "435     20.2  109.85  23.27  \n",
       "102     20.9   70.80  10.63  \n",
       "\n",
       "[354 rows x 13 columns]"
      ]
     },
     "execution_count": 32,
     "metadata": {},
     "output_type": "execute_result"
    }
   ],
   "source": [
    "X_train"
   ]
  },
  {
   "cell_type": "markdown",
   "id": "fdc09dfa",
   "metadata": {},
   "source": [
    "### Standardize the dataset"
   ]
  },
  {
   "cell_type": "code",
   "execution_count": 34,
   "id": "211616df",
   "metadata": {},
   "outputs": [],
   "source": [
    "from sklearn.preprocessing import StandardScaler\n",
    "scaler = StandardScaler()"
   ]
  },
  {
   "cell_type": "code",
   "execution_count": 35,
   "id": "188993f2",
   "metadata": {},
   "outputs": [],
   "source": [
    "X_train = scaler.fit_transform(X_train)"
   ]
  },
  {
   "cell_type": "code",
   "execution_count": 39,
   "id": "cb482bb1",
   "metadata": {},
   "outputs": [],
   "source": [
    "X_test = scaler.transform(X_test)"
   ]
  },
  {
   "cell_type": "code",
   "execution_count": 12,
   "id": "4452e12e",
   "metadata": {},
   "outputs": [],
   "source": [
    "## If we want to inverse the data \n",
    "# scaler.inverse_transform(X_train)"
   ]
  },
  {
   "cell_type": "markdown",
   "id": "4d9754a4",
   "metadata": {},
   "source": [
    "### Import Linear Regression"
   ]
  },
  {
   "cell_type": "code",
   "execution_count": 40,
   "id": "9d26623c",
   "metadata": {},
   "outputs": [
    {
     "data": {
      "text/html": [
       "<style>#sk-container-id-4 {color: black;background-color: white;}#sk-container-id-4 pre{padding: 0;}#sk-container-id-4 div.sk-toggleable {background-color: white;}#sk-container-id-4 label.sk-toggleable__label {cursor: pointer;display: block;width: 100%;margin-bottom: 0;padding: 0.3em;box-sizing: border-box;text-align: center;}#sk-container-id-4 label.sk-toggleable__label-arrow:before {content: \"▸\";float: left;margin-right: 0.25em;color: #696969;}#sk-container-id-4 label.sk-toggleable__label-arrow:hover:before {color: black;}#sk-container-id-4 div.sk-estimator:hover label.sk-toggleable__label-arrow:before {color: black;}#sk-container-id-4 div.sk-toggleable__content {max-height: 0;max-width: 0;overflow: hidden;text-align: left;background-color: #f0f8ff;}#sk-container-id-4 div.sk-toggleable__content pre {margin: 0.2em;color: black;border-radius: 0.25em;background-color: #f0f8ff;}#sk-container-id-4 input.sk-toggleable__control:checked~div.sk-toggleable__content {max-height: 200px;max-width: 100%;overflow: auto;}#sk-container-id-4 input.sk-toggleable__control:checked~label.sk-toggleable__label-arrow:before {content: \"▾\";}#sk-container-id-4 div.sk-estimator input.sk-toggleable__control:checked~label.sk-toggleable__label {background-color: #d4ebff;}#sk-container-id-4 div.sk-label input.sk-toggleable__control:checked~label.sk-toggleable__label {background-color: #d4ebff;}#sk-container-id-4 input.sk-hidden--visually {border: 0;clip: rect(1px 1px 1px 1px);clip: rect(1px, 1px, 1px, 1px);height: 1px;margin: -1px;overflow: hidden;padding: 0;position: absolute;width: 1px;}#sk-container-id-4 div.sk-estimator {font-family: monospace;background-color: #f0f8ff;border: 1px dotted black;border-radius: 0.25em;box-sizing: border-box;margin-bottom: 0.5em;}#sk-container-id-4 div.sk-estimator:hover {background-color: #d4ebff;}#sk-container-id-4 div.sk-parallel-item::after {content: \"\";width: 100%;border-bottom: 1px solid gray;flex-grow: 1;}#sk-container-id-4 div.sk-label:hover label.sk-toggleable__label {background-color: #d4ebff;}#sk-container-id-4 div.sk-serial::before {content: \"\";position: absolute;border-left: 1px solid gray;box-sizing: border-box;top: 0;bottom: 0;left: 50%;z-index: 0;}#sk-container-id-4 div.sk-serial {display: flex;flex-direction: column;align-items: center;background-color: white;padding-right: 0.2em;padding-left: 0.2em;position: relative;}#sk-container-id-4 div.sk-item {position: relative;z-index: 1;}#sk-container-id-4 div.sk-parallel {display: flex;align-items: stretch;justify-content: center;background-color: white;position: relative;}#sk-container-id-4 div.sk-item::before, #sk-container-id-4 div.sk-parallel-item::before {content: \"\";position: absolute;border-left: 1px solid gray;box-sizing: border-box;top: 0;bottom: 0;left: 50%;z-index: -1;}#sk-container-id-4 div.sk-parallel-item {display: flex;flex-direction: column;z-index: 1;position: relative;background-color: white;}#sk-container-id-4 div.sk-parallel-item:first-child::after {align-self: flex-end;width: 50%;}#sk-container-id-4 div.sk-parallel-item:last-child::after {align-self: flex-start;width: 50%;}#sk-container-id-4 div.sk-parallel-item:only-child::after {width: 0;}#sk-container-id-4 div.sk-dashed-wrapped {border: 1px dashed gray;margin: 0 0.4em 0.5em 0.4em;box-sizing: border-box;padding-bottom: 0.4em;background-color: white;}#sk-container-id-4 div.sk-label label {font-family: monospace;font-weight: bold;display: inline-block;line-height: 1.2em;}#sk-container-id-4 div.sk-label-container {text-align: center;}#sk-container-id-4 div.sk-container {/* jupyter's `normalize.less` sets `[hidden] { display: none; }` but bootstrap.min.css set `[hidden] { display: none !important; }` so we also need the `!important` here to be able to override the default hidden behavior on the sphinx rendered scikit-learn.org. See: https://github.com/scikit-learn/scikit-learn/issues/21755 */display: inline-block !important;position: relative;}#sk-container-id-4 div.sk-text-repr-fallback {display: none;}</style><div id=\"sk-container-id-4\" class=\"sk-top-container\"><div class=\"sk-text-repr-fallback\"><pre>LinearRegression()</pre><b>In a Jupyter environment, please rerun this cell to show the HTML representation or trust the notebook. <br />On GitHub, the HTML representation is unable to render, please try loading this page with nbviewer.org.</b></div><div class=\"sk-container\" hidden><div class=\"sk-item\"><div class=\"sk-estimator sk-toggleable\"><input class=\"sk-toggleable__control sk-hidden--visually\" id=\"sk-estimator-id-8\" type=\"checkbox\" checked><label for=\"sk-estimator-id-8\" class=\"sk-toggleable__label sk-toggleable__label-arrow\">LinearRegression</label><div class=\"sk-toggleable__content\"><pre>LinearRegression()</pre></div></div></div></div></div>"
      ],
      "text/plain": [
       "LinearRegression()"
      ]
     },
     "execution_count": 40,
     "metadata": {},
     "output_type": "execute_result"
    }
   ],
   "source": [
    "from sklearn.linear_model import LinearRegression\n",
    "\n",
    "regression = LinearRegression()\n",
    "regression.fit(X_train,y_train)"
   ]
  },
  {
   "cell_type": "code",
   "execution_count": 67,
   "id": "7cadc2bc",
   "metadata": {},
   "outputs": [],
   "source": [
    "# sns.displot(y_train-X_train,kind=True)"
   ]
  },
  {
   "cell_type": "markdown",
   "id": "4a5a70c3",
   "metadata": {},
   "source": [
    "### Cross Validation"
   ]
  },
  {
   "cell_type": "code",
   "execution_count": 80,
   "id": "8859a737",
   "metadata": {},
   "outputs": [],
   "source": [
    "from sklearn.model_selection import cross_val_score\n",
    "\n",
    "mse = cross_val_score(regression,X_train,y_train,\n",
    "                      scoring='neg_mean_squared_error',cv=10)"
   ]
  },
  {
   "cell_type": "code",
   "execution_count": 81,
   "id": "72fb49a7",
   "metadata": {},
   "outputs": [
    {
     "data": {
      "text/plain": [
       "-25.550660791660796"
      ]
     },
     "execution_count": 81,
     "metadata": {},
     "output_type": "execute_result"
    }
   ],
   "source": [
    "np.mean(mse)"
   ]
  },
  {
   "cell_type": "markdown",
   "id": "826cccf6",
   "metadata": {},
   "source": [
    "### Prediction "
   ]
  },
  {
   "cell_type": "code",
   "execution_count": 75,
   "id": "36d33184",
   "metadata": {},
   "outputs": [
    {
     "data": {
      "text/plain": [
       "(354,)"
      ]
     },
     "execution_count": 75,
     "metadata": {},
     "output_type": "execute_result"
    }
   ],
   "source": [
    "train_pred = regression.predict(X_train)\n",
    "train_pred.shape"
   ]
  },
  {
   "cell_type": "code",
   "execution_count": 76,
   "id": "029d3d72",
   "metadata": {},
   "outputs": [
    {
     "data": {
      "text/plain": [
       "<seaborn.axisgrid.FacetGrid at 0x2226ca89f90>"
      ]
     },
     "execution_count": 76,
     "metadata": {},
     "output_type": "execute_result"
    },
    {
     "data": {
      "image/png": "[encoded data removed]",
      "text/plain": [
       "<Figure size 500x500 with 1 Axes>"
      ]
     },
     "metadata": {},
     "output_type": "display_data"
    }
   ],
   "source": [
    "sns.displot(train_pred-y_train,kind=\"kde\")"
   ]
  },
  {
   "cell_type": "code",
   "execution_count": 77,
   "id": "62ceea43",
   "metadata": {},
   "outputs": [
    {
     "data": {
      "text/plain": [
       "(152,)"
      ]
     },
     "execution_count": 77,
     "metadata": {},
     "output_type": "execute_result"
    }
   ],
   "source": [
    "test_pred = regression.predict(X_test)\n",
    "test_pred.shape"
   ]
  },
  {
   "cell_type": "code",
   "execution_count": 78,
   "id": "d99b8e40",
   "metadata": {},
   "outputs": [
    {
     "data": {
      "text/plain": [
       "<seaborn.axisgrid.FacetGrid at 0x2226d153850>"
      ]
     },
     "execution_count": 78,
     "metadata": {},
     "output_type": "execute_result"
    },
    {
     "data": {
      "image/png": "[encoded data removed]",
      "text/plain": [
       "<Figure size 500x500 with 1 Axes>"
      ]
     },
     "metadata": {},
     "output_type": "display_data"
    }
   ],
   "source": [
    "sns.displot(test_pred-y_test,kind='kde')"
   ]
  },
  {
   "cell_type": "markdown",
   "id": "dd63558c",
   "metadata": {},
   "source": [
    "### Checking Prediction values vs Actual Value"
   ]
  },
  {
   "cell_type": "code",
   "execution_count": 53,
   "id": "b676f680",
   "metadata": {},
   "outputs": [
    {
     "data": {
      "text/plain": [
       "<seaborn.axisgrid.FacetGrid at 0x222675d04f0>"
      ]
     },
     "execution_count": 53,
     "metadata": {},
     "output_type": "execute_result"
    },
    {
     "data": {
      "image/png": "[encoded data removed]",
      "text/plain": [
       "<Figure size 500x500 with 1 Axes>"
      ]
     },
     "metadata": {},
     "output_type": "display_data"
    }
   ],
   "source": [
    "sns.displot(reg_pred-y_test,kind='kde')"
   ]
  },
  {
   "cell_type": "markdown",
   "id": "9e186f02",
   "metadata": {},
   "source": [
    "### Calculating R2 value"
   ]
  },
  {
   "cell_type": "code",
   "execution_count": 79,
   "id": "90f3cbc4",
   "metadata": {},
   "outputs": [
    {
     "name": "stdout",
     "output_type": "stream",
     "text": [
      "R2 score Train data:= 0.6550096409643693\n",
      "R2 score Test data:= 0.6693702691495593\n"
     ]
    }
   ],
   "source": [
    "from sklearn.metrics import r2_score\n",
    "\n",
    "score_train = r2_score(train_pred,y_train)\n",
    "score_test = r2_score(test_pred,y_test)\n",
    "\n",
    "print(\"R2 score Train data:=\",score_train)\n",
    "print(\"R2 score Test data:=\",score_test)"
   ]
  },
  {
   "cell_type": "markdown",
   "id": "b02fccbb",
   "metadata": {},
   "source": [
    "# ridge Regession and Lasso Regression "
   ]
  },
  {
   "cell_type": "code",
   "execution_count": 19,
   "id": "445a489b",
   "metadata": {},
   "outputs": [],
   "source": [
    "from sklearn.linear_model import Ridge\n",
    "from sklearn.model_selection import GridSearchCV\n"
   ]
  },
  {
   "cell_type": "code",
   "execution_count": 20,
   "id": "d7701cde",
   "metadata": {},
   "outputs": [],
   "source": [
    "# in theory lambda but plactical replace by Alpha\n",
    "\n",
    "ridge_regressior = Ridge()\n"
   ]
  },
  {
   "cell_type": "code",
   "execution_count": 83,
   "id": "5f8f3bad",
   "metadata": {},
   "outputs": [
    {
     "data": {
      "text/html": [
       "<style>#sk-container-id-5 {color: black;background-color: white;}#sk-container-id-5 pre{padding: 0;}#sk-container-id-5 div.sk-toggleable {background-color: white;}#sk-container-id-5 label.sk-toggleable__label {cursor: pointer;display: block;width: 100%;margin-bottom: 0;padding: 0.3em;box-sizing: border-box;text-align: center;}#sk-container-id-5 label.sk-toggleable__label-arrow:before {content: \"▸\";float: left;margin-right: 0.25em;color: #696969;}#sk-container-id-5 label.sk-toggleable__label-arrow:hover:before {color: black;}#sk-container-id-5 div.sk-estimator:hover label.sk-toggleable__label-arrow:before {color: black;}#sk-container-id-5 div.sk-toggleable__content {max-height: 0;max-width: 0;overflow: hidden;text-align: left;background-color: #f0f8ff;}#sk-container-id-5 div.sk-toggleable__content pre {margin: 0.2em;color: black;border-radius: 0.25em;background-color: #f0f8ff;}#sk-container-id-5 input.sk-toggleable__control:checked~div.sk-toggleable__content {max-height: 200px;max-width: 100%;overflow: auto;}#sk-container-id-5 input.sk-toggleable__control:checked~label.sk-toggleable__label-arrow:before {content: \"▾\";}#sk-container-id-5 div.sk-estimator input.sk-toggleable__control:checked~label.sk-toggleable__label {background-color: #d4ebff;}#sk-container-id-5 div.sk-label input.sk-toggleable__control:checked~label.sk-toggleable__label {background-color: #d4ebff;}#sk-container-id-5 input.sk-hidden--visually {border: 0;clip: rect(1px 1px 1px 1px);clip: rect(1px, 1px, 1px, 1px);height: 1px;margin: -1px;overflow: hidden;padding: 0;position: absolute;width: 1px;}#sk-container-id-5 div.sk-estimator {font-family: monospace;background-color: #f0f8ff;border: 1px dotted black;border-radius: 0.25em;box-sizing: border-box;margin-bottom: 0.5em;}#sk-container-id-5 div.sk-estimator:hover {background-color: #d4ebff;}#sk-container-id-5 div.sk-parallel-item::after {content: \"\";width: 100%;border-bottom: 1px solid gray;flex-grow: 1;}#sk-container-id-5 div.sk-label:hover label.sk-toggleable__label {background-color: #d4ebff;}#sk-container-id-5 div.sk-serial::before {content: \"\";position: absolute;border-left: 1px solid gray;box-sizing: border-box;top: 0;bottom: 0;left: 50%;z-index: 0;}#sk-container-id-5 div.sk-serial {display: flex;flex-direction: column;align-items: center;background-color: white;padding-right: 0.2em;padding-left: 0.2em;position: relative;}#sk-container-id-5 div.sk-item {position: relative;z-index: 1;}#sk-container-id-5 div.sk-parallel {display: flex;align-items: stretch;justify-content: center;background-color: white;position: relative;}#sk-container-id-5 div.sk-item::before, #sk-container-id-5 div.sk-parallel-item::before {content: \"\";position: absolute;border-left: 1px solid gray;box-sizing: border-box;top: 0;bottom: 0;left: 50%;z-index: -1;}#sk-container-id-5 div.sk-parallel-item {display: flex;flex-direction: column;z-index: 1;position: relative;background-color: white;}#sk-container-id-5 div.sk-parallel-item:first-child::after {align-self: flex-end;width: 50%;}#sk-container-id-5 div.sk-parallel-item:last-child::after {align-self: flex-start;width: 50%;}#sk-container-id-5 div.sk-parallel-item:only-child::after {width: 0;}#sk-container-id-5 div.sk-dashed-wrapped {border: 1px dashed gray;margin: 0 0.4em 0.5em 0.4em;box-sizing: border-box;padding-bottom: 0.4em;background-color: white;}#sk-container-id-5 div.sk-label label {font-family: monospace;font-weight: bold;display: inline-block;line-height: 1.2em;}#sk-container-id-5 div.sk-label-container {text-align: center;}#sk-container-id-5 div.sk-container {/* jupyter's `normalize.less` sets `[hidden] { display: none; }` but bootstrap.min.css set `[hidden] { display: none !important; }` so we also need the `!important` here to be able to override the default hidden behavior on the sphinx rendered scikit-learn.org. See: https://github.com/scikit-learn/scikit-learn/issues/21755 */display: inline-block !important;position: relative;}#sk-container-id-5 div.sk-text-repr-fallback {display: none;}</style><div id=\"sk-container-id-5\" class=\"sk-top-container\"><div class=\"sk-text-repr-fallback\"><pre>GridSearchCV(cv=10, estimator=Ridge(),\n",
       "             param_grid={&#x27;alpha&#x27;: [1, 2, 5, 10, 20, 30, 40, 50, 60, 70, 80,\n",
       "                                   90]},\n",
       "             scoring=&#x27;neg_mean_squared_error&#x27;)</pre><b>In a Jupyter environment, please rerun this cell to show the HTML representation or trust the notebook. <br />On GitHub, the HTML representation is unable to render, please try loading this page with nbviewer.org.</b></div><div class=\"sk-container\" hidden><div class=\"sk-item sk-dashed-wrapped\"><div class=\"sk-label-container\"><div class=\"sk-label sk-toggleable\"><input class=\"sk-toggleable__control sk-hidden--visually\" id=\"sk-estimator-id-9\" type=\"checkbox\" ><label for=\"sk-estimator-id-9\" class=\"sk-toggleable__label sk-toggleable__label-arrow\">GridSearchCV</label><div class=\"sk-toggleable__content\"><pre>GridSearchCV(cv=10, estimator=Ridge(),\n",
       "             param_grid={&#x27;alpha&#x27;: [1, 2, 5, 10, 20, 30, 40, 50, 60, 70, 80,\n",
       "                                   90]},\n",
       "             scoring=&#x27;neg_mean_squared_error&#x27;)</pre></div></div></div><div class=\"sk-parallel\"><div class=\"sk-parallel-item\"><div class=\"sk-item\"><div class=\"sk-label-container\"><div class=\"sk-label sk-toggleable\"><input class=\"sk-toggleable__control sk-hidden--visually\" id=\"sk-estimator-id-10\" type=\"checkbox\" ><label for=\"sk-estimator-id-10\" class=\"sk-toggleable__label sk-toggleable__label-arrow\">estimator: Ridge</label><div class=\"sk-toggleable__content\"><pre>Ridge()</pre></div></div></div><div class=\"sk-serial\"><div class=\"sk-item\"><div class=\"sk-estimator sk-toggleable\"><input class=\"sk-toggleable__control sk-hidden--visually\" id=\"sk-estimator-id-11\" type=\"checkbox\" ><label for=\"sk-estimator-id-11\" class=\"sk-toggleable__label sk-toggleable__label-arrow\">Ridge</label><div class=\"sk-toggleable__content\"><pre>Ridge()</pre></div></div></div></div></div></div></div></div></div></div>"
      ],
      "text/plain": [
       "GridSearchCV(cv=10, estimator=Ridge(),\n",
       "             param_grid={'alpha': [1, 2, 5, 10, 20, 30, 40, 50, 60, 70, 80,\n",
       "                                   90]},\n",
       "             scoring='neg_mean_squared_error')"
      ]
     },
     "execution_count": 83,
     "metadata": {},
     "output_type": "execute_result"
    }
   ],
   "source": [
    "parameters = {'alpha':[1,2,5,10,20,30,40,50,60,70,80,90]}\n",
    "ridgecv = GridSearchCV(ridge_regressior,param_grid=parameters\n",
    "                       ,scoring='neg_mean_squared_error',cv=10)\n",
    "ridgecv.fit(X_train,y_train)"
   ]
  },
  {
   "cell_type": "code",
   "execution_count": 84,
   "id": "6b535b8e",
   "metadata": {},
   "outputs": [
    {
     "name": "stdout",
     "output_type": "stream",
     "text": [
      "{'alpha': 10}\n",
      "-25.419809632613358\n"
     ]
    }
   ],
   "source": [
    "print(ridgecv.best_params_)\n",
    "print(ridgecv.best_score_)"
   ]
  },
  {
   "cell_type": "code",
   "execution_count": 85,
   "id": "78f64b41",
   "metadata": {},
   "outputs": [],
   "source": [
    "ridge_pred = ridgecv.predict(X_test)"
   ]
  },
  {
   "cell_type": "code",
   "execution_count": 86,
   "id": "41aa6f2b",
   "metadata": {},
   "outputs": [
    {
     "data": {
      "text/plain": [
       "<seaborn.axisgrid.FacetGrid at 0x2226d1536a0>"
      ]
     },
     "execution_count": 86,
     "metadata": {},
     "output_type": "execute_result"
    },
    {
     "data": {
      "image/png": "[encoded data removed]",
      "text/plain": [
       "<Figure size 500x500 with 1 Axes>"
      ]
     },
     "metadata": {},
     "output_type": "display_data"
    }
   ],
   "source": [
    "sns.displot(ridge_pred-y_test,kind='kde')"
   ]
  },
  {
   "cell_type": "code",
   "execution_count": 87,
   "id": "168ee323",
   "metadata": {},
   "outputs": [
    {
     "data": {
      "text/plain": [
       "0.6468557055633647"
      ]
     },
     "execution_count": 87,
     "metadata": {},
     "output_type": "execute_result"
    }
   ],
   "source": [
    "score = r2_score(ridge_pred,y_test)\n",
    "\n",
    "score"
   ]
  },
  {
   "cell_type": "markdown",
   "id": "7c75515d",
   "metadata": {},
   "source": [
    "## Lasso "
   ]
  },
  {
   "cell_type": "code",
   "execution_count": 88,
   "id": "04396bd7",
   "metadata": {},
   "outputs": [
    {
     "data": {
      "text/html": [
       "<style>#sk-container-id-6 {color: black;background-color: white;}#sk-container-id-6 pre{padding: 0;}#sk-container-id-6 div.sk-toggleable {background-color: white;}#sk-container-id-6 label.sk-toggleable__label {cursor: pointer;display: block;width: 100%;margin-bottom: 0;padding: 0.3em;box-sizing: border-box;text-align: center;}#sk-container-id-6 label.sk-toggleable__label-arrow:before {content: \"▸\";float: left;margin-right: 0.25em;color: #696969;}#sk-container-id-6 label.sk-toggleable__label-arrow:hover:before {color: black;}#sk-container-id-6 div.sk-estimator:hover label.sk-toggleable__label-arrow:before {color: black;}#sk-container-id-6 div.sk-toggleable__content {max-height: 0;max-width: 0;overflow: hidden;text-align: left;background-color: #f0f8ff;}#sk-container-id-6 div.sk-toggleable__content pre {margin: 0.2em;color: black;border-radius: 0.25em;background-color: #f0f8ff;}#sk-container-id-6 input.sk-toggleable__control:checked~div.sk-toggleable__content {max-height: 200px;max-width: 100%;overflow: auto;}#sk-container-id-6 input.sk-toggleable__control:checked~label.sk-toggleable__label-arrow:before {content: \"▾\";}#sk-container-id-6 div.sk-estimator input.sk-toggleable__control:checked~label.sk-toggleable__label {background-color: #d4ebff;}#sk-container-id-6 div.sk-label input.sk-toggleable__control:checked~label.sk-toggleable__label {background-color: #d4ebff;}#sk-container-id-6 input.sk-hidden--visually {border: 0;clip: rect(1px 1px 1px 1px);clip: rect(1px, 1px, 1px, 1px);height: 1px;margin: -1px;overflow: hidden;padding: 0;position: absolute;width: 1px;}#sk-container-id-6 div.sk-estimator {font-family: monospace;background-color: #f0f8ff;border: 1px dotted black;border-radius: 0.25em;box-sizing: border-box;margin-bottom: 0.5em;}#sk-container-id-6 div.sk-estimator:hover {background-color: #d4ebff;}#sk-container-id-6 div.sk-parallel-item::after {content: \"\";width: 100%;border-bottom: 1px solid gray;flex-grow: 1;}#sk-container-id-6 div.sk-label:hover label.sk-toggleable__label {background-color: #d4ebff;}#sk-container-id-6 div.sk-serial::before {content: \"\";position: absolute;border-left: 1px solid gray;box-sizing: border-box;top: 0;bottom: 0;left: 50%;z-index: 0;}#sk-container-id-6 div.sk-serial {display: flex;flex-direction: column;align-items: center;background-color: white;padding-right: 0.2em;padding-left: 0.2em;position: relative;}#sk-container-id-6 div.sk-item {position: relative;z-index: 1;}#sk-container-id-6 div.sk-parallel {display: flex;align-items: stretch;justify-content: center;background-color: white;position: relative;}#sk-container-id-6 div.sk-item::before, #sk-container-id-6 div.sk-parallel-item::before {content: \"\";position: absolute;border-left: 1px solid gray;box-sizing: border-box;top: 0;bottom: 0;left: 50%;z-index: -1;}#sk-container-id-6 div.sk-parallel-item {display: flex;flex-direction: column;z-index: 1;position: relative;background-color: white;}#sk-container-id-6 div.sk-parallel-item:first-child::after {align-self: flex-end;width: 50%;}#sk-container-id-6 div.sk-parallel-item:last-child::after {align-self: flex-start;width: 50%;}#sk-container-id-6 div.sk-parallel-item:only-child::after {width: 0;}#sk-container-id-6 div.sk-dashed-wrapped {border: 1px dashed gray;margin: 0 0.4em 0.5em 0.4em;box-sizing: border-box;padding-bottom: 0.4em;background-color: white;}#sk-container-id-6 div.sk-label label {font-family: monospace;font-weight: bold;display: inline-block;line-height: 1.2em;}#sk-container-id-6 div.sk-label-container {text-align: center;}#sk-container-id-6 div.sk-container {/* jupyter's `normalize.less` sets `[hidden] { display: none; }` but bootstrap.min.css set `[hidden] { display: none !important; }` so we also need the `!important` here to be able to override the default hidden behavior on the sphinx rendered scikit-learn.org. See: https://github.com/scikit-learn/scikit-learn/issues/21755 */display: inline-block !important;position: relative;}#sk-container-id-6 div.sk-text-repr-fallback {display: none;}</style><div id=\"sk-container-id-6\" class=\"sk-top-container\"><div class=\"sk-text-repr-fallback\"><pre>GridSearchCV(cv=10, estimator=Lasso(),\n",
       "             param_grid={&#x27;alpha&#x27;: [1, 2, 5, 10, 20, 30, 40, 50, 60, 70, 80,\n",
       "                                   90]},\n",
       "             scoring=&#x27;neg_mean_squared_error&#x27;)</pre><b>In a Jupyter environment, please rerun this cell to show the HTML representation or trust the notebook. <br />On GitHub, the HTML representation is unable to render, please try loading this page with nbviewer.org.</b></div><div class=\"sk-container\" hidden><div class=\"sk-item sk-dashed-wrapped\"><div class=\"sk-label-container\"><div class=\"sk-label sk-toggleable\"><input class=\"sk-toggleable__control sk-hidden--visually\" id=\"sk-estimator-id-12\" type=\"checkbox\" ><label for=\"sk-estimator-id-12\" class=\"sk-toggleable__label sk-toggleable__label-arrow\">GridSearchCV</label><div class=\"sk-toggleable__content\"><pre>GridSearchCV(cv=10, estimator=Lasso(),\n",
       "             param_grid={&#x27;alpha&#x27;: [1, 2, 5, 10, 20, 30, 40, 50, 60, 70, 80,\n",
       "                                   90]},\n",
       "             scoring=&#x27;neg_mean_squared_error&#x27;)</pre></div></div></div><div class=\"sk-parallel\"><div class=\"sk-parallel-item\"><div class=\"sk-item\"><div class=\"sk-label-container\"><div class=\"sk-label sk-toggleable\"><input class=\"sk-toggleable__control sk-hidden--visually\" id=\"sk-estimator-id-13\" type=\"checkbox\" ><label for=\"sk-estimator-id-13\" class=\"sk-toggleable__label sk-toggleable__label-arrow\">estimator: Lasso</label><div class=\"sk-toggleable__content\"><pre>Lasso()</pre></div></div></div><div class=\"sk-serial\"><div class=\"sk-item\"><div class=\"sk-estimator sk-toggleable\"><input class=\"sk-toggleable__control sk-hidden--visually\" id=\"sk-estimator-id-14\" type=\"checkbox\" ><label for=\"sk-estimator-id-14\" class=\"sk-toggleable__label sk-toggleable__label-arrow\">Lasso</label><div class=\"sk-toggleable__content\"><pre>Lasso()</pre></div></div></div></div></div></div></div></div></div></div>"
      ],
      "text/plain": [
       "GridSearchCV(cv=10, estimator=Lasso(),\n",
       "             param_grid={'alpha': [1, 2, 5, 10, 20, 30, 40, 50, 60, 70, 80,\n",
       "                                   90]},\n",
       "             scoring='neg_mean_squared_error')"
      ]
     },
     "execution_count": 88,
     "metadata": {},
     "output_type": "execute_result"
    }
   ],
   "source": [
    "from sklearn.linear_model import Lasso\n",
    "\n",
    "lasso_regressior = Lasso()\n",
    "\n",
    "parameters = {'alpha':[1,2,5,10,20,30,40,50,60,70,80,90]}\n",
    "\n",
    "lassocv = GridSearchCV(lasso_regressior,param_grid=parameters\n",
    "                       ,scoring='neg_mean_squared_error',cv=10)\n",
    "\n",
    "lassocv.fit(X_train,y_train)\n"
   ]
  },
  {
   "cell_type": "code",
   "execution_count": 89,
   "id": "1d3b267c",
   "metadata": {},
   "outputs": [
    {
     "name": "stdout",
     "output_type": "stream",
     "text": [
      "{'alpha': 1}\n",
      "-30.6598340988886\n"
     ]
    }
   ],
   "source": [
    "print(lassocv.best_params_)\n",
    "print(lassocv.best_score_)"
   ]
  },
  {
   "cell_type": "code",
   "execution_count": 90,
   "id": "fc55b36d",
   "metadata": {},
   "outputs": [],
   "source": [
    "lasso_pred = lassocv.predict(X_test)"
   ]
  },
  {
   "cell_type": "code",
   "execution_count": 91,
   "id": "5e6096db",
   "metadata": {},
   "outputs": [
    {
     "data": {
      "text/plain": [
       "0.325774612295165"
      ]
     },
     "execution_count": 91,
     "metadata": {},
     "output_type": "execute_result"
    }
   ],
   "source": [
    "score = r2_score(lasso_pred,y_test)\n",
    "score"
   ]
  },
  {
   "cell_type": "code",
   "execution_count": 92,
   "id": "5a29d651",
   "metadata": {},
   "outputs": [
    {
     "name": "stderr",
     "output_type": "stream",
     "text": [
      "C:\\Python310\\lib\\site-packages\\seaborn\\_decorators.py:36: FutureWarning: Pass the following variables as keyword args: x, y. From version 0.12, the only valid positional argument will be `data`, and passing other arguments without an explicit keyword will result in an error or misinterpretation.\n",
      "  warnings.warn(\n"
     ]
    },
    {
     "data": {
      "text/plain": [
       "<AxesSubplot:>"
      ]
     },
     "execution_count": 92,
     "metadata": {},
     "output_type": "execute_result"
    },
    {
     "data": {
      "image/png": "[encoded data removed]",
      "text/plain": [
       "<Figure size 640x480 with 1 Axes>"
      ]
     },
     "metadata": {},
     "output_type": "display_data"
    }
   ],
   "source": [
    "sns.scatterplot(lasso_pred,y_test)\n",
    "sns.lineplot()"
   ]
  },
  {
   "cell_type": "code",
   "execution_count": null,
   "id": "823fe633",
   "metadata": {},
   "outputs": [],
   "source": []
  },
  {
   "cell_type": "code",
   "execution_count": null,
   "id": "9a6f4adb",
   "metadata": {},
   "outputs": [],
   "source": []
  },
  {
   "cell_type": "markdown",
   "id": "c04ff144",
   "metadata": {},
   "source": [
    "# practice "
   ]
  },
  {
   "cell_type": "markdown",
   "id": "a3b0ae77",
   "metadata": {},
   "source": []
  },
  {
   "cell_type": "code",
   "execution_count": 115,
   "id": "68046181",
   "metadata": {},
   "outputs": [],
   "source": [
    "x_data = np.array([1,2,3,4,5])\n",
    "y_data = np.array([1,4,7,8,10])"
   ]
  },
  {
   "cell_type": "code",
   "execution_count": 116,
   "id": "74b885b5",
   "metadata": {},
   "outputs": [],
   "source": [
    "x = x_data.reshape(-1, 1)\n",
    "y = y_data.reshape(-1,1)\n"
   ]
  },
  {
   "cell_type": "code",
   "execution_count": 114,
   "id": "0e5c8e62",
   "metadata": {},
   "outputs": [],
   "source": [
    "# sns.scatterplot(x,y)"
   ]
  },
  {
   "cell_type": "code",
   "execution_count": 100,
   "id": "0c8476cc",
   "metadata": {},
   "outputs": [
    {
     "data": {
      "text/html": [
       "<style>#sk-container-id-7 {color: black;background-color: white;}#sk-container-id-7 pre{padding: 0;}#sk-container-id-7 div.sk-toggleable {background-color: white;}#sk-container-id-7 label.sk-toggleable__label {cursor: pointer;display: block;width: 100%;margin-bottom: 0;padding: 0.3em;box-sizing: border-box;text-align: center;}#sk-container-id-7 label.sk-toggleable__label-arrow:before {content: \"▸\";float: left;margin-right: 0.25em;color: #696969;}#sk-container-id-7 label.sk-toggleable__label-arrow:hover:before {color: black;}#sk-container-id-7 div.sk-estimator:hover label.sk-toggleable__label-arrow:before {color: black;}#sk-container-id-7 div.sk-toggleable__content {max-height: 0;max-width: 0;overflow: hidden;text-align: left;background-color: #f0f8ff;}#sk-container-id-7 div.sk-toggleable__content pre {margin: 0.2em;color: black;border-radius: 0.25em;background-color: #f0f8ff;}#sk-container-id-7 input.sk-toggleable__control:checked~div.sk-toggleable__content {max-height: 200px;max-width: 100%;overflow: auto;}#sk-container-id-7 input.sk-toggleable__control:checked~label.sk-toggleable__label-arrow:before {content: \"▾\";}#sk-container-id-7 div.sk-estimator input.sk-toggleable__control:checked~label.sk-toggleable__label {background-color: #d4ebff;}#sk-container-id-7 div.sk-label input.sk-toggleable__control:checked~label.sk-toggleable__label {background-color: #d4ebff;}#sk-container-id-7 input.sk-hidden--visually {border: 0;clip: rect(1px 1px 1px 1px);clip: rect(1px, 1px, 1px, 1px);height: 1px;margin: -1px;overflow: hidden;padding: 0;position: absolute;width: 1px;}#sk-container-id-7 div.sk-estimator {font-family: monospace;background-color: #f0f8ff;border: 1px dotted black;border-radius: 0.25em;box-sizing: border-box;margin-bottom: 0.5em;}#sk-container-id-7 div.sk-estimator:hover {background-color: #d4ebff;}#sk-container-id-7 div.sk-parallel-item::after {content: \"\";width: 100%;border-bottom: 1px solid gray;flex-grow: 1;}#sk-container-id-7 div.sk-label:hover label.sk-toggleable__label {background-color: #d4ebff;}#sk-container-id-7 div.sk-serial::before {content: \"\";position: absolute;border-left: 1px solid gray;box-sizing: border-box;top: 0;bottom: 0;left: 50%;z-index: 0;}#sk-container-id-7 div.sk-serial {display: flex;flex-direction: column;align-items: center;background-color: white;padding-right: 0.2em;padding-left: 0.2em;position: relative;}#sk-container-id-7 div.sk-item {position: relative;z-index: 1;}#sk-container-id-7 div.sk-parallel {display: flex;align-items: stretch;justify-content: center;background-color: white;position: relative;}#sk-container-id-7 div.sk-item::before, #sk-container-id-7 div.sk-parallel-item::before {content: \"\";position: absolute;border-left: 1px solid gray;box-sizing: border-box;top: 0;bottom: 0;left: 50%;z-index: -1;}#sk-container-id-7 div.sk-parallel-item {display: flex;flex-direction: column;z-index: 1;position: relative;background-color: white;}#sk-container-id-7 div.sk-parallel-item:first-child::after {align-self: flex-end;width: 50%;}#sk-container-id-7 div.sk-parallel-item:last-child::after {align-self: flex-start;width: 50%;}#sk-container-id-7 div.sk-parallel-item:only-child::after {width: 0;}#sk-container-id-7 div.sk-dashed-wrapped {border: 1px dashed gray;margin: 0 0.4em 0.5em 0.4em;box-sizing: border-box;padding-bottom: 0.4em;background-color: white;}#sk-container-id-7 div.sk-label label {font-family: monospace;font-weight: bold;display: inline-block;line-height: 1.2em;}#sk-container-id-7 div.sk-label-container {text-align: center;}#sk-container-id-7 div.sk-container {/* jupyter's `normalize.less` sets `[hidden] { display: none; }` but bootstrap.min.css set `[hidden] { display: none !important; }` so we also need the `!important` here to be able to override the default hidden behavior on the sphinx rendered scikit-learn.org. See: https://github.com/scikit-learn/scikit-learn/issues/21755 */display: inline-block !important;position: relative;}#sk-container-id-7 div.sk-text-repr-fallback {display: none;}</style><div id=\"sk-container-id-7\" class=\"sk-top-container\"><div class=\"sk-text-repr-fallback\"><pre>LinearRegression()</pre><b>In a Jupyter environment, please rerun this cell to show the HTML representation or trust the notebook. <br />On GitHub, the HTML representation is unable to render, please try loading this page with nbviewer.org.</b></div><div class=\"sk-container\" hidden><div class=\"sk-item\"><div class=\"sk-estimator sk-toggleable\"><input class=\"sk-toggleable__control sk-hidden--visually\" id=\"sk-estimator-id-15\" type=\"checkbox\" checked><label for=\"sk-estimator-id-15\" class=\"sk-toggleable__label sk-toggleable__label-arrow\">LinearRegression</label><div class=\"sk-toggleable__content\"><pre>LinearRegression()</pre></div></div></div></div></div>"
      ],
      "text/plain": [
       "LinearRegression()"
      ]
     },
     "execution_count": 100,
     "metadata": {},
     "output_type": "execute_result"
    }
   ],
   "source": [
    "lr=LinearRegression()\n",
    "lr.fit(x,y)"
   ]
  },
  {
   "cell_type": "code",
   "execution_count": 104,
   "id": "f5df6140",
   "metadata": {},
   "outputs": [
    {
     "data": {
      "text/plain": [
       "-0.9951530612244885"
      ]
     },
     "execution_count": 104,
     "metadata": {},
     "output_type": "execute_result"
    }
   ],
   "source": [
    "lin_reg = LinearRegression()\n",
    "\n",
    "## cross validation\n",
    "\n",
    "mse=cross_val_score(lr,x,y,scoring='neg_mean_squared_error',cv=5)\n",
    "\n",
    "mean_mse = np.mean(mse)\n",
    "mean_mse"
   ]
  },
  {
   "cell_type": "code",
   "execution_count": 133,
   "id": "c61f4f50",
   "metadata": {},
   "outputs": [
    {
     "data": {
      "text/plain": [
       "2.1999999999999997"
      ]
     },
     "execution_count": 133,
     "metadata": {},
     "output_type": "execute_result"
    }
   ],
   "source": [
    "lr.coef_[0][0]"
   ]
  },
  {
   "cell_type": "code",
   "execution_count": 134,
   "id": "5039197f",
   "metadata": {},
   "outputs": [
    {
     "data": {
      "text/plain": [
       "-0.5999999999999996"
      ]
     },
     "execution_count": 134,
     "metadata": {},
     "output_type": "execute_result"
    }
   ],
   "source": [
    "lr.intercept_[0]"
   ]
  },
  {
   "cell_type": "code",
   "execution_count": 136,
   "id": "3f3a7606",
   "metadata": {},
   "outputs": [
    {
     "data": {
      "image/png": "[encoded data removed]",
      "text/plain": [
       "<Figure size 500x500 with 1 Axes>"
      ]
     },
     "metadata": {},
     "output_type": "display_data"
    }
   ],
   "source": [
    "m, b = lr.coef_[0][0],lr.intercept_[0]\n",
    "plt.figure(figsize=(5,5))\n",
    "plt.scatter(x_data,y_data,  color='green')\n",
    "plt.plot(x_data, m*x_data+b)\n",
    "plt.xlabel('Input Parameter')\n",
    "plt.ylabel('Output Parameter')\n",
    "plt.show()"
   ]
  },
  {
   "cell_type": "code",
   "execution_count": null,
   "id": "55c353a7",
   "metadata": {},
   "outputs": [],
   "source": []
  },
  {
   "cell_type": "code",
   "execution_count": 122,
   "id": "0ad3a558",
   "metadata": {},
   "outputs": [],
   "source": [
    "m=[-10,-5,-3,-1,1,3,5,6.6,7,8.5,9,11,13,15]"
   ]
  },
  {
   "cell_type": "code",
   "execution_count": 123,
   "id": "767d9559",
   "metadata": {},
   "outputs": [],
   "source": [
    "errormargin=np.array([])\n",
    "\n",
    "for slope in m:\n",
    "    counter=0\n",
    "    sumerror=0\n",
    "    cost=sumerror/18\n",
    "    for x in x_data:\n",
    "        yhat=slope*x\n",
    "        error=(yhat-y_data[counter])*(yhat-y_data[counter])\n",
    "        sumerror=error+sumerror\n",
    "        counter=counter+1  \n",
    "    cost=sumerror/18\n",
    "    errormargin=np.append(errormargin,cost)"
   ]
  },
  {
   "cell_type": "code",
   "execution_count": 124,
   "id": "cedf7ca5",
   "metadata": {},
   "outputs": [
    {
     "data": {
      "text/plain": [
       "Text(0, 0.5, 'Loss')"
      ]
     },
     "execution_count": 124,
     "metadata": {},
     "output_type": "execute_result"
    },
    {
     "data": {
      "image/png": "[encoded data removed]",
      "text/plain": [
       "<Figure size 640x480 with 1 Axes>"
      ]
     },
     "metadata": {},
     "output_type": "display_data"
    }
   ],
   "source": [
    "plt.plot(m,errormargin)\n",
    "plt.xlabel(\"Slop\")\n",
    "plt.ylabel(\"Loss\")"
   ]
  },
  {
   "cell_type": "code",
   "execution_count": 127,
   "id": "add00b28",
   "metadata": {},
   "outputs": [
    {
     "data": {
      "image/png": "[encoded data removed]",
      "text/plain": [
       "<Figure size 500x500 with 1 Axes>"
      ]
     },
     "metadata": {},
     "output_type": "display_data"
    }
   ],
   "source": [
    "m, b = 2.2,0\n",
    "plt.figure(figsize=(5,5))\n",
    "plt.scatter(x_data,y_data,  color='green')\n",
    "plt.plot(x_data, m*x_data+b)\n",
    "plt.xlabel('Independent Variable/Input Parameter')\n",
    "plt.ylabel('Dependent Variable/ Output Parameter')\n",
    "plt.show()"
   ]
  },
  {
   "cell_type": "code",
   "execution_count": 137,
   "id": "93b4b0da",
   "metadata": {},
   "outputs": [],
   "source": [
    "LR = 0.001\n",
    "m=0\n",
    "c=0\n",
    "epoch=0"
   ]
  },
  {
   "cell_type": "code",
   "execution_count": 138,
   "id": "0e85ca0f",
   "metadata": {},
   "outputs": [],
   "source": [
    "while epoch<1100:\n",
    "    epoch=epoch+1\n",
    "    counter=0\n",
    "    for x in x_data:\n",
    "        yhat=(m*x)+c\n",
    "        error=yhat-y_data[counter]\n",
    "        c=c-(LR*error)\n",
    "        m=m-(LR*error*x)\n",
    "        counter=counter+1"
   ]
  },
  {
   "cell_type": "code",
   "execution_count": 140,
   "id": "7ea20daf",
   "metadata": {},
   "outputs": [
    {
     "name": "stdout",
     "output_type": "stream",
     "text": [
      "m - value using Using LR  2.0755217478946086\n",
      "c - value using Using LR  -0.15337280737222306\n"
     ]
    }
   ],
   "source": [
    "print(\"m - value using Using LR \", m)\n",
    "print(\"c - value using Using LR \", c)"
   ]
  },
  {
   "cell_type": "code",
   "execution_count": null,
   "id": "97603df3",
   "metadata": {},
   "outputs": [],
   "source": []
  },
  {
   "cell_type": "code",
   "execution_count": null,
   "id": "e24cbb53",
   "metadata": {},
   "outputs": [],
   "source": []
  },
  {
   "cell_type": "code",
   "execution_count": null,
   "id": "e036ef5b",
   "metadata": {},
   "outputs": [],
   "source": []
  },
  {
   "cell_type": "markdown",
   "id": "3990ea56",
   "metadata": {},
   "source": [
    "# using all method to solve diabitic problem  "
   ]
  },
  {
   "cell_type": "code",
   "execution_count": 141,
   "id": "5795ce09",
   "metadata": {},
   "outputs": [],
   "source": [
    "import matplotlib.pyplot as plt\n",
    "import numpy as np\n",
    "from sklearn import datasets, linear_model\n",
    "from sklearn.metrics import mean_squared_error, r2_score\n",
    "\n",
    "# Load the diabetes dataset\n",
    "diabetes_X, diabetes_y = datasets.load_diabetes(return_X_y=True)"
   ]
  },
  {
   "cell_type": "code",
   "execution_count": 144,
   "id": "1f0696ed",
   "metadata": {},
   "outputs": [
    {
     "data": {
      "text/plain": [
       "(442, 10)"
      ]
     },
     "execution_count": 144,
     "metadata": {},
     "output_type": "execute_result"
    }
   ],
   "source": [
    "diabetes_X.shape"
   ]
  },
  {
   "cell_type": "code",
   "execution_count": 145,
   "id": "71451743",
   "metadata": {},
   "outputs": [
    {
     "data": {
      "text/plain": [
       "(442,)"
      ]
     },
     "execution_count": 145,
     "metadata": {},
     "output_type": "execute_result"
    }
   ],
   "source": [
    "diabetes_y.shape"
   ]
  },
  {
   "cell_type": "code",
   "execution_count": 147,
   "id": "440d5a37",
   "metadata": {},
   "outputs": [],
   "source": [
    "from sklearn.model_selection import train_test_split\n",
    "\n",
    "X_train,X_test,y_train,y_test=train_test_split(diabetes_X,diabetes_y,test_size=0.2,random_state=5)"
   ]
  },
  {
   "cell_type": "code",
   "execution_count": 150,
   "id": "ec2c5868",
   "metadata": {},
   "outputs": [
    {
     "name": "stdout",
     "output_type": "stream",
     "text": [
      "(353, 10) (353,) (89, 10) (89,)\n"
     ]
    }
   ],
   "source": [
    "print(X_train.shape,y_train.shape,  X_test.shape,y_test.shape)"
   ]
  },
  {
   "cell_type": "code",
   "execution_count": 168,
   "id": "ecb54c43",
   "metadata": {},
   "outputs": [
    {
     "name": "stdout",
     "output_type": "stream",
     "text": [
      "[ 0.08166637  0.05068012 -0.02560657 -0.03665608 -0.0703666  -0.04640726\n",
      " -0.03971921 -0.00259226 -0.04117617 -0.0052198 ]\n",
      "[ 0.03807591  0.05068012  0.06169621  0.02187239 -0.0442235  -0.03482076\n",
      " -0.04340085 -0.00259226  0.01990749 -0.01764613]\n",
      "[-0.07090025 -0.04464164 -0.00405033 -0.04009893 -0.06623874 -0.07866155\n",
      "  0.05232174 -0.0763945  -0.05140387 -0.03421455]\n",
      "[ 0.01628068 -0.04464164  0.07355214 -0.04123507 -0.00432087 -0.01352667\n",
      " -0.01394774 -0.00111622  0.04289704  0.04448548]\n",
      "[-0.0854304   0.05068012 -0.04069594 -0.03321323 -0.08137423 -0.06958024\n",
      " -0.00658447 -0.03949338 -0.05780303 -0.04249877]\n",
      "[ 0.03081083 -0.04464164 -0.05039625 -0.00222757 -0.0442235  -0.08993489\n",
      "  0.11859122 -0.0763945  -0.01811369  0.00306441]\n",
      "[-0.07090025 -0.04464164  0.09295276  0.01267997  0.02044629  0.04252691\n",
      "  0.00077881  0.00035983 -0.05453964 -0.0010777 ]\n",
      "[ 0.03444337  0.05068012  0.11127556  0.076958   -0.03183992 -0.03388132\n",
      " -0.02131102 -0.00259226  0.02802037  0.07348023]\n",
      "[ 0.07440129 -0.04464164  0.01858372  0.0631866   0.06172487  0.04284006\n",
      "  0.00814208 -0.00259226  0.05803805 -0.05906719]\n",
      "[-0.05273755 -0.04464164 -0.05578531 -0.03665608  0.08924393 -0.00319277\n",
      "  0.00814208  0.03430886  0.13237579  0.00306441]\n",
      "[-0.0382074  -0.04464164  0.06708527 -0.06075604 -0.02908802 -0.02323427\n",
      " -0.01026611 -0.00259226 -0.00149595  0.01963284]\n",
      "[ 0.02354575 -0.04464164  0.0703187   0.02531524 -0.03459183 -0.01446611\n",
      " -0.03235593 -0.00259226 -0.01919845 -0.00936191]\n",
      "[-0.00551455  0.05068012 -0.01590626 -0.06764174  0.0493413   0.07916528\n",
      " -0.02867429  0.03430886 -0.01811369  0.04448548]\n",
      "[ 0.06713621  0.05068012 -0.02991782  0.05743704 -0.00019301 -0.01571871\n",
      "  0.07441156 -0.05056372 -0.03845972  0.00720652]\n",
      "[-0.01277963  0.05068012 -0.05578531 -0.00222757 -0.02771206 -0.02918409\n",
      "  0.019187   -0.03949338 -0.01705628  0.04448548]\n",
      "[-0.04183994 -0.04464164 -0.04931844 -0.03665608 -0.00707277 -0.02260797\n",
      "  0.08545648 -0.03949338 -0.0664902   0.00720652]\n",
      "[-0.04910502  0.05068012 -0.00512814 -0.04698463 -0.0208323  -0.02041593\n",
      " -0.06917231  0.07120998  0.06123763 -0.03835666]\n",
      "[ 0.01628068 -0.04464164  0.02397278 -0.02288468 -0.02496016 -0.02605261\n",
      " -0.03235593 -0.00259226  0.03723625  0.03205916]\n",
      "[ 0.00175052  0.05068012 -0.05794093 -0.04354178 -0.09650971 -0.04703355\n",
      " -0.09862541  0.03430886 -0.0611758  -0.07149352]\n",
      "[ 0.02717829 -0.04464164 -0.00728377 -0.05042748  0.0754844   0.05661859\n",
      "  0.03391355 -0.00259226  0.04344397  0.01549073]\n",
      "[ 0.01264814 -0.04464164  0.00672779 -0.05617705 -0.07587041 -0.06644876\n",
      " -0.02131102 -0.03764833 -0.01811369 -0.09220405]\n",
      "[-0.02730979 -0.04464164  0.04768465 -0.04698463  0.03420581  0.05724488\n",
      " -0.08021722  0.13025177  0.04506655  0.13146972]\n",
      "[ 0.02717829 -0.04464164  0.00672779  0.03564379  0.07961226  0.07071027\n",
      "  0.01550536  0.03430886  0.04067283  0.01134862]\n",
      "[ 0.02717829 -0.04464164  0.04984027 -0.05500648 -0.00294491  0.04064802\n",
      " -0.0581274   0.05275942 -0.05296264 -0.0052198 ]\n",
      "[ 0.06713621  0.05068012 -0.04177375  0.01154383  0.0025589   0.00588854\n",
      "  0.04127682 -0.03949338 -0.05947118 -0.02178823]\n",
      "[ 0.02354575  0.05068012  0.06169621  0.06205046  0.02457414 -0.03607336\n",
      " -0.09126214  0.15534454  0.13339674  0.08176444]\n",
      "[ 0.03444337  0.05068012 -0.00943939  0.05974375 -0.03596778 -0.00757685\n",
      " -0.07653559  0.07120998  0.01101066 -0.02178823]\n",
      "[-0.06000263  0.05068012 -0.0105172  -0.01486283 -0.04972731 -0.02354742\n",
      " -0.0581274   0.0158583  -0.00991877 -0.03421455]\n",
      "[-0.03094232  0.05068012  0.00133873 -0.00567042  0.06447678  0.04941617\n",
      " -0.04708248  0.1081111   0.08379874  0.00306441]\n",
      "[-0.10722563 -0.04464164 -0.07734155 -0.02632753 -0.08962994 -0.09619786\n",
      "  0.02655027 -0.0763945  -0.04257085 -0.0052198 ]\n",
      "[ 0.04170844  0.05068012 -0.04392938  0.0631866  -0.00432087  0.01622244\n",
      " -0.01394774 -0.00259226 -0.03452178  0.01134862]\n",
      "[-0.04183994 -0.04464164  0.04121778 -0.02632753 -0.03183992 -0.03043668\n",
      " -0.03603757  0.00294291  0.03365381 -0.01764613]\n",
      "[ 0.03444337  0.05068012 -0.02991782  0.00465813  0.09337179  0.08699399\n",
      "  0.03391355 -0.00259226  0.02405509 -0.03835666]\n",
      "[-0.04547248 -0.04464164 -0.0730303  -0.08141314  0.08374012  0.02780893\n",
      "  0.17381578 -0.03949338 -0.00422151  0.00306441]\n",
      "[-0.05273755  0.05068012 -0.04069594 -0.06764174 -0.03183992 -0.0370128\n",
      "  0.03759519 -0.03949338 -0.03452178  0.06933812]\n",
      "[-0.09269548  0.05068012 -0.0902753  -0.05731319 -0.02496016 -0.03043668\n",
      " -0.00658447 -0.00259226  0.02405509  0.00306441]\n",
      "[-0.05273755  0.05068012  0.09834182  0.08728655  0.06034892  0.04878988\n",
      " -0.0581274   0.1081111   0.08449153  0.04034337]\n",
      "[ 0.04897352  0.05068012  0.12313149  0.0838437  -0.10476542 -0.10089509\n",
      " -0.06917231 -0.00259226  0.03664373 -0.03007245]\n",
      "[-0.03457486  0.05068012 -0.05578531 -0.01599898 -0.00982468 -0.00789\n",
      "  0.03759519 -0.03949338 -0.05296264  0.02791705]\n",
      "[ 0.01628068 -0.04464164 -0.02884001 -0.00911327 -0.00432087 -0.00976889\n",
      "  0.04495846 -0.03949338 -0.03074792 -0.04249877]\n",
      "[-0.01641217  0.05068012  0.00241654  0.01498668  0.02182224 -0.01008203\n",
      " -0.02499266  0.03430886  0.08553071  0.08176444]\n",
      "[ 0.04170844 -0.04464164 -0.03207344 -0.06189218  0.07961226  0.05098192\n",
      "  0.05600338 -0.00997249  0.04506655 -0.05906719]\n",
      "[-0.03094232  0.05068012  0.02828403  0.0700723  -0.12678067 -0.10684491\n",
      " -0.05444576 -0.04798064 -0.03074792  0.01549073]\n",
      "[-0.04547248 -0.04464164 -0.04824063 -0.01944183 -0.00019301 -0.01603186\n",
      "  0.06704829 -0.03949338 -0.02479543  0.01963284]\n",
      "[ 0.11072668  0.05068012 -0.03315126 -0.02288468 -0.00432087  0.02029337\n",
      " -0.06180903  0.07120998  0.01556846  0.04448548]\n",
      "[ 0.01264814 -0.04464164 -0.03638469  0.04252949 -0.01395254  0.01293438\n",
      " -0.02683348  0.00515697 -0.04398377  0.00720652]\n",
      "[-0.06363517 -0.04464164  0.03582872 -0.02288468 -0.03046397 -0.01885019\n",
      " -0.00658447 -0.00259226 -0.02595311 -0.05492509]\n",
      "[-0.08179786 -0.04464164 -0.0816528  -0.04009893  0.0025589  -0.01853704\n",
      "  0.07072993 -0.03949338 -0.01090325 -0.09220405]\n",
      "[-0.00551455  0.05068012 -0.01159501  0.01154383 -0.02220825 -0.01540556\n",
      " -0.02131102 -0.00259226  0.01101066  0.06933812]\n",
      "[ 0.07440129 -0.04464164  0.114509    0.02875809  0.02457414  0.02499059\n",
      "  0.019187   -0.00259226 -0.00061174 -0.0052198 ]\n",
      "[ 0.03807591  0.05068012 -0.01806189  0.06662945 -0.05110326 -0.01665815\n",
      " -0.07653559  0.03430886 -0.01189685 -0.01350402]\n",
      "[-0.04547248  0.05068012 -0.04716281 -0.01599898 -0.04009564 -0.02480001\n",
      "  0.00077881 -0.03949338 -0.06291688 -0.03835666]\n",
      "[-0.09632802 -0.04464164 -0.08380842  0.00810098 -0.10338947 -0.09056119\n",
      " -0.01394774 -0.0763945  -0.06291688 -0.03421455]\n",
      "[ 0.08166637 -0.04464164  0.03367309  0.00810098  0.0520932   0.05661859\n",
      " -0.01762938  0.03430886  0.03486619  0.06933812]\n",
      "[ 0.03807591  0.05068012 -0.02991782 -0.07452744 -0.01257658 -0.01258722\n",
      "  0.00446045 -0.00259226  0.00370906 -0.03007245]\n",
      "[ 0.01264814  0.05068012 -0.02237314 -0.02977038  0.01081462  0.02843523\n",
      " -0.02131102  0.03430886 -0.0060811  -0.0010777 ]\n",
      "[-0.00914709  0.05068012  0.17055523  0.01498668  0.03007796  0.03375875\n",
      " -0.02131102  0.03430886  0.03365381  0.03205916]\n",
      "[ 0.0562386  -0.04464164 -0.06871905 -0.06877788 -0.00019301 -0.00100073\n",
      "  0.04495846 -0.03764833 -0.04835926 -0.0010777 ]\n",
      "[-0.0382074  -0.04464164 -0.0547075  -0.07797029 -0.03321588 -0.08649026\n",
      "  0.14068104 -0.0763945  -0.01919845 -0.0052198 ]\n",
      "[-0.07090025  0.05068012 -0.08919748 -0.07452744 -0.04284755 -0.02573946\n",
      " -0.03235593 -0.00259226 -0.01290868 -0.05492509]\n",
      "[-4.91050164e-02  5.06801187e-02 -2.45287594e-02  7.91388369e-05\n",
      " -4.69754041e-02 -2.82446451e-02 -6.54906725e-02  2.84046795e-02\n",
      "  1.91964692e-02  1.13486232e-02]\n",
      "[ 0.06713621  0.05068012 -0.03099563  0.00465813  0.02457414  0.03563764\n",
      " -0.02867429  0.03430886  0.02337142  0.08176444]\n",
      "[ 0.01264814  0.05068012 -0.07195249 -0.04698463 -0.05110326 -0.09713731\n",
      "  0.11859122 -0.0763945  -0.02029232 -0.03835666]\n",
      "[ 0.04534098 -0.04464164  0.03906215  0.04597234  0.00668676 -0.02417372\n",
      "  0.00814208 -0.01255556  0.06432782  0.0569118 ]\n",
      "[-0.0382074  -0.04464164  0.00996123 -0.04698463 -0.05935898 -0.05298337\n",
      " -0.01026611 -0.03949338 -0.01599887 -0.04249877]\n",
      "[-0.02004471 -0.04464164  0.00457217  0.09761511  0.0053108  -0.02072908\n",
      "  0.06336665 -0.03949338  0.01255119  0.01134862]\n",
      "[ 0.02717829  0.05068012 -0.03530688  0.03220094 -0.01120063  0.00150446\n",
      " -0.01026611 -0.00259226 -0.01495969 -0.05078298]\n",
      "[ 0.03807591  0.05068012 -0.02452876  0.00465813 -0.02633611 -0.02636575\n",
      "  0.01550536 -0.03949338 -0.01599887 -0.02593034]\n",
      "[-0.05637009 -0.04464164 -0.01159501 -0.03321323 -0.0469754  -0.04765985\n",
      "  0.00446045 -0.03949338 -0.00797714 -0.08806194]\n",
      "[-0.01641217  0.05068012  0.12744274  0.09761511  0.01631843  0.01747503\n",
      " -0.02131102  0.03430886  0.03486619  0.00306441]\n",
      "[ 0.00175052 -0.04464164 -0.07087468 -0.02288468 -0.00156896 -0.00100073\n",
      "  0.02655027 -0.03949338 -0.02251653  0.00720652]\n",
      "[-0.05273755  0.05068012 -0.01806189  0.08040085  0.08924393  0.10766179\n",
      " -0.03971921  0.1081111   0.03606033 -0.04249877]\n",
      "[-0.07453279 -0.04464164 -0.046085   -0.04354178 -0.02908802 -0.02323427\n",
      "  0.01550536 -0.03949338 -0.03980883 -0.02178823]\n",
      "[ 0.04170844 -0.04464164 -0.06440781  0.03564379  0.01219057 -0.05799375\n",
      "  0.18117906 -0.0763945  -0.00061174 -0.05078298]\n",
      "[ 0.00175052  0.05068012  0.01103904 -0.01944183 -0.01670444 -0.00381907\n",
      " -0.04708248  0.03430886  0.02405509  0.02377494]\n",
      "[ 0.09619652 -0.04464164  0.04013997 -0.05731319  0.04521344  0.06068952\n",
      " -0.02131102  0.03615391  0.01255119  0.02377494]\n",
      "[ 0.06350368  0.05068012 -0.02560657  0.01154383  0.06447678  0.04847673\n",
      "  0.03023191 -0.00259226  0.03839393  0.01963284]\n",
      "[-0.04183994  0.05068012 -0.02991782 -0.00222757  0.02182224  0.03657709\n",
      "  0.01182372 -0.00259226 -0.04117617  0.06519601]\n",
      "[-0.00188202  0.05068012  0.01427248 -0.07452744  0.0025589   0.00620169\n",
      " -0.01394774 -0.00259226  0.01919647  0.00306441]\n",
      "[ 0.04170844  0.05068012 -0.01590626  0.01729339 -0.03734373 -0.01383982\n",
      " -0.02499266 -0.01107952 -0.04688253  0.01549073]\n",
      "[-0.02730979  0.05068012  0.06061839  0.10794366  0.01219057 -0.0175976\n",
      " -0.00290283 -0.00259226  0.07020738  0.13561183]\n",
      "[-0.06726771  0.05068012 -0.01267283 -0.04009893 -0.01532849  0.00463594\n",
      " -0.0581274   0.03430886  0.01919647 -0.03421455]\n",
      "[-0.04183994 -0.04464164  0.04768465  0.05974375  0.12777061  0.12801644\n",
      " -0.02499266  0.1081111   0.06389027  0.04034337]\n",
      "[ 0.00175052 -0.04464164 -0.03961813 -0.10093411 -0.02908802 -0.03012354\n",
      "  0.04495846 -0.05019471 -0.06833155 -0.12948301]\n",
      "[-0.04183994  0.05068012  0.00457217 -0.05387034 -0.0442235  -0.0273052\n",
      " -0.08021722  0.07120998  0.03664373  0.01963284]\n",
      "[ 0.05987114  0.05068012  0.0164281   0.02875809 -0.04147159 -0.02918409\n",
      " -0.02867429 -0.00259226 -0.00239839 -0.02178823]\n",
      "[-0.02730979 -0.04464164 -0.06009656 -0.02977038  0.04658939  0.01998022\n",
      "  0.12227286 -0.03949338 -0.05140387 -0.00936191]\n",
      "[-0.02730979 -0.04464164 -0.06656343 -0.1123988  -0.04972731 -0.04139688\n",
      "  0.00077881 -0.03949338 -0.03581619 -0.00936191]\n",
      "[ 0.06713621 -0.04464164 -0.06117437 -0.04009893 -0.02633611 -0.02448686\n",
      "  0.03391355 -0.03949338 -0.0561531  -0.05906719]\n",
      "[ 0.02717829  0.05068012  0.01750591 -0.03321323 -0.00707277  0.04597154\n",
      " -0.06549067  0.07120998 -0.09643495 -0.05906719]\n",
      "[ 0.07076875  0.05068012  0.01211685  0.0563009   0.03420581  0.04941617\n",
      " -0.03971921  0.03430886  0.02736405 -0.0010777 ]\n",
      "[ 0.04170844  0.05068012 -0.01482845 -0.01713512 -0.00569682  0.00839372\n",
      " -0.01394774 -0.00185424 -0.01189685  0.00306441]\n",
      "[-0.03457486  0.05068012  0.00564998 -0.00567042 -0.07311851 -0.06269098\n",
      " -0.00658447 -0.03949338 -0.04542404  0.03205916]\n",
      "[ 0.07076875  0.05068012 -0.03099563  0.02187239 -0.03734373 -0.04703355\n",
      "  0.03391355 -0.03949338 -0.01495969 -0.0010777 ]\n",
      "[ 0.0562386   0.05068012  0.00996123  0.04941519 -0.00432087 -0.01227407\n",
      " -0.04340085  0.03430886  0.06079096  0.03205916]\n",
      "[ 0.03807591  0.05068012 -0.02991782 -0.04009893 -0.03321588 -0.02417372\n",
      " -0.01026611 -0.00259226 -0.01290868  0.00306441]\n",
      "[-0.09632802 -0.04464164 -0.07626374 -0.04354178 -0.04559945 -0.03482076\n",
      "  0.00814208 -0.03949338 -0.05947118 -0.08391984]\n",
      "[ 0.00538306 -0.04464164 -0.03638469  0.02187239  0.00393485  0.01559614\n",
      "  0.00814208 -0.00259226 -0.03198764 -0.04664087]\n",
      "[ 0.05260606  0.05068012 -0.00943939  0.04941519  0.05071725 -0.01916334\n",
      " -0.01394774  0.03430886  0.11934048 -0.01764613]\n",
      "[-0.09269548 -0.04464164  0.02828403 -0.01599898  0.03695772  0.02499059\n",
      "  0.05600338 -0.03949338 -0.00514219 -0.0010777 ]\n",
      "[-0.05273755 -0.04464164  0.05415152 -0.02632753 -0.05523112 -0.03388132\n",
      " -0.01394774 -0.03949338 -0.07409261 -0.05906719]\n",
      "[-0.04183994 -0.04464164 -0.06548562 -0.04009893 -0.00569682  0.01434355\n",
      " -0.04340085  0.03430886  0.00702714 -0.01350402]\n",
      "[ 0.02717829  0.05068012  0.0250506   0.01498668  0.0259501   0.04847673\n",
      " -0.03971921  0.03430886  0.00783843  0.02377494]\n",
      "[ 0.07440129 -0.04464164  0.08540807  0.0631866   0.01494247  0.01309095\n",
      "  0.01550536 -0.00259226  0.00620674  0.08590655]\n",
      "[-0.05273755 -0.04464164 -0.00081689 -0.02632753  0.01081462  0.00714113\n",
      "  0.0486401  -0.03949338 -0.03581619  0.01963284]\n",
      "[-0.08906294 -0.04464164 -0.04177375 -0.01944183 -0.06623874 -0.07427747\n",
      "  0.00814208 -0.03949338  0.00114758 -0.03007245]\n",
      "[ 0.04897352  0.05068012  0.08864151  0.08728655  0.03558177  0.02154596\n",
      " -0.02499266  0.03430886  0.06605067  0.13146972]\n",
      "[-0.07453279 -0.04464164  0.0433734  -0.03321323  0.01219057  0.00025186\n",
      "  0.06336665 -0.03949338 -0.02712902 -0.04664087]\n",
      "[-0.04910502 -0.04464164 -0.06440781 -0.10207025 -0.00294491 -0.01540556\n",
      "  0.06336665 -0.04724262 -0.03324559 -0.05492509]\n",
      "[-0.00551455 -0.04464164  0.0433734   0.08728655  0.01356652  0.00714113\n",
      " -0.01394774 -0.00259226  0.04234098 -0.01764613]\n",
      "[ 0.0090156  -0.04464164 -0.03207344 -0.02632753  0.04246153 -0.01039518\n",
      "  0.15908923 -0.0763945  -0.01189685 -0.03835666]\n",
      "[ 0.06713621 -0.04464164  0.05630715  0.07351515 -0.01395254 -0.03920484\n",
      " -0.03235593 -0.00259226  0.07574055  0.03620126]\n",
      "[-0.00188202 -0.04464164 -0.05147406 -0.02632753 -0.00844872 -0.01916334\n",
      "  0.07441156 -0.03949338 -0.06833155 -0.09220405]\n",
      "[-0.00914709 -0.04464164  0.01103904 -0.05731319 -0.02496016 -0.04296262\n",
      "  0.03023191 -0.03949338  0.01703607 -0.0052198 ]\n",
      "[ 0.01628068 -0.04464164 -0.04716281 -0.00222757 -0.01945635 -0.04296262\n",
      "  0.03391355 -0.03949338  0.02736405  0.02791705]\n",
      "[-0.00551455 -0.04464164  0.02397278  0.00810098 -0.03459183 -0.03889169\n",
      "  0.02286863 -0.03949338 -0.01599887 -0.01350402]\n",
      "[ 0.01628068  0.05068012  0.07247433  0.076958   -0.00844872  0.00557539\n",
      " -0.00658447 -0.00259226 -0.02364686  0.06105391]\n",
      "[ 0.01628068 -0.04464164  0.00133873  0.00810098  0.0053108   0.01089891\n",
      "  0.03023191 -0.03949338 -0.04542404  0.03205916]\n",
      "[ 0.04170844 -0.04464164 -0.04500719  0.03450765  0.04383748 -0.01571871\n",
      "  0.03759519 -0.01440062  0.08989708  0.00720652]\n",
      "[ 0.01991321 -0.04464164  0.00457217 -0.02632753  0.02319819  0.01027262\n",
      "  0.06704829 -0.03949338 -0.02364686 -0.04664087]\n",
      "[-0.02004471 -0.04464164  0.01858372  0.09072941  0.00393485  0.00870687\n",
      "  0.03759519 -0.03949338 -0.05780303  0.00720652]\n",
      "[-0.05637009  0.05068012 -0.06009656 -0.03665608 -0.08825399 -0.07083284\n",
      " -0.01394774 -0.03949338 -0.07813994 -0.10463037]\n",
      "[ 0.06713621  0.05068012 -0.03638469 -0.08485599 -0.00707277  0.01966707\n",
      " -0.05444576  0.03430886  0.00114758  0.03205916]\n",
      "[ 0.08529891  0.05068012  0.04445121 -0.00567042 -0.04559945 -0.03419447\n",
      " -0.03235593 -0.00259226  0.00286131 -0.02593034]\n",
      "[-0.07090025 -0.04464164 -0.05794093 -0.08141314 -0.04559945 -0.02887094\n",
      " -0.04340085 -0.00259226  0.00114758 -0.0052198 ]\n",
      "[-0.09632802 -0.04464164 -0.06979687 -0.06764174 -0.01945635 -0.01070833\n",
      "  0.01550536 -0.03949338 -0.04688253 -0.07977773]\n",
      "[ 0.04534098  0.05068012  0.06061839  0.0310648   0.028702   -0.0473467\n",
      " -0.05444576  0.07120998  0.13359728  0.13561183]\n",
      "[-0.08906294 -0.04464164 -0.01159501 -0.03665608  0.01219057  0.02499059\n",
      " -0.03603757  0.03430886  0.02268774 -0.00936191]\n",
      "[-0.00188202 -0.04464164 -0.03854032  0.02187239 -0.10889328 -0.11561307\n",
      "  0.02286863 -0.0763945  -0.04688253  0.02377494]\n",
      "[-0.02367725  0.05068012 -0.02560657  0.04252949 -0.05385517 -0.04765985\n",
      " -0.02131102 -0.03949338  0.00114758  0.01963284]\n",
      "[ 0.0090156  -0.04464164 -0.02237314 -0.03207709 -0.04972731 -0.0686408\n",
      "  0.0780932  -0.07085934 -0.06291688 -0.03835666]\n",
      "[ 2.35457526e-02 -4.46416365e-02 -3.63846922e-02  7.91388369e-05\n",
      "  1.18294590e-03  3.46981957e-02 -4.34008457e-02  3.43088589e-02\n",
      " -3.32455926e-02  6.10539062e-02]\n",
      "[ 0.05260606 -0.04464164 -0.02129532 -0.07452744 -0.04009564 -0.0376391\n",
      " -0.00658447 -0.03949338 -0.00061174 -0.05492509]\n",
      "[ 0.09256398 -0.04464164  0.03690653  0.02187239 -0.02496016 -0.01665815\n",
      "  0.00077881 -0.03949338 -0.02251653 -0.02178823]\n",
      "[ 0.01991321 -0.04464164 -0.03422907  0.05516475  0.06722868  0.0741549\n",
      " -0.00658447  0.03283281  0.02472964  0.06933812]\n",
      "[ 0.03081083  0.05068012 -0.00836158  0.00465813  0.01494247  0.02749578\n",
      "  0.00814208 -0.00812743 -0.02952643  0.0569118 ]\n",
      "[-0.04183994  0.05068012 -0.05362969 -0.04009893 -0.08412613 -0.07177228\n",
      " -0.00290283 -0.03949338 -0.07213275 -0.03007245]\n",
      "[ 0.01264814 -0.04464164 -0.02021751 -0.01599898  0.01219057  0.02123281\n",
      " -0.07653559  0.1081111   0.0598794  -0.02178823]\n",
      "[ 0.05987114  0.05068012  0.05307371  0.05285804  0.03282986  0.01966707\n",
      " -0.01026611  0.03430886  0.0552031  -0.0010777 ]\n",
      "[ 0.07076875  0.05068012 -0.01698407  0.02187239  0.04383748  0.05630544\n",
      "  0.03759519 -0.00259226 -0.07020936 -0.01764613]\n",
      "[ 0.04170844  0.05068012  0.01211685  0.03908664  0.05484511  0.0444058\n",
      "  0.00446045 -0.00259226  0.04560437 -0.0010777 ]\n",
      "[-0.02730979 -0.04464164  0.08001901  0.09875125 -0.00294491  0.01810133\n",
      " -0.01762938  0.00331192 -0.02952643  0.03620126]\n",
      "[ 0.01264814 -0.04464164  0.03367309  0.03333708  0.03007796  0.02718263\n",
      " -0.00290283  0.00884709  0.0311926   0.02791705]\n",
      "[-0.01641217 -0.04464164 -0.0105172   0.00121528 -0.03734373 -0.03576021\n",
      "  0.01182372 -0.03949338 -0.02139531 -0.03421455]\n",
      "[-0.03457486 -0.04464164 -0.05901875  0.00121528 -0.05385517 -0.07803525\n",
      "  0.06704829 -0.0763945  -0.02139531  0.01549073]\n",
      "[ 0.08166637  0.05068012  0.00672779 -0.00453428  0.10988322  0.11705624\n",
      " -0.03235593  0.09187461  0.05471997  0.00720652]\n",
      "[ 0.03444337 -0.04464164  0.01858372  0.0563009   0.01219057 -0.05454912\n",
      " -0.06917231  0.07120998  0.13007866  0.00720652]\n",
      "[-0.04183994 -0.04464164  0.12852056  0.0631866  -0.03321588 -0.03262872\n",
      "  0.01182372 -0.03949338 -0.01599887 -0.05078298]\n",
      "[-0.02730979  0.05068012 -0.01590626 -0.02977038  0.00393485 -0.00068758\n",
      "  0.04127682 -0.03949338 -0.02364686  0.01134862]\n",
      "[-0.00914709  0.05068012 -0.03961813 -0.04009893 -0.00844872  0.01622244\n",
      " -0.06549067  0.07120998  0.01776532 -0.06735141]\n",
      "[ 0.04534098  0.05068012 -0.00297252  0.10794366  0.03558177  0.02248541\n",
      "  0.02655027 -0.00259226  0.02802037  0.01963284]\n",
      "[ 0.04534098 -0.04464164  0.07139652  0.00121528 -0.00982468 -0.00100073\n",
      "  0.01550536 -0.03949338 -0.04117617 -0.07149352]\n",
      "[ 0.06713621  0.05068012  0.02073935 -0.00567042  0.02044629  0.02624319\n",
      " -0.00290283 -0.00259226  0.0086406   0.00306441]\n",
      "[ 0.01628068  0.05068012  0.00996123 -0.04354178 -0.09650971 -0.09463212\n",
      " -0.03971921 -0.03949338  0.01703607  0.00720652]\n",
      "[ 0.04170844  0.05068012 -0.03854032  0.05285804  0.07686035  0.11642994\n",
      " -0.03971921  0.07120998 -0.02251653 -0.01350402]\n",
      "[ 0.04897352  0.05068012  0.05846277  0.0700723   0.01356652  0.02060651\n",
      " -0.02131102  0.03430886  0.02200407  0.02791705]\n",
      "[ 0.04897352 -0.04464164 -0.04285156 -0.05387034  0.04521344  0.05004247\n",
      "  0.03391355 -0.00259226 -0.02595311 -0.0632093 ]\n",
      "[-0.10359309 -0.04464164 -0.0374625  -0.02632753  0.0025589   0.01998022\n",
      "  0.01182372 -0.00259226 -0.06833155 -0.02593034]\n",
      "[ 0.04897352  0.05068012  0.00349435  0.0700723  -0.00844872  0.0134041\n",
      " -0.05444576  0.03430886  0.01331691  0.03620126]\n",
      "[ 0.01264814  0.05068012  0.00241654  0.0563009   0.02732605  0.01716188\n",
      "  0.04127682 -0.03949338  0.00370906  0.07348023]\n",
      "[ 0.00538306  0.05068012 -0.00836158  0.02187239  0.05484511  0.07321546\n",
      " -0.02499266  0.03430886  0.01255119  0.09419076]\n",
      "[ 0.00538306  0.05068012 -0.02884001 -0.00911327 -0.03183992 -0.02887094\n",
      "  0.00814208 -0.03949338 -0.01811369  0.00720652]\n",
      "[ 0.01264814 -0.04464164  0.01535029 -0.03321323  0.04108558  0.03219301\n",
      " -0.00290283 -0.00259226  0.04506655 -0.06735141]\n",
      "[-0.04547248 -0.04464164  0.03906215  0.00121528  0.01631843  0.01528299\n",
      " -0.02867429  0.02655962  0.04452873 -0.02593034]\n",
      "[-0.05273755 -0.04464164  0.03043966 -0.07452744 -0.02358421 -0.01133463\n",
      " -0.00290283 -0.00259226 -0.03074792 -0.0010777 ]\n",
      "[-0.07816532 -0.04464164 -0.04069594 -0.08141314 -0.10063757 -0.11279473\n",
      "  0.02286863 -0.0763945  -0.02029232 -0.05078298]\n",
      "[-0.05273755 -0.04464164 -0.06225218 -0.02632753 -0.00569682 -0.00507166\n",
      "  0.03023191 -0.03949338 -0.03074792 -0.07149352]\n",
      "[ 0.08166637  0.05068012 -0.00297252 -0.03321323  0.04246153  0.05787118\n",
      " -0.01026611  0.03430886 -0.00061174 -0.0010777 ]\n",
      "[-0.04910502 -0.04464164 -0.05686312 -0.04354178 -0.04559945 -0.04327577\n",
      "  0.00077881 -0.03949338 -0.01189685  0.01549073]\n",
      "[-0.02367725 -0.04464164  0.03043966 -0.00567042  0.08236416  0.09200436\n",
      " -0.01762938  0.07120998  0.03304307  0.00306441]\n",
      "[ 0.07076875 -0.04464164 -0.00512814 -0.00567042  0.08786798  0.10296456\n",
      "  0.01182372  0.03430886 -0.0089434   0.02791705]\n",
      "[-0.01641217 -0.04464164 -0.01375064  0.13204362 -0.00982468 -0.00381907\n",
      "  0.019187   -0.03949338 -0.03581619 -0.03007245]\n",
      "[-0.02730979 -0.04464164  0.08864151 -0.02519139  0.02182224  0.04252691\n",
      " -0.03235593  0.03430886  0.00286131  0.07762233]\n",
      "[ 0.01628068  0.05068012  0.01427248  0.00121528  0.00118295 -0.02135538\n",
      " -0.03235593  0.03430886  0.07496573  0.04034337]\n",
      "[ 0.0090156  -0.04464164 -0.02452876 -0.02632753  0.0988756   0.0941964\n",
      "  0.07072993 -0.00259226 -0.02139531  0.00720652]\n",
      "[ 0.00538306 -0.04464164  0.05954058 -0.05617705  0.02457414  0.05286081\n",
      " -0.04340085  0.05091436 -0.00422151 -0.03007245]\n",
      "[ 0.01628068 -0.04464164 -0.046085   -0.00567042 -0.07587041 -0.06143838\n",
      " -0.01394774 -0.03949338 -0.05140387  0.01963284]\n",
      "[ 0.04534098 -0.04464164 -0.00620595  0.01154383  0.06310082  0.01622244\n",
      "  0.09650139 -0.03949338  0.04289704 -0.03835666]\n",
      "[ 0.02354575 -0.04464164  0.11019775  0.0631866   0.01356652 -0.03294187\n",
      " -0.02499266  0.02065544  0.09924058  0.02377494]\n",
      "[ 0.08893144 -0.04464164  0.00672779  0.02531524  0.03007796  0.00870687\n",
      "  0.06336665 -0.03949338  0.00943366  0.03205916]\n",
      "[ 0.01628068  0.05068012  0.00241654 -0.00567042 -0.00569682  0.01089891\n",
      " -0.05076412  0.03430886  0.02268774 -0.03835666]\n",
      "[ 0.00538306 -0.04464164 -0.04824063 -0.01255612  0.00118295 -0.0066374\n",
      "  0.06336665 -0.03949338 -0.05140387 -0.05906719]\n",
      "[-0.02367725 -0.04464164 -0.046085   -0.03321323  0.03282986  0.03626394\n",
      "  0.03759519 -0.00259226 -0.03324559  0.01134862]\n",
      "[ 0.07076875 -0.04464164  0.06924089  0.0379505   0.02182224  0.00150446\n",
      " -0.03603757  0.039106    0.0776366   0.10661708]\n",
      "[-0.02730979 -0.04464164  0.06492964 -0.00222757 -0.02496016 -0.01728445\n",
      "  0.02286863 -0.03949338 -0.0611758  -0.0632093 ]\n",
      "[-0.00551455  0.05068012  0.00133873 -0.08485599 -0.01120063 -0.01665815\n",
      "  0.0486401  -0.03949338 -0.04117617 -0.08806194]\n",
      "[-0.05637009 -0.04464164 -0.07410811 -0.05042748 -0.02496016 -0.04703355\n",
      "  0.09281975 -0.0763945  -0.0611758  -0.04664087]\n",
      "[-0.09632802 -0.04464164 -0.03638469 -0.07452744 -0.03871969 -0.02761835\n",
      "  0.01550536 -0.03949338 -0.07409261 -0.0010777 ]\n",
      "[ 0.0562386   0.05068012 -0.03099563  0.00810098  0.01907033  0.02123281\n",
      "  0.03391355 -0.03949338 -0.02952643 -0.05906719]\n",
      "[-0.04910502 -0.04464164  0.0250506   0.00810098  0.02044629  0.01778818\n",
      "  0.05232174 -0.03949338 -0.04117617  0.00720652]\n",
      "[-0.02730979 -0.04464164 -0.01806189 -0.04009893 -0.00294491 -0.01133463\n",
      "  0.03759519 -0.03949338 -0.0089434  -0.05492509]\n",
      "[-0.05273755 -0.04464164  0.07139652 -0.07452744 -0.01532849 -0.00131388\n",
      "  0.00446045 -0.02141183 -0.04688253  0.00306441]\n",
      "[ 0.04170844 -0.04464164 -0.00836158 -0.02632753  0.02457414  0.01622244\n",
      "  0.07072993 -0.03949338 -0.04835926 -0.03007245]\n",
      "[-0.02730979  0.05068012 -0.05578531  0.02531524 -0.00707277 -0.02354742\n",
      "  0.05232174 -0.03949338 -0.00514219 -0.05078298]\n",
      "[ 0.00175052 -0.04464164 -0.06548562 -0.00567042 -0.00707277 -0.01947649\n",
      "  0.04127682 -0.03949338 -0.00330084  0.00720652]\n",
      "[ 0.02717829  0.05068012  0.09403057  0.09761511 -0.03459183 -0.03200243\n",
      " -0.04340085 -0.00259226  0.03664373  0.10661708]\n",
      "[ 0.03444337 -0.04464164 -0.03854032 -0.01255612  0.00943866  0.00526224\n",
      " -0.00658447 -0.00259226  0.0311926   0.09833287]\n",
      "[ 0.0090156   0.05068012 -0.00512814 -0.06419889  0.06998059  0.0838625\n",
      " -0.03971921  0.07120998  0.03954249  0.01963284]\n",
      "[-0.06363517  0.05068012  0.09618619  0.10450081 -0.00294491 -0.00475851\n",
      " -0.00658447 -0.00259226  0.02268774  0.07348023]\n",
      "[-0.02004471 -0.04464164  0.097264   -0.00567042 -0.00569682 -0.02386057\n",
      " -0.02131102 -0.00259226  0.06168429  0.04034337]\n",
      "[ 0.01628068 -0.04464164  0.01750591 -0.02288468  0.06034892  0.0444058\n",
      "  0.03023191 -0.00259226  0.03723625 -0.0010777 ]\n",
      "[-0.02004471 -0.04464164 -0.046085   -0.0986274  -0.07587041 -0.05987264\n",
      " -0.01762938 -0.03949338 -0.05140387 -0.04664087]\n",
      "[ 0.04897352 -0.04464164  0.06061839 -0.02288468 -0.02358421 -0.07271173\n",
      " -0.04340085 -0.00259226  0.10413565  0.03620126]\n",
      "[-0.06000263  0.05068012 -0.04716281 -0.02288468 -0.07174256 -0.0576806\n",
      " -0.00658447 -0.03949338 -0.06291688 -0.05492509]\n",
      "[ 0.01628068 -0.04464164 -0.04500719 -0.05731319 -0.03459183 -0.05392282\n",
      "  0.07441156 -0.0763945  -0.04257085  0.04034337]\n",
      "[-0.03094232 -0.04464164  0.00564998 -0.00911327  0.01907033  0.00682798\n",
      "  0.07441156 -0.03949338 -0.04117617 -0.04249877]\n",
      "[ 0.0090156  -0.04464164 -0.02021751 -0.05387034  0.03145391  0.02060651\n",
      "  0.05600338 -0.03949338 -0.01090325 -0.0010777 ]\n",
      "[ 0.02354575  0.05068012 -0.0374625  -0.04698463 -0.0910059  -0.07553006\n",
      " -0.03235593 -0.03949338 -0.03074792 -0.01350402]\n",
      "[ 0.08166637  0.05068012  0.00133873  0.03564379  0.12639466  0.09106492\n",
      "  0.019187    0.03430886  0.08449153 -0.03007245]\n",
      "[ 0.0562386  -0.04464164 -0.05794093 -0.00797713  0.0520932   0.04910302\n",
      "  0.05600338 -0.02141183 -0.02832317  0.04448548]\n",
      "[-0.06000263  0.05068012  0.01535029 -0.01944183  0.03695772  0.04816358\n",
      "  0.019187   -0.00259226 -0.03074792 -0.0010777 ]\n",
      "[ 0.06350368  0.05068012  0.08864151  0.0700723   0.02044629  0.03751653\n",
      " -0.05076412  0.07120998  0.02929656  0.07348023]\n",
      "[ 0.06350368 -0.04464164  0.01750591  0.02187239  0.00806271  0.02154596\n",
      " -0.03603757  0.03430886  0.01990749  0.01134862]\n",
      "[-0.09269548 -0.04464164 -0.0816528  -0.05731319 -0.06073493 -0.0680145\n",
      "  0.0486401  -0.0763945  -0.0664902  -0.02178823]\n",
      "[-0.01277963 -0.04464164 -0.02345095 -0.04009893 -0.01670444  0.00463594\n",
      " -0.01762938 -0.00259226 -0.03845972 -0.03835666]\n",
      "[-0.02367725 -0.04464164 -0.06979687 -0.06419889 -0.05935898 -0.05047819\n",
      "  0.019187   -0.03949338 -0.08913335 -0.05078298]\n",
      "[-0.02730979 -0.04464164 -0.06332999 -0.05042748 -0.08962994 -0.10433972\n",
      "  0.05232174 -0.0763945  -0.0561531  -0.06735141]\n",
      "[-0.06726771 -0.04464164 -0.05901875  0.03220094 -0.05110326 -0.04953874\n",
      " -0.01026611 -0.03949338  0.00200444  0.02377494]\n",
      "[ 0.00538306  0.05068012  0.03043966  0.0838437  -0.03734373 -0.0473467\n",
      "  0.01550536 -0.03949338  0.0086406   0.01549073]\n",
      "[ 0.00538306  0.05068012  0.01750591  0.03220094  0.12777061  0.12739014\n",
      " -0.02131102  0.07120998  0.06257762  0.01549073]\n",
      "[-0.03457486 -0.04464164 -0.0374625  -0.06075604  0.02044629  0.04346635\n",
      " -0.01394774 -0.00259226 -0.03074792 -0.07149352]\n",
      "[-0.00188202 -0.04464164 -0.06979687 -0.01255612 -0.00019301 -0.00914259\n",
      "  0.07072993 -0.03949338 -0.06291688  0.04034337]\n",
      "[ 0.01628068 -0.04464164  0.02612841  0.05860761 -0.06073493 -0.04421522\n",
      " -0.01394774 -0.03395821 -0.05140387 -0.02593034]\n",
      "[ 0.03807591  0.05068012  0.00888341  0.04252949 -0.04284755 -0.02104223\n",
      " -0.03971921 -0.00259226 -0.01811369  0.00720652]\n",
      "[ 0.03081083  0.05068012 -0.03422907  0.04366563  0.05759701  0.06883138\n",
      " -0.03235593  0.05755657  0.0354587   0.08590655]\n",
      "[-0.05273755  0.05068012 -0.06225218  0.01154383 -0.00844872 -0.03669965\n",
      "  0.12227286 -0.0763945  -0.0868271   0.00306441]\n",
      "[ 0.0090156   0.05068012  0.03043966  0.04252949 -0.00294491  0.03689023\n",
      " -0.06549067  0.07120998 -0.02364686  0.01549073]\n",
      "[ 0.02717829  0.05068012 -0.00620595  0.02875809 -0.01670444 -0.00162703\n",
      " -0.0581274   0.03430886  0.02929656  0.03205916]\n",
      "[-0.00188202 -0.04464164 -0.02668438  0.04941519  0.05897297 -0.01603186\n",
      " -0.04708248  0.07120998  0.13359728  0.01963284]\n",
      "[ 0.01264814 -0.04464164  0.02289497  0.05285804  0.00806271 -0.02855779\n",
      "  0.03759519 -0.03949338  0.05471997 -0.02593034]\n",
      "[ 0.01628068  0.05068012 -0.046085    0.01154383 -0.03321588 -0.01603186\n",
      " -0.01026611 -0.00259226 -0.04398377 -0.04249877]\n",
      "[-0.01641217 -0.04464164 -0.03530688 -0.02632753  0.03282986  0.01716188\n",
      "  0.10018303 -0.03949338 -0.07020936 -0.07977773]\n",
      "[ 0.04170844 -0.04464164 -0.00836158 -0.05731319  0.00806271 -0.03137613\n",
      "  0.15172596 -0.0763945  -0.08023652 -0.01764613]\n",
      "[-0.01641217 -0.04464164  0.05415152  0.0700723  -0.03321588 -0.0279315\n",
      "  0.00814208 -0.03949338 -0.02712902 -0.00936191]\n",
      "[-0.0854304  -0.04464164 -0.00405033 -0.00911327 -0.00294491  0.00776743\n",
      "  0.02286863 -0.03949338 -0.0611758  -0.01350402]\n",
      "[ 0.00175052 -0.04464164 -0.046085   -0.03321323 -0.07311851 -0.08147988\n",
      "  0.04495846 -0.06938329 -0.0611758  -0.07977773]\n",
      "[-0.00551455 -0.04464164  0.00888341 -0.05042748  0.0259501   0.04722413\n",
      " -0.04340085  0.07120998  0.01482098  0.00306441]\n",
      "[ 0.02354575 -0.04464164  0.01966154 -0.01255612  0.08374012  0.03876913\n",
      "  0.06336665 -0.00259226  0.06605067  0.04862759]\n",
      "[ 0.02354575  0.05068012 -0.03961813 -0.00567042 -0.04835136 -0.03325502\n",
      "  0.01182372 -0.03949338 -0.10163996 -0.06735141]\n",
      "[ 0.00538306  0.05068012 -0.00189471  0.00810098 -0.00432087 -0.01571871\n",
      " -0.00290283 -0.00259226  0.03839393 -0.01350402]\n",
      "[ 0.0562386   0.05068012  0.02181716  0.0563009  -0.00707277  0.01810133\n",
      " -0.03235593 -0.00259226 -0.02364686  0.02377494]\n",
      "[-0.00914709 -0.04464164 -0.06225218 -0.07452744 -0.02358421 -0.01321352\n",
      "  0.00446045 -0.03949338 -0.03581619 -0.04664087]\n",
      "[ 0.06350368  0.05068012 -0.00405033 -0.01255612  0.10300346  0.04878988\n",
      "  0.05600338 -0.00259226  0.08449153 -0.01764613]\n",
      "[ 0.04897352 -0.04464164  0.02720622 -0.02519139  0.02319819  0.01841448\n",
      " -0.06180903  0.08006625  0.07222193  0.03205916]\n",
      "[ 0.01264814 -0.04464164  0.02612841  0.0631866   0.1250187   0.09169122\n",
      "  0.06336665 -0.00259226  0.05757316 -0.02178823]\n",
      "[ 0.04897352  0.05068012 -0.03099563 -0.04929134  0.0493413  -0.00413221\n",
      "  0.13331777 -0.05351581  0.02131129  0.01963284]\n",
      "[ 0.04534098  0.05068012 -0.00836158 -0.03321323 -0.00707277  0.00119131\n",
      " -0.03971921  0.03430886  0.02993465  0.02791705]\n",
      "[ 0.0090156  -0.04464164  0.04552903  0.02875809  0.01219057 -0.01383982\n",
      "  0.02655027 -0.03949338  0.04613307  0.03620126]\n",
      "[ 0.03081083  0.05068012  0.03259528  0.04941519 -0.04009564 -0.04358892\n",
      " -0.06917231  0.03430886  0.06301517  0.00306441]\n",
      "[-0.04910502 -0.04464164  0.00457217  0.01154383 -0.03734373 -0.01853704\n",
      " -0.01762938 -0.00259226 -0.03980883 -0.02178823]\n",
      "[ 0.01264814  0.05068012  0.03582872  0.04941519  0.05346915  0.0741549\n",
      " -0.06917231  0.14501222  0.04560437  0.04862759]\n",
      "[ 0.06713621  0.05068012 -0.00620595  0.0631866  -0.04284755 -0.09588471\n",
      "  0.05232174 -0.0763945   0.05942362  0.05276969]\n",
      "[ 0.00538306 -0.04464164 -0.00297252  0.04941519  0.07410845  0.07071027\n",
      "  0.04495846 -0.00259226 -0.00149595 -0.00936191]\n",
      "[ 0.06350368 -0.04464164 -0.05039625  0.10794366  0.03145391  0.01935392\n",
      " -0.01762938  0.02360753  0.05803805  0.04034337]\n",
      "[-0.00188202 -0.04464164  0.05415152 -0.0665056   0.07273249  0.05661859\n",
      " -0.04340085  0.08486339  0.08449153  0.04862759]\n",
      "[-0.0382074   0.05068012  0.00457217  0.03564379 -0.01120063  0.00588854\n",
      " -0.04708248  0.03430886  0.01630682 -0.0010777 ]\n",
      "[ 0.06713621 -0.04464164  0.03690653 -0.05042748 -0.02358421 -0.03450761\n",
      "  0.0486401  -0.03949338 -0.02595311 -0.03835666]\n",
      "[ 0.01991321 -0.04464164 -0.04069594 -0.01599898 -0.00844872 -0.0175976\n",
      "  0.05232174 -0.03949338 -0.03074792  0.00306441]\n",
      "[-0.04183994 -0.04464164 -0.06656343 -0.04698463 -0.03734373 -0.04327577\n",
      "  0.0486401  -0.03949338 -0.0561531  -0.01350402]\n",
      "[-0.08906294 -0.04464164 -0.06117437 -0.02632753 -0.05523112 -0.05454912\n",
      "  0.04127682 -0.0763945  -0.09393727 -0.05492509]\n",
      "[-0.07816532  0.05068012  0.07786339  0.05285804  0.07823631  0.0644473\n",
      "  0.02655027 -0.00259226  0.04067283 -0.00936191]\n",
      "[ 0.03444337  0.05068012  0.02828403 -0.03321323 -0.04559945 -0.00976889\n",
      " -0.05076412 -0.00259226 -0.05947118 -0.02178823]\n",
      "[ 0.06713621  0.05068012 -0.02560657 -0.04009893 -0.06348684 -0.05987264\n",
      " -0.00290283 -0.03949338 -0.01919845  0.01134862]\n",
      "[-0.07453279 -0.04464164 -0.0105172  -0.00567042 -0.06623874 -0.0570543\n",
      " -0.00290283 -0.03949338 -0.04257085 -0.0010777 ]\n",
      "[ 0.03081083 -0.04464164 -0.03315126 -0.02288468 -0.0469754  -0.08116674\n",
      "  0.10386467 -0.0763945  -0.03980883 -0.05492509]\n",
      "[-0.04547248 -0.04464164  0.01535029 -0.07452744 -0.04972731 -0.01728445\n",
      " -0.02867429 -0.00259226 -0.10436552 -0.07563562]\n",
      "[-0.06363517 -0.04464164 -0.03315126 -0.03321323  0.00118295  0.02405115\n",
      " -0.02499266 -0.00259226 -0.02251653 -0.05906719]\n",
      "[-0.02730979  0.05068012 -0.02345095 -0.01599898  0.01356652  0.0127778\n",
      "  0.02655027 -0.00259226 -0.01090325 -0.02178823]\n",
      "[ 0.06713621 -0.04464164 -0.03854032 -0.02632753 -0.03183992 -0.02636575\n",
      "  0.00814208 -0.03949338 -0.02712902  0.00306441]\n",
      "[ 0.04170844  0.05068012  0.07139652  0.00810098  0.03833367  0.01590929\n",
      " -0.01762938  0.03430886  0.07340696  0.08590655]\n",
      "[ 0.03081083 -0.04464164  0.10480869  0.076958   -0.01120063 -0.01133463\n",
      " -0.0581274   0.03430886  0.05710826  0.03620126]\n",
      "[ 0.03444337  0.05068012  0.12528712  0.02875809 -0.05385517 -0.01290037\n",
      " -0.10230705  0.1081111   0.00027248  0.02791705]\n",
      "[-0.02367725 -0.04464164 -0.06548562 -0.08141314 -0.03871969 -0.05360967\n",
      "  0.05968501 -0.0763945  -0.03712884 -0.04249877]\n",
      "[ 0.01264814  0.05068012  0.00026092 -0.01141998  0.03970963  0.05724488\n",
      " -0.03971921  0.05608052  0.02405509  0.03205916]\n",
      "[ 0.06713621  0.05068012 -0.01482845  0.05860761 -0.05935898 -0.03450761\n",
      " -0.06180903  0.01290621 -0.00514219  0.04862759]\n",
      "[-0.06726771 -0.04464164 -0.0547075  -0.02632753 -0.07587041 -0.08210618\n",
      "  0.0486401  -0.0763945  -0.0868271  -0.10463037]\n",
      "[-0.06363517  0.05068012 -0.07949718 -0.00567042 -0.07174256 -0.06644876\n",
      " -0.01026611 -0.03949338 -0.01811369 -0.05492509]\n",
      "[-0.05637009 -0.04464164 -0.08057499 -0.08485599 -0.03734373 -0.0370128\n",
      "  0.03391355 -0.03949338 -0.0561531  -0.13776723]\n",
      "[ 0.07440129 -0.04464164  0.0347509   0.09417226  0.05759701  0.02029337\n",
      "  0.02286863 -0.00259226  0.07379893 -0.02178823]\n",
      "[-0.00188202  0.05068012  0.07139652  0.09761511  0.08786798  0.0754075\n",
      " -0.02131102  0.07120998  0.07142887  0.02377494]\n",
      "[-0.03457486  0.05068012 -0.02560657 -0.01713512  0.00118295 -0.00287962\n",
      "  0.00814208 -0.01550765  0.01482098  0.04034337]\n",
      "[-0.0854304   0.05068012 -0.03099563 -0.02288468 -0.06348684 -0.05423597\n",
      "  0.019187   -0.03949338 -0.09643495 -0.03421455]\n",
      "[ 4.53409833e-02 -4.46416365e-02 -2.56065715e-02 -1.25561242e-02\n",
      "  1.76943802e-02 -6.12835791e-05  8.17748397e-02 -3.94933829e-02\n",
      " -3.19876395e-02 -7.56356220e-02]\n",
      "[-0.07816532 -0.04464164 -0.01698407 -0.01255612 -0.00019301 -0.01352667\n",
      "  0.07072993 -0.03949338 -0.04117617 -0.09220405]\n",
      "[-0.00551455 -0.04464164  0.04229559  0.04941519  0.02457414 -0.02386057\n",
      "  0.07441156 -0.03949338  0.05227699  0.02791705]\n",
      "[ 0.03081083  0.05068012  0.05954058  0.0563009  -0.02220825  0.00119131\n",
      " -0.03235593 -0.00259226 -0.02479543 -0.01764613]\n",
      "[ 0.07440129 -0.04464164  0.03151747  0.10105796  0.04658939  0.03689023\n",
      "  0.01550536 -0.00259226  0.03365381  0.04448548]\n",
      "[-0.07453279  0.05068012  0.05522933 -0.04009893  0.05346915  0.05317395\n",
      " -0.04340085  0.07120998  0.06123763 -0.03421455]\n",
      "[ 0.00538306 -0.04464164 -0.05794093 -0.02288468 -0.0676147  -0.06832765\n",
      " -0.05444576 -0.00259226  0.04289704 -0.08391984]\n",
      "[ 0.04534098 -0.04464164  0.0519959  -0.05387034  0.06310082  0.06476045\n",
      " -0.01026611  0.03430886  0.03723625  0.01963284]\n",
      "[ 0.04534098  0.05068012 -0.03530688  0.0631866  -0.00432087 -0.00162703\n",
      " -0.01026611 -0.00259226  0.01556846  0.0569118 ]\n",
      "[ 0.07076875  0.05068012 -0.00728377  0.04941519  0.06034892 -0.00444536\n",
      " -0.05444576  0.1081111   0.12902125  0.0569118 ]\n",
      "[ 0.05987114 -0.04464164 -0.00081689 -0.08485599  0.0754844   0.07947843\n",
      "  0.00446045  0.03430886  0.02337142  0.02791705]\n",
      "[ 0.0090156  -0.04464164 -0.01267283  0.02875809 -0.01808039 -0.00507166\n",
      " -0.04708248  0.03430886  0.02337142 -0.0052198 ]\n",
      "[-0.00914709 -0.04464164 -0.05686312 -0.05042748  0.02182224  0.04534524\n",
      " -0.02867429  0.03430886 -0.00991877 -0.01764613]\n",
      "[ 0.03807591  0.05068012 -0.00943939  0.00235142  0.00118295  0.03751653\n",
      " -0.05444576  0.05017634 -0.02595311  0.10661708]\n",
      "[ 0.00175052  0.05068012 -0.00620595 -0.01944183 -0.00982468  0.00494909\n",
      " -0.03971921  0.03430886  0.01482098  0.09833287]\n",
      "[-0.00551455  0.05068012 -0.03315126 -0.01599898  0.00806271  0.01622244\n",
      "  0.01550536 -0.00259226 -0.02832317 -0.07563562]\n",
      "[-0.00551455 -0.04464164  0.05630715 -0.03665608 -0.04835136 -0.04296262\n",
      " -0.07285395  0.03799897  0.05078203  0.0569118 ]\n",
      "[-0.02730979 -0.04464164 -0.03530688 -0.02977038 -0.05660707 -0.05862005\n",
      "  0.03023191 -0.03949338 -0.04987245 -0.12948301]\n",
      "[-0.00914709 -0.04464164  0.03798434 -0.04009893 -0.02496016 -0.00381907\n",
      " -0.04340085  0.0158583  -0.00514219  0.02791705]\n",
      "[ 0.01628068 -0.04464164 -0.02452876  0.03564379 -0.00707277 -0.00319277\n",
      " -0.01394774 -0.00259226  0.01556846  0.01549073]\n",
      "[-0.05637009 -0.04464164  0.09295276 -0.01944183  0.01494247  0.02342485\n",
      " -0.02867429  0.02545259  0.02606052  0.04034337]\n",
      "[ 0.02354575  0.05068012 -0.03207344 -0.04009893 -0.03183992 -0.02166853\n",
      " -0.01394774 -0.00259226 -0.01090325  0.01963284]\n",
      "[ 0.02354575  0.05068012 -0.03099563 -0.00567042 -0.01670444  0.01778818\n",
      " -0.03235593 -0.00259226 -0.07409261 -0.03421455]\n",
      "[ 0.03081083 -0.04464164  0.00564998  0.01154383  0.07823631  0.07791268\n",
      " -0.04340085  0.1081111   0.06605067  0.01963284]\n",
      "[ 0.07803383  0.05068012 -0.02452876 -0.04240564  0.00668676  0.05286081\n",
      " -0.06917231  0.08080427 -0.03712884  0.0569118 ]\n",
      "[ 0.04534098 -0.04464164 -0.00620595 -0.01599898  0.1250187   0.1251981\n",
      "  0.019187    0.03430886  0.03243232 -0.0052198 ]\n",
      "[ 0.0090156   0.05068012 -0.03961813  0.02875809  0.03833367  0.0735286\n",
      " -0.07285395  0.1081111   0.01556846 -0.04664087]\n",
      "[-0.02367725 -0.04464164 -0.01590626 -0.01255612  0.02044629  0.04127431\n",
      " -0.04340085  0.03430886  0.0140735  -0.00936191]\n",
      "[ 0.04170844 -0.04464164 -0.00728377  0.02875809 -0.04284755 -0.04828615\n",
      "  0.05232174 -0.0763945  -0.07213275  0.02377494]\n",
      "[ 0.04534098 -0.04464164 -0.0191397   0.02187239  0.02732605 -0.01352667\n",
      "  0.10018303 -0.03949338  0.01776532 -0.01350402]\n",
      "[ 0.04170844  0.05068012 -0.03207344 -0.02288468 -0.04972731 -0.04014429\n",
      "  0.03023191 -0.03949338 -0.12609712  0.01549073]\n",
      "[ 0.05260606  0.05068012 -0.02452876  0.0563009  -0.00707277 -0.00507166\n",
      " -0.02131102 -0.00259226  0.02671684 -0.03835666]\n",
      "[-0.04910502 -0.04464164  0.16085492 -0.04698463 -0.02908802 -0.01978964\n",
      " -0.04708248  0.03430886  0.02802037  0.01134862]\n",
      "[-0.02367725 -0.04464164  0.04013997 -0.01255612 -0.00982468 -0.00100073\n",
      " -0.00290283 -0.00259226 -0.01189685 -0.03835666]\n",
      "[-0.09269548 -0.04464164 -0.04069594 -0.01944183 -0.06899065 -0.07928784\n",
      "  0.04127682 -0.0763945  -0.04117617 -0.09634616]\n",
      "[ 0.03081083  0.05068012  0.04660684 -0.01599898  0.02044629  0.05066877\n",
      " -0.0581274   0.07120998  0.00620674  0.00720652]\n",
      "[ 0.05987114  0.05068012  0.04121778  0.01154383  0.04108558  0.07071027\n",
      " -0.03603757  0.03430886 -0.01090325 -0.03007245]\n",
      "[ 0.0090156  -0.04464164  0.01427248  0.01498668  0.05484511  0.04722413\n",
      "  0.07072993 -0.03949338 -0.03324559 -0.05906719]\n",
      "[ 0.02354575  0.05068012 -0.0191397   0.04941519 -0.06348684 -0.06112523\n",
      "  0.00446045 -0.03949338 -0.02595311 -0.01350402]\n",
      "[-0.09996055 -0.04464164 -0.06764124 -0.10895595 -0.07449446 -0.07271173\n",
      "  0.01550536 -0.03949338 -0.04987245 -0.00936191]\n",
      "[ 0.01991321  0.05068012  0.10480869  0.0700723  -0.03596778 -0.0266789\n",
      " -0.02499266 -0.00259226  0.00370906  0.04034337]\n",
      "[ 0.00538306 -0.04464164  0.04984027  0.09761511 -0.01532849 -0.016345\n",
      " -0.00658447 -0.00259226  0.01703607 -0.01350402]\n",
      "[ 0.01991321  0.05068012  0.00996123  0.01842953  0.01494247  0.04471895\n",
      " -0.06180903  0.07120998  0.00943366 -0.0632093 ]\n",
      "[ 0.03081083  0.05068012  0.05630715  0.076958    0.0493413  -0.01227407\n",
      " -0.03603757  0.07120998  0.1200515   0.09004865]\n",
      "[-0.03094232  0.05068012  0.05954058  0.00121528  0.01219057  0.03156671\n",
      " -0.04340085  0.03430886  0.01482098  0.00720652]\n",
      "[-0.00551455  0.05068012 -0.00836158 -0.00222757 -0.03321588 -0.06363042\n",
      " -0.03603757 -0.00259226  0.08059005  0.00720652]\n",
      "[-0.07090025  0.05068012 -0.07518593 -0.04009893 -0.05110326 -0.01509241\n",
      " -0.03971921 -0.00259226 -0.09643495 -0.03421455]\n",
      "[-0.06000263 -0.04464164  0.04445121 -0.01944183 -0.00982468 -0.00757685\n",
      "  0.02286863 -0.03949338 -0.02712902 -0.00936191]\n",
      "[-0.04547248  0.05068012 -0.02452876  0.05974375  0.0053108   0.01496984\n",
      " -0.05444576  0.07120998  0.04234098  0.01549073]\n",
      "[-0.00188202  0.05068012  0.03043966  0.05285804  0.03970963  0.05661859\n",
      " -0.03971921  0.07120998  0.02539508  0.02791705]\n",
      "[-0.03094232 -0.04464164  0.04660684  0.01498668 -0.01670444 -0.04703355\n",
      "  0.00077881 -0.00259226  0.06345272 -0.02593034]\n",
      "[ 0.04534098  0.05068012  0.06816308  0.00810098 -0.01670444  0.00463594\n",
      " -0.07653559  0.07120998  0.03243232 -0.01764613]\n",
      "[-0.02367725 -0.04464164  0.05954058 -0.04009893 -0.04284755 -0.04358892\n",
      "  0.01182372 -0.03949338 -0.01599887  0.04034337]\n",
      "[ 0.07076875 -0.04464164  0.01211685  0.04252949  0.07135654  0.0534871\n",
      "  0.05232174 -0.00259226  0.02539508 -0.0052198 ]\n",
      "[ 0.01991321  0.05068012  0.01427248  0.0631866   0.01494247  0.02029337\n",
      " -0.04708248  0.03430886  0.04666178  0.09004865]\n",
      "[ 0.05987114  0.05068012  0.02289497  0.04941519  0.01631843  0.01183836\n",
      " -0.01394774 -0.00259226  0.03954249  0.01963284]\n",
      "[ 0.11072668  0.05068012  0.00672779  0.02875809 -0.02771206 -0.0072637\n",
      " -0.04708248  0.03430886  0.00200444  0.07762233]\n",
      "[ 0.06350368  0.05068012 -0.00189471  0.06662945  0.09061988  0.10891438\n",
      "  0.02286863  0.01770335 -0.03581619  0.00306441]\n",
      "[ 0.03081083 -0.04464164  0.04013997  0.076958    0.01769438  0.03782968\n",
      " -0.02867429  0.03430886 -0.00149595  0.1190434 ]\n",
      "[-0.01277963 -0.04464164 -0.06548562 -0.06994845  0.00118295  0.01684873\n",
      " -0.00290283 -0.0070204  -0.03074792 -0.05078298]\n",
      "[-0.0854304  -0.04464164  0.02073935 -0.02632753  0.0053108   0.01966707\n",
      " -0.00290283 -0.00259226 -0.02364686  0.00306441]\n",
      "[ 0.00538306 -0.04464164  0.05846277 -0.04354178 -0.07311851 -0.07239858\n",
      "  0.019187   -0.0763945  -0.05140387 -0.02593034]\n",
      "[ 0.0090156  -0.04464164 -0.03099563  0.02187239  0.00806271  0.00870687\n",
      "  0.00446045 -0.00259226  0.00943366  0.01134862]\n",
      "[-0.05273755 -0.04464164 -0.01267283 -0.06075604 -0.00019301  0.00808058\n",
      "  0.01182372 -0.00259226 -0.02712902 -0.05078298]\n",
      "[ 0.04170844  0.05068012  0.06169621 -0.04009893 -0.01395254  0.00620169\n",
      " -0.02867429 -0.00259226 -0.01495969  0.01134862]\n",
      "[ 0.01264814  0.05068012 -0.02021751 -0.00222757  0.03833367  0.05317395\n",
      " -0.00658447  0.03430886 -0.00514219 -0.00936191]\n",
      "[-0.02367725 -0.04464164  0.04552903  0.09072941 -0.01808039 -0.03544706\n",
      "  0.07072993 -0.03949338 -0.03452178 -0.00936191]\n",
      "[-0.05637009  0.05068012 -0.0105172   0.02531524  0.02319819  0.04002172\n",
      " -0.03971921  0.03430886  0.02060939  0.0569118 ]\n",
      "[-0.00188202 -0.04464164 -0.06656343  0.00121528 -0.00294491  0.0030702\n",
      "  0.01182372 -0.00259226 -0.02029232 -0.02593034]\n",
      "[ 0.00175052  0.05068012  0.02612841 -0.00911327  0.02457414  0.03845598\n",
      " -0.02131102  0.03430886  0.00943366  0.00306441]\n",
      "[-0.07453279  0.05068012 -0.00943939  0.01498668 -0.03734373 -0.02166853\n",
      " -0.01394774 -0.00259226 -0.03324559  0.01134862]\n"
     ]
    }
   ],
   "source": [
    "for x in X_train:\n",
    "    print(x)\n"
   ]
  },
  {
   "cell_type": "code",
   "execution_count": 160,
   "id": "75f433de",
   "metadata": {},
   "outputs": [
    {
     "data": {
      "text/plain": [
       "199.0"
      ]
     },
     "execution_count": 160,
     "metadata": {},
     "output_type": "execute_result"
    }
   ],
   "source": [
    "y_train[0]"
   ]
  },
  {
   "cell_type": "code",
   "execution_count": 191,
   "id": "8ad32e4d",
   "metadata": {},
   "outputs": [],
   "source": [
    "loss=[]\n",
    "\n",
    "m =-65,-55,-50,-40,-38,-35,-32,-30,-25,-18,-15,-10,-6,-4,-2,0,2,4,6\n",
    "cnt=0\n",
    "\n",
    "## sqr(yhet-y)\n",
    "\n",
    "for slop in m:\n",
    "    cnt=0\n",
    "    sumerror = 0\n",
    "    cost = sumerror/len(X_train[0])\n",
    "    for x in X_train:\n",
    "        yhat = (slop*x[cnt])+(slop*x[cnt+1])+(slop*x[cnt+2])+(slop*x[cnt+3])+(slop*x[cnt+4])+(slop*x[cnt+5])+(slop*x[cnt+6])+(slop*x[cnt+7])+(slop*x[cnt+8])+(slop*x[cnt+9])\n",
    "        error = (yhat-y_train[cnt])*(yhat-y_train[cnt])\n",
    "        sumerror = error+sumerror\n",
    "    cnt+=1\n",
    "    cost = sumerror/len(X_train[0])\n",
    "    loss.append(cost)"
   ]
  },
  {
   "cell_type": "code",
   "execution_count": 194,
   "id": "dc9de550",
   "metadata": {},
   "outputs": [
    {
     "data": {
      "text/plain": [
       "[1396986.687641749,\n",
       " 1395936.6444285125,\n",
       " 1395574.291910936,\n",
       " 1395174.9250538645,\n",
       " 1395147.1057909406,\n",
       " 1395137.9107143672,\n",
       " 1395167.7562191633,\n",
       " 1395209.3424342335,\n",
       " 1395389.2202134575,\n",
       " 1395823.2384841035,\n",
       " 1396074.313949994,\n",
       " 1396579.5299073018,\n",
       " 1397061.783835888,\n",
       " 1397328.9378544295,\n",
       " 1397613.4432424644,\n",
       " 1397915.3,\n",
       " 1398234.5081270318,\n",
       " 1398571.0676235629,\n",
       " 1398924.978489591]"
      ]
     },
     "execution_count": 194,
     "metadata": {},
     "output_type": "execute_result"
    }
   ],
   "source": [
    "loss"
   ]
  },
  {
   "cell_type": "code",
   "execution_count": 183,
   "id": "cbe31e69",
   "metadata": {},
   "outputs": [],
   "source": [
    "# errormargin=np.array([])\n",
    "\n",
    "# for slope in m:\n",
    "#     counter=0\n",
    "#     sumerror=0\n",
    "#     cost=sumerror/18\n",
    "#     for x in x_data:\n",
    "#         yhat=slope*x\n",
    "#         error=(yhat-y_data[counter])*(yhat-y_data[counter])\n",
    "#         sumerror=error+sumerror\n",
    "#         counter=counter+1  \n",
    "#     cost=sumerror/18\n",
    "#     errormargin=np.append(errormargin,cost)"
   ]
  },
  {
   "cell_type": "code",
   "execution_count": 184,
   "id": "892d9d64",
   "metadata": {},
   "outputs": [
    {
     "data": {
      "text/plain": [
       "Text(0, 0.5, 'Loss')"
      ]
     },
     "execution_count": 184,
     "metadata": {},
     "output_type": "execute_result"
    },
    {
     "data": {
      "image/png": "[encoded data removed]",
      "text/plain": [
       "<Figure size 640x480 with 1 Axes>"
      ]
     },
     "metadata": {},
     "output_type": "display_data"
    }
   ],
   "source": [
    "plt.plot(m,loss)\n",
    "plt.xlabel(\"Slop\")\n",
    "plt.ylabel(\"Loss\")"
   ]
  },
  {
   "cell_type": "code",
   "execution_count": 190,
   "id": "d130ff02",
   "metadata": {},
   "outputs": [
    {
     "data": {
      "text/plain": [
       "(3530,)"
      ]
     },
     "execution_count": 190,
     "metadata": {},
     "output_type": "execute_result"
    }
   ],
   "source": [
    "X_train.flatten().shape\n"
   ]
  },
  {
   "cell_type": "code",
   "execution_count": null,
   "id": "bbbccdad",
   "metadata": {},
   "outputs": [],
   "source": []
  },
  {
   "cell_type": "code",
   "execution_count": null,
   "id": "4999e48e",
   "metadata": {},
   "outputs": [],
   "source": [
    "# Finding the M and C value using OLS \n",
    "\n",
    "import matplotlib.pyplot as plt\n",
    "import numpy as np\n",
    "from sklearn import datasets, linear_model\n",
    "from sklearn.metrics import mean_squared_error, r2_score\n"
   ]
  },
  {
   "cell_type": "code",
   "execution_count": null,
   "id": "0599f514",
   "metadata": {},
   "outputs": [],
   "source": [
    "import matplotlib.pyplot as plt\n",
    "import numpy as np\n",
    "from sklearn import datasets, linear_model\n",
    "from sklearn.metrics import mean_squared_error, r2_score\n",
    "\n",
    "# Load the diabetes dataset\n",
    "diabetes_X, diabetes_y = datasets.load_diabetes(return_X_y=True)\n",
    "\n",
    "# Use only one feature\n",
    "diabetes_X = diabetes_X[:, np.newaxis, 2]\n",
    "\n",
    "# Split the data into training/testing sets\n",
    "diabetes_X_train = diabetes_X[:-20]\n",
    "diabetes_X_test = diabetes_X[-20:]\n",
    "\n",
    "# Split the targets into training/testing sets\n",
    "diabetes_y_train = diabetes_y[:-20]\n",
    "diabetes_y_test = diabetes_y[-20:]\n",
    "\n",
    "# Create linear regression object\n",
    "regr = linear_model.LinearRegression()\n",
    "\n",
    "# Train the model using the training sets\n",
    "regr.fit(diabetes_X_train, diabetes_y_train)\n",
    "\n",
    "# Make predictions using the testing set\n",
    "diabetes_y_pred = regr.predict(diabetes_X_test)\n",
    "\n",
    "# The coefficients\n",
    "print(\"Coefficients: \\n\", regr.coef_)\n",
    "# The mean squared error\n",
    "print(\"Mean squared error: %.2f\" % mean_squared_error(diabetes_y_test, diabetes_y_pred))\n",
    "# The coefficient of determination: 1 is perfect prediction\n",
    "print(\"Coefficient of determination: %.2f\" % r2_score(diabetes_y_test, diabetes_y_pred))\n",
    "\n",
    "# Plot outputs\n",
    "plt.scatter(diabetes_X_test, diabetes_y_test, color=\"black\")\n",
    "plt.plot(diabetes_X_test, diabetes_y_pred, color=\"blue\", linewidth=3)\n",
    "\n",
    "plt.xticks(())\n",
    "plt.yticks(())\n",
    "\n",
    "plt.show()"
   ]
  }
 ],
 "metadata": {
  "kernelspec": {
   "display_name": "Python 3 (ipykernel)",
   "language": "python",
   "name": "python3"
  },
  "language_info": {
   "codemirror_mode": {
    "name": "ipython",
    "version": 3
   },
   "file_extension": ".py",
   "mimetype": "text/x-python",
   "name": "python",
   "nbconvert_exporter": "python",
   "pygments_lexer": "ipython3",
   "version": "3.10.1"
  }
 },
 "nbformat": 4,
 "nbformat_minor": 5
}

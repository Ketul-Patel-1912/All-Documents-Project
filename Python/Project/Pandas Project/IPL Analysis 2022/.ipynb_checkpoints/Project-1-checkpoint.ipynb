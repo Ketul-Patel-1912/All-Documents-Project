{
 "cells": [
  {
   "cell_type": "code",
   "execution_count": 1,
   "metadata": {
    "executionInfo": {
     "elapsed": 34,
     "status": "ok",
     "timestamp": 1653623984480,
     "user": {
      "displayName": "Ketul Patel",
      "userId": "15268562803887317419"
     },
     "user_tz": -330
    },
    "id": "DpIro8uUh3im"
   },
   "outputs": [],
   "source": [
    "import numpy as np\n",
    "import pandas as pd\n",
    "import matplotlib.pyplot as plt\n",
    "import seaborn as sns\n",
    "\n",
    "# plt.rcParams['font.size'] = 14\n",
    "\n",
    "# plt.rcParams['figure.facecolor'] = '#00000000'"
   ]
  },
  {
   "cell_type": "code",
   "execution_count": 2,
   "metadata": {
    "colab": {
     "base_uri": "https://localhost:8080/"
    },
    "executionInfo": {
     "elapsed": 27600,
     "status": "ok",
     "timestamp": 1653624012050,
     "user": {
      "displayName": "Ketul Patel",
      "userId": "15268562803887317419"
     },
     "user_tz": -330
    },
    "id": "yC1Ttbo6iL58",
    "outputId": "dcad1934-81eb-48a9-fcc0-68d223869b48"
   },
   "outputs": [],
   "source": [
    "# from google.colab import drive\n",
    "# drive.mount('/content/drive')"
   ]
  },
  {
   "cell_type": "markdown",
   "metadata": {
    "id": "SHA96BRpOhhG"
   },
   "source": [
    "# Usefull information from Match_Data table"
   ]
  },
  {
   "cell_type": "code",
   "execution_count": 3,
   "metadata": {
    "colab": {
     "base_uri": "https://localhost:8080/"
    },
    "executionInfo": {
     "elapsed": 15,
     "status": "ok",
     "timestamp": 1653624012051,
     "user": {
      "displayName": "Ketul Patel",
      "userId": "15268562803887317419"
     },
     "user_tz": -330
    },
    "id": "joiVMFe3omp_",
    "outputId": "29f23b10-bc3c-483d-d3cc-600bc73a2256"
   },
   "outputs": [],
   "source": [
    "## Checking Our Files are avilable\n",
    "\n",
    "# import os\n",
    "# data_dir = '/content/drive/MyDrive/Colab Notebooks'\n",
    "# os.listdir(data_dir)"
   ]
  },
  {
   "cell_type": "code",
   "execution_count": 4,
   "metadata": {
    "executionInfo": {
     "elapsed": 1185,
     "status": "ok",
     "timestamp": 1653640092928,
     "user": {
      "displayName": "Ketul Patel",
      "userId": "15268562803887317419"
     },
     "user_tz": -330
    },
    "id": "Epyh_gn-PBYq"
   },
   "outputs": [],
   "source": [
    "c='IPL_Ball_by_Ball_2022.csv'\n",
    "c2='IPL_Matches_2022.csv'\n",
    "c3='matches.csv'\n",
    "\n",
    "ball_data=pd.read_csv(c)\n",
    "match_data=pd.read_csv(c2)\n",
    "new_data=pd.read_csv(c3)"
   ]
  },
  {
   "cell_type": "code",
   "execution_count": 5,
   "metadata": {
    "colab": {
     "base_uri": "https://localhost:8080/"
    },
    "executionInfo": {
     "elapsed": 6,
     "status": "ok",
     "timestamp": 1653624012728,
     "user": {
      "displayName": "Ketul Patel",
      "userId": "15268562803887317419"
     },
     "user_tz": -330
    },
    "id": "g2G_iXTcPBSZ",
    "outputId": "33bbfd33-3b84-4a85-ade7-11e1ff8d2a65"
   },
   "outputs": [
    {
     "name": "stdout",
     "output_type": "stream",
     "text": [
      "(59, 20) (14233, 17) (71, 20)\n",
      "\n",
      " Index(['ID', 'City', 'Date', 'Season', 'MatchNumber', 'Team1', 'Team2',\n",
      "       'Venue', 'TossWinner', 'TossDecision', 'SuperOver', 'WinningTeam',\n",
      "       'WonBy', 'Margin', 'method', 'Player_of_Match', 'Team1Players',\n",
      "       'Team2Players', 'Umpire1', 'Umpire2'],\n",
      "      dtype='object')\n",
      "\n",
      " Index(['ID', 'innings', 'overs', 'ballnumber', 'batter', 'bowler',\n",
      "       'non-striker', 'extra_type', 'batsman_run', 'extras_run', 'total_run',\n",
      "       'non_boundary', 'isWicketDelivery', 'player_out', 'kind',\n",
      "       'fielders_involved', 'BattingTeam'],\n",
      "      dtype='object')\n",
      "\n",
      " Index(['match_id', 'date', 'venue', 'team1', 'team2', 'stage', 'toss_winner',\n",
      "       'toss_decision', 'first_ings_score', 'first_ings_wkts',\n",
      "       'second_ings_score', 'second_ings_wkts', 'match_winner', 'won_by',\n",
      "       'margin', 'player_of_the_match', 'top_scorer', 'highscore',\n",
      "       'best_bowling', 'best_bowling_figure'],\n",
      "      dtype='object')\n"
     ]
    }
   ],
   "source": [
    "#shape and columns in the dataframe\n",
    "\n",
    "print(match_data.shape,ball_data.shape,new_data.shape)\n",
    "\n",
    "print(\"\\n\",match_data.columns)\n",
    "print(\"\\n\",ball_data.columns)\n",
    "print(\"\\n\",new_data.columns)"
   ]
  },
  {
   "cell_type": "code",
   "execution_count": 6,
   "metadata": {
    "colab": {
     "base_uri": "https://localhost:8080/"
    },
    "executionInfo": {
     "elapsed": 1048,
     "status": "ok",
     "timestamp": 1653624013773,
     "user": {
      "displayName": "Ketul Patel",
      "userId": "15268562803887317419"
     },
     "user_tz": -330
    },
    "id": "xg1yGDShPBbl",
    "outputId": "2a27d2f1-ff44-47c3-d7c4-01545aa31531"
   },
   "outputs": [
    {
     "name": "stdout",
     "output_type": "stream",
     "text": [
      "<class 'pandas.core.frame.DataFrame'>\n",
      "RangeIndex: 59 entries, 0 to 58\n",
      "Data columns (total 20 columns):\n",
      " #   Column           Non-Null Count  Dtype  \n",
      "---  ------           --------------  -----  \n",
      " 0   ID               59 non-null     int64  \n",
      " 1   City             59 non-null     object \n",
      " 2   Date             59 non-null     object \n",
      " 3   Season           59 non-null     int64  \n",
      " 4   MatchNumber      59 non-null     int64  \n",
      " 5   Team1            59 non-null     object \n",
      " 6   Team2            59 non-null     object \n",
      " 7   Venue            59 non-null     object \n",
      " 8   TossWinner       59 non-null     object \n",
      " 9   TossDecision     59 non-null     object \n",
      " 10  SuperOver        59 non-null     object \n",
      " 11  WinningTeam      59 non-null     object \n",
      " 12  WonBy            59 non-null     object \n",
      " 13  Margin           59 non-null     int64  \n",
      " 14  method           0 non-null      float64\n",
      " 15  Player_of_Match  59 non-null     object \n",
      " 16  Team1Players     59 non-null     object \n",
      " 17  Team2Players     59 non-null     object \n",
      " 18  Umpire1          59 non-null     object \n",
      " 19  Umpire2          59 non-null     object \n",
      "dtypes: float64(1), int64(4), object(15)\n",
      "memory usage: 9.3+ KB\n"
     ]
    }
   ],
   "source": [
    "# types of data/variables in the given Match dataset..\n",
    "\n",
    "match_data.info()"
   ]
  },
  {
   "cell_type": "code",
   "execution_count": 7,
   "metadata": {
    "colab": {
     "base_uri": "https://localhost:8080/",
     "height": 300
    },
    "executionInfo": {
     "elapsed": 66,
     "status": "ok",
     "timestamp": 1653624013774,
     "user": {
      "displayName": "Ketul Patel",
      "userId": "15268562803887317419"
     },
     "user_tz": -330
    },
    "id": "O7poqBiHPBe0",
    "outputId": "007cf5f9-4ec8-487c-f011-c3e97378ba0d"
   },
   "outputs": [
    {
     "data": {
      "text/html": [
       "<div>\n",
       "<style scoped>\n",
       "    .dataframe tbody tr th:only-of-type {\n",
       "        vertical-align: middle;\n",
       "    }\n",
       "\n",
       "    .dataframe tbody tr th {\n",
       "        vertical-align: top;\n",
       "    }\n",
       "\n",
       "    .dataframe thead th {\n",
       "        text-align: right;\n",
       "    }\n",
       "</style>\n",
       "<table border=\"1\" class=\"dataframe\">\n",
       "  <thead>\n",
       "    <tr style=\"text-align: right;\">\n",
       "      <th></th>\n",
       "      <th>ID</th>\n",
       "      <th>Season</th>\n",
       "      <th>MatchNumber</th>\n",
       "      <th>Margin</th>\n",
       "      <th>method</th>\n",
       "    </tr>\n",
       "  </thead>\n",
       "  <tbody>\n",
       "    <tr>\n",
       "      <th>count</th>\n",
       "      <td>5.900000e+01</td>\n",
       "      <td>59.0</td>\n",
       "      <td>59.000000</td>\n",
       "      <td>59.000000</td>\n",
       "      <td>0.0</td>\n",
       "    </tr>\n",
       "    <tr>\n",
       "      <th>mean</th>\n",
       "      <td>1.304076e+06</td>\n",
       "      <td>2022.0</td>\n",
       "      <td>30.000000</td>\n",
       "      <td>17.576271</td>\n",
       "      <td>NaN</td>\n",
       "    </tr>\n",
       "    <tr>\n",
       "      <th>std</th>\n",
       "      <td>1.717556e+01</td>\n",
       "      <td>0.0</td>\n",
       "      <td>17.175564</td>\n",
       "      <td>20.359022</td>\n",
       "      <td>NaN</td>\n",
       "    </tr>\n",
       "    <tr>\n",
       "      <th>min</th>\n",
       "      <td>1.304047e+06</td>\n",
       "      <td>2022.0</td>\n",
       "      <td>1.000000</td>\n",
       "      <td>3.000000</td>\n",
       "      <td>NaN</td>\n",
       "    </tr>\n",
       "    <tr>\n",
       "      <th>25%</th>\n",
       "      <td>1.304062e+06</td>\n",
       "      <td>2022.0</td>\n",
       "      <td>15.500000</td>\n",
       "      <td>6.000000</td>\n",
       "      <td>NaN</td>\n",
       "    </tr>\n",
       "    <tr>\n",
       "      <th>50%</th>\n",
       "      <td>1.304076e+06</td>\n",
       "      <td>2022.0</td>\n",
       "      <td>30.000000</td>\n",
       "      <td>8.000000</td>\n",
       "      <td>NaN</td>\n",
       "    </tr>\n",
       "    <tr>\n",
       "      <th>75%</th>\n",
       "      <td>1.304090e+06</td>\n",
       "      <td>2022.0</td>\n",
       "      <td>44.500000</td>\n",
       "      <td>19.000000</td>\n",
       "      <td>NaN</td>\n",
       "    </tr>\n",
       "    <tr>\n",
       "      <th>max</th>\n",
       "      <td>1.304105e+06</td>\n",
       "      <td>2022.0</td>\n",
       "      <td>59.000000</td>\n",
       "      <td>91.000000</td>\n",
       "      <td>NaN</td>\n",
       "    </tr>\n",
       "  </tbody>\n",
       "</table>\n",
       "</div>"
      ],
      "text/plain": [
       "                 ID  Season  MatchNumber     Margin  method\n",
       "count  5.900000e+01    59.0    59.000000  59.000000     0.0\n",
       "mean   1.304076e+06  2022.0    30.000000  17.576271     NaN\n",
       "std    1.717556e+01     0.0    17.175564  20.359022     NaN\n",
       "min    1.304047e+06  2022.0     1.000000   3.000000     NaN\n",
       "25%    1.304062e+06  2022.0    15.500000   6.000000     NaN\n",
       "50%    1.304076e+06  2022.0    30.000000   8.000000     NaN\n",
       "75%    1.304090e+06  2022.0    44.500000  19.000000     NaN\n",
       "max    1.304105e+06  2022.0    59.000000  91.000000     NaN"
      ]
     },
     "execution_count": 7,
     "metadata": {},
     "output_type": "execute_result"
    }
   ],
   "source": [
    "# summary statistics\n",
    "\n",
    "match_data.describe()"
   ]
  },
  {
   "cell_type": "code",
   "execution_count": 8,
   "metadata": {
    "colab": {
     "base_uri": "https://localhost:8080/"
    },
    "executionInfo": {
     "elapsed": 60,
     "status": "ok",
     "timestamp": 1653624013776,
     "user": {
      "displayName": "Ketul Patel",
      "userId": "15268562803887317419"
     },
     "user_tz": -330
    },
    "id": "FZ638GjcP88j",
    "outputId": "78833d65-57dc-442f-f7aa-f0aedaef4715"
   },
   "outputs": [
    {
     "data": {
      "text/plain": [
       "ID                 False\n",
       "City               False\n",
       "Date               False\n",
       "Season             False\n",
       "MatchNumber        False\n",
       "Team1              False\n",
       "Team2              False\n",
       "Venue              False\n",
       "TossWinner         False\n",
       "TossDecision       False\n",
       "SuperOver          False\n",
       "WinningTeam        False\n",
       "WonBy              False\n",
       "Margin             False\n",
       "method              True\n",
       "Player_of_Match    False\n",
       "Team1Players       False\n",
       "Team2Players       False\n",
       "Umpire1            False\n",
       "Umpire2            False\n",
       "dtype: bool"
      ]
     },
     "execution_count": 8,
     "metadata": {},
     "output_type": "execute_result"
    }
   ],
   "source": [
    "# Data cleaning\n",
    "match_data.isnull().any()"
   ]
  },
  {
   "cell_type": "code",
   "execution_count": 9,
   "metadata": {
    "colab": {
     "base_uri": "https://localhost:8080/"
    },
    "executionInfo": {
     "elapsed": 58,
     "status": "ok",
     "timestamp": 1653624013777,
     "user": {
      "displayName": "Ketul Patel",
      "userId": "15268562803887317419"
     },
     "user_tz": -330
    },
    "id": "9WJ0gnM9P8_J",
    "outputId": "9e7fe31c-4c18-41f4-f8f1-daa113845cfa"
   },
   "outputs": [
    {
     "data": {
      "text/plain": [
       "ID                  0\n",
       "City                0\n",
       "Date                0\n",
       "Season              0\n",
       "MatchNumber         0\n",
       "Team1               0\n",
       "Team2               0\n",
       "Venue               0\n",
       "TossWinner          0\n",
       "TossDecision        0\n",
       "SuperOver           0\n",
       "WinningTeam         0\n",
       "WonBy               0\n",
       "Margin              0\n",
       "method             59\n",
       "Player_of_Match     0\n",
       "Team1Players        0\n",
       "Team2Players        0\n",
       "Umpire1             0\n",
       "Umpire2             0\n",
       "dtype: int64"
      ]
     },
     "execution_count": 9,
     "metadata": {},
     "output_type": "execute_result"
    }
   ],
   "source": [
    "# sum of missing values in each column\n",
    "\n",
    "match_data.isnull().sum()"
   ]
  },
  {
   "cell_type": "code",
   "execution_count": 10,
   "metadata": {
    "executionInfo": {
     "elapsed": 52,
     "status": "ok",
     "timestamp": 1653624013778,
     "user": {
      "displayName": "Ketul Patel",
      "userId": "15268562803887317419"
     },
     "user_tz": -330
    },
    "id": "RoRPhA14P9B-"
   },
   "outputs": [],
   "source": [
    "# I found one column,which contains null and this column is not helpfull in our analysis \n",
    "\n",
    "## Drop Method column \n",
    "\n",
    "match_data.drop(['method'],axis=1,inplace=True)\n"
   ]
  },
  {
   "cell_type": "code",
   "execution_count": 11,
   "metadata": {
    "colab": {
     "base_uri": "https://localhost:8080/"
    },
    "executionInfo": {
     "elapsed": 50,
     "status": "ok",
     "timestamp": 1653624013779,
     "user": {
      "displayName": "Ketul Patel",
      "userId": "15268562803887317419"
     },
     "user_tz": -330
    },
    "id": "EvvknWS3P9EZ",
    "outputId": "b1317bd3-7cc3-4b6a-e42b-e067df9f8f5f"
   },
   "outputs": [
    {
     "data": {
      "text/plain": [
       "ID                 0\n",
       "City               0\n",
       "Date               0\n",
       "Season             0\n",
       "MatchNumber        0\n",
       "Team1              0\n",
       "Team2              0\n",
       "Venue              0\n",
       "TossWinner         0\n",
       "TossDecision       0\n",
       "SuperOver          0\n",
       "WinningTeam        0\n",
       "WonBy              0\n",
       "Margin             0\n",
       "Player_of_Match    0\n",
       "Team1Players       0\n",
       "Team2Players       0\n",
       "Umpire1            0\n",
       "Umpire2            0\n",
       "dtype: int64"
      ]
     },
     "execution_count": 11,
     "metadata": {},
     "output_type": "execute_result"
    }
   ],
   "source": [
    "match_data.isnull().sum()"
   ]
  },
  {
   "cell_type": "markdown",
   "metadata": {
    "id": "YtsRiL7QRcur"
   },
   "source": [
    "# Lets look into ball to ball"
   ]
  },
  {
   "cell_type": "code",
   "execution_count": 12,
   "metadata": {
    "colab": {
     "base_uri": "https://localhost:8080/"
    },
    "executionInfo": {
     "elapsed": 47,
     "status": "ok",
     "timestamp": 1653624013780,
     "user": {
      "displayName": "Ketul Patel",
      "userId": "15268562803887317419"
     },
     "user_tz": -330
    },
    "id": "qjf7U6nZReqh",
    "outputId": "d6db7227-c7cf-4070-97c4-ca10f3c4e6e6"
   },
   "outputs": [
    {
     "name": "stdout",
     "output_type": "stream",
     "text": [
      "<class 'pandas.core.frame.DataFrame'>\n",
      "RangeIndex: 14233 entries, 0 to 14232\n",
      "Data columns (total 17 columns):\n",
      " #   Column             Non-Null Count  Dtype \n",
      "---  ------             --------------  ----- \n",
      " 0   ID                 14233 non-null  int64 \n",
      " 1   innings            14233 non-null  int64 \n",
      " 2   overs              14233 non-null  int64 \n",
      " 3   ballnumber         14233 non-null  int64 \n",
      " 4   batter             14233 non-null  object\n",
      " 5   bowler             14233 non-null  object\n",
      " 6   non-striker        14233 non-null  object\n",
      " 7   extra_type         844 non-null    object\n",
      " 8   batsman_run        14233 non-null  int64 \n",
      " 9   extras_run         14233 non-null  int64 \n",
      " 10  total_run          14233 non-null  int64 \n",
      " 11  non_boundary       14233 non-null  int64 \n",
      " 12  isWicketDelivery   14233 non-null  int64 \n",
      " 13  player_out         736 non-null    object\n",
      " 14  kind               736 non-null    object\n",
      " 15  fielders_involved  564 non-null    object\n",
      " 16  BattingTeam        14233 non-null  object\n",
      "dtypes: int64(9), object(8)\n",
      "memory usage: 1.8+ MB\n"
     ]
    }
   ],
   "source": [
    "ball_data.info()"
   ]
  },
  {
   "cell_type": "code",
   "execution_count": null,
   "metadata": {
    "colab": {
     "base_uri": "https://localhost:8080/"
    },
    "executionInfo": {
     "elapsed": 43,
     "status": "ok",
     "timestamp": 1653624013780,
     "user": {
      "displayName": "Ketul Patel",
      "userId": "15268562803887317419"
     },
     "user_tz": -330
    },
    "id": "06mhVYJrReyZ",
    "outputId": "13a666de-4606-438b-d998-6e2451a6730f"
   },
   "outputs": [],
   "source": []
  },
  {
   "cell_type": "code",
   "execution_count": 13,
   "metadata": {
    "colab": {
     "base_uri": "https://localhost:8080/"
    },
    "executionInfo": {
     "elapsed": 36,
     "status": "ok",
     "timestamp": 1653624013782,
     "user": {
      "displayName": "Ketul Patel",
      "userId": "15268562803887317419"
     },
     "user_tz": -330
    },
    "id": "NZ4nFZvHRs33",
    "outputId": "20fc0b95-e5eb-4fe3-c68a-c23e5158fe30"
   },
   "outputs": [
    {
     "data": {
      "text/plain": [
       "ID                       0\n",
       "innings                  0\n",
       "overs                    0\n",
       "ballnumber               0\n",
       "batter                   0\n",
       "bowler                   0\n",
       "non-striker              0\n",
       "extra_type           13389\n",
       "batsman_run              0\n",
       "extras_run               0\n",
       "total_run                0\n",
       "non_boundary             0\n",
       "isWicketDelivery         0\n",
       "player_out           13497\n",
       "kind                 13497\n",
       "fielders_involved    13669\n",
       "BattingTeam              0\n",
       "dtype: int64"
      ]
     },
     "execution_count": 13,
     "metadata": {},
     "output_type": "execute_result"
    }
   ],
   "source": [
    "ball_data.isnull().sum()"
   ]
  },
  {
   "cell_type": "code",
   "execution_count": 14,
   "metadata": {
    "colab": {
     "base_uri": "https://localhost:8080/",
     "height": 298
    },
    "executionInfo": {
     "elapsed": 35,
     "status": "ok",
     "timestamp": 1653624013784,
     "user": {
      "displayName": "Ketul Patel",
      "userId": "15268562803887317419"
     },
     "user_tz": -330
    },
    "id": "zzsfMXwKRs8G",
    "outputId": "d87a666d-2b19-4e0c-9aea-d257891f1058"
   },
   "outputs": [
    {
     "data": {
      "text/html": [
       "<div>\n",
       "<style scoped>\n",
       "    .dataframe tbody tr th:only-of-type {\n",
       "        vertical-align: middle;\n",
       "    }\n",
       "\n",
       "    .dataframe tbody tr th {\n",
       "        vertical-align: top;\n",
       "    }\n",
       "\n",
       "    .dataframe thead th {\n",
       "        text-align: right;\n",
       "    }\n",
       "</style>\n",
       "<table border=\"1\" class=\"dataframe\">\n",
       "  <thead>\n",
       "    <tr style=\"text-align: right;\">\n",
       "      <th></th>\n",
       "      <th>ID</th>\n",
       "      <th>City</th>\n",
       "      <th>Date</th>\n",
       "      <th>Season</th>\n",
       "      <th>MatchNumber</th>\n",
       "      <th>Team1</th>\n",
       "      <th>Team2</th>\n",
       "      <th>Venue</th>\n",
       "      <th>TossWinner</th>\n",
       "      <th>TossDecision</th>\n",
       "      <th>SuperOver</th>\n",
       "      <th>WinningTeam</th>\n",
       "      <th>WonBy</th>\n",
       "      <th>Margin</th>\n",
       "      <th>Player_of_Match</th>\n",
       "      <th>Team1Players</th>\n",
       "      <th>Team2Players</th>\n",
       "      <th>Umpire1</th>\n",
       "      <th>Umpire2</th>\n",
       "    </tr>\n",
       "  </thead>\n",
       "  <tbody>\n",
       "    <tr>\n",
       "      <th>0</th>\n",
       "      <td>1304105</td>\n",
       "      <td>Mumbai</td>\n",
       "      <td>2022-05-12</td>\n",
       "      <td>2022</td>\n",
       "      <td>59</td>\n",
       "      <td>Chennai Super Kings</td>\n",
       "      <td>Mumbai Indians</td>\n",
       "      <td>Wankhede Stadium, Mumbai</td>\n",
       "      <td>Mumbai Indians</td>\n",
       "      <td>field</td>\n",
       "      <td>N</td>\n",
       "      <td>Mumbai Indians</td>\n",
       "      <td>Wickets</td>\n",
       "      <td>5</td>\n",
       "      <td>DR Sams</td>\n",
       "      <td>['RD Gaikwad', 'DP Conway', 'MM Ali', 'RV Utha...</td>\n",
       "      <td>['Ishan Kishan', 'RG Sharma', 'DR Sams', 'Tila...</td>\n",
       "      <td>Chirra Ravikanthreddy</td>\n",
       "      <td>CB Gaffaney</td>\n",
       "    </tr>\n",
       "    <tr>\n",
       "      <th>1</th>\n",
       "      <td>1304104</td>\n",
       "      <td>Navi Mumbai</td>\n",
       "      <td>2022-05-11</td>\n",
       "      <td>2022</td>\n",
       "      <td>58</td>\n",
       "      <td>Rajasthan Royals</td>\n",
       "      <td>Delhi Capitals</td>\n",
       "      <td>Dr DY Patil Sports Academy, Mumbai</td>\n",
       "      <td>Delhi Capitals</td>\n",
       "      <td>field</td>\n",
       "      <td>N</td>\n",
       "      <td>Delhi Capitals</td>\n",
       "      <td>Wickets</td>\n",
       "      <td>8</td>\n",
       "      <td>MR Marsh</td>\n",
       "      <td>['YBK Jaiswal', 'JC Buttler', 'R Ashwin', 'D P...</td>\n",
       "      <td>['KS Bharat', 'DA Warner', 'MR Marsh', 'RR Pan...</td>\n",
       "      <td>NA Patwardhan</td>\n",
       "      <td>Nitin Menon</td>\n",
       "    </tr>\n",
       "  </tbody>\n",
       "</table>\n",
       "</div>"
      ],
      "text/plain": [
       "        ID         City        Date  Season  MatchNumber                Team1  \\\n",
       "0  1304105       Mumbai  2022-05-12    2022           59  Chennai Super Kings   \n",
       "1  1304104  Navi Mumbai  2022-05-11    2022           58     Rajasthan Royals   \n",
       "\n",
       "            Team2                               Venue      TossWinner  \\\n",
       "0  Mumbai Indians            Wankhede Stadium, Mumbai  Mumbai Indians   \n",
       "1  Delhi Capitals  Dr DY Patil Sports Academy, Mumbai  Delhi Capitals   \n",
       "\n",
       "  TossDecision SuperOver     WinningTeam    WonBy  Margin Player_of_Match  \\\n",
       "0        field         N  Mumbai Indians  Wickets       5         DR Sams   \n",
       "1        field         N  Delhi Capitals  Wickets       8        MR Marsh   \n",
       "\n",
       "                                        Team1Players  \\\n",
       "0  ['RD Gaikwad', 'DP Conway', 'MM Ali', 'RV Utha...   \n",
       "1  ['YBK Jaiswal', 'JC Buttler', 'R Ashwin', 'D P...   \n",
       "\n",
       "                                        Team2Players                Umpire1  \\\n",
       "0  ['Ishan Kishan', 'RG Sharma', 'DR Sams', 'Tila...  Chirra Ravikanthreddy   \n",
       "1  ['KS Bharat', 'DA Warner', 'MR Marsh', 'RR Pan...          NA Patwardhan   \n",
       "\n",
       "       Umpire2  \n",
       "0  CB Gaffaney  \n",
       "1  Nitin Menon  "
      ]
     },
     "execution_count": 14,
     "metadata": {},
     "output_type": "execute_result"
    }
   ],
   "source": [
    "match_data.head(2)"
   ]
  },
  {
   "cell_type": "markdown",
   "metadata": {
    "id": "rgCS4t9p1HTl"
   },
   "source": [
    "# Lets Start Analysis"
   ]
  },
  {
   "cell_type": "markdown",
   "metadata": {
    "id": "vAxlJgo1bFuN"
   },
   "source": [
    "# **Qn-01** \n",
    "\n",
    "## (i) How many matches was played in each city \n",
    "\n",
    "## (ii) Which stadium hosted max number of matches?\n",
    " \n",
    "\n",
    "\n",
    "\n",
    "\n"
   ]
  },
  {
   "cell_type": "code",
   "execution_count": 15,
   "metadata": {
    "colab": {
     "base_uri": "https://localhost:8080/",
     "height": 421
    },
    "executionInfo": {
     "elapsed": 34,
     "status": "ok",
     "timestamp": 1653624013785,
     "user": {
      "displayName": "Ketul Patel",
      "userId": "15268562803887317419"
     },
     "user_tz": -330
    },
    "id": "Vno-RoEqdZ5k",
    "outputId": "76566e0a-cb92-4e96-d45a-43bd281776c0"
   },
   "outputs": [
    {
     "name": "stdout",
     "output_type": "stream",
     "text": [
      "City\n",
      "Mumbai         40\n",
      "Pune           12\n",
      "Navi Mumbai     7\n",
      "Name: ID, dtype: int64\n"
     ]
    },
    {
     "data": {
      "image/png": "[encoded data removed]",
      "text/plain": [
       "<Figure size 720x360 with 1 Axes>"
      ]
     },
     "metadata": {
      "needs_background": "light"
     },
     "output_type": "display_data"
    }
   ],
   "source": [
    "a=match_data.groupby(['City'])['ID'].count().sort_values(ascending=False)\n",
    "print(a)\n",
    "a.plot(kind=\"bar\",figsize=(10,5),color=\"green\")\n",
    "plt.xticks(rotation=0,fontsize=10,fontweight=\"bold\")\n",
    "plt.yticks(fontsize=10,fontweight=\"bold\")\n",
    "plt.show()"
   ]
  },
  {
   "cell_type": "code",
   "execution_count": 43,
   "metadata": {
    "colab": {
     "base_uri": "https://localhost:8080/",
     "height": 401
    },
    "executionInfo": {
     "elapsed": 29,
     "status": "ok",
     "timestamp": 1653624013785,
     "user": {
      "displayName": "Ketul Patel",
      "userId": "15268562803887317419"
     },
     "user_tz": -330
    },
    "id": "C2_H3BDWr41Q",
    "outputId": "8fbae113-08c7-4e7c-debf-26aa4c7df5b3"
   },
   "outputs": [
    {
     "name": "stdout",
     "output_type": "stream",
     "text": [
      "Venue\n",
      "Dr DY Patil Sports Academy, Mumbai               18\n",
      "Wankhede Stadium, Mumbai                         16\n",
      "Brabourne Stadium, Mumbai                        13\n",
      "Maharashtra Cricket Association Stadium, Pune    12\n",
      "Name: ID, dtype: int64\n"
     ]
    },
    {
     "data": {
      "image/png": "[encoded data removed]",
      "text/plain": [
       "<Figure size 576x432 with 1 Axes>"
      ]
     },
     "metadata": {},
     "output_type": "display_data"
    }
   ],
   "source": [
    "print(match_data.groupby(['Venue'])['ID'].count().sort_values(ascending=False))\n",
    "\n",
    "Stadium=match_data['Venue'].value_counts()\n",
    "ax=plt.axes()\n",
    "# ax.set(facecolor = 'black')\n",
    "sns.set(rc={'figure.figsize':(8,6)},style='darkgrid')\n",
    "ax.set_title(\"Total Matches played in each Stadium\",fontsize=15,fontweight=\"bold\",color=\"red\")\n",
    "sns.barplot(y=Stadium.index,x=Stadium,orient='h',palette='icefire')\n",
    "plt.xlabel(\" # of Matches Played\")\n",
    "plt.ylabel(None)\n",
    "plt.yticks(fontsize=10,fontweight=\"bold\")\n",
    "plt.xticks(fontsize=10,fontweight=\"bold\")\n",
    "plt.show()"
   ]
  },
  {
   "cell_type": "code",
   "execution_count": 44,
   "metadata": {},
   "outputs": [],
   "source": [
    "# import dataframe_image as dfi\n",
    "\n",
    "# Stadium1=Stadium.style.background_gradient()\n",
    "\n",
    "# dfi.export(Stadium1, 'df_styled.png')\n",
    "\n",
    "# df.dfi.export('df.png')\n",
    "\n",
    "# df_styled.export_png('df_styled.png)"
   ]
  },
  {
   "cell_type": "code",
   "execution_count": 45,
   "metadata": {},
   "outputs": [],
   "source": []
  },
  {
   "cell_type": "markdown",
   "metadata": {
    "id": "cTdkx2OZd0Li"
   },
   "source": [
    "# **Qn-02** \n",
    "\n",
    "In which stadium ,which team most of the matches had won "
   ]
  },
  {
   "cell_type": "code",
   "execution_count": 49,
   "metadata": {
    "colab": {
     "base_uri": "https://localhost:8080/",
     "height": 644
    },
    "executionInfo": {
     "elapsed": 1589,
     "status": "ok",
     "timestamp": 1653624015348,
     "user": {
      "displayName": "Ketul Patel",
      "userId": "15268562803887317419"
     },
     "user_tz": -330
    },
    "id": "qgf-2iksp_js",
    "outputId": "79c4688b-c27c-406d-e29a-679108568ecb"
   },
   "outputs": [
    {
     "data": {
      "image/png": "[encoded data removed]",
      "text/plain": [
       "<Figure size 936x576 with 1 Axes>"
      ]
     },
     "metadata": {},
     "output_type": "display_data"
    }
   ],
   "source": [
    "ax=plt.axes()\n",
    "ax.set(facecolor = 'black')\n",
    "\n",
    "sns.countplot(x='Venue',hue='WinningTeam',data=match_data,palette=\"tab10\")\n",
    "\n",
    "plt.xticks(rotation=15,fontsize=10,fontweight=\"bold\")\n",
    "plt.yticks(fontsize=15)\n",
    "\n",
    "plt.rcParams['figure.figsize'] = (13, 9)\n",
    "\n",
    "ax.set_title(\"Team Won the matches in Stadium\",fontsize=30,fontweight=\"bold\",color=\"red\")\n",
    "\n",
    "plt.xlabel(\"\\n Teams\",fontsize=0)\n",
    "plt.ylabel('count',fontsize=15)\n",
    "plt.show()"
   ]
  },
  {
   "cell_type": "code",
   "execution_count": 53,
   "metadata": {
    "colab": {
     "base_uri": "https://localhost:8080/",
     "height": 1000
    },
    "executionInfo": {
     "elapsed": 55,
     "status": "ok",
     "timestamp": 1653624015350,
     "user": {
      "displayName": "Ketul Patel",
      "userId": "15268562803887317419"
     },
     "user_tz": -330
    },
    "id": "3CuxqSuydvuS",
    "outputId": "f747e884-23c3-4f1c-c691-8f36256298ca"
   },
   "outputs": [
    {
     "data": {
      "text/html": [
       "<div>\n",
       "<style scoped>\n",
       "    .dataframe tbody tr th:only-of-type {\n",
       "        vertical-align: middle;\n",
       "    }\n",
       "\n",
       "    .dataframe tbody tr th {\n",
       "        vertical-align: top;\n",
       "    }\n",
       "\n",
       "    .dataframe thead th {\n",
       "        text-align: right;\n",
       "    }\n",
       "</style>\n",
       "<table border=\"1\" class=\"dataframe\">\n",
       "  <thead>\n",
       "    <tr style=\"text-align: right;\">\n",
       "      <th></th>\n",
       "      <th>Venue</th>\n",
       "      <th>WinningTeam</th>\n",
       "      <th>Won_Match</th>\n",
       "    </tr>\n",
       "  </thead>\n",
       "  <tbody>\n",
       "    <tr>\n",
       "      <th>0</th>\n",
       "      <td>Brabourne Stadium, Mumbai</td>\n",
       "      <td>Delhi Capitals</td>\n",
       "      <td>4</td>\n",
       "    </tr>\n",
       "    <tr>\n",
       "      <th>1</th>\n",
       "      <td>Brabourne Stadium, Mumbai</td>\n",
       "      <td>Gujarat Titans</td>\n",
       "      <td>2</td>\n",
       "    </tr>\n",
       "    <tr>\n",
       "      <th>2</th>\n",
       "      <td>Brabourne Stadium, Mumbai</td>\n",
       "      <td>Lucknow Super Giants</td>\n",
       "      <td>2</td>\n",
       "    </tr>\n",
       "    <tr>\n",
       "      <th>3</th>\n",
       "      <td>Brabourne Stadium, Mumbai</td>\n",
       "      <td>Mumbai Indians</td>\n",
       "      <td>1</td>\n",
       "    </tr>\n",
       "    <tr>\n",
       "      <th>4</th>\n",
       "      <td>Brabourne Stadium, Mumbai</td>\n",
       "      <td>Punjab Kings</td>\n",
       "      <td>1</td>\n",
       "    </tr>\n",
       "    <tr>\n",
       "      <th>5</th>\n",
       "      <td>Brabourne Stadium, Mumbai</td>\n",
       "      <td>Rajasthan Royals</td>\n",
       "      <td>1</td>\n",
       "    </tr>\n",
       "    <tr>\n",
       "      <th>6</th>\n",
       "      <td>Brabourne Stadium, Mumbai</td>\n",
       "      <td>Sunrisers Hyderabad</td>\n",
       "      <td>2</td>\n",
       "    </tr>\n",
       "    <tr>\n",
       "      <th>7</th>\n",
       "      <td>Dr DY Patil Sports Academy, Mumbai</td>\n",
       "      <td>Chennai Super Kings</td>\n",
       "      <td>3</td>\n",
       "    </tr>\n",
       "    <tr>\n",
       "      <th>8</th>\n",
       "      <td>Dr DY Patil Sports Academy, Mumbai</td>\n",
       "      <td>Delhi Capitals</td>\n",
       "      <td>1</td>\n",
       "    </tr>\n",
       "    <tr>\n",
       "      <th>9</th>\n",
       "      <td>Dr DY Patil Sports Academy, Mumbai</td>\n",
       "      <td>Gujarat Titans</td>\n",
       "      <td>2</td>\n",
       "    </tr>\n",
       "    <tr>\n",
       "      <th>10</th>\n",
       "      <td>Dr DY Patil Sports Academy, Mumbai</td>\n",
       "      <td>Kolkata Knight Riders</td>\n",
       "      <td>1</td>\n",
       "    </tr>\n",
       "    <tr>\n",
       "      <th>11</th>\n",
       "      <td>Dr DY Patil Sports Academy, Mumbai</td>\n",
       "      <td>Lucknow Super Giants</td>\n",
       "      <td>2</td>\n",
       "    </tr>\n",
       "    <tr>\n",
       "      <th>12</th>\n",
       "      <td>Dr DY Patil Sports Academy, Mumbai</td>\n",
       "      <td>Mumbai Indians</td>\n",
       "      <td>1</td>\n",
       "    </tr>\n",
       "    <tr>\n",
       "      <th>13</th>\n",
       "      <td>Dr DY Patil Sports Academy, Mumbai</td>\n",
       "      <td>Punjab Kings</td>\n",
       "      <td>2</td>\n",
       "    </tr>\n",
       "    <tr>\n",
       "      <th>14</th>\n",
       "      <td>Dr DY Patil Sports Academy, Mumbai</td>\n",
       "      <td>Rajasthan Royals</td>\n",
       "      <td>1</td>\n",
       "    </tr>\n",
       "    <tr>\n",
       "      <th>15</th>\n",
       "      <td>Dr DY Patil Sports Academy, Mumbai</td>\n",
       "      <td>Royal Challengers Bangalore</td>\n",
       "      <td>2</td>\n",
       "    </tr>\n",
       "    <tr>\n",
       "      <th>16</th>\n",
       "      <td>Dr DY Patil Sports Academy, Mumbai</td>\n",
       "      <td>Sunrisers Hyderabad</td>\n",
       "      <td>3</td>\n",
       "    </tr>\n",
       "    <tr>\n",
       "      <th>17</th>\n",
       "      <td>Maharashtra Cricket Association Stadium, Pune</td>\n",
       "      <td>Chennai Super Kings</td>\n",
       "      <td>1</td>\n",
       "    </tr>\n",
       "    <tr>\n",
       "      <th>18</th>\n",
       "      <td>Maharashtra Cricket Association Stadium, Pune</td>\n",
       "      <td>Gujarat Titans</td>\n",
       "      <td>3</td>\n",
       "    </tr>\n",
       "    <tr>\n",
       "      <th>19</th>\n",
       "      <td>Maharashtra Cricket Association Stadium, Pune</td>\n",
       "      <td>Kolkata Knight Riders</td>\n",
       "      <td>1</td>\n",
       "    </tr>\n",
       "    <tr>\n",
       "      <th>20</th>\n",
       "      <td>Maharashtra Cricket Association Stadium, Pune</td>\n",
       "      <td>Lucknow Super Giants</td>\n",
       "      <td>2</td>\n",
       "    </tr>\n",
       "    <tr>\n",
       "      <th>21</th>\n",
       "      <td>Maharashtra Cricket Association Stadium, Pune</td>\n",
       "      <td>Punjab Kings</td>\n",
       "      <td>1</td>\n",
       "    </tr>\n",
       "    <tr>\n",
       "      <th>22</th>\n",
       "      <td>Maharashtra Cricket Association Stadium, Pune</td>\n",
       "      <td>Rajasthan Royals</td>\n",
       "      <td>2</td>\n",
       "    </tr>\n",
       "    <tr>\n",
       "      <th>23</th>\n",
       "      <td>Maharashtra Cricket Association Stadium, Pune</td>\n",
       "      <td>Royal Challengers Bangalore</td>\n",
       "      <td>2</td>\n",
       "    </tr>\n",
       "    <tr>\n",
       "      <th>24</th>\n",
       "      <td>Wankhede Stadium, Mumbai</td>\n",
       "      <td>Delhi Capitals</td>\n",
       "      <td>1</td>\n",
       "    </tr>\n",
       "    <tr>\n",
       "      <th>25</th>\n",
       "      <td>Wankhede Stadium, Mumbai</td>\n",
       "      <td>Gujarat Titans</td>\n",
       "      <td>2</td>\n",
       "    </tr>\n",
       "    <tr>\n",
       "      <th>26</th>\n",
       "      <td>Wankhede Stadium, Mumbai</td>\n",
       "      <td>Kolkata Knight Riders</td>\n",
       "      <td>3</td>\n",
       "    </tr>\n",
       "    <tr>\n",
       "      <th>27</th>\n",
       "      <td>Wankhede Stadium, Mumbai</td>\n",
       "      <td>Lucknow Super Giants</td>\n",
       "      <td>2</td>\n",
       "    </tr>\n",
       "    <tr>\n",
       "      <th>28</th>\n",
       "      <td>Wankhede Stadium, Mumbai</td>\n",
       "      <td>Mumbai Indians</td>\n",
       "      <td>1</td>\n",
       "    </tr>\n",
       "    <tr>\n",
       "      <th>29</th>\n",
       "      <td>Wankhede Stadium, Mumbai</td>\n",
       "      <td>Punjab Kings</td>\n",
       "      <td>1</td>\n",
       "    </tr>\n",
       "    <tr>\n",
       "      <th>30</th>\n",
       "      <td>Wankhede Stadium, Mumbai</td>\n",
       "      <td>Rajasthan Royals</td>\n",
       "      <td>3</td>\n",
       "    </tr>\n",
       "    <tr>\n",
       "      <th>31</th>\n",
       "      <td>Wankhede Stadium, Mumbai</td>\n",
       "      <td>Royal Challengers Bangalore</td>\n",
       "      <td>3</td>\n",
       "    </tr>\n",
       "  </tbody>\n",
       "</table>\n",
       "</div>"
      ],
      "text/plain": [
       "                                            Venue  \\\n",
       "0                       Brabourne Stadium, Mumbai   \n",
       "1                       Brabourne Stadium, Mumbai   \n",
       "2                       Brabourne Stadium, Mumbai   \n",
       "3                       Brabourne Stadium, Mumbai   \n",
       "4                       Brabourne Stadium, Mumbai   \n",
       "5                       Brabourne Stadium, Mumbai   \n",
       "6                       Brabourne Stadium, Mumbai   \n",
       "7              Dr DY Patil Sports Academy, Mumbai   \n",
       "8              Dr DY Patil Sports Academy, Mumbai   \n",
       "9              Dr DY Patil Sports Academy, Mumbai   \n",
       "10             Dr DY Patil Sports Academy, Mumbai   \n",
       "11             Dr DY Patil Sports Academy, Mumbai   \n",
       "12             Dr DY Patil Sports Academy, Mumbai   \n",
       "13             Dr DY Patil Sports Academy, Mumbai   \n",
       "14             Dr DY Patil Sports Academy, Mumbai   \n",
       "15             Dr DY Patil Sports Academy, Mumbai   \n",
       "16             Dr DY Patil Sports Academy, Mumbai   \n",
       "17  Maharashtra Cricket Association Stadium, Pune   \n",
       "18  Maharashtra Cricket Association Stadium, Pune   \n",
       "19  Maharashtra Cricket Association Stadium, Pune   \n",
       "20  Maharashtra Cricket Association Stadium, Pune   \n",
       "21  Maharashtra Cricket Association Stadium, Pune   \n",
       "22  Maharashtra Cricket Association Stadium, Pune   \n",
       "23  Maharashtra Cricket Association Stadium, Pune   \n",
       "24                       Wankhede Stadium, Mumbai   \n",
       "25                       Wankhede Stadium, Mumbai   \n",
       "26                       Wankhede Stadium, Mumbai   \n",
       "27                       Wankhede Stadium, Mumbai   \n",
       "28                       Wankhede Stadium, Mumbai   \n",
       "29                       Wankhede Stadium, Mumbai   \n",
       "30                       Wankhede Stadium, Mumbai   \n",
       "31                       Wankhede Stadium, Mumbai   \n",
       "\n",
       "                    WinningTeam  Won_Match  \n",
       "0                Delhi Capitals          4  \n",
       "1                Gujarat Titans          2  \n",
       "2          Lucknow Super Giants          2  \n",
       "3                Mumbai Indians          1  \n",
       "4                  Punjab Kings          1  \n",
       "5              Rajasthan Royals          1  \n",
       "6           Sunrisers Hyderabad          2  \n",
       "7           Chennai Super Kings          3  \n",
       "8                Delhi Capitals          1  \n",
       "9                Gujarat Titans          2  \n",
       "10        Kolkata Knight Riders          1  \n",
       "11         Lucknow Super Giants          2  \n",
       "12               Mumbai Indians          1  \n",
       "13                 Punjab Kings          2  \n",
       "14             Rajasthan Royals          1  \n",
       "15  Royal Challengers Bangalore          2  \n",
       "16          Sunrisers Hyderabad          3  \n",
       "17          Chennai Super Kings          1  \n",
       "18               Gujarat Titans          3  \n",
       "19        Kolkata Knight Riders          1  \n",
       "20         Lucknow Super Giants          2  \n",
       "21                 Punjab Kings          1  \n",
       "22             Rajasthan Royals          2  \n",
       "23  Royal Challengers Bangalore          2  \n",
       "24               Delhi Capitals          1  \n",
       "25               Gujarat Titans          2  \n",
       "26        Kolkata Knight Riders          3  \n",
       "27         Lucknow Super Giants          2  \n",
       "28               Mumbai Indians          1  \n",
       "29                 Punjab Kings          1  \n",
       "30             Rajasthan Royals          3  \n",
       "31  Royal Challengers Bangalore          3  "
      ]
     },
     "execution_count": 53,
     "metadata": {},
     "output_type": "execute_result"
    }
   ],
   "source": [
    "match_data.groupby(['Venue','WinningTeam'])['WinningTeam'].agg(['count']).rename(columns={'count':\"Won_Match\"}).reset_index()\n"
   ]
  },
  {
   "cell_type": "code",
   "execution_count": 52,
   "metadata": {
    "scrolled": true
   },
   "outputs": [
    {
     "name": "stderr",
     "output_type": "stream",
     "text": [
      "C:\\Python310\\lib\\site-packages\\dataframe_image\\_pandas_accessor.py:69: FutureWarning: this method is deprecated in favour of `Styler.to_html()`\n",
      "  html = '<div>' + obj.render() + '</div>'\n"
     ]
    }
   ],
   "source": [
    "# import dataframe_image as dfi\n",
    "\n",
    "# style=aa.style.background_gradient()\n",
    "\n",
    "# dfi.export(style, 'df2.png')\n",
    "\n",
    "# df.dfi.export('df.png')\n",
    "\n",
    "# df_styled.export_png('df_styled.png)"
   ]
  },
  {
   "cell_type": "markdown",
   "metadata": {
    "id": "6ElQp0ZUAySX"
   },
   "source": [
    "# **Qn-03** \n",
    "\n",
    "## how many matches were played by each team?\n",
    "\n",
    "## In which stadium how many matches were played by each team ?"
   ]
  },
  {
   "cell_type": "code",
   "execution_count": 61,
   "metadata": {
    "colab": {
     "base_uri": "https://localhost:8080/",
     "height": 763
    },
    "executionInfo": {
     "elapsed": 54,
     "status": "ok",
     "timestamp": 1653624015355,
     "user": {
      "displayName": "Ketul Patel",
      "userId": "15268562803887317419"
     },
     "user_tz": -330
    },
    "id": "7jY_gEHPAzzO",
    "outputId": "2c8671ae-eb40-4ea3-d19f-e3e8373c373c"
   },
   "outputs": [
    {
     "name": "stdout",
     "output_type": "stream",
     "text": [
      "Team1\n",
      "Chennai Super Kings            12\n",
      "Delhi Capitals                 12\n",
      "Gujarat Titans                 12\n",
      "Kolkata Knight Riders          12\n",
      "Lucknow Super Giants           12\n",
      "Mumbai Indians                 12\n",
      "Punjab Kings                   11\n",
      "Rajasthan Royals               12\n",
      "Royal Challengers Bangalore    12\n",
      "Sunrisers Hyderabad            11\n",
      "Name: Team1, dtype: int64\n",
      "\n",
      " Total Number Of Teams= 10\n"
     ]
    },
    {
     "name": "stderr",
     "output_type": "stream",
     "text": [
      "C:\\Users\\ketul\\AppData\\Local\\Temp\\ipykernel_6696\\3741846485.py:7: FutureWarning: The frame.append method is deprecated and will be removed from pandas in a future version. Use pandas.concat instead.\n",
      "  result=combine.append(combine2)\n"
     ]
    },
    {
     "data": {
      "image/png": "[encoded data removed]",
      "text/plain": [
       "<Figure size 936x648 with 1 Axes>"
      ]
     },
     "metadata": {},
     "output_type": "display_data"
    }
   ],
   "source": [
    "\n",
    "combine=match_data.loc[:,[\"Venue\",'Team1']]\n",
    "\n",
    "combine2=match_data.loc[:,[\"Venue\",'Team2']]\n",
    "\n",
    "combine2.rename(columns = {'Team2':'Team1'}, inplace = True)\n",
    "\n",
    "result=combine.append(combine2)\n",
    "\n",
    "print(result.groupby(['Team1'])['Team1'].count())\n",
    "\n",
    "result.groupby(['Team1'])['Team1'].count().plot(kind=\"pie\",figsize=(13,9),autopct='%1.0f%%', shadow=True)\n",
    "\n",
    "Team=len(match_data['Team1'].unique())\n",
    "\n",
    "print(f\"\\n Total Number Of Teams= {Team}\")"
   ]
  },
  {
   "cell_type": "code",
   "execution_count": 81,
   "metadata": {},
   "outputs": [
    {
     "name": "stderr",
     "output_type": "stream",
     "text": [
      "C:\\Users\\ketul\\AppData\\Local\\Temp\\ipykernel_6696\\503817781.py:9: FutureWarning: The frame.append method is deprecated and will be removed from pandas in a future version. Use pandas.concat instead.\n",
      "  result=combine.append(combine2)\n"
     ]
    },
    {
     "data": {
      "text/html": [
       "<div>\n",
       "<style scoped>\n",
       "    .dataframe tbody tr th:only-of-type {\n",
       "        vertical-align: middle;\n",
       "    }\n",
       "\n",
       "    .dataframe tbody tr th {\n",
       "        vertical-align: top;\n",
       "    }\n",
       "\n",
       "    .dataframe thead th {\n",
       "        text-align: right;\n",
       "    }\n",
       "</style>\n",
       "<table border=\"1\" class=\"dataframe\">\n",
       "  <thead>\n",
       "    <tr style=\"text-align: right;\">\n",
       "      <th></th>\n",
       "      <th>Venue</th>\n",
       "      <th>Team1</th>\n",
       "      <th>Played_Matches</th>\n",
       "    </tr>\n",
       "  </thead>\n",
       "  <tbody>\n",
       "    <tr>\n",
       "      <th>0</th>\n",
       "      <td>Brabourne Stadium, Mumbai</td>\n",
       "      <td>Chennai Super Kings</td>\n",
       "      <td>2</td>\n",
       "    </tr>\n",
       "    <tr>\n",
       "      <th>1</th>\n",
       "      <td>Brabourne Stadium, Mumbai</td>\n",
       "      <td>Delhi Capitals</td>\n",
       "      <td>4</td>\n",
       "    </tr>\n",
       "    <tr>\n",
       "      <th>2</th>\n",
       "      <td>Brabourne Stadium, Mumbai</td>\n",
       "      <td>Gujarat Titans</td>\n",
       "      <td>3</td>\n",
       "    </tr>\n",
       "    <tr>\n",
       "      <th>3</th>\n",
       "      <td>Brabourne Stadium, Mumbai</td>\n",
       "      <td>Kolkata Knight Riders</td>\n",
       "      <td>3</td>\n",
       "    </tr>\n",
       "    <tr>\n",
       "      <th>4</th>\n",
       "      <td>Brabourne Stadium, Mumbai</td>\n",
       "      <td>Lucknow Super Giants</td>\n",
       "      <td>2</td>\n",
       "    </tr>\n",
       "    <tr>\n",
       "      <th>5</th>\n",
       "      <td>Brabourne Stadium, Mumbai</td>\n",
       "      <td>Mumbai Indians</td>\n",
       "      <td>3</td>\n",
       "    </tr>\n",
       "    <tr>\n",
       "      <th>6</th>\n",
       "      <td>Brabourne Stadium, Mumbai</td>\n",
       "      <td>Punjab Kings</td>\n",
       "      <td>3</td>\n",
       "    </tr>\n",
       "    <tr>\n",
       "      <th>7</th>\n",
       "      <td>Brabourne Stadium, Mumbai</td>\n",
       "      <td>Rajasthan Royals</td>\n",
       "      <td>1</td>\n",
       "    </tr>\n",
       "    <tr>\n",
       "      <th>8</th>\n",
       "      <td>Brabourne Stadium, Mumbai</td>\n",
       "      <td>Royal Challengers Bangalore</td>\n",
       "      <td>2</td>\n",
       "    </tr>\n",
       "    <tr>\n",
       "      <th>9</th>\n",
       "      <td>Brabourne Stadium, Mumbai</td>\n",
       "      <td>Sunrisers Hyderabad</td>\n",
       "      <td>3</td>\n",
       "    </tr>\n",
       "    <tr>\n",
       "      <th>10</th>\n",
       "      <td>Dr DY Patil Sports Academy, Mumbai</td>\n",
       "      <td>Chennai Super Kings</td>\n",
       "      <td>4</td>\n",
       "    </tr>\n",
       "    <tr>\n",
       "      <th>11</th>\n",
       "      <td>Dr DY Patil Sports Academy, Mumbai</td>\n",
       "      <td>Delhi Capitals</td>\n",
       "      <td>3</td>\n",
       "    </tr>\n",
       "    <tr>\n",
       "      <th>12</th>\n",
       "      <td>Dr DY Patil Sports Academy, Mumbai</td>\n",
       "      <td>Gujarat Titans</td>\n",
       "      <td>4</td>\n",
       "    </tr>\n",
       "    <tr>\n",
       "      <th>13</th>\n",
       "      <td>Dr DY Patil Sports Academy, Mumbai</td>\n",
       "      <td>Kolkata Knight Riders</td>\n",
       "      <td>3</td>\n",
       "    </tr>\n",
       "    <tr>\n",
       "      <th>14</th>\n",
       "      <td>Dr DY Patil Sports Academy, Mumbai</td>\n",
       "      <td>Lucknow Super Giants</td>\n",
       "      <td>3</td>\n",
       "    </tr>\n",
       "    <tr>\n",
       "      <th>15</th>\n",
       "      <td>Dr DY Patil Sports Academy, Mumbai</td>\n",
       "      <td>Mumbai Indians</td>\n",
       "      <td>4</td>\n",
       "    </tr>\n",
       "    <tr>\n",
       "      <th>16</th>\n",
       "      <td>Dr DY Patil Sports Academy, Mumbai</td>\n",
       "      <td>Punjab Kings</td>\n",
       "      <td>3</td>\n",
       "    </tr>\n",
       "    <tr>\n",
       "      <th>17</th>\n",
       "      <td>Dr DY Patil Sports Academy, Mumbai</td>\n",
       "      <td>Rajasthan Royals</td>\n",
       "      <td>4</td>\n",
       "    </tr>\n",
       "    <tr>\n",
       "      <th>18</th>\n",
       "      <td>Dr DY Patil Sports Academy, Mumbai</td>\n",
       "      <td>Royal Challengers Bangalore</td>\n",
       "      <td>4</td>\n",
       "    </tr>\n",
       "    <tr>\n",
       "      <th>19</th>\n",
       "      <td>Dr DY Patil Sports Academy, Mumbai</td>\n",
       "      <td>Sunrisers Hyderabad</td>\n",
       "      <td>4</td>\n",
       "    </tr>\n",
       "    <tr>\n",
       "      <th>20</th>\n",
       "      <td>Maharashtra Cricket Association Stadium, Pune</td>\n",
       "      <td>Chennai Super Kings</td>\n",
       "      <td>3</td>\n",
       "    </tr>\n",
       "    <tr>\n",
       "      <th>21</th>\n",
       "      <td>Maharashtra Cricket Association Stadium, Pune</td>\n",
       "      <td>Delhi Capitals</td>\n",
       "      <td>1</td>\n",
       "    </tr>\n",
       "    <tr>\n",
       "      <th>22</th>\n",
       "      <td>Maharashtra Cricket Association Stadium, Pune</td>\n",
       "      <td>Gujarat Titans</td>\n",
       "      <td>3</td>\n",
       "    </tr>\n",
       "    <tr>\n",
       "      <th>23</th>\n",
       "      <td>Maharashtra Cricket Association Stadium, Pune</td>\n",
       "      <td>Kolkata Knight Riders</td>\n",
       "      <td>2</td>\n",
       "    </tr>\n",
       "    <tr>\n",
       "      <th>24</th>\n",
       "      <td>Maharashtra Cricket Association Stadium, Pune</td>\n",
       "      <td>Lucknow Super Giants</td>\n",
       "      <td>3</td>\n",
       "    </tr>\n",
       "    <tr>\n",
       "      <th>25</th>\n",
       "      <td>Maharashtra Cricket Association Stadium, Pune</td>\n",
       "      <td>Mumbai Indians</td>\n",
       "      <td>3</td>\n",
       "    </tr>\n",
       "    <tr>\n",
       "      <th>26</th>\n",
       "      <td>Maharashtra Cricket Association Stadium, Pune</td>\n",
       "      <td>Punjab Kings</td>\n",
       "      <td>2</td>\n",
       "    </tr>\n",
       "    <tr>\n",
       "      <th>27</th>\n",
       "      <td>Maharashtra Cricket Association Stadium, Pune</td>\n",
       "      <td>Rajasthan Royals</td>\n",
       "      <td>2</td>\n",
       "    </tr>\n",
       "    <tr>\n",
       "      <th>28</th>\n",
       "      <td>Maharashtra Cricket Association Stadium, Pune</td>\n",
       "      <td>Royal Challengers Bangalore</td>\n",
       "      <td>3</td>\n",
       "    </tr>\n",
       "    <tr>\n",
       "      <th>29</th>\n",
       "      <td>Maharashtra Cricket Association Stadium, Pune</td>\n",
       "      <td>Sunrisers Hyderabad</td>\n",
       "      <td>2</td>\n",
       "    </tr>\n",
       "    <tr>\n",
       "      <th>30</th>\n",
       "      <td>Wankhede Stadium, Mumbai</td>\n",
       "      <td>Chennai Super Kings</td>\n",
       "      <td>3</td>\n",
       "    </tr>\n",
       "    <tr>\n",
       "      <th>31</th>\n",
       "      <td>Wankhede Stadium, Mumbai</td>\n",
       "      <td>Delhi Capitals</td>\n",
       "      <td>4</td>\n",
       "    </tr>\n",
       "    <tr>\n",
       "      <th>32</th>\n",
       "      <td>Wankhede Stadium, Mumbai</td>\n",
       "      <td>Gujarat Titans</td>\n",
       "      <td>2</td>\n",
       "    </tr>\n",
       "    <tr>\n",
       "      <th>33</th>\n",
       "      <td>Wankhede Stadium, Mumbai</td>\n",
       "      <td>Kolkata Knight Riders</td>\n",
       "      <td>4</td>\n",
       "    </tr>\n",
       "    <tr>\n",
       "      <th>34</th>\n",
       "      <td>Wankhede Stadium, Mumbai</td>\n",
       "      <td>Lucknow Super Giants</td>\n",
       "      <td>4</td>\n",
       "    </tr>\n",
       "    <tr>\n",
       "      <th>35</th>\n",
       "      <td>Wankhede Stadium, Mumbai</td>\n",
       "      <td>Mumbai Indians</td>\n",
       "      <td>2</td>\n",
       "    </tr>\n",
       "    <tr>\n",
       "      <th>36</th>\n",
       "      <td>Wankhede Stadium, Mumbai</td>\n",
       "      <td>Punjab Kings</td>\n",
       "      <td>3</td>\n",
       "    </tr>\n",
       "    <tr>\n",
       "      <th>37</th>\n",
       "      <td>Wankhede Stadium, Mumbai</td>\n",
       "      <td>Rajasthan Royals</td>\n",
       "      <td>5</td>\n",
       "    </tr>\n",
       "    <tr>\n",
       "      <th>38</th>\n",
       "      <td>Wankhede Stadium, Mumbai</td>\n",
       "      <td>Royal Challengers Bangalore</td>\n",
       "      <td>3</td>\n",
       "    </tr>\n",
       "    <tr>\n",
       "      <th>39</th>\n",
       "      <td>Wankhede Stadium, Mumbai</td>\n",
       "      <td>Sunrisers Hyderabad</td>\n",
       "      <td>2</td>\n",
       "    </tr>\n",
       "  </tbody>\n",
       "</table>\n",
       "</div>"
      ],
      "text/plain": [
       "                                            Venue  \\\n",
       "0                       Brabourne Stadium, Mumbai   \n",
       "1                       Brabourne Stadium, Mumbai   \n",
       "2                       Brabourne Stadium, Mumbai   \n",
       "3                       Brabourne Stadium, Mumbai   \n",
       "4                       Brabourne Stadium, Mumbai   \n",
       "5                       Brabourne Stadium, Mumbai   \n",
       "6                       Brabourne Stadium, Mumbai   \n",
       "7                       Brabourne Stadium, Mumbai   \n",
       "8                       Brabourne Stadium, Mumbai   \n",
       "9                       Brabourne Stadium, Mumbai   \n",
       "10             Dr DY Patil Sports Academy, Mumbai   \n",
       "11             Dr DY Patil Sports Academy, Mumbai   \n",
       "12             Dr DY Patil Sports Academy, Mumbai   \n",
       "13             Dr DY Patil Sports Academy, Mumbai   \n",
       "14             Dr DY Patil Sports Academy, Mumbai   \n",
       "15             Dr DY Patil Sports Academy, Mumbai   \n",
       "16             Dr DY Patil Sports Academy, Mumbai   \n",
       "17             Dr DY Patil Sports Academy, Mumbai   \n",
       "18             Dr DY Patil Sports Academy, Mumbai   \n",
       "19             Dr DY Patil Sports Academy, Mumbai   \n",
       "20  Maharashtra Cricket Association Stadium, Pune   \n",
       "21  Maharashtra Cricket Association Stadium, Pune   \n",
       "22  Maharashtra Cricket Association Stadium, Pune   \n",
       "23  Maharashtra Cricket Association Stadium, Pune   \n",
       "24  Maharashtra Cricket Association Stadium, Pune   \n",
       "25  Maharashtra Cricket Association Stadium, Pune   \n",
       "26  Maharashtra Cricket Association Stadium, Pune   \n",
       "27  Maharashtra Cricket Association Stadium, Pune   \n",
       "28  Maharashtra Cricket Association Stadium, Pune   \n",
       "29  Maharashtra Cricket Association Stadium, Pune   \n",
       "30                       Wankhede Stadium, Mumbai   \n",
       "31                       Wankhede Stadium, Mumbai   \n",
       "32                       Wankhede Stadium, Mumbai   \n",
       "33                       Wankhede Stadium, Mumbai   \n",
       "34                       Wankhede Stadium, Mumbai   \n",
       "35                       Wankhede Stadium, Mumbai   \n",
       "36                       Wankhede Stadium, Mumbai   \n",
       "37                       Wankhede Stadium, Mumbai   \n",
       "38                       Wankhede Stadium, Mumbai   \n",
       "39                       Wankhede Stadium, Mumbai   \n",
       "\n",
       "                          Team1  Played_Matches  \n",
       "0           Chennai Super Kings               2  \n",
       "1                Delhi Capitals               4  \n",
       "2                Gujarat Titans               3  \n",
       "3         Kolkata Knight Riders               3  \n",
       "4          Lucknow Super Giants               2  \n",
       "5                Mumbai Indians               3  \n",
       "6                  Punjab Kings               3  \n",
       "7              Rajasthan Royals               1  \n",
       "8   Royal Challengers Bangalore               2  \n",
       "9           Sunrisers Hyderabad               3  \n",
       "10          Chennai Super Kings               4  \n",
       "11               Delhi Capitals               3  \n",
       "12               Gujarat Titans               4  \n",
       "13        Kolkata Knight Riders               3  \n",
       "14         Lucknow Super Giants               3  \n",
       "15               Mumbai Indians               4  \n",
       "16                 Punjab Kings               3  \n",
       "17             Rajasthan Royals               4  \n",
       "18  Royal Challengers Bangalore               4  \n",
       "19          Sunrisers Hyderabad               4  \n",
       "20          Chennai Super Kings               3  \n",
       "21               Delhi Capitals               1  \n",
       "22               Gujarat Titans               3  \n",
       "23        Kolkata Knight Riders               2  \n",
       "24         Lucknow Super Giants               3  \n",
       "25               Mumbai Indians               3  \n",
       "26                 Punjab Kings               2  \n",
       "27             Rajasthan Royals               2  \n",
       "28  Royal Challengers Bangalore               3  \n",
       "29          Sunrisers Hyderabad               2  \n",
       "30          Chennai Super Kings               3  \n",
       "31               Delhi Capitals               4  \n",
       "32               Gujarat Titans               2  \n",
       "33        Kolkata Knight Riders               4  \n",
       "34         Lucknow Super Giants               4  \n",
       "35               Mumbai Indians               2  \n",
       "36                 Punjab Kings               3  \n",
       "37             Rajasthan Royals               5  \n",
       "38  Royal Challengers Bangalore               3  \n",
       "39          Sunrisers Hyderabad               2  "
      ]
     },
     "execution_count": 81,
     "metadata": {},
     "output_type": "execute_result"
    }
   ],
   "source": [
    "## In which stadium how many matches were played by each team ?\n",
    "\n",
    "combine=match_data.loc[:,[\"Venue\",'Team1']]\n",
    "\n",
    "combine2=match_data.loc[:,[\"Venue\",'Team2']]\n",
    "\n",
    "combine2.rename(columns = {'Team2':'Team1'}, inplace = True)\n",
    "\n",
    "result=combine.append(combine2)\n",
    "\n",
    "result.groupby(['Venue','Team1'])['Team1'].agg(['count']).rename(columns={'count':\"Played_Matches\"}).reset_index()\n",
    "\n",
    "\n",
    "# import dataframe_image as dfi\n",
    "\n",
    "# style=ab.style.background_gradient()\n",
    "\n",
    "# dfi.export(style, 'ab.png')"
   ]
  },
  {
   "cell_type": "markdown",
   "metadata": {},
   "source": [
    "# Q4  \n",
    "\n",
    "## Toss Decision by Team"
   ]
  },
  {
   "cell_type": "code",
   "execution_count": 85,
   "metadata": {
    "colab": {
     "base_uri": "https://localhost:8080/",
     "height": 843
    },
    "executionInfo": {
     "elapsed": 1550,
     "status": "ok",
     "timestamp": 1653631654240,
     "user": {
      "displayName": "Ketul Patel",
      "userId": "15268562803887317419"
     },
     "user_tz": -330
    },
    "id": "T9WAl37Jjoiu",
    "outputId": "42a40836-2fa1-418a-f090-841668ff46c5"
   },
   "outputs": [
    {
     "name": "stdout",
     "output_type": "stream",
     "text": [
      "                     TossWinner TossDecision  count\n",
      "0           Chennai Super Kings        field      4\n",
      "1                Delhi Capitals        field      8\n",
      "2                Gujarat Titans          bat      3\n",
      "3                Gujarat Titans        field      5\n",
      "4         Kolkata Knight Riders        field      7\n",
      "5          Lucknow Super Giants          bat      1\n",
      "6          Lucknow Super Giants        field      4\n",
      "7                Mumbai Indians        field      7\n",
      "8                  Punjab Kings          bat      1\n",
      "9                  Punjab Kings        field      2\n",
      "10             Rajasthan Royals        field      1\n",
      "11  Royal Challengers Bangalore          bat      2\n",
      "12  Royal Challengers Bangalore        field      5\n",
      "13          Sunrisers Hyderabad        field      9\n"
     ]
    },
    {
     "data": {
      "image/png": "[encoded data removed]",
      "text/plain": [
       "<Figure size 936x648 with 1 Axes>"
      ]
     },
     "metadata": {},
     "output_type": "display_data"
    }
   ],
   "source": [
    "print(match_data.groupby(['TossWinner','TossDecision'])['TossWinner'].agg(['count']).sort_values(by=[\"TossWinner\"]).reset_index())\n",
    "\n",
    "ax=plt.axes()\n",
    "ax.set(facecolor = 'gray')\n",
    "sns.countplot(x='TossWinner',hue=('TossDecision'),data=match_data,palette=\"magma\")\n",
    "plt.xticks(rotation=90,fontsize=10)\n",
    "plt.yticks(fontsize=15)\n",
    "plt.rcParams['figure.figsize'] = (13, 9)\n",
    "ax.set_title(\"Toss Decision by team\",fontsize=15,fontweight=\"bold\")\n",
    "\n",
    "plt.xlabel(\"\\n Teams\",fontsize=15)\n",
    "plt.ylabel('count',fontsize=15)\n",
    "plt.show()\n",
    "\n",
    "\n",
    "# import dataframe_image as dfi\n",
    "\n",
    "# style=cc.style.background_gradient()\n",
    "\n",
    "# dfi.export(style, 'cc.png')\n"
   ]
  },
  {
   "cell_type": "markdown",
   "metadata": {
    "executionInfo": {
     "elapsed": 67,
     "status": "ok",
     "timestamp": 1653624016613,
     "user": {
      "displayName": "Ketul Patel",
      "userId": "15268562803887317419"
     },
     "user_tz": -330
    },
    "id": "2Q_1_6ZZdv40"
   },
   "source": [
    "# Qn-5\n",
    "\n",
    "\n",
    "## What is the toss decision in this season?"
   ]
  },
  {
   "cell_type": "code",
   "execution_count": 142,
   "metadata": {
    "colab": {
     "base_uri": "https://localhost:8080/",
     "height": 703
    },
    "executionInfo": {
     "elapsed": 1292,
     "status": "ok",
     "timestamp": 1653624016613,
     "user": {
      "displayName": "Ketul Patel",
      "userId": "15268562803887317419"
     },
     "user_tz": -330
    },
    "id": "j_xkvlgwkOGv",
    "outputId": "fb28640d-4185-4b61-ca2e-5001bb39cfd8"
   },
   "outputs": [
    {
     "name": "stdout",
     "output_type": "stream",
     "text": [
      "TossDecision\n",
      "bat       7\n",
      "field    52\n",
      "Name: TossWinner, dtype: int64\n",
      "\n"
     ]
    },
    {
     "data": {
      "image/png": "[encoded data removed]",
      "text/plain": [
       "<Figure size 432x576 with 1 Axes>"
      ]
     },
     "metadata": {},
     "output_type": "display_data"
    }
   ],
   "source": [
    "print(match_data.groupby(['TossDecision'])['TossWinner'].count())\n",
    "\n",
    "print(\"\")\n",
    "\n",
    "ax=plt.axes()\n",
    "ax.set(facecolor = 'gray')\n",
    "sns.countplot(x='Season',hue='TossDecision',data=match_data,palette=\"magma\")\n",
    "plt.xticks(fontsize=50,fontweight=\"bold\")\n",
    "plt.yticks(fontsize=15)\n",
    "sns.set(rc={'figure.figsize':(6,9)},style='darkgrid')\n",
    "\n",
    "ax.set_title(\"Toss Decision across the Season\",fontsize=20,fontweight=\"bold\")\n",
    "\n",
    "plt.ylabel('Number Of Toss Count',fontsize=15)\n",
    "plt.show()"
   ]
  },
  {
   "cell_type": "markdown",
   "metadata": {},
   "source": [
    "# QN-6 \n",
    "\n",
    "## Winning The match after toss"
   ]
  },
  {
   "cell_type": "code",
   "execution_count": 23,
   "metadata": {
    "colab": {
     "base_uri": "https://localhost:8080/",
     "height": 900
    },
    "executionInfo": {
     "elapsed": 66,
     "status": "ok",
     "timestamp": 1653624016614,
     "user": {
      "displayName": "Ketul Patel",
      "userId": "15268562803887317419"
     },
     "user_tz": -330
    },
    "id": "N46YdSA72FDD",
    "outputId": "29b7ad8d-7cf0-4921-e711-7d04e5102062"
   },
   "outputs": [
    {
     "data": {
      "image/png": "[encoded data removed]",
      "text/plain": [
       "<Figure size 1728x432 with 2 Axes>"
      ]
     },
     "metadata": {},
     "output_type": "display_data"
    }
   ],
   "source": [
    "win_win=match_data[match_data['TossWinner']==match_data['WinningTeam']].groupby('WinningTeam')['WinningTeam'].agg(['count']).sort_values(by=\"WinningTeam\").reset_index()\n",
    "win_lose=match_data[match_data['TossWinner']!=match_data['WinningTeam']].groupby('TossWinner')['WinningTeam'].agg(['count']).reset_index()\n",
    "\n",
    "win_win.columns=['Teams','Toss win & Match Win']\n",
    "win_lose.columns=['Teams','Toss Lose but Match Win']\n",
    "\n",
    "fig,axes=plt.subplots(nrows=1,ncols=2,figsize=(24,6))\n",
    "\n",
    "sns.barplot(x='Teams',y='Toss win & Match Win',data=win_win,ax=axes[0]).set_xticklabels(\n",
    "    win_win['Teams'],rotation=90,fontsize=15,fontweight='bold')\n",
    "\n",
    "\n",
    "sns.barplot(x='Teams',y='Toss Lose but Match Win',data=win_lose,ax=axes[1]).set_xticklabels(\n",
    "    win_lose['Teams'],rotation=90,fontsize=15,fontweight='bold')\n",
    "\n",
    "plt.show()"
   ]
  },
  {
   "cell_type": "markdown",
   "metadata": {},
   "source": [
    "# Qn-7 \n",
    "    \n",
    "## Win - lose ratio after win the toss"
   ]
  },
  {
   "cell_type": "code",
   "execution_count": 86,
   "metadata": {
    "colab": {
     "base_uri": "https://localhost:8080/",
     "height": 264
    },
    "executionInfo": {
     "elapsed": 56,
     "status": "ok",
     "timestamp": 1653624016615,
     "user": {
      "displayName": "Ketul Patel",
      "userId": "15268562803887317419"
     },
     "user_tz": -330
    },
    "id": "gZimIsQP3HQD",
    "outputId": "9efa5eda-10eb-461d-a2c2-0b365510b6ec"
   },
   "outputs": [
    {
     "data": {
      "image/png": "[encoded data removed]",
      "text/plain": [
       "<Figure size 936x648 with 1 Axes>"
      ]
     },
     "metadata": {},
     "output_type": "display_data"
    }
   ],
   "source": [
    "\n",
    "\n",
    "#obtain toss winners in the match\n",
    "\n",
    "winner = match_data[match_data['TossWinner']==match_data['WinningTeam']]\n",
    "\n",
    "total=len(match_data['ID'])\n",
    "\n",
    "labels=['Yes','No']\n",
    "\n",
    "#pie plot\n",
    "plt.pie([len(winner),(total-len(winner))],labels=labels,autopct='%1.2f%%', shadow=True, startangle=90)\n",
    "sns.set(rc={'figure.figsize':(5,9)},style='darkgrid')\n",
    "plot = plt.gcf()\n",
    "plt.title(\"Toss winners' precentage\")\n",
    "plt.show()"
   ]
  },
  {
   "cell_type": "markdown",
   "metadata": {
    "id": "sHCx1klWUXBy"
   },
   "source": [
    "# **Qn-08**\n",
    "\n",
    "## (i) Won the match with biggest margin\n",
    "\n",
    "## (ii) Won the match with biggest Wickets\n",
    "\n"
   ]
  },
  {
   "cell_type": "code",
   "execution_count": 25,
   "metadata": {
    "colab": {
     "base_uri": "https://localhost:8080/",
     "height": 1000
    },
    "executionInfo": {
     "elapsed": 53,
     "status": "ok",
     "timestamp": 1653624016616,
     "user": {
      "displayName": "Ketul Patel",
      "userId": "15268562803887317419"
     },
     "user_tz": -330
    },
    "id": "IkP66i73Ui4X",
    "outputId": "055cdb84-e6d9-426c-9774-4ccad6e00104"
   },
   "outputs": [
    {
     "name": "stdout",
     "output_type": "stream",
     "text": [
      "total record 30\n"
     ]
    },
    {
     "data": {
      "text/html": [
       "<div>\n",
       "<style scoped>\n",
       "    .dataframe tbody tr th:only-of-type {\n",
       "        vertical-align: middle;\n",
       "    }\n",
       "\n",
       "    .dataframe tbody tr th {\n",
       "        vertical-align: top;\n",
       "    }\n",
       "\n",
       "    .dataframe thead th {\n",
       "        text-align: right;\n",
       "    }\n",
       "</style>\n",
       "<table border=\"1\" class=\"dataframe\">\n",
       "  <thead>\n",
       "    <tr style=\"text-align: right;\">\n",
       "      <th></th>\n",
       "      <th>WinningTeam</th>\n",
       "      <th>Margin</th>\n",
       "    </tr>\n",
       "  </thead>\n",
       "  <tbody>\n",
       "    <tr>\n",
       "      <th>2</th>\n",
       "      <td>Chennai Super Kings</td>\n",
       "      <td>91</td>\n",
       "    </tr>\n",
       "  </tbody>\n",
       "</table>\n",
       "</div>"
      ],
      "text/plain": [
       "           WinningTeam  Margin\n",
       "2  Chennai Super Kings      91"
      ]
     },
     "execution_count": 25,
     "metadata": {},
     "output_type": "execute_result"
    }
   ],
   "source": [
    "win_by_runs_data=match_data[match_data['WonBy']!=\"Wickets\"].reset_index()\n",
    "\n",
    "print(f\"total record {len(win_by_runs_data)}\")\n",
    "\n",
    "win_by_runs_data.loc[:,(\"WinningTeam\",\"Margin\")].sort_values(by=\"Margin\",ascending=False).head(1)"
   ]
  },
  {
   "cell_type": "code",
   "execution_count": 26,
   "metadata": {
    "colab": {
     "base_uri": "https://localhost:8080/",
     "height": 976
    },
    "executionInfo": {
     "elapsed": 47,
     "status": "ok",
     "timestamp": 1653624016616,
     "user": {
      "displayName": "Ketul Patel",
      "userId": "15268562803887317419"
     },
     "user_tz": -330
    },
    "id": "lpXiB9-Rja7n",
    "outputId": "e751b743-b6b2-4925-e9b8-207c3079c3c5"
   },
   "outputs": [
    {
     "name": "stdout",
     "output_type": "stream",
     "text": [
      "total record 29\n"
     ]
    },
    {
     "data": {
      "text/html": [
       "<div>\n",
       "<style scoped>\n",
       "    .dataframe tbody tr th:only-of-type {\n",
       "        vertical-align: middle;\n",
       "    }\n",
       "\n",
       "    .dataframe tbody tr th {\n",
       "        vertical-align: top;\n",
       "    }\n",
       "\n",
       "    .dataframe thead th {\n",
       "        text-align: right;\n",
       "    }\n",
       "</style>\n",
       "<table border=\"1\" class=\"dataframe\">\n",
       "  <thead>\n",
       "    <tr style=\"text-align: right;\">\n",
       "      <th></th>\n",
       "      <th>WinningTeam</th>\n",
       "      <th>Margin</th>\n",
       "    </tr>\n",
       "  </thead>\n",
       "  <tbody>\n",
       "    <tr>\n",
       "      <th>9</th>\n",
       "      <td>Sunrisers Hyderabad</td>\n",
       "      <td>9</td>\n",
       "    </tr>\n",
       "    <tr>\n",
       "      <th>11</th>\n",
       "      <td>Delhi Capitals</td>\n",
       "      <td>9</td>\n",
       "    </tr>\n",
       "  </tbody>\n",
       "</table>\n",
       "</div>"
      ],
      "text/plain": [
       "            WinningTeam  Margin\n",
       "9   Sunrisers Hyderabad       9\n",
       "11       Delhi Capitals       9"
      ]
     },
     "execution_count": 26,
     "metadata": {},
     "output_type": "execute_result"
    }
   ],
   "source": [
    "win_by_wickets_data=match_data[match_data['WonBy']==\"Wickets\"].reset_index()\n",
    "\n",
    "print(f\"total record {len(win_by_wickets_data)}\")\n",
    "\n",
    "win_by_wickets_data.loc[:,(\"WinningTeam\",\"Margin\")].sort_values(by=\"Margin\",ascending=False).head(2)"
   ]
  },
  {
   "cell_type": "markdown",
   "metadata": {
    "id": "8sDct7XSt-Hb"
   },
   "source": [
    "# **Qn-09**\n",
    "\n",
    "## How many Super-over played in this season?\n",
    "\n",
    "## If any super over than Who had won?"
   ]
  },
  {
   "cell_type": "code",
   "execution_count": 27,
   "metadata": {
    "colab": {
     "base_uri": "https://localhost:8080/"
    },
    "executionInfo": {
     "elapsed": 43,
     "status": "ok",
     "timestamp": 1653624016617,
     "user": {
      "displayName": "Ketul Patel",
      "userId": "15268562803887317419"
     },
     "user_tz": -330
    },
    "id": "uhB6PSCQRHuY",
    "outputId": "7fe93ebc-8c59-4927-bfa1-1684fc832063"
   },
   "outputs": [
    {
     "name": "stdout",
     "output_type": "stream",
     "text": [
      "Super-over = 0\n"
     ]
    }
   ],
   "source": [
    "res=sum(match_data['SuperOver']==\"Y\")\n",
    "\n",
    "print(f\"Super-over = {res}\")"
   ]
  },
  {
   "cell_type": "markdown",
   "metadata": {
    "id": "kI9CJPM-vW-G"
   },
   "source": [
    "# **Qn-10**\n",
    "\n",
    "## which player most of times man of match in this season?"
   ]
  },
  {
   "cell_type": "code",
   "execution_count": 28,
   "metadata": {
    "colab": {
     "base_uri": "https://localhost:8080/"
    },
    "executionInfo": {
     "elapsed": 40,
     "status": "ok",
     "timestamp": 1653624016617,
     "user": {
      "displayName": "Ketul Patel",
      "userId": "15268562803887317419"
     },
     "user_tz": -330
    },
    "id": "fo78JQiNjqhc",
    "outputId": "725824e0-5c25-41fc-92ee-8edc26e8f338"
   },
   "outputs": [
    {
     "data": {
      "text/plain": [
       "Player_of_Match\n",
       "Kuldeep Yadav    4\n",
       "Name: Player_of_Match, dtype: int64"
      ]
     },
     "execution_count": 28,
     "metadata": {},
     "output_type": "execute_result"
    }
   ],
   "source": [
    "match_data.groupby('Player_of_Match')['Player_of_Match'].count().sort_values(ascending=False).head(1)"
   ]
  },
  {
   "cell_type": "markdown",
   "metadata": {
    "id": "wEGBnT_rtGAJ"
   },
   "source": [
    "# **Qn-11** \n",
    "\n",
    "## The Lowest total defended and Highest total chased by each team\n"
   ]
  },
  {
   "cell_type": "code",
   "execution_count": 88,
   "metadata": {
    "colab": {
     "base_uri": "https://localhost:8080/",
     "height": 473
    },
    "executionInfo": {
     "elapsed": 38,
     "status": "ok",
     "timestamp": 1653624016618,
     "user": {
      "displayName": "Ketul Patel",
      "userId": "15268562803887317419"
     },
     "user_tz": -330
    },
    "id": "UNbEkWFvPAj7",
    "outputId": "abc2e126-838a-4209-f5a4-68ac7dd16de4"
   },
   "outputs": [
    {
     "data": {
      "text/html": [
       "<div>\n",
       "<style scoped>\n",
       "    .dataframe tbody tr th:only-of-type {\n",
       "        vertical-align: middle;\n",
       "    }\n",
       "\n",
       "    .dataframe tbody tr th {\n",
       "        vertical-align: top;\n",
       "    }\n",
       "\n",
       "    .dataframe thead th {\n",
       "        text-align: right;\n",
       "    }\n",
       "</style>\n",
       "<table border=\"1\" class=\"dataframe\">\n",
       "  <thead>\n",
       "    <tr style=\"text-align: right;\">\n",
       "      <th></th>\n",
       "      <th>match_id</th>\n",
       "      <th>date</th>\n",
       "      <th>venue</th>\n",
       "      <th>team1</th>\n",
       "      <th>team2</th>\n",
       "      <th>stage</th>\n",
       "      <th>toss_winner</th>\n",
       "      <th>toss_decision</th>\n",
       "      <th>first_ings_score</th>\n",
       "      <th>first_ings_wkts</th>\n",
       "      <th>second_ings_score</th>\n",
       "      <th>second_ings_wkts</th>\n",
       "      <th>match_winner</th>\n",
       "      <th>won_by</th>\n",
       "      <th>margin</th>\n",
       "      <th>player_of_the_match</th>\n",
       "      <th>top_scorer</th>\n",
       "      <th>highscore</th>\n",
       "      <th>best_bowling</th>\n",
       "      <th>best_bowling_figure</th>\n",
       "    </tr>\n",
       "  </thead>\n",
       "  <tbody>\n",
       "    <tr>\n",
       "      <th>6</th>\n",
       "      <td>7</td>\n",
       "      <td>March 31,2022</td>\n",
       "      <td>Brabourne Stadium, Mumbai</td>\n",
       "      <td>Chennai</td>\n",
       "      <td>Lucknow</td>\n",
       "      <td>Group</td>\n",
       "      <td>Lucknow</td>\n",
       "      <td>Field</td>\n",
       "      <td>210</td>\n",
       "      <td>7</td>\n",
       "      <td>211</td>\n",
       "      <td>4</td>\n",
       "      <td>Lucknow</td>\n",
       "      <td>Wickets</td>\n",
       "      <td>6</td>\n",
       "      <td>Evin Lewis</td>\n",
       "      <td>Quinton de Kock</td>\n",
       "      <td>61</td>\n",
       "      <td>Ravi Bishnoi</td>\n",
       "      <td>2--24</td>\n",
       "    </tr>\n",
       "  </tbody>\n",
       "</table>\n",
       "</div>"
      ],
      "text/plain": [
       "   match_id           date                      venue    team1    team2  \\\n",
       "6         7  March 31,2022  Brabourne Stadium, Mumbai  Chennai  Lucknow   \n",
       "\n",
       "   stage toss_winner toss_decision  first_ings_score  first_ings_wkts  \\\n",
       "6  Group     Lucknow         Field               210                7   \n",
       "\n",
       "   second_ings_score  second_ings_wkts match_winner   won_by  margin  \\\n",
       "6                211                 4      Lucknow  Wickets       6   \n",
       "\n",
       "  player_of_the_match       top_scorer  highscore  best_bowling  \\\n",
       "6          Evin Lewis  Quinton de Kock         61  Ravi Bishnoi   \n",
       "\n",
       "  best_bowling_figure  \n",
       "6               2--24  "
      ]
     },
     "execution_count": 88,
     "metadata": {},
     "output_type": "execute_result"
    }
   ],
   "source": [
    "## Highest total chased\n",
    "\n",
    "new_data[new_data['second_ings_score']>new_data['first_ings_score']].sort_values(by=\"second_ings_score\",ascending=False).head(1)\n"
   ]
  },
  {
   "cell_type": "code",
   "execution_count": 90,
   "metadata": {},
   "outputs": [
    {
     "data": {
      "text/html": [
       "<div>\n",
       "<style scoped>\n",
       "    .dataframe tbody tr th:only-of-type {\n",
       "        vertical-align: middle;\n",
       "    }\n",
       "\n",
       "    .dataframe tbody tr th {\n",
       "        vertical-align: top;\n",
       "    }\n",
       "\n",
       "    .dataframe thead th {\n",
       "        text-align: right;\n",
       "    }\n",
       "</style>\n",
       "<table border=\"1\" class=\"dataframe\">\n",
       "  <thead>\n",
       "    <tr style=\"text-align: right;\">\n",
       "      <th></th>\n",
       "      <th>match_id</th>\n",
       "      <th>date</th>\n",
       "      <th>venue</th>\n",
       "      <th>team1</th>\n",
       "      <th>team2</th>\n",
       "      <th>stage</th>\n",
       "      <th>toss_winner</th>\n",
       "      <th>toss_decision</th>\n",
       "      <th>first_ings_score</th>\n",
       "      <th>first_ings_wkts</th>\n",
       "      <th>second_ings_score</th>\n",
       "      <th>second_ings_wkts</th>\n",
       "      <th>match_winner</th>\n",
       "      <th>won_by</th>\n",
       "      <th>margin</th>\n",
       "      <th>player_of_the_match</th>\n",
       "      <th>top_scorer</th>\n",
       "      <th>highscore</th>\n",
       "      <th>best_bowling</th>\n",
       "      <th>best_bowling_figure</th>\n",
       "    </tr>\n",
       "  </thead>\n",
       "  <tbody>\n",
       "    <tr>\n",
       "      <th>56</th>\n",
       "      <td>57</td>\n",
       "      <td>May 10,2022</td>\n",
       "      <td>Maharashtra Cricket Association Stadium,Pune</td>\n",
       "      <td>Lucknow</td>\n",
       "      <td>Gujarat</td>\n",
       "      <td>Group</td>\n",
       "      <td>Gujarat</td>\n",
       "      <td>Bat</td>\n",
       "      <td>144</td>\n",
       "      <td>4</td>\n",
       "      <td>82</td>\n",
       "      <td>10</td>\n",
       "      <td>Gujarat</td>\n",
       "      <td>Runs</td>\n",
       "      <td>62</td>\n",
       "      <td>Shubman Gill</td>\n",
       "      <td>Shubman Gill</td>\n",
       "      <td>63</td>\n",
       "      <td>Rashid Khan</td>\n",
       "      <td>4--24</td>\n",
       "    </tr>\n",
       "  </tbody>\n",
       "</table>\n",
       "</div>"
      ],
      "text/plain": [
       "    match_id         date                                         venue  \\\n",
       "56        57  May 10,2022  Maharashtra Cricket Association Stadium,Pune   \n",
       "\n",
       "      team1    team2  stage toss_winner toss_decision  first_ings_score  \\\n",
       "56  Lucknow  Gujarat  Group     Gujarat           Bat               144   \n",
       "\n",
       "    first_ings_wkts  second_ings_score  second_ings_wkts match_winner won_by  \\\n",
       "56                4                 82                10      Gujarat   Runs   \n",
       "\n",
       "    margin player_of_the_match    top_scorer  highscore best_bowling  \\\n",
       "56      62        Shubman Gill  Shubman Gill         63  Rashid Khan   \n",
       "\n",
       "   best_bowling_figure  \n",
       "56               4--24  "
      ]
     },
     "execution_count": 90,
     "metadata": {},
     "output_type": "execute_result"
    }
   ],
   "source": [
    "# Lowest total defended\n",
    "\n",
    "new_data[new_data['second_ings_score']<new_data['first_ings_score']].sort_values(by=\"second_ings_score\",ascending=False).tail(1)\n",
    "\n",
    "# import dataframe_image as dfi\n",
    "\n",
    "# style=bg.style.background_gradient()\n",
    "\n",
    "# dfi.export(style, 'bg.png')"
   ]
  },
  {
   "cell_type": "code",
   "execution_count": 99,
   "metadata": {},
   "outputs": [
    {
     "data": {
      "text/html": [
       "<div>\n",
       "<style scoped>\n",
       "    .dataframe tbody tr th:only-of-type {\n",
       "        vertical-align: middle;\n",
       "    }\n",
       "\n",
       "    .dataframe tbody tr th {\n",
       "        vertical-align: top;\n",
       "    }\n",
       "\n",
       "    .dataframe thead th {\n",
       "        text-align: right;\n",
       "    }\n",
       "</style>\n",
       "<table border=\"1\" class=\"dataframe\">\n",
       "  <thead>\n",
       "    <tr style=\"text-align: right;\">\n",
       "      <th></th>\n",
       "      <th>MatchNumber</th>\n",
       "      <th>Team1</th>\n",
       "      <th>Team2</th>\n",
       "      <th>TossWinner</th>\n",
       "      <th>TossDecision</th>\n",
       "      <th>WinningTeam</th>\n",
       "      <th>WonBy</th>\n",
       "      <th>Margin</th>\n",
       "      <th>innings</th>\n",
       "      <th>overs</th>\n",
       "      <th>...</th>\n",
       "      <th>extra_type</th>\n",
       "      <th>batsman_run</th>\n",
       "      <th>extras_run</th>\n",
       "      <th>total_run</th>\n",
       "      <th>non_boundary</th>\n",
       "      <th>isWicketDelivery</th>\n",
       "      <th>player_out</th>\n",
       "      <th>kind</th>\n",
       "      <th>fielders_involved</th>\n",
       "      <th>BattingTeam</th>\n",
       "    </tr>\n",
       "  </thead>\n",
       "  <tbody>\n",
       "    <tr>\n",
       "      <th>0</th>\n",
       "      <td>59</td>\n",
       "      <td>Chennai Super Kings</td>\n",
       "      <td>Mumbai Indians</td>\n",
       "      <td>Mumbai Indians</td>\n",
       "      <td>field</td>\n",
       "      <td>Mumbai Indians</td>\n",
       "      <td>Wickets</td>\n",
       "      <td>5</td>\n",
       "      <td>1</td>\n",
       "      <td>0</td>\n",
       "      <td>...</td>\n",
       "      <td>NaN</td>\n",
       "      <td>1</td>\n",
       "      <td>0</td>\n",
       "      <td>1</td>\n",
       "      <td>0</td>\n",
       "      <td>0</td>\n",
       "      <td>NaN</td>\n",
       "      <td>NaN</td>\n",
       "      <td>NaN</td>\n",
       "      <td>Chennai Super Kings</td>\n",
       "    </tr>\n",
       "    <tr>\n",
       "      <th>1</th>\n",
       "      <td>59</td>\n",
       "      <td>Chennai Super Kings</td>\n",
       "      <td>Mumbai Indians</td>\n",
       "      <td>Mumbai Indians</td>\n",
       "      <td>field</td>\n",
       "      <td>Mumbai Indians</td>\n",
       "      <td>Wickets</td>\n",
       "      <td>5</td>\n",
       "      <td>1</td>\n",
       "      <td>0</td>\n",
       "      <td>...</td>\n",
       "      <td>NaN</td>\n",
       "      <td>0</td>\n",
       "      <td>0</td>\n",
       "      <td>0</td>\n",
       "      <td>0</td>\n",
       "      <td>1</td>\n",
       "      <td>DP Conway</td>\n",
       "      <td>lbw</td>\n",
       "      <td>NaN</td>\n",
       "      <td>Chennai Super Kings</td>\n",
       "    </tr>\n",
       "    <tr>\n",
       "      <th>2</th>\n",
       "      <td>59</td>\n",
       "      <td>Chennai Super Kings</td>\n",
       "      <td>Mumbai Indians</td>\n",
       "      <td>Mumbai Indians</td>\n",
       "      <td>field</td>\n",
       "      <td>Mumbai Indians</td>\n",
       "      <td>Wickets</td>\n",
       "      <td>5</td>\n",
       "      <td>1</td>\n",
       "      <td>0</td>\n",
       "      <td>...</td>\n",
       "      <td>NaN</td>\n",
       "      <td>0</td>\n",
       "      <td>0</td>\n",
       "      <td>0</td>\n",
       "      <td>0</td>\n",
       "      <td>0</td>\n",
       "      <td>NaN</td>\n",
       "      <td>NaN</td>\n",
       "      <td>NaN</td>\n",
       "      <td>Chennai Super Kings</td>\n",
       "    </tr>\n",
       "    <tr>\n",
       "      <th>3</th>\n",
       "      <td>59</td>\n",
       "      <td>Chennai Super Kings</td>\n",
       "      <td>Mumbai Indians</td>\n",
       "      <td>Mumbai Indians</td>\n",
       "      <td>field</td>\n",
       "      <td>Mumbai Indians</td>\n",
       "      <td>Wickets</td>\n",
       "      <td>5</td>\n",
       "      <td>1</td>\n",
       "      <td>0</td>\n",
       "      <td>...</td>\n",
       "      <td>wides</td>\n",
       "      <td>0</td>\n",
       "      <td>1</td>\n",
       "      <td>1</td>\n",
       "      <td>0</td>\n",
       "      <td>0</td>\n",
       "      <td>NaN</td>\n",
       "      <td>NaN</td>\n",
       "      <td>NaN</td>\n",
       "      <td>Chennai Super Kings</td>\n",
       "    </tr>\n",
       "    <tr>\n",
       "      <th>4</th>\n",
       "      <td>59</td>\n",
       "      <td>Chennai Super Kings</td>\n",
       "      <td>Mumbai Indians</td>\n",
       "      <td>Mumbai Indians</td>\n",
       "      <td>field</td>\n",
       "      <td>Mumbai Indians</td>\n",
       "      <td>Wickets</td>\n",
       "      <td>5</td>\n",
       "      <td>1</td>\n",
       "      <td>0</td>\n",
       "      <td>...</td>\n",
       "      <td>NaN</td>\n",
       "      <td>0</td>\n",
       "      <td>0</td>\n",
       "      <td>0</td>\n",
       "      <td>0</td>\n",
       "      <td>1</td>\n",
       "      <td>MM Ali</td>\n",
       "      <td>caught</td>\n",
       "      <td>HR Shokeen</td>\n",
       "      <td>Chennai Super Kings</td>\n",
       "    </tr>\n",
       "  </tbody>\n",
       "</table>\n",
       "<p>5 rows × 24 columns</p>\n",
       "</div>"
      ],
      "text/plain": [
       "   MatchNumber                Team1           Team2      TossWinner  \\\n",
       "0           59  Chennai Super Kings  Mumbai Indians  Mumbai Indians   \n",
       "1           59  Chennai Super Kings  Mumbai Indians  Mumbai Indians   \n",
       "2           59  Chennai Super Kings  Mumbai Indians  Mumbai Indians   \n",
       "3           59  Chennai Super Kings  Mumbai Indians  Mumbai Indians   \n",
       "4           59  Chennai Super Kings  Mumbai Indians  Mumbai Indians   \n",
       "\n",
       "  TossDecision     WinningTeam    WonBy  Margin  innings  overs  ...  \\\n",
       "0        field  Mumbai Indians  Wickets       5        1      0  ...   \n",
       "1        field  Mumbai Indians  Wickets       5        1      0  ...   \n",
       "2        field  Mumbai Indians  Wickets       5        1      0  ...   \n",
       "3        field  Mumbai Indians  Wickets       5        1      0  ...   \n",
       "4        field  Mumbai Indians  Wickets       5        1      0  ...   \n",
       "\n",
       "   extra_type batsman_run extras_run total_run non_boundary  isWicketDelivery  \\\n",
       "0         NaN           1          0         1            0                 0   \n",
       "1         NaN           0          0         0            0                 1   \n",
       "2         NaN           0          0         0            0                 0   \n",
       "3       wides           0          1         1            0                 0   \n",
       "4         NaN           0          0         0            0                 1   \n",
       "\n",
       "   player_out    kind  fielders_involved          BattingTeam  \n",
       "0         NaN     NaN                NaN  Chennai Super Kings  \n",
       "1   DP Conway     lbw                NaN  Chennai Super Kings  \n",
       "2         NaN     NaN                NaN  Chennai Super Kings  \n",
       "3         NaN     NaN                NaN  Chennai Super Kings  \n",
       "4      MM Ali  caught         HR Shokeen  Chennai Super Kings  \n",
       "\n",
       "[5 rows x 24 columns]"
      ]
     },
     "execution_count": 99,
     "metadata": {},
     "output_type": "execute_result"
    }
   ],
   "source": [
    "merge_data = match_data[['ID','MatchNumber','Team1', 'Team2','TossWinner', 'TossDecision','WinningTeam','WonBy', 'Margin']].merge(ball_data, left_on = 'ID', right_on = 'ID', how = 'inner').drop('ID', axis = 1)\n",
    "\n",
    "merge_data.head()"
   ]
  },
  {
   "cell_type": "markdown",
   "metadata": {
    "id": "F_ny82VYGcna"
   },
   "source": [
    "# Qn-12\n",
    "\n",
    "## Most runs scored in 20th and19th overs"
   ]
  },
  {
   "cell_type": "code",
   "execution_count": 100,
   "metadata": {
    "colab": {
     "base_uri": "https://localhost:8080/",
     "height": 112
    },
    "executionInfo": {
     "elapsed": 424,
     "status": "ok",
     "timestamp": 1653631231665,
     "user": {
      "displayName": "Ketul Patel",
      "userId": "15268562803887317419"
     },
     "user_tz": -330
    },
    "id": "vJYPxv0zR4t3",
    "outputId": "4aabf16b-b0e1-4341-9e28-187be07545aa"
   },
   "outputs": [
    {
     "data": {
      "text/html": [
       "<div>\n",
       "<style scoped>\n",
       "    .dataframe tbody tr th:only-of-type {\n",
       "        vertical-align: middle;\n",
       "    }\n",
       "\n",
       "    .dataframe tbody tr th {\n",
       "        vertical-align: top;\n",
       "    }\n",
       "\n",
       "    .dataframe thead th {\n",
       "        text-align: right;\n",
       "    }\n",
       "</style>\n",
       "<table border=\"1\" class=\"dataframe\">\n",
       "  <thead>\n",
       "    <tr style=\"text-align: right;\">\n",
       "      <th></th>\n",
       "      <th>overs</th>\n",
       "      <th>total_run</th>\n",
       "    </tr>\n",
       "  </thead>\n",
       "  <tbody>\n",
       "    <tr>\n",
       "      <th>0</th>\n",
       "      <td>18</td>\n",
       "      <td>1122</td>\n",
       "    </tr>\n",
       "    <tr>\n",
       "      <th>1</th>\n",
       "      <td>19</td>\n",
       "      <td>1060</td>\n",
       "    </tr>\n",
       "  </tbody>\n",
       "</table>\n",
       "</div>"
      ],
      "text/plain": [
       "   overs  total_run\n",
       "0     18       1122\n",
       "1     19       1060"
      ]
     },
     "execution_count": 100,
     "metadata": {},
     "output_type": "execute_result"
    }
   ],
   "source": [
    "# ball_data.head()\n",
    "\n",
    "over_19_20=merge_data[merge_data['overs'].isin([18,19])]\n",
    "\n",
    "over_19_20.groupby('overs')['total_run'].sum().reset_index()\n"
   ]
  },
  {
   "cell_type": "markdown",
   "metadata": {
    "id": "2bk97oUBGm9j"
   },
   "source": [
    "# Qn-13\n",
    "\n",
    "## Most Sixes and Most Four by individual and teams"
   ]
  },
  {
   "cell_type": "code",
   "execution_count": 101,
   "metadata": {
    "colab": {
     "base_uri": "https://localhost:8080/"
    },
    "executionInfo": {
     "elapsed": 9,
     "status": "ok",
     "timestamp": 1653631334193,
     "user": {
      "displayName": "Ketul Patel",
      "userId": "15268562803887317419"
     },
     "user_tz": -330
    },
    "id": "r-q6P_R-G5s7",
    "outputId": "112455ad-f7ab-4846-f3f6-cbeaa78b703d"
   },
   "outputs": [
    {
     "name": "stdout",
     "output_type": "stream",
     "text": [
      "Total sixes in tournament = 835\n",
      "\n",
      " Total Fours in tournament = 1625\n"
     ]
    }
   ],
   "source": [
    "## Total Sixes And Fours\n",
    "\n",
    "sixes = merge_data[merge_data['batsman_run']==6]['ballnumber'].count()\n",
    "fours = merge_data[merge_data['batsman_run']==4]['ballnumber'].count()\n",
    "\n",
    "print(\"Total sixes in tournament =\",sixes)\n",
    "print(\"\\n Total Fours in tournament =\",fours)"
   ]
  },
  {
   "cell_type": "markdown",
   "metadata": {
    "id": "z_pMrGBeH6su"
   },
   "source": [
    "## Most Sixes By player"
   ]
  },
  {
   "cell_type": "code",
   "execution_count": 102,
   "metadata": {
    "colab": {
     "base_uri": "https://localhost:8080/",
     "height": 81
    },
    "executionInfo": {
     "elapsed": 447,
     "status": "ok",
     "timestamp": 1653628874614,
     "user": {
      "displayName": "Ketul Patel",
      "userId": "15268562803887317419"
     },
     "user_tz": -330
    },
    "id": "rTKFONId1PSh",
    "outputId": "818aab12-773b-4bf8-bf82-5c6cc3ce3a57"
   },
   "outputs": [
    {
     "data": {
      "text/html": [
       "<div>\n",
       "<style scoped>\n",
       "    .dataframe tbody tr th:only-of-type {\n",
       "        vertical-align: middle;\n",
       "    }\n",
       "\n",
       "    .dataframe tbody tr th {\n",
       "        vertical-align: top;\n",
       "    }\n",
       "\n",
       "    .dataframe thead th {\n",
       "        text-align: right;\n",
       "    }\n",
       "</style>\n",
       "<table border=\"1\" class=\"dataframe\">\n",
       "  <thead>\n",
       "    <tr style=\"text-align: right;\">\n",
       "      <th></th>\n",
       "      <th>batter</th>\n",
       "      <th>count</th>\n",
       "      <th>sum</th>\n",
       "    </tr>\n",
       "  </thead>\n",
       "  <tbody>\n",
       "    <tr>\n",
       "      <th>0</th>\n",
       "      <td>JC Buttler</td>\n",
       "      <td>37</td>\n",
       "      <td>222</td>\n",
       "    </tr>\n",
       "  </tbody>\n",
       "</table>\n",
       "</div>"
      ],
      "text/plain": [
       "       batter  count  sum\n",
       "0  JC Buttler     37  222"
      ]
     },
     "execution_count": 102,
     "metadata": {},
     "output_type": "execute_result"
    }
   ],
   "source": [
    "\n",
    "merge_data[merge_data['batsman_run']==6].groupby('batter')['batsman_run'].agg(['count','sum']).sort_values(by='sum',ascending=False).reset_index().head(1)"
   ]
  },
  {
   "cell_type": "markdown",
   "metadata": {},
   "source": [
    "## Most Fours By player"
   ]
  },
  {
   "cell_type": "code",
   "execution_count": 103,
   "metadata": {
    "colab": {
     "base_uri": "https://localhost:8080/",
     "height": 81
    },
    "executionInfo": {
     "elapsed": 9,
     "status": "ok",
     "timestamp": 1653628676511,
     "user": {
      "displayName": "Ketul Patel",
      "userId": "15268562803887317419"
     },
     "user_tz": -330
    },
    "id": "CroZy1ZK8ven",
    "outputId": "c8f83bcf-9f80-4308-f83b-03311ab6badc"
   },
   "outputs": [
    {
     "data": {
      "text/html": [
       "<div>\n",
       "<style scoped>\n",
       "    .dataframe tbody tr th:only-of-type {\n",
       "        vertical-align: middle;\n",
       "    }\n",
       "\n",
       "    .dataframe tbody tr th {\n",
       "        vertical-align: top;\n",
       "    }\n",
       "\n",
       "    .dataframe thead th {\n",
       "        text-align: right;\n",
       "    }\n",
       "</style>\n",
       "<table border=\"1\" class=\"dataframe\">\n",
       "  <thead>\n",
       "    <tr style=\"text-align: right;\">\n",
       "      <th></th>\n",
       "      <th>batter</th>\n",
       "      <th>count</th>\n",
       "      <th>sum</th>\n",
       "    </tr>\n",
       "  </thead>\n",
       "  <tbody>\n",
       "    <tr>\n",
       "      <th>0</th>\n",
       "      <td>JC Buttler</td>\n",
       "      <td>57</td>\n",
       "      <td>228</td>\n",
       "    </tr>\n",
       "  </tbody>\n",
       "</table>\n",
       "</div>"
      ],
      "text/plain": [
       "       batter  count  sum\n",
       "0  JC Buttler     57  228"
      ]
     },
     "execution_count": 103,
     "metadata": {},
     "output_type": "execute_result"
    }
   ],
   "source": [
    "merge_data[merge_data['batsman_run']==4].groupby('batter')['batsman_run'].agg(['count','sum']).sort_values(by='sum',ascending=False).reset_index().head(1)"
   ]
  },
  {
   "cell_type": "markdown",
   "metadata": {},
   "source": [
    "##  Most Sixes and Most Four by  teams"
   ]
  },
  {
   "cell_type": "code",
   "execution_count": 119,
   "metadata": {
    "colab": {
     "base_uri": "https://localhost:8080/",
     "height": 583
    },
    "executionInfo": {
     "elapsed": 1198,
     "status": "ok",
     "timestamp": 1653628296258,
     "user": {
      "displayName": "Ketul Patel",
      "userId": "15268562803887317419"
     },
     "user_tz": -330
    },
    "id": "PllQjN231hZi",
    "outputId": "8b1fc028-3ceb-498b-854b-73b5cde8ad9a"
   },
   "outputs": [
    {
     "data": {
      "image/png": "[encoded data removed]",
      "text/plain": [
       "<Figure size 936x432 with 1 Axes>"
      ]
     },
     "metadata": {},
     "output_type": "display_data"
    }
   ],
   "source": [
    "\n",
    "# merge_data[merge_data['batsman_run']==6].groupby('batter')['batsman_run'].sum().sort_values(ascending=False).reset_index()\n",
    "\n",
    "fours_sixes=merge_data[merge_data['batsman_run'].isin([4,6])]\n",
    "\n",
    "ax=plt.axes()\n",
    "ax.set(facecolor = 'gray')\n",
    "sns.countplot(x='BattingTeam',hue=('batsman_run'),data=fours_sixes,palette=\"magma\")\n",
    "plt.xticks(rotation=90,fontsize=10,fontweight='bold')\n",
    "plt.yticks(fontsize=15)\n",
    "plt.rcParams['figure.figsize'] = (13, 9)\n",
    "ax.set_title(\"Fours And Sixes By Team\",fontsize=15,fontweight=\"bold\")\n",
    "\n",
    "plt.xlabel(\"\\n Teams\",fontsize=15)\n",
    "plt.ylabel('Number of Runs',fontsize=15)\n",
    "plt.show()\n"
   ]
  },
  {
   "cell_type": "markdown",
   "metadata": {},
   "source": [
    "# Qn-14\n",
    "\n",
    "## >50 Score by player"
   ]
  },
  {
   "cell_type": "code",
   "execution_count": 123,
   "metadata": {
    "colab": {
     "base_uri": "https://localhost:8080/",
     "height": 424
    },
    "executionInfo": {
     "elapsed": 454,
     "status": "ok",
     "timestamp": 1653630050999,
     "user": {
      "displayName": "Ketul Patel",
      "userId": "15268562803887317419"
     },
     "user_tz": -330
    },
    "id": "OEswCnWg_TYJ",
    "outputId": "11f60488-b407-4bf0-8d22-d1b73f45ab22"
   },
   "outputs": [
    {
     "data": {
      "text/html": [
       "<div>\n",
       "<style scoped>\n",
       "    .dataframe tbody tr th:only-of-type {\n",
       "        vertical-align: middle;\n",
       "    }\n",
       "\n",
       "    .dataframe tbody tr th {\n",
       "        vertical-align: top;\n",
       "    }\n",
       "\n",
       "    .dataframe thead th {\n",
       "        text-align: right;\n",
       "    }\n",
       "</style>\n",
       "<table border=\"1\" class=\"dataframe\">\n",
       "  <thead>\n",
       "    <tr style=\"text-align: right;\">\n",
       "      <th></th>\n",
       "      <th>batter</th>\n",
       "      <th>MatchNumber</th>\n",
       "      <th>total_run</th>\n",
       "    </tr>\n",
       "  </thead>\n",
       "  <tbody>\n",
       "    <tr>\n",
       "      <th>0</th>\n",
       "      <td>JC Buttler</td>\n",
       "      <td>34</td>\n",
       "      <td>117</td>\n",
       "    </tr>\n",
       "    <tr>\n",
       "      <th>1</th>\n",
       "      <td>KL Rahul</td>\n",
       "      <td>37</td>\n",
       "      <td>111</td>\n",
       "    </tr>\n",
       "    <tr>\n",
       "      <th>2</th>\n",
       "      <td>JC Buttler</td>\n",
       "      <td>30</td>\n",
       "      <td>108</td>\n",
       "    </tr>\n",
       "    <tr>\n",
       "      <th>3</th>\n",
       "      <td>KL Rahul</td>\n",
       "      <td>26</td>\n",
       "      <td>108</td>\n",
       "    </tr>\n",
       "    <tr>\n",
       "      <th>4</th>\n",
       "      <td>JC Buttler</td>\n",
       "      <td>9</td>\n",
       "      <td>103</td>\n",
       "    </tr>\n",
       "    <tr>\n",
       "      <th>...</th>\n",
       "      <td>...</td>\n",
       "      <td>...</td>\n",
       "      <td>...</td>\n",
       "    </tr>\n",
       "    <tr>\n",
       "      <th>95</th>\n",
       "      <td>VR Iyer</td>\n",
       "      <td>14</td>\n",
       "      <td>52</td>\n",
       "    </tr>\n",
       "    <tr>\n",
       "      <th>96</th>\n",
       "      <td>DJ Hooda</td>\n",
       "      <td>12</td>\n",
       "      <td>51</td>\n",
       "    </tr>\n",
       "    <tr>\n",
       "      <th>97</th>\n",
       "      <td>S Dube</td>\n",
       "      <td>7</td>\n",
       "      <td>51</td>\n",
       "    </tr>\n",
       "    <tr>\n",
       "      <th>98</th>\n",
       "      <td>MS Dhoni</td>\n",
       "      <td>1</td>\n",
       "      <td>51</td>\n",
       "    </tr>\n",
       "    <tr>\n",
       "      <th>99</th>\n",
       "      <td>AD Russell</td>\n",
       "      <td>25</td>\n",
       "      <td>51</td>\n",
       "    </tr>\n",
       "  </tbody>\n",
       "</table>\n",
       "<p>100 rows × 3 columns</p>\n",
       "</div>"
      ],
      "text/plain": [
       "        batter  MatchNumber  total_run\n",
       "0   JC Buttler           34        117\n",
       "1     KL Rahul           37        111\n",
       "2   JC Buttler           30        108\n",
       "3     KL Rahul           26        108\n",
       "4   JC Buttler            9        103\n",
       "..         ...          ...        ...\n",
       "95     VR Iyer           14         52\n",
       "96    DJ Hooda           12         51\n",
       "97      S Dube            7         51\n",
       "98    MS Dhoni            1         51\n",
       "99  AD Russell           25         51\n",
       "\n",
       "[100 rows x 3 columns]"
      ]
     },
     "execution_count": 123,
     "metadata": {},
     "output_type": "execute_result"
    }
   ],
   "source": [
    "dd=merge_data.groupby(['batter','MatchNumber'])['total_run'].sum().sort_values(ascending=False).reset_index()\n",
    "dd[dd.total_run>50]"
   ]
  },
  {
   "cell_type": "markdown",
   "metadata": {},
   "source": [
    "## >100 Score by player"
   ]
  },
  {
   "cell_type": "code",
   "execution_count": 125,
   "metadata": {
    "colab": {
     "base_uri": "https://localhost:8080/",
     "height": 269
    },
    "executionInfo": {
     "elapsed": 445,
     "status": "ok",
     "timestamp": 1653630066280,
     "user": {
      "displayName": "Ketul Patel",
      "userId": "15268562803887317419"
     },
     "user_tz": -330
    },
    "id": "G2JnjOo9BpPh",
    "outputId": "29e17161-f27a-4596-8467-e7e89c10cd21"
   },
   "outputs": [
    {
     "data": {
      "text/html": [
       "<div>\n",
       "<style scoped>\n",
       "    .dataframe tbody tr th:only-of-type {\n",
       "        vertical-align: middle;\n",
       "    }\n",
       "\n",
       "    .dataframe tbody tr th {\n",
       "        vertical-align: top;\n",
       "    }\n",
       "\n",
       "    .dataframe thead th {\n",
       "        text-align: right;\n",
       "    }\n",
       "</style>\n",
       "<table border=\"1\" class=\"dataframe\">\n",
       "  <thead>\n",
       "    <tr style=\"text-align: right;\">\n",
       "      <th></th>\n",
       "      <th>batter</th>\n",
       "      <th>MatchNumber</th>\n",
       "      <th>total_run</th>\n",
       "    </tr>\n",
       "  </thead>\n",
       "  <tbody>\n",
       "    <tr>\n",
       "      <th>0</th>\n",
       "      <td>JC Buttler</td>\n",
       "      <td>34</td>\n",
       "      <td>117</td>\n",
       "    </tr>\n",
       "    <tr>\n",
       "      <th>1</th>\n",
       "      <td>KL Rahul</td>\n",
       "      <td>37</td>\n",
       "      <td>111</td>\n",
       "    </tr>\n",
       "    <tr>\n",
       "      <th>2</th>\n",
       "      <td>JC Buttler</td>\n",
       "      <td>30</td>\n",
       "      <td>108</td>\n",
       "    </tr>\n",
       "    <tr>\n",
       "      <th>3</th>\n",
       "      <td>KL Rahul</td>\n",
       "      <td>26</td>\n",
       "      <td>108</td>\n",
       "    </tr>\n",
       "    <tr>\n",
       "      <th>4</th>\n",
       "      <td>JC Buttler</td>\n",
       "      <td>9</td>\n",
       "      <td>103</td>\n",
       "    </tr>\n",
       "    <tr>\n",
       "      <th>5</th>\n",
       "      <td>S Dube</td>\n",
       "      <td>22</td>\n",
       "      <td>102</td>\n",
       "    </tr>\n",
       "    <tr>\n",
       "      <th>6</th>\n",
       "      <td>F du Plessis</td>\n",
       "      <td>3</td>\n",
       "      <td>102</td>\n",
       "    </tr>\n",
       "    <tr>\n",
       "      <th>7</th>\n",
       "      <td>DA Warner</td>\n",
       "      <td>50</td>\n",
       "      <td>101</td>\n",
       "    </tr>\n",
       "    <tr>\n",
       "      <th>8</th>\n",
       "      <td>RD Gaikwad</td>\n",
       "      <td>46</td>\n",
       "      <td>101</td>\n",
       "    </tr>\n",
       "  </tbody>\n",
       "</table>\n",
       "</div>"
      ],
      "text/plain": [
       "         batter  MatchNumber  total_run\n",
       "0    JC Buttler           34        117\n",
       "1      KL Rahul           37        111\n",
       "2    JC Buttler           30        108\n",
       "3      KL Rahul           26        108\n",
       "4    JC Buttler            9        103\n",
       "5        S Dube           22        102\n",
       "6  F du Plessis            3        102\n",
       "7     DA Warner           50        101\n",
       "8    RD Gaikwad           46        101"
      ]
     },
     "execution_count": 125,
     "metadata": {},
     "output_type": "execute_result"
    }
   ],
   "source": [
    "dd[dd.total_run>100]"
   ]
  },
  {
   "cell_type": "markdown",
   "metadata": {
    "id": "I3Mwj-bZIbGQ"
   },
   "source": [
    "# Qn-15\n",
    "\n",
    "## Highest Run scorer in power play and death overs\n",
    "\n"
   ]
  },
  {
   "cell_type": "code",
   "execution_count": 117,
   "metadata": {
    "colab": {
     "base_uri": "https://localhost:8080/",
     "height": 81
    },
    "executionInfo": {
     "elapsed": 441,
     "status": "ok",
     "timestamp": 1653632804141,
     "user": {
      "displayName": "Ketul Patel",
      "userId": "15268562803887317419"
     },
     "user_tz": -330
    },
    "id": "T77b7QUVIrUn",
    "outputId": "17edd1ff-8349-49db-a16b-d2479560a00f"
   },
   "outputs": [
    {
     "data": {
      "text/html": [
       "<div>\n",
       "<style scoped>\n",
       "    .dataframe tbody tr th:only-of-type {\n",
       "        vertical-align: middle;\n",
       "    }\n",
       "\n",
       "    .dataframe tbody tr th {\n",
       "        vertical-align: top;\n",
       "    }\n",
       "\n",
       "    .dataframe thead th {\n",
       "        text-align: right;\n",
       "    }\n",
       "</style>\n",
       "<table border=\"1\" class=\"dataframe\">\n",
       "  <thead>\n",
       "    <tr style=\"text-align: right;\">\n",
       "      <th></th>\n",
       "      <th>MatchNumber</th>\n",
       "      <th>innings</th>\n",
       "      <th>total_run</th>\n",
       "    </tr>\n",
       "  </thead>\n",
       "  <tbody>\n",
       "    <tr>\n",
       "      <th>0</th>\n",
       "      <td>32</td>\n",
       "      <td>2</td>\n",
       "      <td>81</td>\n",
       "    </tr>\n",
       "  </tbody>\n",
       "</table>\n",
       "</div>"
      ],
      "text/plain": [
       "   MatchNumber  innings  total_run\n",
       "0           32        2         81"
      ]
     },
     "execution_count": 117,
     "metadata": {},
     "output_type": "execute_result"
    }
   ],
   "source": [
    "# Power play highest score\n",
    "\n",
    "powerplay=merge_data[merge_data['overs'].isin([0,1,2,3,4,5])]\n",
    "\n",
    "powerplay.groupby(['MatchNumber','innings'])['total_run'].sum().sort_values(ascending=False).reset_index().head(1)\n",
    "\n"
   ]
  },
  {
   "cell_type": "code",
   "execution_count": 118,
   "metadata": {
    "colab": {
     "base_uri": "https://localhost:8080/",
     "height": 81
    },
    "executionInfo": {
     "elapsed": 424,
     "status": "ok",
     "timestamp": 1653632828169,
     "user": {
      "displayName": "Ketul Patel",
      "userId": "15268562803887317419"
     },
     "user_tz": -330
    },
    "id": "DEr7ncrsMlqK",
    "outputId": "107d52d3-c248-424e-8fd6-59e9e2591184"
   },
   "outputs": [
    {
     "data": {
      "text/html": [
       "<div>\n",
       "<style scoped>\n",
       "    .dataframe tbody tr th:only-of-type {\n",
       "        vertical-align: middle;\n",
       "    }\n",
       "\n",
       "    .dataframe tbody tr th {\n",
       "        vertical-align: top;\n",
       "    }\n",
       "\n",
       "    .dataframe thead th {\n",
       "        text-align: right;\n",
       "    }\n",
       "</style>\n",
       "<table border=\"1\" class=\"dataframe\">\n",
       "  <thead>\n",
       "    <tr style=\"text-align: right;\">\n",
       "      <th></th>\n",
       "      <th>MatchNumber</th>\n",
       "      <th>innings</th>\n",
       "      <th>total_run</th>\n",
       "    </tr>\n",
       "  </thead>\n",
       "  <tbody>\n",
       "    <tr>\n",
       "      <th>0</th>\n",
       "      <td>40</td>\n",
       "      <td>2</td>\n",
       "      <td>25</td>\n",
       "    </tr>\n",
       "  </tbody>\n",
       "</table>\n",
       "</div>"
      ],
      "text/plain": [
       "   MatchNumber  innings  total_run\n",
       "0           40        2         25"
      ]
     },
     "execution_count": 118,
     "metadata": {},
     "output_type": "execute_result"
    }
   ],
   "source": [
    "# Last Over highest score\n",
    "\n",
    "last_over=merge_data[merge_data['overs'].isin([19])]\n",
    "\n",
    "last_over.groupby(['MatchNumber','innings'])['total_run'].sum().sort_values(ascending=False).reset_index().head(1)"
   ]
  },
  {
   "cell_type": "markdown",
   "metadata": {},
   "source": [
    "# Qn-17\n",
    "\n",
    "## Batting"
   ]
  },
  {
   "cell_type": "code",
   "execution_count": 130,
   "metadata": {},
   "outputs": [
    {
     "data": {
      "text/plain": [
       "array(['Chennai Super Kings', 'Rajasthan Royals', 'Gujarat Titans',\n",
       "       'Kolkata Knight Riders', 'Royal Challengers Bangalore',\n",
       "       'Lucknow Super Giants', 'Punjab Kings', 'Mumbai Indians',\n",
       "       'Delhi Capitals', 'Sunrisers Hyderabad'], dtype=object)"
      ]
     },
     "execution_count": 130,
     "metadata": {},
     "output_type": "execute_result"
    }
   ],
   "source": [
    "merge_data.Team1.unique()"
   ]
  },
  {
   "cell_type": "markdown",
   "metadata": {
    "colab": {
     "base_uri": "https://localhost:8080/",
     "height": 179
    },
    "executionInfo": {
     "elapsed": 622,
     "status": "ok",
     "timestamp": 1653640389316,
     "user": {
      "displayName": "Ketul Patel",
      "userId": "15268562803887317419"
     },
     "user_tz": -330
    },
    "id": "4p8O5AJhob9P",
    "outputId": "5ebf2737-42b4-4c96-b9d8-357321ee7b2b"
   },
   "source": [
    "# Qn-18\n",
    "\n",
    "## Bowling"
   ]
  },
  {
   "cell_type": "code",
   "execution_count": null,
   "metadata": {},
   "outputs": [],
   "source": []
  },
  {
   "cell_type": "markdown",
   "metadata": {},
   "source": [
    "# Qn-19\n",
    "\n",
    "## Catches"
   ]
  },
  {
   "cell_type": "code",
   "execution_count": null,
   "metadata": {},
   "outputs": [],
   "source": []
  },
  {
   "cell_type": "markdown",
   "metadata": {},
   "source": [
    "# Qn-20\n",
    "\n",
    "## Run Out"
   ]
  },
  {
   "cell_type": "code",
   "execution_count": null,
   "metadata": {},
   "outputs": [],
   "source": []
  },
  {
   "cell_type": "code",
   "execution_count": null,
   "metadata": {},
   "outputs": [],
   "source": []
  },
  {
   "cell_type": "code",
   "execution_count": null,
   "metadata": {},
   "outputs": [],
   "source": []
  },
  {
   "cell_type": "markdown",
   "metadata": {
    "id": "gUEmEN6XNCUL"
   },
   "source": [
    "# remaining Qn\n",
    "\n",
    "\n",
    "● Most 50+ 100+ partnerships by a duo\n",
    "\n",
    "● Most 50+ 100+ partnerships by team"
   ]
  },
  {
   "cell_type": "code",
   "execution_count": null,
   "metadata": {
    "id": "BwLfZHaSuXQ4"
   },
   "outputs": [],
   "source": [
    "new_data.head()"
   ]
  },
  {
   "cell_type": "code",
   "execution_count": null,
   "metadata": {},
   "outputs": [],
   "source": [
    "new_data.columns"
   ]
  },
  {
   "cell_type": "code",
   "execution_count": null,
   "metadata": {},
   "outputs": [],
   "source": [
    "match_data.head()"
   ]
  },
  {
   "cell_type": "code",
   "execution_count": null,
   "metadata": {},
   "outputs": [],
   "source": [
    "ball_data.head(10)"
   ]
  },
  {
   "cell_type": "code",
   "execution_count": 126,
   "metadata": {
    "scrolled": false
   },
   "outputs": [
    {
     "data": {
      "text/html": [
       "<div>\n",
       "<style scoped>\n",
       "    .dataframe tbody tr th:only-of-type {\n",
       "        vertical-align: middle;\n",
       "    }\n",
       "\n",
       "    .dataframe tbody tr th {\n",
       "        vertical-align: top;\n",
       "    }\n",
       "\n",
       "    .dataframe thead th {\n",
       "        text-align: right;\n",
       "    }\n",
       "</style>\n",
       "<table border=\"1\" class=\"dataframe\">\n",
       "  <thead>\n",
       "    <tr style=\"text-align: right;\">\n",
       "      <th></th>\n",
       "      <th>ID</th>\n",
       "      <th>innings</th>\n",
       "      <th>batter</th>\n",
       "      <th>non-striker</th>\n",
       "      <th>score</th>\n",
       "    </tr>\n",
       "  </thead>\n",
       "  <tbody>\n",
       "    <tr>\n",
       "      <th>17</th>\n",
       "      <td>1304104</td>\n",
       "      <td>2</td>\n",
       "      <td>MR Marsh</td>\n",
       "      <td>DA Warner</td>\n",
       "      <td>64</td>\n",
       "    </tr>\n",
       "    <tr>\n",
       "      <th>14</th>\n",
       "      <td>1304104</td>\n",
       "      <td>2</td>\n",
       "      <td>DA Warner</td>\n",
       "      <td>MR Marsh</td>\n",
       "      <td>42</td>\n",
       "    </tr>\n",
       "    <tr>\n",
       "      <th>7</th>\n",
       "      <td>1304104</td>\n",
       "      <td>1</td>\n",
       "      <td>R Ashwin</td>\n",
       "      <td>D Padikkal</td>\n",
       "      <td>19</td>\n",
       "    </tr>\n",
       "    <tr>\n",
       "      <th>8</th>\n",
       "      <td>1304104</td>\n",
       "      <td>1</td>\n",
       "      <td>R Ashwin</td>\n",
       "      <td>YBK Jaiswal</td>\n",
       "      <td>19</td>\n",
       "    </tr>\n",
       "    <tr>\n",
       "      <th>1</th>\n",
       "      <td>1304104</td>\n",
       "      <td>1</td>\n",
       "      <td>D Padikkal</td>\n",
       "      <td>R Ashwin</td>\n",
       "      <td>17</td>\n",
       "    </tr>\n",
       "    <tr>\n",
       "      <th>6</th>\n",
       "      <td>1304104</td>\n",
       "      <td>1</td>\n",
       "      <td>JC Buttler</td>\n",
       "      <td>YBK Jaiswal</td>\n",
       "      <td>13</td>\n",
       "    </tr>\n",
       "    <tr>\n",
       "      <th>13</th>\n",
       "      <td>1304104</td>\n",
       "      <td>1</td>\n",
       "      <td>YBK Jaiswal</td>\n",
       "      <td>R Ashwin</td>\n",
       "      <td>13</td>\n",
       "    </tr>\n",
       "    <tr>\n",
       "      <th>3</th>\n",
       "      <td>1304104</td>\n",
       "      <td>1</td>\n",
       "      <td>D Padikkal</td>\n",
       "      <td>SV Samson</td>\n",
       "      <td>8</td>\n",
       "    </tr>\n",
       "    <tr>\n",
       "      <th>5</th>\n",
       "      <td>1304104</td>\n",
       "      <td>1</td>\n",
       "      <td>HE van der Dussen</td>\n",
       "      <td>TA Boult</td>\n",
       "      <td>8</td>\n",
       "    </tr>\n",
       "    <tr>\n",
       "      <th>9</th>\n",
       "      <td>1304104</td>\n",
       "      <td>1</td>\n",
       "      <td>R Parag</td>\n",
       "      <td>D Padikkal</td>\n",
       "      <td>6</td>\n",
       "    </tr>\n",
       "    <tr>\n",
       "      <th>12</th>\n",
       "      <td>1304104</td>\n",
       "      <td>1</td>\n",
       "      <td>YBK Jaiswal</td>\n",
       "      <td>JC Buttler</td>\n",
       "      <td>6</td>\n",
       "    </tr>\n",
       "    <tr>\n",
       "      <th>18</th>\n",
       "      <td>1304104</td>\n",
       "      <td>2</td>\n",
       "      <td>RR Pant</td>\n",
       "      <td>DA Warner</td>\n",
       "      <td>4</td>\n",
       "    </tr>\n",
       "    <tr>\n",
       "      <th>11</th>\n",
       "      <td>1304104</td>\n",
       "      <td>1</td>\n",
       "      <td>TA Boult</td>\n",
       "      <td>HE van der Dussen</td>\n",
       "      <td>4</td>\n",
       "    </tr>\n",
       "    <tr>\n",
       "      <th>10</th>\n",
       "      <td>1304104</td>\n",
       "      <td>1</td>\n",
       "      <td>SV Samson</td>\n",
       "      <td>D Padikkal</td>\n",
       "      <td>4</td>\n",
       "    </tr>\n",
       "    <tr>\n",
       "      <th>2</th>\n",
       "      <td>1304104</td>\n",
       "      <td>1</td>\n",
       "      <td>D Padikkal</td>\n",
       "      <td>R Parag</td>\n",
       "      <td>4</td>\n",
       "    </tr>\n",
       "    <tr>\n",
       "      <th>4</th>\n",
       "      <td>1304104</td>\n",
       "      <td>1</td>\n",
       "      <td>HE van der Dussen</td>\n",
       "      <td>D Padikkal</td>\n",
       "      <td>2</td>\n",
       "    </tr>\n",
       "    <tr>\n",
       "      <th>15</th>\n",
       "      <td>1304104</td>\n",
       "      <td>2</td>\n",
       "      <td>DA Warner</td>\n",
       "      <td>RR Pant</td>\n",
       "      <td>2</td>\n",
       "    </tr>\n",
       "    <tr>\n",
       "      <th>16</th>\n",
       "      <td>1304104</td>\n",
       "      <td>2</td>\n",
       "      <td>KS Bharat</td>\n",
       "      <td>DA Warner</td>\n",
       "      <td>2</td>\n",
       "    </tr>\n",
       "    <tr>\n",
       "      <th>0</th>\n",
       "      <td>1304104</td>\n",
       "      <td>1</td>\n",
       "      <td>D Padikkal</td>\n",
       "      <td>HE van der Dussen</td>\n",
       "      <td>2</td>\n",
       "    </tr>\n",
       "  </tbody>\n",
       "</table>\n",
       "</div>"
      ],
      "text/plain": [
       "         ID  innings             batter        non-striker  score\n",
       "17  1304104        2           MR Marsh          DA Warner     64\n",
       "14  1304104        2          DA Warner           MR Marsh     42\n",
       "7   1304104        1           R Ashwin         D Padikkal     19\n",
       "8   1304104        1           R Ashwin        YBK Jaiswal     19\n",
       "1   1304104        1         D Padikkal           R Ashwin     17\n",
       "6   1304104        1         JC Buttler        YBK Jaiswal     13\n",
       "13  1304104        1        YBK Jaiswal           R Ashwin     13\n",
       "3   1304104        1         D Padikkal          SV Samson      8\n",
       "5   1304104        1  HE van der Dussen           TA Boult      8\n",
       "9   1304104        1            R Parag         D Padikkal      6\n",
       "12  1304104        1        YBK Jaiswal         JC Buttler      6\n",
       "18  1304104        2            RR Pant          DA Warner      4\n",
       "11  1304104        1           TA Boult  HE van der Dussen      4\n",
       "10  1304104        1          SV Samson         D Padikkal      4\n",
       "2   1304104        1         D Padikkal            R Parag      4\n",
       "4   1304104        1  HE van der Dussen         D Padikkal      2\n",
       "15  1304104        2          DA Warner            RR Pant      2\n",
       "16  1304104        2          KS Bharat          DA Warner      2\n",
       "0   1304104        1         D Padikkal  HE van der Dussen      2"
      ]
     },
     "execution_count": 126,
     "metadata": {},
     "output_type": "execute_result"
    }
   ],
   "source": [
    "aa=ball_data[ball_data[\"ID\"]==1304104]\n",
    "\n",
    "aa.groupby(['ID','innings',\"batter\",'non-striker'])['total_run'].agg(['count']).reset_index().rename(\n",
    "     columns={'count':'score'}).sort_values(by=\"score\",ascending=False)\n",
    "\n"
   ]
  },
  {
   "cell_type": "code",
   "execution_count": null,
   "metadata": {},
   "outputs": [],
   "source": []
  },
  {
   "cell_type": "code",
   "execution_count": null,
   "metadata": {},
   "outputs": [],
   "source": []
  },
  {
   "cell_type": "code",
   "execution_count": null,
   "metadata": {},
   "outputs": [],
   "source": []
  },
  {
   "cell_type": "code",
   "execution_count": null,
   "metadata": {},
   "outputs": [],
   "source": []
  },
  {
   "cell_type": "code",
   "execution_count": null,
   "metadata": {},
   "outputs": [],
   "source": []
  }
 ],
 "metadata": {
  "colab": {
   "authorship_tag": "ABX9TyNNDys9ikxV/xaue+QIwIyS",
   "collapsed_sections": [
    "YtsRiL7QRcur",
    "vAxlJgo1bFuN",
    "cTdkx2OZd0Li",
    "sHCx1klWUXBy",
    "8sDct7XSt-Hb",
    "kI9CJPM-vW-G"
   ],
   "name": "Project-1.ipynb",
   "provenance": []
  },
  "kernelspec": {
   "display_name": "Python 3 (ipykernel)",
   "language": "python",
   "name": "python3"
  },
  "language_info": {
   "codemirror_mode": {
    "name": "ipython",
    "version": 3
   },
   "file_extension": ".py",
   "mimetype": "text/x-python",
   "name": "python",
   "nbconvert_exporter": "python",
   "pygments_lexer": "ipython3",
   "version": "3.10.1"
  }
 },
 "nbformat": 4,
 "nbformat_minor": 1
}

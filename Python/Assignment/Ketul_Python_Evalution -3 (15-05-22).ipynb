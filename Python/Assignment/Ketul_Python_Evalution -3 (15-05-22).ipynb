{
  "nbformat": 4,
  "nbformat_minor": 0,
  "metadata": {
    "colab": {
      "name": "Ketul_Python_Evalution.ipynb",
      "provenance": [],
      "collapsed_sections": []
    },
    "kernelspec": {
      "name": "python3",
      "display_name": "Python 3"
    },
    "language_info": {
      "name": "python"
    }
  },
  "cells": [
    {
      "cell_type": "markdown",
      "source": [
        "# Ketul Python Evalution"
      ],
      "metadata": {
        "id": "yxu_6xSwrbBH"
      }
    },
    {
      "cell_type": "markdown",
      "source": [
        "Q1) Write a program which will find all such numbers which are divisible by 7 but are not a \n",
        "multiple of 5,between 2000 and 3200 (both included).The numbers obtained should be \n",
        "printed in a comma-separated sequence on a single line. "
      ],
      "metadata": {
        "id": "mq3_w6vp1KJF"
      }
    },
    {
      "cell_type": "code",
      "source": [
        "empt=[]\n",
        "for i in range(2000,3200+1):\n",
        "  if i%7==0 and i%5!=0:\n",
        "    empt.append(i)\n",
        "print(empt)\n"
      ],
      "metadata": {
        "colab": {
          "base_uri": "https://localhost:8080/"
        },
        "id": "2l0MVlTz1K8Z",
        "outputId": "97e35aff-caa8-4e9b-b3f2-01dbfeb83ffa"
      },
      "execution_count": null,
      "outputs": [
        {
          "output_type": "stream",
          "name": "stdout",
          "text": [
            "[2002, 2009, 2016, 2023, 2037, 2044, 2051, 2058, 2072, 2079, 2086, 2093, 2107, 2114, 2121, 2128, 2142, 2149, 2156, 2163, 2177, 2184, 2191, 2198, 2212, 2219, 2226, 2233, 2247, 2254, 2261, 2268, 2282, 2289, 2296, 2303, 2317, 2324, 2331, 2338, 2352, 2359, 2366, 2373, 2387, 2394, 2401, 2408, 2422, 2429, 2436, 2443, 2457, 2464, 2471, 2478, 2492, 2499, 2506, 2513, 2527, 2534, 2541, 2548, 2562, 2569, 2576, 2583, 2597, 2604, 2611, 2618, 2632, 2639, 2646, 2653, 2667, 2674, 2681, 2688, 2702, 2709, 2716, 2723, 2737, 2744, 2751, 2758, 2772, 2779, 2786, 2793, 2807, 2814, 2821, 2828, 2842, 2849, 2856, 2863, 2877, 2884, 2891, 2898, 2912, 2919, 2926, 2933, 2947, 2954, 2961, 2968, 2982, 2989, 2996, 3003, 3017, 3024, 3031, 3038, 3052, 3059, 3066, 3073, 3087, 3094, 3101, 3108, 3122, 3129, 3136, 3143, 3157, 3164, 3171, 3178, 3192, 3199]\n"
          ]
        }
      ]
    },
    {
      "cell_type": "markdown",
      "source": [
        "2. With a given integral number n, write a program to generate a dictionary that contains (i, i*i) \n",
        "such that is an integral number between 1 and n (both included). and then the program \n",
        "should print the dictionary. \n",
        "Suppose the following input is supplied to the program: 8 \n",
        "Then, \n",
        "\n",
        "the output should be: {1: 1, 2: 4, 3: 9, 4: 16, 5: 25, 6: 36, 7: 49, 8: 64} "
      ],
      "metadata": {
        "id": "EQHyZcFw2TKL"
      }
    },
    {
      "cell_type": "code",
      "source": [
        "n= int(input())\n",
        "\n",
        "empt=[]\n",
        "for i in range(1,n+1):\n",
        "    res=i*i\n",
        "    empt.append(res)\n",
        "print(dict(enumerate(empt,1)))\n",
        "\n",
        "## Method-2\n",
        "dict1={}\n",
        "for j in range(1,n+1):\n",
        "  dict1[j]=j*j\n",
        "dict1 "
      ],
      "metadata": {
        "colab": {
          "base_uri": "https://localhost:8080/"
        },
        "id": "x69WVxBk2Bfs",
        "outputId": "2701ea11-34c9-4d53-beda-8d35dc0f8954"
      },
      "execution_count": 51,
      "outputs": [
        {
          "output_type": "stream",
          "name": "stdout",
          "text": [
            "8\n",
            "{1: 1, 2: 4, 3: 9, 4: 16, 5: 25, 6: 36, 7: 49, 8: 64}\n"
          ]
        },
        {
          "output_type": "execute_result",
          "data": {
            "text/plain": [
              "{1: 1, 2: 4, 3: 9, 4: 16, 5: 25, 6: 36, 7: 49, 8: 64}"
            ]
          },
          "metadata": {},
          "execution_count": 51
        }
      ]
    },
    {
      "cell_type": "markdown",
      "source": [
        "3. Write a program that accepts a sentence and calculate the number of upper case letters and \n",
        "lower case letters. (Marks-3) \n",
        "Suppose the following input is supplied to the program: Hello world! \n",
        "Then, the output should be: UPPER CASE 1 LOWER CASE 9 "
      ],
      "metadata": {
        "id": "t94K5Qv24b0j"
      }
    },
    {
      "cell_type": "code",
      "source": [
        "str1=\"Hello world!\"\n",
        "\n",
        "Upper_count=0\n",
        "Lower_count=0\n",
        "\n",
        "for i in str1:\n",
        "  if i.isupper():\n",
        "    Upper_count+=1\n",
        "  elif i.islower():\n",
        "    Lower_count+=1\n",
        "\n",
        "print(f\"Upper Case:- {Upper_count} Lower Case:- {Lower_count} \")\n",
        "\n",
        "\n"
      ],
      "metadata": {
        "colab": {
          "base_uri": "https://localhost:8080/"
        },
        "id": "XbMr_XAY4K4D",
        "outputId": "93daad4f-2c9d-4a4e-8842-5bcf2fc55ed1"
      },
      "execution_count": 52,
      "outputs": [
        {
          "output_type": "stream",
          "name": "stdout",
          "text": [
            "Upper Case:- 1 Lower Case:- 9 \n"
          ]
        }
      ]
    },
    {
      "cell_type": "markdown",
      "source": [
        "4. Write a program which takes 2 digits, X,Y as input and generates a 2-dimensional array. The \n",
        "element value in the i-th row and j-th column of the array should be i*j. Note: i=0,1.., X-1; \n",
        "j=0,1,¡-Y-1. (Marks-3) \n",
        "\n",
        "\n",
        "Example:-Suppose the following inputs are given to the program: 3,5 \n",
        "Then, the output of the program should be: [[0, 0, 0, 0, 0], [0, 1, 2, 3, 4], [0, 2, 4, 6, 8]]\n",
        "\n"
      ],
      "metadata": {
        "id": "c3dnWR3f5Q4-"
      }
    },
    {
      "cell_type": "code",
      "source": [
        "rows=int(input())\n",
        "columns=int(input())\n",
        "\n",
        "# [[0, 0, 0, 0], [0, 1, 2, 3], [0, 2, 4, 6]]\n",
        "\n",
        "arr=[[0 for x in range(columns)] for row in range(rows)]\n",
        "\n",
        "\n",
        "for row in range(rows):\n",
        "    for col in range(columns):\n",
        "        arr[row][col]=row*col\n",
        "\n",
        "arr\n",
        "\n"
      ],
      "metadata": {
        "colab": {
          "base_uri": "https://localhost:8080/"
        },
        "id": "h-9Ry0bQ5Ksc",
        "outputId": "a2a36135-be88-424e-9f66-363f87a8c7a9"
      },
      "execution_count": 53,
      "outputs": [
        {
          "name": "stdout",
          "output_type": "stream",
          "text": [
            "3\n",
            "5\n"
          ]
        },
        {
          "output_type": "execute_result",
          "data": {
            "text/plain": [
              "[[0, 0, 0, 0, 0], [0, 1, 2, 3, 4], [0, 2, 4, 6, 8]]"
            ]
          },
          "metadata": {},
          "execution_count": 53
        }
      ]
    },
    {
      "cell_type": "markdown",
      "source": [
        "5. Use a list comprehension to square each odd number in a list. The list is input by a sequence \n",
        "of comma-separated numbers. (Marks-3) \n",
        "Suppose the following input is supplied to the program: 1,2,3,4,5,6,7,8,9 \n",
        "Then, the output should be: 1,9,25,49,81 \n"
      ],
      "metadata": {
        "id": "73-KYdwaCC6P"
      }
    },
    {
      "cell_type": "code",
      "source": [
        "Lst=input().split(\",\")\n",
        "\n",
        "Lst1=[(int(i)*int(i)) for i in Lst if int(i)%2==1]\n",
        "\n",
        "print(Lst1)\n"
      ],
      "metadata": {
        "colab": {
          "base_uri": "https://localhost:8080/"
        },
        "id": "Oungv2rY-X3y",
        "outputId": "6a8a0821-c401-4ea3-870e-854dfc294350"
      },
      "execution_count": null,
      "outputs": [
        {
          "output_type": "stream",
          "name": "stdout",
          "text": [
            "1,2,3,4,5,6,7,8,9\n",
            "[1, 9, 25, 49, 81]\n"
          ]
        }
      ]
    },
    {
      "cell_type": "markdown",
      "source": [
        "6. Define a function with a generator which can iterate the numbers, which are divisible by 7, \n",
        "between a given range 0 and n. "
      ],
      "metadata": {
        "id": "qV6U_TPyEdmJ"
      }
    },
    {
      "cell_type": "code",
      "source": [
        "def Generator(n):\n",
        "\n",
        "  for i in range(0,n+1):\n",
        "    if i%7==0:\n",
        "      print(i)\n",
        "\n",
        "num=int(input())\n",
        "Generator(num)\n"
      ],
      "metadata": {
        "colab": {
          "base_uri": "https://localhost:8080/"
        },
        "id": "REgI3pbYCeOp",
        "outputId": "d7d9c488-dde1-44d5-892b-21a630a619b8"
      },
      "execution_count": 57,
      "outputs": [
        {
          "output_type": "stream",
          "name": "stdout",
          "text": [
            "49\n",
            "0\n",
            "7\n",
            "14\n",
            "21\n",
            "28\n",
            "35\n",
            "42\n",
            "49\n"
          ]
        }
      ]
    },
    {
      "cell_type": "markdown",
      "source": [
        "7. Write a method which can calculate square value of number "
      ],
      "metadata": {
        "id": "JXOvX8MGGRWK"
      }
    },
    {
      "cell_type": "code",
      "source": [
        "\n",
        "\n",
        "def Method(num):\n",
        "  return num*num\n",
        "  \n",
        "  \n",
        "n=int(input())\n",
        "Method(n)\n",
        "\n"
      ],
      "metadata": {
        "colab": {
          "base_uri": "https://localhost:8080/"
        },
        "id": "iC7atK8qEgTQ",
        "outputId": "88709557-3cd4-44bc-d01b-b7d1c49f5acc"
      },
      "execution_count": 58,
      "outputs": [
        {
          "name": "stdout",
          "output_type": "stream",
          "text": [
            "7\n"
          ]
        },
        {
          "output_type": "execute_result",
          "data": {
            "text/plain": [
              "49"
            ]
          },
          "metadata": {},
          "execution_count": 58
        }
      ]
    },
    {
      "cell_type": "markdown",
      "source": [
        "8. Write a program which can filter odd numbers in a list by using filter function \n",
        "(Makrs-3) "
      ],
      "metadata": {
        "id": "Ev5ngIusG2b-"
      }
    },
    {
      "cell_type": "code",
      "source": [
        "def odd(n):\n",
        "\n",
        "  if n%2==1:\n",
        "    return True\n",
        "  else:\n",
        "    return False  \n",
        "\n",
        "\n",
        "l1=[1,2,3,4,5,6,7,8,9,10]\n",
        "\n",
        "list1=list(filter(odd,l1))\n",
        "\n",
        "print(list1)"
      ],
      "metadata": {
        "colab": {
          "base_uri": "https://localhost:8080/"
        },
        "id": "o7bGfU426qNa",
        "outputId": "db6e3e1b-6198-4ed8-abb5-9b886cb9cfcd"
      },
      "execution_count": 62,
      "outputs": [
        {
          "output_type": "stream",
          "name": "stdout",
          "text": [
            "[1, 3, 5, 7, 9]\n"
          ]
        }
      ]
    },
    {
      "cell_type": "code",
      "source": [
        "def Filter_Func(n):\n",
        "  if n%2==0:\n",
        "    print(n,end=\" \")\n",
        "\n",
        "n=int(input())\n",
        "\n",
        "for i in range(0,n+1):\n",
        "  Filter_Func(i)\n",
        "\n",
        "\n",
        "\n",
        "\n",
        "#### Method 01\n",
        "print(\"\\n\")\n",
        "\n",
        "def Filter_Odd_Number(n):\n",
        "  Filter=[k for k in range(n+1) if int(k)%2==0]\n",
        "  return Filter\n",
        "\n",
        "Filter_Odd_Number(n)\n",
        "\n"
      ],
      "metadata": {
        "colab": {
          "base_uri": "https://localhost:8080/"
        },
        "id": "mtCaBJh7Gy7V",
        "outputId": "fb3e12c4-c812-4965-a064-3509fc122fe7"
      },
      "execution_count": 60,
      "outputs": [
        {
          "output_type": "stream",
          "name": "stdout",
          "text": [
            "9\n",
            "0 2 4 6 8 \n",
            "\n",
            "<filter object at 0x7f3932ca06d0>\n"
          ]
        }
      ]
    },
    {
      "cell_type": "markdown",
      "source": [
        "9. Write a program which can map () to make a list whose elements are cube of elements in a \n",
        "given list"
      ],
      "metadata": {
        "id": "AZwDD0NsJp0j"
      }
    },
    {
      "cell_type": "code",
      "source": [
        "def Cube(n):\n",
        "    \n",
        "  return n*n*n\n",
        "\n",
        "\n",
        "lst=[1,2,3,4,5,6]\n",
        "\n",
        "print(list(map(Cube,lst)))\n",
        "\n"
      ],
      "metadata": {
        "colab": {
          "base_uri": "https://localhost:8080/"
        },
        "id": "M1EoycNnIGn1",
        "outputId": "7e72d728-a95d-46d0-d286-d83cbf2f8c51"
      },
      "execution_count": 64,
      "outputs": [
        {
          "output_type": "stream",
          "name": "stdout",
          "text": [
            "[1, 8, 27, 64, 125, 216]\n"
          ]
        }
      ]
    },
    {
      "cell_type": "markdown",
      "source": [
        "10. Write a program which accepts a string as input to print \"Yes\" if the string is \"yes\" or \"YES\" \n",
        "or \"Yes\", otherwise print \"No\". "
      ],
      "metadata": {
        "id": "eshxnyEmLG43"
      }
    },
    {
      "cell_type": "code",
      "source": [
        "string=input()\n",
        "\n",
        "# lst=[\"Yes\",\"yes\",\"YES\"]\n",
        "\n",
        "# if string in lst:\n",
        "\n",
        "if string==\"yes\" or string==\"YES\" or string==(\"Yes\"):\n",
        "  print(\"Your String is Accepted. your String is\",string)\n",
        "else:\n",
        "  print(\"You are Inputed Wrong String\")\n",
        "\n"
      ],
      "metadata": {
        "colab": {
          "base_uri": "https://localhost:8080/"
        },
        "id": "38inlvjeJsr-",
        "outputId": "3dc4223f-c01d-4460-f46f-691c31f9c1e7"
      },
      "execution_count": null,
      "outputs": [
        {
          "output_type": "stream",
          "name": "stdout",
          "text": [
            "yes\n",
            "Your String is Accepted. your String is yes\n"
          ]
        }
      ]
    },
    {
      "cell_type": "markdown",
      "source": [
        "11. Write a program that computes the net amount of a bank account based a transaction log \n",
        "from console input. The transaction log format is shown as following: D means deposit while \n",
        "W means withdrawal. Suppose the following input is supplied to the program: (Marks-4) \n",
        "D 100 \n",
        "W 200 \n",
        "D 300 \n",
        "D 300 \n",
        "W 200 \n",
        "D 100 \n",
        "Then, the output should be: 400 \n"
      ],
      "metadata": {
        "id": "YF5Cf_MoMGgS"
      }
    },
    {
      "cell_type": "code",
      "source": [
        "\n",
        "# Net_amount=[D 100, W 200, D 300, D 300, W 200, D 100]\n",
        "\n",
        "total = 0\n",
        "\n",
        "while True:\n",
        "\n",
        "    Net_amount = input()\n",
        "    if Net_amount == \"\":\n",
        "        break\n",
        "    else:\n",
        "        Net_amount = Net_amount.split(\" \")\n",
        "        if Net_amount[0] == \"D\":\n",
        "            total = total + int(Net_amount[1])\n",
        "        elif Net_amount[0] == \"W\":\n",
        "            total = total - int(Net_amount[1])\n",
        "\n",
        "print(total)\n",
        "\n",
        "\n"
      ],
      "metadata": {
        "colab": {
          "base_uri": "https://localhost:8080/"
        },
        "id": "qI1qj5_4L9Eb",
        "outputId": "a960eb5a-338a-471a-c85a-ed7daf894da6"
      },
      "execution_count": null,
      "outputs": [
        {
          "output_type": "stream",
          "name": "stdout",
          "text": [
            "D 100\n",
            "W 150\n",
            "\n",
            "-50\n"
          ]
        }
      ]
    },
    {
      "cell_type": "code",
      "source": [
        "l1=['D 100','W 200','D 300','D 300','W 100','W 100','D 100']\n",
        "credit=0\n",
        "debit=0\n",
        "for i in l1:\n",
        "  if i[0]=='D':\n",
        "    credit=credit+int(i[2:])\n",
        "  elif i[0]=='W':\n",
        "    debit=debit+int(i[2:])  \n",
        "print(credit)\n",
        "print(debit)\n",
        "print(\"net amount of a bank account\",(credit-debit))"
      ],
      "metadata": {
        "id": "-UkWSCBkIqZH"
      },
      "execution_count": null,
      "outputs": []
    },
    {
      "cell_type": "markdown",
      "source": [
        "12. Write a program that accepts a sequence of whitespace separated words as input and prints \n",
        "the words after removing all duplicate words and sorting them alphanumerically. \n",
        "Suppose the following input is supplied to the program: (Marks-4) \n",
        "hello world and practice makes perfect and hello world again\n",
        " \n",
        "Then, the output should be: again and hello makes perfect practice world "
      ],
      "metadata": {
        "id": "lHgLJLMcMJIA"
      }
    },
    {
      "cell_type": "code",
      "source": [
        "s=\"hello world and practice makes perfect and hello world again\".split(\" \")\n",
        "\n",
        "empt=[]\n",
        "for i in s:\n",
        "  if i not in empt:\n",
        "    empt.append(i)\n",
        "empt=sorted(empt,reverse=False)   \n",
        "# empt\n",
        "print((\" \").join(empt))"
      ],
      "metadata": {
        "colab": {
          "base_uri": "https://localhost:8080/"
        },
        "id": "OBN0xGD2Ps_Z",
        "outputId": "d1f57e1d-72c9-403e-c938-5d1fae2ae9bf"
      },
      "execution_count": 65,
      "outputs": [
        {
          "output_type": "stream",
          "name": "stdout",
          "text": [
            "again and hello makes perfect practice world\n"
          ]
        }
      ]
    },
    {
      "cell_type": "markdown",
      "source": [
        "13. Write a program that calculates and prints the value according to the given formula: \n",
        "Q = Square root of [(2 * C * D)/H] \n",
        "Following are the fixed values of C and H: 1.C is 50. H is 30. \n",
        "D is the variable whose values should be input to your program in a comma-separated \n",
        "sequence. (Marks-4) \n",
        "Example \n",
        "Let us assume the following comma separated input sequence is given to the program: \n",
        "100,150,180 \n",
        "The output of the program should be: \n",
        "18,22,24 "
      ],
      "metadata": {
        "id": "UfhM-96vWoLG"
      }
    },
    {
      "cell_type": "code",
      "source": [
        "\n",
        "import math\n",
        "\n",
        "n=input().split(\",\")\n",
        "\n",
        "for i in n:\n",
        "  d=int(i)\n",
        "  c=50\n",
        "  h=30\n",
        "  q=math.sqrt((2*c*d)/h)\n",
        "  print(round(q))\n",
        "\n",
        "\n"
      ],
      "metadata": {
        "colab": {
          "base_uri": "https://localhost:8080/"
        },
        "id": "43ld3zjcTCkW",
        "outputId": "ffe561a4-935b-41d1-b084-4a4a0984a173"
      },
      "execution_count": null,
      "outputs": [
        {
          "output_type": "stream",
          "name": "stdout",
          "text": [
            "100,150,180\n",
            "18\n",
            "22\n",
            "24\n"
          ]
        }
      ]
    },
    {
      "cell_type": "markdown",
      "source": [
        "14. You are required to write a program to sort the (name, age, height) tuples by ascending \n",
        "order where name is string, age and height are numbers. The tuples are input by console. \n",
        "The sort criteria is: (Marks-4) \n",
        "1: Sort based on name; \n",
        "2: Then sort based on age; \n",
        "3: Then sort by score. \n",
        "\n",
        "\n",
        "The priority is that name > age > score. \n",
        "If the following tuples are given as input to the program: \n",
        "\n",
        "\n",
        "Tom,19,80 \n",
        "John,20,90 \n",
        "Jony,17,91 \n",
        "Jony,17,93 \n",
        "Json,21,85 \n",
        "Then, \n",
        "\n",
        "the output of the program should be: \n",
        "\n",
        "\n",
        "[('John', '20', '90'), ('Jony', '17', '91'), ('Jony', '17', '93'), ('Json', '21', '85'), ('Tom', '19', '80')] "
      ],
      "metadata": {
        "id": "yjhdvshVZy2e"
      }
    },
    {
      "cell_type": "code",
      "source": [
        "\n",
        "Tuple=input().split(\" \")\n",
        "Tuple=list(Tuple)\n",
        "\n",
        "sorted(Tuple,key=lambda x:x[0])\n"
      ],
      "metadata": {
        "id": "ynsqwk_9Xy09",
        "colab": {
          "base_uri": "https://localhost:8080/"
        },
        "outputId": "78dab14a-e893-49d8-fcda-384e2c9bd125"
      },
      "execution_count": null,
      "outputs": [
        {
          "name": "stdout",
          "output_type": "stream",
          "text": [
            "Tom,19,80 John,20,90 Jony,17,91 Jony,17,93 Json,21,85\n"
          ]
        },
        {
          "output_type": "execute_result",
          "data": {
            "text/plain": [
              "['John,20,90', 'Jony,17,91', 'Jony,17,93', 'Json,21,85', 'Tom,19,80']"
            ]
          },
          "metadata": {},
          "execution_count": 17
        }
      ]
    },
    {
      "cell_type": "markdown",
      "source": [
        "15. A robot moves in a plane starting from the original point (0,0). The robot can move toward \n",
        "UP, DOWN, LEFT and RIGHT with a given steps. The trace of robot movement is shown as the \n",
        "following: (Marks-4) \n",
        "UP 5 \n",
        "DOWN 3 \n",
        "LEFT 3 \n",
        "RIGHT 2 \n",
        "The numbers after the direction are steps. Please write a program to compute the distance \n",
        "from current position after a sequence of movement and original point. If the distance is a \n",
        "float, then just print the nearest integer. "
      ],
      "metadata": {
        "id": "O71nPgSGdsel"
      }
    },
    {
      "cell_type": "code",
      "source": [
        "\n",
        "up=int(input(\"up-\"))\n",
        "down=int(input(\"Down-\"))\n",
        "left=int(input(\"left-\"))\n",
        "right=int(input(\"Right-\"))\n",
        "\n",
        "total_dist=up*down*left*right\n",
        "origin=0\n",
        "new_origin=origin+up-down-left+right\n",
        "\n",
        "print(\"Total Distance Travel robo is \",total_dist)\n",
        "print(\"Where is my robo,new origin position \",new_origin)\n",
        "\n"
      ],
      "metadata": {
        "colab": {
          "base_uri": "https://localhost:8080/"
        },
        "id": "ZcxgIc1dbaor",
        "outputId": "ead3c34f-1784-497e-808e-bd16edf02c96"
      },
      "execution_count": null,
      "outputs": [
        {
          "output_type": "stream",
          "name": "stdout",
          "text": [
            "up-5\n",
            "Down-3\n",
            "left-3\n",
            "Right-2\n",
            "Total Distance Travel robo is  90\n",
            "Where is my robo,new origin position  1\n"
          ]
        }
      ]
    },
    {
      "cell_type": "markdown",
      "source": [
        "16. Write a program which accepts a sequence of comma separated 4 digit binary numbers as \n",
        "its input and then check whether they are divisible by 5 or not. The numbers that are \n",
        "divisible by 5 are to be printed in a comma separated sequence. (Marks-10) \n",
        "Example: 0100,0011,1010,1001 (0100=0*2^3+1*2^2+0*2^1+0*2^0=4) \n",
        "Then the output should be: 1010 "
      ],
      "metadata": {
        "id": "KeviURAngkvc"
      }
    },
    {
      "cell_type": "code",
      "source": [
        "num=input().split(\",\")\n",
        "\n",
        "     \n",
        "for i in num:\n",
        "    result=0\n",
        "    for idx,j in enumerate(i):\n",
        "            result+=int(j)*(2**(len(i)-1-idx))\n",
        "            \n",
        "    if result %5==0:\n",
        "            print(i)"
      ],
      "metadata": {
        "colab": {
          "base_uri": "https://localhost:8080/"
        },
        "id": "UXH8vPKMgHxy",
        "outputId": "203f7323-43f5-49fc-c862-cc50737f0abc"
      },
      "execution_count": 6,
      "outputs": [
        {
          "output_type": "stream",
          "name": "stdout",
          "text": [
            "0100,0011,1010,1001\n",
            "1010\n"
          ]
        }
      ]
    },
    {
      "cell_type": "markdown",
      "source": [
        "17. Write a program that computes the value of a+aa+aaa+aaaa with a given digit as the value of \n",
        "a. (Marks-10) \n",
        "Suppose the following input is supplied to the program: 9 \n",
        "Then, the output should be: 11106 "
      ],
      "metadata": {
        "id": "m6SteB21lr1T"
      }
    },
    {
      "cell_type": "code",
      "source": [
        "a=input()\n",
        "\n",
        "n1 = a * 1\n",
        "n2 = a * 2\n",
        "n3 = a * 3\n",
        "n4 = a * 4\n",
        "\n",
        "total = int(n1) + int(n2) + int(n3) + int(n4)\n",
        "print(total)\n"
      ],
      "metadata": {
        "colab": {
          "base_uri": "https://localhost:8080/"
        },
        "id": "Aj-N61rniwvo",
        "outputId": "b4310409-7ebf-4cad-a1a9-6e27abfe7cb7"
      },
      "execution_count": null,
      "outputs": [
        {
          "output_type": "stream",
          "name": "stdout",
          "text": [
            "9\n",
            "11106\n"
          ]
        }
      ]
    },
    {
      "cell_type": "code",
      "source": [
        "# Ques 17\n",
        "\n",
        "x=input('Number: ')\n",
        "s=0\n",
        "for i in range(1,5):\n",
        "    print(x*i)\n",
        "    s+=int(x*i)\n",
        "print(s)"
      ],
      "metadata": {
        "colab": {
          "base_uri": "https://localhost:8080/"
        },
        "id": "j2GMupw_c99F",
        "outputId": "ccab882b-35ce-41e8-f195-dedfc3be3d81"
      },
      "execution_count": 7,
      "outputs": [
        {
          "output_type": "stream",
          "name": "stdout",
          "text": [
            "Number: 9\n",
            "9\n",
            "99\n",
            "999\n",
            "9999\n",
            "11106\n"
          ]
        }
      ]
    },
    {
      "cell_type": "code",
      "source": [
        "# Ques 17\n",
        "\n",
        "n=int(input())\n",
        "str1='a+aa+aaa+aaaa'\n",
        "str2=str1.replace('a',str(n))\n",
        "l1=list(str2.split('+'))\n",
        "l1\n",
        "sum=0\n",
        "for i in l1:\n",
        "    sum=sum+int(i)\n",
        "print(sum)"
      ],
      "metadata": {
        "id": "ZjBxsHXDfNXZ"
      },
      "execution_count": null,
      "outputs": []
    },
    {
      "cell_type": "code",
      "source": [
        ""
      ],
      "metadata": {
        "id": "hXc9417QfVdo"
      },
      "execution_count": null,
      "outputs": []
    },
    {
      "cell_type": "markdown",
      "source": [
        "18. If all digits of a number n are multiplied by each other repeating with the product, the one\u0002digit number obtained at last is called the multiplicative digital root of n. The number of \n",
        "times digits need to be multiplied to reach one digit is called the multiplicative persistence of \n",
        "n. (Marks-10) \n",
        "Example: 86 -> 48 -> 32 -> 6 (MDR 6, MPersistence 3) \n",
        ". 341 -> 12->2 (MDR 2, MPersistence 2) \n",
        "Using the function prodDigits() of previous exercise write functions MDR() and \n",
        "MPersistence() that input a number and return its multiplicative digital root and \n",
        "multiplicative persistence respectively \n"
      ],
      "metadata": {
        "id": "kj4xX5F_oJQ6"
      }
    },
    {
      "cell_type": "code",
      "source": [
        "def Digit_product(n):\n",
        "\n",
        "    prod=1\n",
        "    while n>0:\n",
        "        prod=prod*(n%10)\n",
        "        n=n//10\n",
        "    print(prod)\n",
        "\n",
        "    if prod>10:\n",
        "        Digit_product(prod)\n",
        "    else:\n",
        "        n=0\n",
        "        print('MDR: {}'.format(prod))\n",
        "\n",
        "n=int(input())\n",
        "Digit_product(n)\n"
      ],
      "metadata": {
        "colab": {
          "base_uri": "https://localhost:8080/"
        },
        "id": "dJKT8PlqmiW4",
        "outputId": "53a67a8a-fe04-482c-b107-9c47e248cc1c"
      },
      "execution_count": 31,
      "outputs": [
        {
          "output_type": "stream",
          "name": "stdout",
          "text": [
            "86\n",
            "48\n",
            "32\n",
            "6\n",
            "MDR: 6\n"
          ]
        }
      ]
    },
    {
      "cell_type": "markdown",
      "source": [
        "19. A website requires the users to input username and password to register. Write a program \n",
        "to check the validity of password input by users. Following are the criteria for checking the \n",
        "password: (Marks-10) \n",
        "  1. At least 1 letter between [a-z] \n",
        "  2. At least 1 number between [0-9] \n",
        "  3. At least 1 letter between [A-Z] \n",
        "  4. At least 1 character from [$#@] \n",
        "  5. Minimum length of transaction password: 6 \n",
        "  6. Maximum length of transaction password: 12 \n",
        "Your program should accept a sequence of comma separated passwords and will check them \n",
        "according to the above criteria. Passwords that match the criteria are to be printed, each \n",
        "separated by a comma. \n",
        "Example \n",
        "If the following passwords are given as input to the program: \n",
        "ABd1234@1,a F1#,2w3E*,2We3345 \n",
        "Then, the output of the program should be: \n",
        "ABd1234@1 "
      ],
      "metadata": {
        "id": "fi_ORXYIo8sC"
      }
    },
    {
      "cell_type": "code",
      "source": [
        "#ques19\n",
        "\n",
        "x=input().split(',')\n",
        "u=0\n",
        "l=0\n",
        "n=0\n",
        "sp=0\n",
        "special_char=['$','@','#']\n",
        "prohibuted=False\n",
        "for i in x:\n",
        "    if len(i)>=6 and len(i)<=12:\n",
        "        for char in i:\n",
        "            if char.islower():\n",
        "                l+=1\n",
        "                #print('u')\n",
        "            elif char.isupper():\n",
        "                u+=1\n",
        "                #print('v')\n",
        "            elif char.isdigit():\n",
        "                n+=1\n",
        "                #print('w')\n",
        "            elif char in special_char:\n",
        "                sp+=1\n",
        "                #print('y')\n",
        "            else:\n",
        "                prohibuted=True\n",
        "                \n",
        "        if u>0 and l>0 and n>0 and sp>0 and not prohibuted:\n",
        "            print('password is valid: {}'.format(i))\n",
        "\n",
        "            \n",
        "            \n"
      ],
      "metadata": {
        "colab": {
          "base_uri": "https://localhost:8080/"
        },
        "id": "2I60tMMpn-rJ",
        "outputId": "704b68de-8c92-4256-bb9f-1c78439b3ee0"
      },
      "execution_count": 69,
      "outputs": [
        {
          "output_type": "stream",
          "name": "stdout",
          "text": [
            "ABd1234@1,a F1#,2w3E*,2We3345 \n",
            "password is valid: ABd1234@1\n"
          ]
        }
      ]
    },
    {
      "cell_type": "markdown",
      "source": [
        "20. Longest Palindromic Substring (Marks-10) \n",
        "Eg:- Input=’abasadahdjssnsgfsfagsjdjjfsdfddfdsdf’ \n",
        "Output :- ‘sdfddfds’ "
      ],
      "metadata": {
        "id": "jQJJgf_dop1S"
      }
    },
    {
      "cell_type": "code",
      "source": [
        "s=\"abasadahdjssnsgfsfagsjdjjfsdfddfdsdf\"\n",
        "result=\"\"\n",
        "for i in range(len(s)-1):\n",
        "    for j in range(i+1,len(s)):\n",
        "        k=s[i:j]\n",
        "        if k==k[::-1]:\n",
        "            if len(k)>len(result):\n",
        "                result=k\n",
        "result\n"
      ],
      "metadata": {
        "colab": {
          "base_uri": "https://localhost:8080/",
          "height": 36
        },
        "id": "v25E5zVkJi-1",
        "outputId": "1a2e1d49-2c84-4804-b2a6-9cae101e25f8"
      },
      "execution_count": 66,
      "outputs": [
        {
          "output_type": "execute_result",
          "data": {
            "text/plain": [
              "'sdfddfds'"
            ],
            "application/vnd.google.colaboratory.intrinsic+json": {
              "type": "string"
            }
          },
          "metadata": {},
          "execution_count": 66
        }
      ]
    },
    {
      "cell_type": "code",
      "source": [
        "str1=\"abasadahdjssnsgfsfagsjdjjfsdfddfdsdf\"\n",
        "l1=[]\n",
        "for i in range(0,len(str1)+1):\n",
        "  for j in range(i,len(str1)+1):\n",
        "    x=str1[i:j]\n",
        "    if x==x[::-1]:\n",
        "      l1.append(x)\n",
        "\n",
        "l2=\"\"\n",
        "res=0\n",
        "for i in l1:\n",
        "  if len(i)>=res:\n",
        "    res=len(i)\n",
        "    l2=(i)\n",
        "\n",
        "print(\"Longest Palindromic Substring is \")\n",
        "l2"
      ],
      "metadata": {
        "colab": {
          "base_uri": "https://localhost:8080/",
          "height": 53
        },
        "id": "JsHwwyUeomfZ",
        "outputId": "71359d1f-1b76-4625-c8de-d01c5010548a"
      },
      "execution_count": 37,
      "outputs": [
        {
          "output_type": "stream",
          "name": "stdout",
          "text": [
            "Longest Palindromic Substring is \n"
          ]
        },
        {
          "output_type": "execute_result",
          "data": {
            "text/plain": [
              "'sdfddfds'"
            ],
            "application/vnd.google.colaboratory.intrinsic+json": {
              "type": "string"
            }
          },
          "metadata": {},
          "execution_count": 37
        }
      ]
    },
    {
      "cell_type": "code",
      "source": [
        "#ques20\n",
        "inp='abasadahdjssnsgfsfagsjdjjfsdfddfdsdf'\n",
        "n=0\n",
        "x=''\n",
        "v=[]\n",
        "for i in range(len(inp)):\n",
        "    for j in range(i,len(inp)):\n",
        "        z=inp[i:j+1]\n",
        "        if z==z[::-1]:\n",
        "            #print(v)\n",
        "            v.append(z)\n",
        "            if n<len(z):\n",
        "                x=z\n",
        "                n=len(z)\n",
        "print(x)  \n",
        "w=[len(x) for x in v]\n",
        "y=list(zip(w,v))\n",
        "A=sorted(y,reverse=True)\n",
        "print(A[0][1])"
      ],
      "metadata": {
        "id": "lQykXumhpXNY"
      },
      "execution_count": null,
      "outputs": []
    }
  ]
}
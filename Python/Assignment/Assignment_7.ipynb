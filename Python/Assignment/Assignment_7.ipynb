{
  "cells": [
    {
      "cell_type": "markdown",
      "metadata": {
        "id": "6BMFDrPC3ZGm"
      },
      "source": [
        "# Assignment 7"
      ]
    },
    {
      "cell_type": "markdown",
      "metadata": {
        "id": "S_BYdXAW3ZGq"
      },
      "source": [
        "1. Using recursion, find y th power of a given number x.\n",
        "\n",
        "Ex. x = 2, y = 6\n",
        "output = 64"
      ]
    },
    {
      "cell_type": "code",
      "execution_count": null,
      "metadata": {
        "colab": {
          "base_uri": "https://localhost:8080/"
        },
        "id": "thLsaXcZ3ZGr",
        "outputId": "866c5fcb-8af6-4d5c-c232-dd5a94b80057"
      },
      "outputs": [
        {
          "output_type": "stream",
          "name": "stdout",
          "text": [
            "Enter base: 2\n",
            "Enter exponential value: 10\n",
            "1024\n",
            "120\n"
          ]
        }
      ],
      "source": [
        "# your code goes here\n",
        "\n",
        "def Power(base,exp):\n",
        "    if exp==1:\n",
        "        return base\n",
        "    else:\n",
        "        return (base*Power(base,exp-1))\n",
        "base=int(input(\"Enter base: \"))\n",
        "exp=int(input(\"Enter exponential value: \"))    \n",
        "print(Power(base,exp))\n"
      ]
    },
    {
      "cell_type": "code",
      "source": [
        "# fectorial using recursive\n",
        "\n",
        "def Fecto(n):\n",
        "    if n==1:\n",
        "        return 1\n",
        "    else:\n",
        "        Fect=n*Fecto(n-1)\n",
        "    return Fect\n",
        "    \n",
        "print(Fecto(5))"
      ],
      "metadata": {
        "id": "qSvGgHvhBo16"
      },
      "execution_count": null,
      "outputs": []
    },
    {
      "cell_type": "markdown",
      "metadata": {
        "id": "IFE_UIGw3ZGs"
      },
      "source": [
        "2. Reverse a string using a recursive function."
      ]
    },
    {
      "cell_type": "code",
      "execution_count": null,
      "metadata": {
        "colab": {
          "base_uri": "https://localhost:8080/"
        },
        "id": "jfbqPV2l3ZGt",
        "outputId": "5b198bb5-82ec-4ba8-9906-2a776ec86432"
      },
      "outputs": [
        {
          "output_type": "stream",
          "name": "stdout",
          "text": [
            "l u t e k "
          ]
        }
      ],
      "source": [
        "# your code goes here\n",
        "def Reverse(a):\n",
        "    if len(a) == 0:\n",
        "        return 0\n",
        "    temp = a[0]\n",
        "    Reverse(a[1:])\n",
        "    print(temp,end=\" \")\n",
        "\n",
        "\n",
        "a='ketul'\n",
        "Reverse(a)"
      ]
    },
    {
      "cell_type": "code",
      "source": [
        ""
      ],
      "metadata": {
        "id": "ShkiGRIoCPzJ"
      },
      "execution_count": null,
      "outputs": []
    },
    {
      "cell_type": "markdown",
      "metadata": {
        "id": "IUlQJ9hM3ZGt"
      },
      "source": [
        "3. Find all possible permutation of a given string using recursion.\n",
        "\n",
        "Eg. input = \"abc\"\n",
        "output = ['abc', 'acb', 'bac', 'bca', 'cab', 'cba']"
      ]
    },
    {
      "cell_type": "code",
      "execution_count": null,
      "metadata": {
        "colab": {
          "base_uri": "https://localhost:8080/"
        },
        "id": "5_OQvk503ZGu",
        "outputId": "df051e02-6a5e-4968-ef59-4727b92fd854"
      },
      "outputs": [
        {
          "output_type": "stream",
          "name": "stdout",
          "text": [
            "Enter the string : ABC\n",
            "All possible strings are : \n",
            "ABC  ACB  BAC  BCA  CAB  CBA  "
          ]
        }
      ],
      "source": [
        "# your code goes here\n",
        "\n",
        "# def permute(a, l, r):\n",
        "#     if l==r:\n",
        "#         print(a)\n",
        "#     else:\n",
        "#         for i in range(l,r):\n",
        "#             a[l], a[i] = a[i], a[l]\n",
        "#             permute(a, l+1, r)\n",
        "#             a[l], a[i] = a[i], a[l] # backtrack\n",
        " \n",
        "# # Driver program to test the above function\n",
        "# string = \"ABC\"\n",
        "# n = len(string)\n",
        "# a = list(string)\n",
        "# permute(a, 0, n)\n",
        " \n",
        "\n",
        "def permute(s,answer):\n",
        "    if (len(s) == 0):\n",
        "        print(answer, end = \"  \")\n",
        "        return\n",
        "     \n",
        "    for i in range(len(s)):\n",
        "        ch = s[i]\n",
        "        left_substr = s[0:i]\n",
        "        right_substr = s[i + 1:] \n",
        "        rest = left_substr + right_substr\n",
        "        permute(rest, answer + ch) \n",
        " \n",
        "\n",
        "answer = \"\"\n",
        " \n",
        "s = input(\"Enter the string : \")\n",
        " \n",
        "print(\"All possible strings are : \")\n",
        "permute(s, answer)\n",
        " "
      ]
    },
    {
      "cell_type": "markdown",
      "metadata": {
        "id": "68nOAadn3ZGv"
      },
      "source": [
        "4. Using recursion, find fibonacci series up to given length.\n",
        "\n",
        "Eg. input = 8\n",
        "output = [0,1,1,2,3,5,8,13]"
      ]
    },
    {
      "cell_type": "code",
      "execution_count": 2,
      "metadata": {
        "id": "AmsQDk8Q3ZGw",
        "colab": {
          "base_uri": "https://localhost:8080/"
        },
        "outputId": "1369dfd5-698a-4969-80c5-94f57ca83850"
      },
      "outputs": [
        {
          "output_type": "stream",
          "name": "stdout",
          "text": [
            "[0, 1, 1, 2, 3, 5, 8, 13, 21, 34]\n"
          ]
        }
      ],
      "source": [
        "# Using Functions \n",
        "\n",
        "def Fibonacci(n):\n",
        "    if n==1:\n",
        "        return [0,1]\n",
        "    empt=[0,1]\n",
        "    for i in range(1,n+1):\n",
        "        store=empt[i]+empt[i-1]\n",
        "        empt.append(store)\n",
        "    print(empt)\n",
        "\n",
        "Fibonacci(8)\n",
        "\n"
      ]
    },
    {
      "cell_type": "code",
      "source": [
        "#using Recursion\n",
        "\n",
        "def Fibo(n):\n",
        "    if n<=1:\n",
        "        return n\n",
        "    else:\n",
        "        return (Fibo(n-1)+Fibo(n-2))\n",
        "\n",
        "num=8\n",
        "empt=[]\n",
        "for i in range(num):\n",
        "    empt.append(Fibo(i))\n",
        "print(empt)\n"
      ],
      "metadata": {
        "colab": {
          "base_uri": "https://localhost:8080/"
        },
        "id": "lZqFI05tJWIz",
        "outputId": "8af4a399-9594-4196-e887-ba2c6a9c4af8"
      },
      "execution_count": 24,
      "outputs": [
        {
          "output_type": "stream",
          "name": "stdout",
          "text": [
            "[0, 1, 1, 2, 3, 5, 8, 13]\n"
          ]
        }
      ]
    },
    {
      "cell_type": "markdown",
      "metadata": {
        "id": "l77BtP7X3ZGw"
      },
      "source": [
        "5.Find minimum number of coins to add up to given SUM. The available denominations for coins are 1, 5 and 10.\n",
        "\n",
        "Eg.\n",
        "Input: 15\n",
        "OUTPUT: 2 indicates we need minimum of 2 coins change to make total of 15 from given changes of coin\n",
        "5+10=15 so len(5,10) is 2 "
      ]
    },
    {
      "cell_type": "code",
      "execution_count": null,
      "metadata": {
        "id": "wLnZ5kIy3ZGx"
      },
      "outputs": [],
      "source": [
        "# your code goes here\n",
        "\n"
      ]
    },
    {
      "cell_type": "markdown",
      "metadata": {
        "id": "GVexLDLF3ZGy"
      },
      "source": [
        "6. Write a recursive function to find GCD of two numbers."
      ]
    },
    {
      "cell_type": "code",
      "source": [
        "# Python code to demonstrate naive\n",
        "# method to compute gcd ( recursion )\n",
        "\n",
        "\n",
        "def hcf(a, b):\n",
        "\tif(b == 0):\n",
        "\t\treturn a\n",
        "\telse:\n",
        "\t\treturn hcf(b, a % b)\n",
        "\n",
        "a = 60\n",
        "b = 48\n",
        "\n",
        "# prints 12\n",
        "print(\"The gcd of 60 and 48 is : \", end=\"\")\n",
        "print(hcf(60, 48))\n",
        "\n"
      ],
      "metadata": {
        "colab": {
          "base_uri": "https://localhost:8080/"
        },
        "id": "I9AQmyR8xYTA",
        "outputId": "e947cb4a-b563-46d6-e300-cc174f9fea83"
      },
      "execution_count": null,
      "outputs": [
        {
          "output_type": "stream",
          "name": "stdout",
          "text": [
            "The gcd of 60 and 48 is : 12\n"
          ]
        }
      ]
    },
    {
      "cell_type": "markdown",
      "metadata": {
        "id": "tDHJP2Df3ZGy"
      },
      "source": [
        "7. An English Imperial Ruler: Draw a 3 inch imperial scale ruler.\n",
        "\n",
        "Output:\n",
        "```\n",
        "---- 0\n",
        "-\n",
        "--\n",
        "-\n",
        "---\n",
        "-\n",
        "--\n",
        "-\n",
        "---- 1\n",
        "-\n",
        "--\n",
        "-\n",
        "---\n",
        "-\n",
        "--\n",
        "-\n",
        "---- 2\n",
        "-\n",
        "--\n",
        "-\n",
        "---\n",
        "-\n",
        "--\n",
        "-\n",
        "---- 3\n",
        "```"
      ]
    },
    {
      "cell_type": "code",
      "execution_count": null,
      "metadata": {
        "colab": {
          "base_uri": "https://localhost:8080/"
        },
        "id": "u7H7Lva03ZGz",
        "outputId": "f0224879-5b42-451a-baf3-0f0874f5902d"
      },
      "outputs": [
        {
          "output_type": "stream",
          "name": "stdout",
          "text": [
            "---- 0\n",
            "-\n",
            "--\n",
            "-\n",
            "---\n",
            "-\n",
            "--\n",
            "-\n",
            "---- 1\n",
            "-\n",
            "--\n",
            "-\n",
            "---\n",
            "-\n",
            "--\n",
            "-\n",
            "---- 2\n",
            "-\n",
            "--\n",
            "-\n",
            "---\n",
            "-\n",
            "--\n",
            "-\n",
            "---- 3\n",
            "-\n",
            "--\n",
            "-\n",
            "---\n",
            "-\n",
            "--\n",
            "-\n"
          ]
        }
      ],
      "source": [
        "# your code goes here\n",
        "\n",
        "\n",
        "num=3\n",
        "\n",
        "for i in range(0,num+1):\n",
        "        \n",
        "        print(\"----\",i)\n",
        "        for j in range(1,num):\n",
        "            res=\"-\"*j\n",
        "            print(res)\n",
        "        for k in range(1):\n",
        "            print(\"-\")\n",
        "            print(\"---\")\n",
        "\n",
        "        for j in range(1,num):\n",
        "            res=\"-\"*j\n",
        "            print(res)\n",
        "        for k in range(1):\n",
        "            print(\"-\")\n",
        "           \n",
        "\n"
      ]
    },
    {
      "cell_type": "markdown",
      "metadata": {
        "id": "HoqJzulJ3ZGz"
      },
      "source": [
        "8.Write a Python program to calculate the geometric sum of n-1. \n",
        "Note: In mathematics, a geometric series is a series with a constant ratio between successive terms.\n",
        "\n",
        "![harmonic-series.png](data:image/png;base64,iVBORw0KGgoAAAANSUhEUgAAAVkAAAAwBAMAAABJUBTOAAAAMFBMVEX////m5ubMzMy2traenp6Kiop0dHRiYmJQUFBAQEAwMDAiIiIWFhYMDAwEBAQAAAC+DUAHAAAAAXRSTlMAQObYZgAAAzJJREFUeNrtmMtrE1EUxr/JJHbyaDOrSoXa+gdIAhFbfGBcCLpqVkrdGBQsPhazUNqF2LhpsdSS1IWkWA0uSmmLzU67U9GFdNCKoIKgFjcKSlNrK6nBK+1MJtU5aXMnJXQg3yY33+Se+5uTM3fODAA4xgdxrAcFNYBbQpy0G8p2TZJwda8iRI3v4nt+2oNpyqUj8bhmHUZNFjBohdFpbtgd/RQtHYnHJWnxXS7QAuP8ufWQuS0Sicc1qR6efY8FxSa0YtcgrkzBJrSbMa9KW6Wt0hYXy6mqqn5gjAVtQNu9pH22fEzlrQkLtI9Ie6Js9z95WbM2cM3qTh8blTkbGGly+RrxUzoSj2tafG5GH7WW08BUSm1ZfeAqo4GpmCQWtnhBeekfpDlcL4er6eWsnWgDOTvRulhsnaO3V7ZjNb1laHH3p41yi9o/8halbYoDQlYf5NtxtmbD97MVZTakdavqC1WdLszJ5AvnW75wViOt464NQbuNMUB4pw/yGpBtVLfCazvVrS9irYGpMG2j9lj+gOvWV2hgKky7c5XWHbd4zy4EFa8/pLhauxIk7SAR4pl8sqRKuGC1w/AYoxZ4Cw2u0SeLCobNLiAuECEYe0K4JjlfGe/DLCsOcYkomk84RXVM7gXCHLlU0kq79W4cPdZpvwDLRB7SNO0ZijZW0kLG9rV/3jrtc+A3eeA+teJp67S+m6FQKHSkY5jplXUidfy8zM3r+EW+tPpMmDUOivbW2VJ4J1le+p8W/Rr0xLhpJapJdt6gCmEPSZvCxRKWCRnSV9i1CC8/7aEgaU8RnkLSAv6IhRp0ZlDHP+9pkZNQTNY2uQhtnZV9X0ojwF23Hur8RBl+83uGelC07ghqrTye+hT0c0+6DNFsNqXgnzG57cmh5YS5DGKcufVqG68/iDc1nLCuKHVvqQ0jQBGIRG4lIMDz7O0a0GjbgB/1nLQHOjt7ia0qjDtUTTkJWjFKXpHFVafRngN6FU7aOcYWCbs9mSAb/ByR8aN90Y3X2X6vI/Yv7VZW5C0yQjKZTMbtQCtkxBn75NaVlmxUCW7F1yIMjY2N2aISPM2S3gY7u0dQ1SbqL+niN8B9u4h1AAAAAElFTkSuQmCC)\n"
      ]
    },
    {
      "cell_type": "code",
      "execution_count": 30,
      "metadata": {
        "id": "m3GyJnsL3ZGz",
        "colab": {
          "base_uri": "https://localhost:8080/"
        },
        "outputId": "e4cdc086-1542-451e-90b2-42b7716b23c5"
      },
      "outputs": [
        {
          "output_type": "stream",
          "name": "stdout",
          "text": [
            "1.9921875\n",
            "1.9375\n"
          ]
        }
      ],
      "source": [
        "# your code goes here\n",
        "\n",
        "def geometric_sum(n):\n",
        "  if n < 0:\n",
        "    return 0\n",
        "  else:\n",
        "    return 1 / (pow(2, n)) + geometric_sum(n - 1)\n",
        " \n",
        "print(geometric_sum(7))\n",
        "print(geometric_sum(4))"
      ]
    },
    {
      "cell_type": "markdown",
      "metadata": {
        "id": "LreHKgRT3ZG0"
      },
      "source": [
        "9 Write a Python program to create a Vehicle class with name, max_speed and mileage instance attributes.\n",
        "also print the speed and mileage using the above class"
      ]
    },
    {
      "cell_type": "code",
      "execution_count": 25,
      "metadata": {
        "colab": {
          "base_uri": "https://localhost:8080/"
        },
        "id": "RkUB7nzv3ZG0",
        "outputId": "5997faa7-88aa-49b2-d782-5dca9d162cf5"
      },
      "outputs": [
        {
          "output_type": "stream",
          "name": "stdout",
          "text": [
            "citi 100 12\n"
          ]
        }
      ],
      "source": [
        "class Vehicle:\n",
        "    def __init__(self,name,max_speed,mileage):\n",
        "        self.name=name\n",
        "        self.max_speed=max_speed\n",
        "        self.mileage=mileage\n",
        "    \n",
        "Honda=Vehicle('citi',100,12)\n",
        "Suzuki=Vehicle('celerio',100,12)\n",
        "print(Honda.name,Honda.max_speed,Honda.mileage)"
      ]
    },
    {
      "cell_type": "markdown",
      "metadata": {
        "id": "ORdEKEF43ZG0"
      },
      "source": [
        "10. .Create a child class Bus that will inherit all of the variables and methods of the Vehicle class.\n",
        "also print the speed and mileage of the bus.\n"
      ]
    },
    {
      "cell_type": "code",
      "execution_count": 26,
      "metadata": {
        "colab": {
          "base_uri": "https://localhost:8080/"
        },
        "id": "UsK2Tely3ZG1",
        "outputId": "888bd5db-65a9-4faf-bf0d-ec2ebde80140"
      },
      "outputs": [
        {
          "output_type": "stream",
          "name": "stdout",
          "text": [
            "Ashok layland 50\n"
          ]
        }
      ],
      "source": [
        "class Bus(Vehicle):\n",
        "    def __init__(self, name,capicity):\n",
        "        self.name=name\n",
        "        self.capicity=capicity\n",
        "\n",
        "gsrtc=Bus('Ashok layland',50)\n",
        "\n",
        "print(gsrtc.name,gsrtc.capicity)\n"
      ]
    },
    {
      "cell_type": "code",
      "source": [
        "\n",
        "class bus(Vehicle):\n",
        "    capa=50\n",
        "    def seating_capacity(self, capacity=60):\n",
        "        print(f\"The seating capacity of a {self.name} is {capacity} passengers\")\n",
        "\n",
        "School_bus = bus(\"school bus\", 120, 4) \n",
        "School_bus.seating_capacity()\n",
        "\n"
      ],
      "metadata": {
        "colab": {
          "base_uri": "https://localhost:8080/"
        },
        "id": "KCatKCLOQeXx",
        "outputId": "50680a86-3b0c-41f0-dfa9-ff11e0e4c8f0"
      },
      "execution_count": 29,
      "outputs": [
        {
          "output_type": "stream",
          "name": "stdout",
          "text": [
            "The seating capacity of a school bus is 60 passengers\n"
          ]
        }
      ]
    },
    {
      "cell_type": "code",
      "source": [
        ""
      ],
      "metadata": {
        "id": "VAU_Z0BkRebA"
      },
      "execution_count": null,
      "outputs": []
    }
  ],
  "metadata": {
    "interpreter": {
      "hash": "916dbcbb3f70747c44a77c7bcd40155683ae19c65e1c03b4aa3499c5328201f1"
    },
    "kernelspec": {
      "display_name": "Python 3",
      "language": "python",
      "name": "python3"
    },
    "language_info": {
      "codemirror_mode": {
        "name": "ipython",
        "version": 3
      },
      "file_extension": ".py",
      "mimetype": "text/x-python",
      "name": "python",
      "nbconvert_exporter": "python",
      "pygments_lexer": "ipython3",
      "version": "3.7.4"
    },
    "colab": {
      "name": "Assignment 7.ipynb",
      "provenance": [],
      "collapsed_sections": []
    }
  },
  "nbformat": 4,
  "nbformat_minor": 0
}
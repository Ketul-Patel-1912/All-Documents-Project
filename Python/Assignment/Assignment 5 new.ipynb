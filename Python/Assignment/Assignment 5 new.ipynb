{
 "cells": [
  {
   "cell_type": "markdown",
   "id": "e279aa12",
   "metadata": {},
   "source": [
    "# Assessment on Lec 3 & 4 "
   ]
  },
  {
   "cell_type": "markdown",
   "id": "fcc0d2e1",
   "metadata": {},
   "source": [
    "Conditional Exc.\n",
    "*\tLoops\n",
    "*\tBitwise operator\n",
    "*\tFunctions\n",
    "*\tException handling"
   ]
  },
  {
   "cell_type": "markdown",
   "id": "e5100525",
   "metadata": {},
   "source": [
    "# 1. Given a list of positive and negative numbers, find the maximum subarray sum.\n",
    "Test cases:\n",
    "Input: [-2, -3, 4, -1, -2, 1, 5, -3]\n",
    "Ouput: 4 + (-1) + (-2) + 1 + 5 = 7\n",
    "\n",
    "Input: [1, 2, 3, 4, 5]\n",
    "Output: 1 + 2 + 3 + 4 + 5 = 15\n",
    "\n",
    "Input: [-1, -4, -2, 1, 5, -1, -6, 1]\n",
    "Output: 1 + 5 = 6"
   ]
  },
  {
   "cell_type": "code",
   "execution_count": 16,
   "id": "1cb964e7",
   "metadata": {
    "ExecuteTime": {
     "end_time": "2022-01-15T11:51:34.487617Z",
     "start_time": "2022-01-15T11:51:34.466606Z"
    }
   },
   "outputs": [
    {
     "name": "stdout",
     "output_type": "stream",
     "text": [
      "5\n"
     ]
    }
   ],
   "source": [
    "#here goes the code\n",
    "\n",
    "lst=[1, 2, 3, 4, 5] \n",
    "\n",
    "sum1=0\n",
    "\n",
    "\n",
    "# 5\n",
    "\n",
    "# 54321\n",
    "# 4321\n",
    "# 321\n",
    "# 21\n",
    "# 1\n",
    "\n",
    "\n",
    "\n",
    "for i in range(1,6):\n",
    "    sum1=0\n",
    "    for j in range(5,i-1,-1):\n",
    "        sum1=sum1+j\n",
    "        \n",
    "   \n",
    "    \n",
    "    \n",
    "#     temp=0\n",
    "    \n",
    "#     for j in range(i,len(lst)+1):\n",
    "        \n",
    "#         temp=temp+j\n",
    "        \n",
    "        \n",
    "#     print(temp)\n",
    "        \n",
    "        \n",
    "        \n",
    "        \n",
    "        \n",
    "        \n",
    "        \n",
    "        \n",
    "        \n",
    "        \n",
    "    \n",
    "print(sum1)\n",
    "    \n"
   ]
  },
  {
   "cell_type": "markdown",
   "id": "75e07d34",
   "metadata": {},
   "source": [
    "# 4. Given two sorted arrays of size m and n, find their intersection using loop and conditional statement\n",
    "\n",
    "Test cases:\n",
    "Input : arr1[] = [1, 3, 4, 5, 7]\n",
    "        arr2[] = [2, 3, 5, 6]\n",
    "Output :\n",
    "         Intersection : {3, 5}\n",
    "\n",
    "Input : arr1[] = [2, 5, 6]\n",
    "        arr2[] = [4, 6, 8, 10] \n",
    "Output:\n",
    "         Intersection : [6]"
   ]
  },
  {
   "cell_type": "code",
   "execution_count": 17,
   "id": "6f7412b6",
   "metadata": {
    "ExecuteTime": {
     "end_time": "2022-01-15T11:51:34.487617Z",
     "start_time": "2022-01-15T11:51:34.466606Z"
    }
   },
   "outputs": [
    {
     "name": "stdout",
     "output_type": "stream",
     "text": [
      "[3, 5]\n"
     ]
    }
   ],
   "source": [
    "#here goes the code\n",
    "arr1 = [1, 3, 4, 5, 7] \n",
    "arr2 = [2, 3, 5, 6]\n",
    "\n",
    "result=[]\n",
    "\n",
    "for i in arr1:\n",
    "    if i in arr2:\n",
    "        result.append(i)\n",
    "print(result)   "
   ]
  },
  {
   "cell_type": "markdown",
   "id": "24ed012f",
   "metadata": {},
   "source": [
    "### 3. write a Python program to count Even and Odd numbers in a List using List conprehension"
   ]
  },
  {
   "cell_type": "code",
   "execution_count": 39,
   "id": "0e89e459",
   "metadata": {
    "ExecuteTime": {
     "end_time": "2022-01-15T11:51:34.487617Z",
     "start_time": "2022-01-15T11:51:34.466606Z"
    }
   },
   "outputs": [
    {
     "ename": "SyntaxError",
     "evalue": "invalid syntax (2914088761.py, line 5)",
     "output_type": "error",
     "traceback": [
      "\u001b[1;36m  Input \u001b[1;32mIn [39]\u001b[1;36m\u001b[0m\n\u001b[1;33m    lst=[coun=0,x if x%2==0 else coun=coun+1 for x in lst]\u001b[0m\n\u001b[1;37m             ^\u001b[0m\n\u001b[1;31mSyntaxError\u001b[0m\u001b[1;31m:\u001b[0m invalid syntax\n"
     ]
    }
   ],
   "source": [
    "#here goes the code\n",
    "\n",
    "lst=[1,2,56,7,48,58]\n",
    "\n",
    "lst=[coun=0,x if x%2==0 else coun=coun+1 for x in lst]\n",
    "\n",
    "\n",
    "# res = [x if x%2 == 0 else “odd” for x in range(0,11)] \n",
    "lst\n"
   ]
  },
  {
   "cell_type": "markdown",
   "id": "1fe774ff",
   "metadata": {},
   "source": [
    "###  4. Program to print half Diamond star pattern\n",
    "Input: N = 3\n",
    "* Output:\n",
    "* **o**\n",
    "* **oo**\n",
    "* **ooo**\n",
    "* **oo**\n",
    "* **o**"
   ]
  },
  {
   "cell_type": "code",
   "execution_count": 3,
   "id": "1ec699b0",
   "metadata": {
    "ExecuteTime": {
     "end_time": "2022-01-15T11:51:34.487617Z",
     "start_time": "2022-01-15T11:51:34.466606Z"
    }
   },
   "outputs": [],
   "source": [
    "#here goes the code"
   ]
  },
  {
   "cell_type": "markdown",
   "id": "a6d023c1",
   "metadata": {},
   "source": [
    "### 5. Given an integer, , perform the following conditional actions:\n",
    "\n",
    "* If  is odd, print Weird\n",
    "* If  is even and in the inclusive range of  to , print Not Weird\n",
    "* If  is even and in the inclusive range of  to , print Weird\n",
    "* If  is even and greater than , print Not Weird"
   ]
  },
  {
   "cell_type": "code",
   "execution_count": 3,
   "id": "ed201390",
   "metadata": {
    "ExecuteTime": {
     "end_time": "2022-01-15T11:51:34.487617Z",
     "start_time": "2022-01-15T11:51:34.466606Z"
    }
   },
   "outputs": [],
   "source": [
    "#here goes the code"
   ]
  },
  {
   "cell_type": "markdown",
   "id": "69825ebd",
   "metadata": {},
   "source": [
    "### 6. Find the 2nd highest element in a list.\n",
    "* input - [1,2,3,4,5,6]\n",
    "* output - 5 "
   ]
  },
  {
   "cell_type": "code",
   "execution_count": 3,
   "id": "b57d79da",
   "metadata": {
    "ExecuteTime": {
     "end_time": "2022-01-15T11:51:34.487617Z",
     "start_time": "2022-01-15T11:51:34.466606Z"
    }
   },
   "outputs": [],
   "source": [
    "#here goes the code"
   ]
  },
  {
   "cell_type": "markdown",
   "id": "ee9358c7",
   "metadata": {},
   "source": [
    "###  7. Write a program to wrap the string(S) into a paragraph of width(W) .\n",
    "* input - **S** =  ABCDEFGH, **W** = 4\n",
    "* output - \n",
    "* **ABCD**\n",
    "* **EFGH**"
   ]
  },
  {
   "cell_type": "code",
   "execution_count": 3,
   "id": "1eb83149",
   "metadata": {
    "ExecuteTime": {
     "end_time": "2022-01-15T11:51:34.487617Z",
     "start_time": "2022-01-15T11:51:34.466606Z"
    }
   },
   "outputs": [],
   "source": [
    "#here goes the code"
   ]
  },
  {
   "cell_type": "markdown",
   "id": "407b4469",
   "metadata": {},
   "source": [
    "### 8. Write a program to reverse the words in a string\n",
    "* input - \"Hello python learners how are you\"\n",
    "* output - \"you are how learners python Hello\""
   ]
  },
  {
   "cell_type": "code",
   "execution_count": 3,
   "id": "de87d515",
   "metadata": {
    "ExecuteTime": {
     "end_time": "2022-01-15T11:51:34.487617Z",
     "start_time": "2022-01-15T11:51:34.466606Z"
    }
   },
   "outputs": [],
   "source": [
    "#here goes the code"
   ]
  },
  {
   "cell_type": "markdown",
   "id": "00878aeb",
   "metadata": {},
   "source": [
    "### 9. Using While loop find the factorial of a number?"
   ]
  },
  {
   "cell_type": "code",
   "execution_count": 3,
   "id": "045fad35",
   "metadata": {
    "ExecuteTime": {
     "end_time": "2022-01-15T11:51:34.487617Z",
     "start_time": "2022-01-15T11:51:34.466606Z"
    }
   },
   "outputs": [],
   "source": [
    "#here goes the code"
   ]
  },
  {
   "cell_type": "markdown",
   "id": "704641ba",
   "metadata": {},
   "source": [
    "### 10. Using function find the factorial of a number?"
   ]
  },
  {
   "cell_type": "code",
   "execution_count": 3,
   "id": "9d280911",
   "metadata": {
    "ExecuteTime": {
     "end_time": "2022-01-15T11:51:34.487617Z",
     "start_time": "2022-01-15T11:51:34.466606Z"
    }
   },
   "outputs": [],
   "source": [
    "#here goes the code"
   ]
  },
  {
   "cell_type": "markdown",
   "id": "e34c3575",
   "metadata": {},
   "source": [
    "### 11. Create a function to find the x power y without using pow function?\n",
    "* input - pow_func(2,4)\n",
    "* output - 16"
   ]
  },
  {
   "cell_type": "code",
   "execution_count": 3,
   "id": "7eb05863",
   "metadata": {
    "ExecuteTime": {
     "end_time": "2022-01-15T11:51:34.487617Z",
     "start_time": "2022-01-15T11:51:34.466606Z"
    }
   },
   "outputs": [],
   "source": [
    "#here goes the code"
   ]
  },
  {
   "cell_type": "markdown",
   "id": "e1025466",
   "metadata": {},
   "source": [
    "### 12. Write a program that reads a year from the user and displays a message indicating whether or not it is a leap year.\n",
    "* If it is a leap year print **YES** else print **NO**\n",
    "* Any year that is divisible by 400 is a leap year.\n",
    "* Of the remaining years, any year that is divisible by 100 is not a leap year.\n",
    "* Of the remaining years, any year that is divisible by 4 is a leap year.\n",
    "* All other years are not leap years."
   ]
  },
  {
   "cell_type": "code",
   "execution_count": 3,
   "id": "4e70e1c8",
   "metadata": {
    "ExecuteTime": {
     "end_time": "2022-01-15T11:51:34.487617Z",
     "start_time": "2022-01-15T11:51:34.466606Z"
    }
   },
   "outputs": [],
   "source": [
    "#here goes the code"
   ]
  },
  {
   "cell_type": "markdown",
   "id": "474a2018",
   "metadata": {},
   "source": [
    "### 13. write a function that returns a list containing every possible sublist of a list. \n",
    "* For example, the **sublists of [1, 2, 3]** are *[], [1], [2], [3], [1, 2], [2, 3] and [1, 2, 3]*"
   ]
  },
  {
   "cell_type": "code",
   "execution_count": 3,
   "id": "0dbac895",
   "metadata": {
    "ExecuteTime": {
     "end_time": "2022-01-15T11:51:34.487617Z",
     "start_time": "2022-01-15T11:51:34.466606Z"
    }
   },
   "outputs": [],
   "source": [
    "#here goes the code"
   ]
  },
  {
   "cell_type": "markdown",
   "id": "178bf0e7",
   "metadata": {},
   "source": [
    "### 14. v. Create a program that reads two strings from the user, determines whether or not they are anagrams, and reports the result.\n",
    "* Two words are anagrams if they contain all of the same letters, but in a different order. For example, “evil” and “live” are anagrams because each contains one e, one i, one l, and one v"
   ]
  },
  {
   "cell_type": "code",
   "execution_count": 3,
   "id": "06dc1c39",
   "metadata": {
    "ExecuteTime": {
     "end_time": "2022-01-15T11:51:34.487617Z",
     "start_time": "2022-01-15T11:51:34.466606Z"
    }
   },
   "outputs": [],
   "source": [
    "#here goes the code"
   ]
  },
  {
   "cell_type": "markdown",
   "id": "b3d14464",
   "metadata": {},
   "source": [
    "### 15. Extend your program from Exercise 14 so that it is able to check if two phrases are anagrams.\n",
    "* For example, “**William Shakespeare**” and “**I am a weakish speller**” are anagrams when capitalization and spacing are ignored.\n",
    "*  Your program should ignore **capitalization**, **punctuation** marks and **spacing** when making the determination"
   ]
  },
  {
   "cell_type": "code",
   "execution_count": 3,
   "id": "40bdc4cc",
   "metadata": {
    "ExecuteTime": {
     "end_time": "2022-01-15T11:51:34.487617Z",
     "start_time": "2022-01-15T11:51:34.466606Z"
    }
   },
   "outputs": [],
   "source": [
    "#here goes the code"
   ]
  }
 ],
 "metadata": {
  "hide_input": false,
  "kernelspec": {
   "display_name": "Python 3 (ipykernel)",
   "language": "python",
   "name": "python3"
  },
  "language_info": {
   "codemirror_mode": {
    "name": "ipython",
    "version": 3
   },
   "file_extension": ".py",
   "mimetype": "text/x-python",
   "name": "python",
   "nbconvert_exporter": "python",
   "pygments_lexer": "ipython3",
   "version": "3.10.1"
  },
  "toc": {
   "base_numbering": 1,
   "nav_menu": {},
   "number_sections": true,
   "sideBar": true,
   "skip_h1_title": false,
   "title_cell": "Table of Contents",
   "title_sidebar": "Contents",
   "toc_cell": false,
   "toc_position": {
    "height": "calc(100% - 180px)",
    "left": "10px",
    "top": "150px",
    "width": "846.964px"
   },
   "toc_section_display": true,
   "toc_window_display": true
  }
 },
 "nbformat": 4,
 "nbformat_minor": 5
}

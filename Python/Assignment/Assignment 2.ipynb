{
 "cells": [
  {
   "cell_type": "markdown",
   "id": "84a51b29",
   "metadata": {},
   "source": [
    "# Python Assessment on Lec 2"
   ]
  },
  {
   "cell_type": "markdown",
   "id": "943eac62",
   "metadata": {},
   "source": [
    "\n",
    "* 2\tList operation\n"
   ]
  },
  {
   "cell_type": "markdown",
   "id": "e03aa56d",
   "metadata": {},
   "source": [
    "##  1 create a list containing numbers form 1 to 5?"
   ]
  },
  {
   "cell_type": "code",
   "execution_count": 1,
   "id": "50212a43",
   "metadata": {},
   "outputs": [],
   "source": [
    "list1=[1,2,3,4,5]"
   ]
  },
  {
   "cell_type": "markdown",
   "id": "fc5cab2f",
   "metadata": {},
   "source": [
    "### 2. check if a list is having element 'a' in it?"
   ]
  },
  {
   "cell_type": "code",
   "execution_count": 2,
   "id": "b23d6c40",
   "metadata": {
    "ExecuteTime": {
     "end_time": "2022-01-15T08:01:02.936549Z",
     "start_time": "2022-01-15T08:01:02.926460Z"
    }
   },
   "outputs": [],
   "source": [
    "#here goes the code\n",
    "li = [1,2,3,'a','b','c']\n",
    "\n"
   ]
  },
  {
   "cell_type": "markdown",
   "id": "a0b07732",
   "metadata": {},
   "source": [
    "### 2.1 .Is a list mutable?\n"
   ]
  },
  {
   "cell_type": "code",
   "execution_count": 2,
   "id": "a6093843",
   "metadata": {
    "ExecuteTime": {
     "end_time": "2022-01-15T08:01:02.936549Z",
     "start_time": "2022-01-15T08:01:02.926460Z"
    }
   },
   "outputs": [
    {
     "name": "stdout",
     "output_type": "stream",
     "text": [
      "2327601299776 : [1]\n",
      "2327601299776 : [1, 5, 6, 7]\n"
     ]
    }
   ],
   "source": [
    "#run the following code to see the id of the list and answer whether the list is mutable or not?\n",
    "x = [1]\n",
    "print(id(x),':',x)\n",
    "x.append(5)\n",
    "x.extend([6,7])\n",
    "print(id(x),':',x) "
   ]
  },
  {
   "cell_type": "markdown",
   "id": "f37d8279",
   "metadata": {},
   "source": [
    "### 3. Print list in reverse order\n",
    "* Hint use slicing"
   ]
  },
  {
   "cell_type": "code",
   "execution_count": 4,
   "id": "0f2a7552",
   "metadata": {
    "ExecuteTime": {
     "end_time": "2022-01-14T04:58:45.198090Z",
     "start_time": "2022-01-14T04:58:45.190084Z"
    }
   },
   "outputs": [],
   "source": [
    "#here goes the code\n",
    "list1 = [1,2,3,4,5,6]\n"
   ]
  },
  {
   "cell_type": "markdown",
   "id": "8412448e",
   "metadata": {},
   "source": [
    "### 4. Perform following operations on list1\n",
    "* Maximum\n",
    "* Minimum value\n",
    "* Sum of all elements in list\n"
   ]
  },
  {
   "cell_type": "code",
   "execution_count": 9,
   "id": "f8481c9c",
   "metadata": {
    "ExecuteTime": {
     "end_time": "2022-01-14T13:18:17.558779Z",
     "start_time": "2022-01-14T13:18:17.550779Z"
    }
   },
   "outputs": [],
   "source": [
    "list1 = [1,2,3,4,5,6,6,7]"
   ]
  },
  {
   "cell_type": "markdown",
   "id": "042fc36f",
   "metadata": {},
   "source": [
    "### 5. Read user name(string) as input and print it in Reverse order\n",
    "* eg: input - PREPLEAF\n",
    "* o/p - FAELPERP"
   ]
  },
  {
   "cell_type": "code",
   "execution_count": 7,
   "id": "4044c71d",
   "metadata": {
    "ExecuteTime": {
     "end_time": "2022-01-14T13:17:05.001541Z",
     "start_time": "2022-01-14T13:17:04.985536Z"
    }
   },
   "outputs": [],
   "source": [
    "#here goes the code"
   ]
  },
  {
   "cell_type": "markdown",
   "id": "8389564e",
   "metadata": {},
   "source": [
    "### 6.  Sort the l1 in ascending order and descending order\n",
    "* hint : use **Sort**\n",
    "### eg:\n",
    "#### Input: [2,58,697,10,245,3,5,589,25]\n",
    "#### Output [2, 3, 5, 10, 25, 58, 245, 589, 697]       and       [697, 589, 245, 58, 25, 10, 5, 3, 2]"
   ]
  },
  {
   "cell_type": "code",
   "execution_count": 4,
   "id": "2145fc83",
   "metadata": {
    "ExecuteTime": {
     "end_time": "2022-01-14T13:23:15.708530Z",
     "start_time": "2022-01-14T13:23:15.692529Z"
    }
   },
   "outputs": [],
   "source": [
    "#here goes the code\n"
   ]
  },
  {
   "cell_type": "markdown",
   "id": "f70c2912",
   "metadata": {},
   "source": [
    "### 7. Take a string as input from user and sort string in alphabetic order\n",
    "\n",
    "#### eg: Input  -  \"amit\"\n",
    "#### Output :  ['a', 'i', 'm', 't']"
   ]
  },
  {
   "cell_type": "code",
   "execution_count": 19,
   "id": "28c0b5d6",
   "metadata": {
    "ExecuteTime": {
     "end_time": "2022-01-15T08:01:02.936549Z",
     "start_time": "2022-01-15T08:01:02.926460Z"
    }
   },
   "outputs": [],
   "source": [
    "#here goes the code\n"
   ]
  },
  {
   "cell_type": "markdown",
   "id": "73b318ba",
   "metadata": {},
   "source": [
    "### 8. create 2  lists with integers and do following operations\n",
    "* list1 + list2\n",
    "* list1 - list2\n",
    "\n",
    "#### eg: Input  list1 = [1,2,3,4,5,6]     list2 = [2,5,7,8,9,11]\n",
    "#### Output  list1 + list2  = [1, 2, 3, 4, 5, 6, 2, 5, 7, 8, 9, 11]\n",
    "#### list1 - list2 = [1,3,7,8,9,11]"
   ]
  },
  {
   "cell_type": "code",
   "execution_count": 16,
   "id": "a4d3602b",
   "metadata": {},
   "outputs": [],
   "source": [
    "#here goest the code\n",
    "\n"
   ]
  },
  {
   "cell_type": "markdown",
   "id": "30545807",
   "metadata": {},
   "source": [
    "### 9. Append list1 to list2 and print list2"
   ]
  },
  {
   "cell_type": "code",
   "execution_count": 2,
   "id": "ce9ea428",
   "metadata": {
    "ExecuteTime": {
     "end_time": "2022-01-15T08:01:02.936549Z",
     "start_time": "2022-01-15T08:01:02.926460Z"
    }
   },
   "outputs": [],
   "source": [
    "#here goest the code\n",
    "list1 = [1,2,3,4,5,6]\n",
    "list2 = [2,5,7,8,9,11]"
   ]
  },
  {
   "cell_type": "markdown",
   "id": "4b053283",
   "metadata": {},
   "source": [
    "### 11. Extend list1 with list2?"
   ]
  },
  {
   "cell_type": "code",
   "execution_count": 3,
   "id": "651770a3",
   "metadata": {
    "ExecuteTime": {
     "end_time": "2022-01-15T08:01:02.936549Z",
     "start_time": "2022-01-15T08:01:02.926460Z"
    }
   },
   "outputs": [],
   "source": [
    "#here goest the code\n",
    "list1 = [1,2,3,4,5,6]\n",
    "list2 = [2,5,7,8,9,11]"
   ]
  },
  {
   "cell_type": "markdown",
   "id": "f0a5e4b6",
   "metadata": {},
   "source": [
    "### 11. Concate 2 strings using '+' "
   ]
  },
  {
   "cell_type": "code",
   "execution_count": 2,
   "id": "459911a2",
   "metadata": {
    "ExecuteTime": {
     "end_time": "2022-01-15T08:01:02.936549Z",
     "start_time": "2022-01-15T08:01:02.926460Z"
    }
   },
   "outputs": [],
   "source": [
    "#here goes the code\n",
    "str1='prep'\n",
    "str2='leaf'"
   ]
  },
  {
   "cell_type": "markdown",
   "id": "f5d781dc",
   "metadata": {},
   "source": [
    "### 12. Print last character in a string"
   ]
  },
  {
   "cell_type": "code",
   "execution_count": 1,
   "id": "c0095546",
   "metadata": {
    "ExecuteTime": {
     "end_time": "2022-01-15T08:00:46.806304Z",
     "start_time": "2022-01-15T08:00:46.787230Z"
    }
   },
   "outputs": [],
   "source": [
    "# here goes the code\n",
    "str1 = \"PREPLEAF\""
   ]
  },
  {
   "cell_type": "markdown",
   "id": "1646da0a",
   "metadata": {},
   "source": [
    "# bonus"
   ]
  },
  {
   "cell_type": "markdown",
   "id": "04e63ec4",
   "metadata": {},
   "source": [
    "### Do python lists store values or pointers?"
   ]
  },
  {
   "cell_type": "code",
   "execution_count": null,
   "id": "b49750d1",
   "metadata": {},
   "outputs": [],
   "source": [
    "print( id(1) ) #=> 4438537632\n",
    "print( id(2) ) #=> 4438537664\n",
    "a = [1,2,3]\n",
    "print( id(a) ) #=> 4579953480\n",
    "print( id(a[0]) ) #=> 4438537632\n",
    "print( id(a[1]) ) #=> 4438537664"
   ]
  },
  {
   "cell_type": "markdown",
   "id": "c85718b6",
   "metadata": {},
   "source": [
    "Python lists don’t store values themselves. They store pointers to values stored elsewhere in memory. This allows lists to be mutable."
   ]
  },
  {
   "cell_type": "code",
   "execution_count": null,
   "id": "bed09b88",
   "metadata": {},
   "outputs": [],
   "source": []
  }
 ],
 "metadata": {
  "hide_input": false,
  "kernelspec": {
   "display_name": "Python 3 (ipykernel)",
   "language": "python",
   "name": "python3"
  },
  "language_info": {
   "codemirror_mode": {
    "name": "ipython",
    "version": 3
   },
   "file_extension": ".py",
   "mimetype": "text/x-python",
   "name": "python",
   "nbconvert_exporter": "python",
   "pygments_lexer": "ipython3",
   "version": "3.10.1"
  },
  "toc": {
   "base_numbering": 1,
   "nav_menu": {},
   "number_sections": true,
   "sideBar": true,
   "skip_h1_title": false,
   "title_cell": "Table of Contents",
   "title_sidebar": "Contents",
   "toc_cell": false,
   "toc_position": {
    "height": "calc(100% - 180px)",
    "left": "10px",
    "top": "150px",
    "width": "164.991px"
   },
   "toc_section_display": true,
   "toc_window_display": true
  }
 },
 "nbformat": 4,
 "nbformat_minor": 5
}

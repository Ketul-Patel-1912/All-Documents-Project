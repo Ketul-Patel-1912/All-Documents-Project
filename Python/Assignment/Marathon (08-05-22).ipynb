{
 "cells": [
  {
   "cell_type": "markdown",
   "id": "eeeb7963",
   "metadata": {},
   "source": [
    "### Write a Python program to get a list, sorted in increasing order by the last element in each tuple from a given list of non-empty tuples.\n",
    "\n",
    "Sample List : [(2, 5), (1, 2), (4, 4), (2, 3), (2, 1)]\n",
    "\n",
    "Expected Result : [(2, 1), (1, 2), (2, 3), (4, 4), (2, 5)]\n"
   ]
  },
  {
   "cell_type": "code",
   "execution_count": 6,
   "id": "0c7dd927",
   "metadata": {},
   "outputs": [
    {
     "name": "stdout",
     "output_type": "stream",
     "text": [
      "[(2, 1), (1, 2), (2, 3), (4, 4), (2, 5)]\n"
     ]
    }
   ],
   "source": [
    "list1 = [(2, 5), (1, 2), (4, 4), (2, 3), (2, 1)]\n",
    "\n",
    "for i in range(len(list1)):\n",
    "    for j in range(i+1,len(list1)):\n",
    "#         print(i,j)\n",
    "#         print(list1)\n",
    "        if list1[i][1]>list1[j][1]:\n",
    "            list1[i],list1[j]=list1[j],list1[i]\n",
    "            \n",
    "print(list1)\n",
    "\n"
   ]
  },
  {
   "cell_type": "markdown",
   "id": "935b9877",
   "metadata": {},
   "source": [
    "## calculate determinant of 2*2 matrix\n"
   ]
  },
  {
   "cell_type": "code",
   "execution_count": 36,
   "id": "3337b5b8",
   "metadata": {},
   "outputs": [
    {
     "name": "stdout",
     "output_type": "stream",
     "text": [
      "-2\n"
     ]
    }
   ],
   "source": [
    "mtr=[[1,2],\n",
    "     [3,4]]\n",
    "\n",
    "#result = (1 × 4) – (2 × 3) =-2\n",
    "\n",
    "\n",
    "x= mtr[0][0]*mtr[1][1]\n",
    "y= mtr[0][1]*mtr[1][0]\n",
    "\n",
    "print(x-y)\n",
    "\n"
   ]
  },
  {
   "cell_type": "markdown",
   "id": "838bbd1a",
   "metadata": {},
   "source": [
    "## Write a funciton to find the list of words that are longer than n from a given list of words. Sample input(3, \"The quick brown fox jumps over the lazy dog\")\n",
    "\n",
    "Expected output: ['quick', 'brown', 'jumps', 'over', 'lazy']\n"
   ]
  },
  {
   "cell_type": "code",
   "execution_count": 19,
   "id": "0ae20e4b",
   "metadata": {},
   "outputs": [
    {
     "name": "stdout",
     "output_type": "stream",
     "text": [
      "3, The quick brown fox jumps over the lazy dog\n",
      "['quick', 'brown', 'jumps', 'over', 'lazy']\n"
     ]
    }
   ],
   "source": [
    "# \"The quick brown fox jumps over the lazy dog\"\n",
    "\n",
    "input1=(input().split(','))\n",
    "result=[]\n",
    "#def words(input1):\n",
    "    \n",
    "for i in input1[1].split():\n",
    "    if len(i)>int(input1[0]):\n",
    "        result.append(i)\n",
    "        \n",
    "print(result)\n",
    "   \n",
    "    "
   ]
  },
  {
   "cell_type": "code",
   "execution_count": null,
   "id": "75c253b8",
   "metadata": {},
   "outputs": [],
   "source": []
  }
 ],
 "metadata": {
  "kernelspec": {
   "display_name": "Python 3 (ipykernel)",
   "language": "python",
   "name": "python3"
  },
  "language_info": {
   "codemirror_mode": {
    "name": "ipython",
    "version": 3
   },
   "file_extension": ".py",
   "mimetype": "text/x-python",
   "name": "python",
   "nbconvert_exporter": "python",
   "pygments_lexer": "ipython3",
   "version": "3.10.1"
  }
 },
 "nbformat": 4,
 "nbformat_minor": 5
}

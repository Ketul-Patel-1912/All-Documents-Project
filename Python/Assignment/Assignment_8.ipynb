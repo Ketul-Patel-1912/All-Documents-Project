{
  "cells": [
    {
      "cell_type": "markdown",
      "metadata": {
        "id": "tGe4kcQgUlfU"
      },
      "source": [
        "# Assignment  8"
      ],
      "id": "tGe4kcQgUlfU"
    },
    {
      "cell_type": "markdown",
      "metadata": {
        "id": "o75MPVDqUlfh"
      },
      "source": [
        "### 1. Write a Python program to create a Vehicle class with name, max_speed and mileage instance attributes also create one class attributes.\n",
        "also print the speed and mileage using the above class"
      ],
      "id": "o75MPVDqUlfh"
    },
    {
      "cell_type": "code",
      "execution_count": null,
      "metadata": {
        "colab": {
          "base_uri": "https://localhost:8080/"
        },
        "id": "6i9EM9QrUlfk",
        "outputId": "0c5dd593-b56a-46eb-d321-11ee43a55bf0"
      },
      "outputs": [
        {
          "output_type": "stream",
          "name": "stdout",
          "text": [
            "max speed of vehicle is  200\n",
            "mileage of vehicle is  24\n"
          ]
        }
      ],
      "source": [
        "class Vehicle:\n",
        "     def __init__(self,max_speed,mileage):\n",
        "          self.max_speed=max_speed\n",
        "          self.mileage=mileage\n",
        "     def show_vehicle_details(self):\n",
        "          print(\"max speed of vehicle is \",self.max_speed)\n",
        "          print (\"mileage of vehicle is \",self.mileage)\n",
        "V1=Vehicle(200,24)\n",
        "V1.show_vehicle_details()"
      ],
      "id": "6i9EM9QrUlfk"
    },
    {
      "cell_type": "markdown",
      "metadata": {
        "id": "FQEJhsuRUlfm"
      },
      "source": [
        "### 2.Define a class attribute”color” with a default value white. I.e., Every Vehicle should be white."
      ],
      "id": "FQEJhsuRUlfm"
    },
    {
      "cell_type": "code",
      "execution_count": null,
      "metadata": {
        "colab": {
          "base_uri": "https://localhost:8080/"
        },
        "id": "b75JhQP3Ulfo",
        "outputId": "c0f8f5f0-8e8e-4c7a-a9f6-7d2fe78c8c0d"
      },
      "outputs": [
        {
          "output_type": "stream",
          "name": "stdout",
          "text": [
            "color of the bus is  white\n",
            "color of the car is  white\n"
          ]
        }
      ],
      "source": [
        "class Vehicle:\n",
        "    color=\"white\"\n",
        "\n",
        "    def __init__(self, name, max_speed, mileage):\n",
        "        self.name = name\n",
        "        self.max_speed = max_speed\n",
        "        self.mileage = mileage\n",
        "\n",
        "class Bus(Vehicle):\n",
        "    def show_bus_details(self):\n",
        "        print (\"color of the bus is \",self.color)\n",
        "\n",
        "class Car(Vehicle):\n",
        "    def show_car_details(self):\n",
        "        print (\"color of the car is \",self.color)\n",
        "\n",
        "B=Bus('minibus',100,44)\n",
        "B.show_bus_details()\n",
        "\n",
        "c=Car('bugati',1000,14)\n",
        "c.show_car_details()"
      ],
      "id": "b75JhQP3Ulfo"
    },
    {
      "cell_type": "markdown",
      "metadata": {
        "id": "_uqwEaE6Ulfr"
      },
      "source": [
        "### 3. Give the vehicle class and the sub class bus a capacity argument seating_capacity and give a deafault value of     50 to the seating capacity in the bus sub class."
      ],
      "id": "_uqwEaE6Ulfr"
    },
    {
      "cell_type": "code",
      "execution_count": null,
      "metadata": {
        "id": "gbFqw0eIUlft",
        "colab": {
          "base_uri": "https://localhost:8080/"
        },
        "outputId": "521a05e9-a12e-47a0-9150-ba82f9190b68"
      },
      "outputs": [
        {
          "output_type": "stream",
          "name": "stdout",
          "text": [
            "vehicle details Name: {'audi'} max speed : {500} mileage: {50}\n"
          ]
        },
        {
          "output_type": "execute_result",
          "data": {
            "text/plain": [
              "('seating capacity', 50)"
            ]
          },
          "metadata": {},
          "execution_count": 30
        }
      ],
      "source": [
        "class Vehicle:\n",
        "  def __init__(self,name, max_speed, mileage):\n",
        "    self.name=name\n",
        "    self.max_speed=max_speed\n",
        "    self.mileage=mileage\n",
        "\n",
        "  def show_veh_details(self):\n",
        "    print(f\"vehicle details Name:\",{self.name},\"max speed :\",{self.max_speed},\"mileage:\",{self.mileage}  )\n",
        "\n",
        "  class Bus:\n",
        "    def bus_seats(self,seats=50):\n",
        "      self.seats=seats\n",
        "      return \"seating capacity\",self.seats\n",
        "\n",
        "V1=Vehicle('audi',500,50)\n",
        "V1.show_veh_details()\n",
        "\n",
        "B1=V1.Bus()\n",
        "\n",
        "B1.bus_seats()\n",
        "\n"
      ],
      "id": "gbFqw0eIUlft"
    },
    {
      "cell_type": "markdown",
      "metadata": {
        "id": "lsHJuSZ9Ulfu"
      },
      "source": [
        "### 4.Define a property that must have the same value for every class instance (object)\n",
        "      * create another sub class car \n",
        "      * Define a class attribute”color” with a default value white. I.e., Every Vehicle should be white.\n",
        "      * Variables created in .__init__() are called instance variables.they are specific to a particular instance of the class.\n",
        "      * The class variable is shared between all class instances."
      ],
      "id": "lsHJuSZ9Ulfu"
    },
    {
      "cell_type": "code",
      "source": [
        "class Vehicle:\n",
        "    color=\"white\"\n",
        "\n",
        "    def __init__(self, name, max_speed, mileage,color=\"white\"):\n",
        "        self.name = name\n",
        "        self.max_speed = max_speed\n",
        "        self.mileage = mileage\n",
        "        self.color=color\n",
        "\n",
        "\n",
        "    class Car:\n",
        "       def __init__(self,color=\"white\"):\n",
        "           print (\"color of the car is \",color)\n",
        "\n",
        "\n",
        "\n",
        "c=Vehicle('bugati',1000,14).Car()"
      ],
      "metadata": {
        "colab": {
          "base_uri": "https://localhost:8080/"
        },
        "id": "zNqUVmh45xNS",
        "outputId": "bb002244-d40b-4543-dbb3-a2268faa81e0"
      },
      "id": "zNqUVmh45xNS",
      "execution_count": null,
      "outputs": [
        {
          "output_type": "stream",
          "name": "stdout",
          "text": [
            "color of the car is  white\n"
          ]
        }
      ]
    },
    {
      "cell_type": "code",
      "source": [
        ""
      ],
      "metadata": {
        "id": "Fwxz8HoPxfku"
      },
      "id": "Fwxz8HoPxfku",
      "execution_count": null,
      "outputs": []
    }
  ],
  "metadata": {
    "kernelspec": {
      "display_name": "Python 3",
      "language": "python",
      "name": "python3"
    },
    "language_info": {
      "codemirror_mode": {
        "name": "ipython",
        "version": 3
      },
      "file_extension": ".py",
      "mimetype": "text/x-python",
      "name": "python",
      "nbconvert_exporter": "python",
      "pygments_lexer": "ipython3",
      "version": "3.7.4"
    },
    "colab": {
      "name": "Assignment 8.ipynb",
      "provenance": [],
      "collapsed_sections": []
    }
  },
  "nbformat": 4,
  "nbformat_minor": 5
}
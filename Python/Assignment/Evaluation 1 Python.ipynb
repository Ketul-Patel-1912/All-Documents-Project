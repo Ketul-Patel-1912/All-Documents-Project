{
 "cells": [
  {
   "cell_type": "markdown",
   "id": "099d7008",
   "metadata": {},
   "source": [
    "## Evaluation 1\n",
    "\n",
    "Q-1 What does sequence mean and which three types of data fall into this category?\n",
    "\n",
    "A sequence data type is a collection of objects ordered by a specific position.\n",
    "\n",
    "Strings, lists, and tuples are the data types based on sequences. \n",
    "The common sequence operations, such as indexing, concatenation, and slicing, but also have type-specific method calls.\n"
   ]
  },
  {
   "cell_type": "markdown",
   "id": "ee75cd0e",
   "metadata": {},
   "source": [
    "Q-3 Consider a list (list = []). You can perform the following commands:\n",
    "insert i e: Insert integer at the position.\n",
    "print: Print the list.\n",
    "remove i.e: Delete the first occurrence of integer.\n",
    "append i.e: Insert integer at the end of the list.\n",
    "sort: Sort the list.\n",
    "pop: Pop the last element from the list.\n",
    "reverse: Reverse the list.\n",
    "Initialize your list and read in the value followed by lines of commands where each command will be of \n",
    "the types listed above. Iterate through each command in order and perform the corresponding \n",
    "operation on your list.\n",
    "Example\n",
    "N = 4\n",
    "Append 1 \n",
    "Append 2\n",
    "Insert 3 1\n",
    "Print \n",
    "Output: [1, 3, 2]"
   ]
  },
  {
   "cell_type": "code",
   "execution_count": 31,
   "id": "50e973d8",
   "metadata": {},
   "outputs": [
    {
     "name": "stdout",
     "output_type": "stream",
     "text": [
      "[6, 5, 4, 3, 2]\n",
      "[1, 3, 2]\n"
     ]
    }
   ],
   "source": [
    "list1=[]\n",
    "\n",
    "list2=1,2,3,4,5\n",
    "\n",
    "list1.extend(list2)\n",
    "\n",
    "\n",
    "list1.insert(4,6) \n",
    "\n",
    "list1.pop(0)  # Delete the first occurrence of integer\n",
    "\n",
    "list1.append(7)  # Insert integer at the end of the list.\n",
    "\n",
    "list1.sort() #Sort the list.\n",
    "\n",
    "list1.pop() # Pop the last element from the list\n",
    "\n",
    "list1.reverse() # Reverse the list.\n",
    "\n",
    "print(list1)\n",
    "\n",
    "list2=[]\n",
    "list2.append(1)\n",
    "list2.append(2)\n",
    "list2.insert(1,3)\n",
    "\n",
    "print(list2)"
   ]
  },
  {
   "cell_type": "markdown",
   "id": "bf452ee3",
   "metadata": {},
   "source": [
    "Q-4 Write a Python program to get a string from a given string where all occurrences of its first char have \n",
    "been changed to '$', except the first char itself.\n",
    "\n",
    "\n",
    "Sample String : 'restart'\n",
    "\n",
    "Expected Result : 'resta$t'"
   ]
  },
  {
   "cell_type": "code",
   "execution_count": 38,
   "id": "889acfbe",
   "metadata": {},
   "outputs": [
    {
     "data": {
      "text/plain": [
       "'resta$t'"
      ]
     },
     "execution_count": 38,
     "metadata": {},
     "output_type": "execute_result"
    }
   ],
   "source": [
    "str1='restart'\n",
    "\n",
    "result = str1[0] + str1[1:].replace(str1[0], '$')\n",
    "\n",
    "result"
   ]
  },
  {
   "cell_type": "markdown",
   "id": "4e5ae2cb",
   "metadata": {},
   "source": [
    "Q-5 Write a Python program to get a single string from two given strings, separated by a space and swap \n",
    "the first two characters of each string.\n",
    "\n",
    "Sample String : 'abc', 'xyz'\n",
    "\n",
    "Expected Result : 'xyc abz'\n"
   ]
  },
  {
   "cell_type": "code",
   "execution_count": 73,
   "id": "e613183a",
   "metadata": {},
   "outputs": [
    {
     "name": "stdout",
     "output_type": "stream",
     "text": [
      "xyc abz\n"
     ]
    }
   ],
   "source": [
    "st1,st2='abc','xyz'\n",
    "\n",
    "x = st2[0:2] + st1[2]\n",
    "y = st1[:2] + st2[2:]\n",
    " \n",
    "print(x+\" \"+y)\n",
    "\n"
   ]
  },
  {
   "cell_type": "markdown",
   "id": "35ae71cc",
   "metadata": {},
   "source": [
    "Q-6 Write a Python program to add 'ing' at the end of a given string (length should be at least 3). If the \n",
    "given string already ends with 'ing' then add 'ly' instead. If the string length of the given string is less than 3, \n",
    "leave it unchanged.\n",
    "\n",
    "Sample String : 'abc'\n",
    "\n",
    "Expected Result : 'abcing'\n",
    "\n",
    "Sample String : 'string'\n",
    "\n",
    "Expected Result : 'stringly'\n",
    "\n"
   ]
  },
  {
   "cell_type": "code",
   "execution_count": 77,
   "id": "0a91bf52",
   "metadata": {},
   "outputs": [
    {
     "name": "stdout",
     "output_type": "stream",
     "text": [
      "abcing\n",
      "stringly\n"
     ]
    }
   ],
   "source": [
    "str1='abc'\n",
    "str1=str1+'ing'\n",
    "\n",
    "print(str1)\n",
    "\n",
    "str2='string'\n",
    "str2='string'+'ly'\n",
    "\n",
    "print(str2)"
   ]
  },
  {
   "cell_type": "markdown",
   "id": "fd1c74c7",
   "metadata": {},
   "source": [
    "Q-7 Write a program to get the input and convert it as a tuple.\n",
    "\n",
    "Input: 0, 1, 2, 3, 4, 5, 6, 7, 8, 9\n",
    "\n",
    "Output: (‘0’, ‘1’, ‘2’, ‘3’, ‘4’, ‘5’, ‘6’, ‘7’, ‘8’, ‘9’)\n"
   ]
  },
  {
   "cell_type": "code",
   "execution_count": 109,
   "id": "d39083d7",
   "metadata": {},
   "outputs": [
    {
     "name": "stdout",
     "output_type": "stream",
     "text": [
      "0,1,2,3,4,5,6,7,8,9\n"
     ]
    },
    {
     "data": {
      "text/plain": [
       "('0', '1', '2', '3', '4', '5', '6', '7', '8', '9')"
      ]
     },
     "execution_count": 109,
     "metadata": {},
     "output_type": "execute_result"
    }
   ],
   "source": [
    "lst=input().split(\",\")\n",
    "\n",
    "lst=tuple(lst)\n",
    "\n",
    "lst"
   ]
  },
  {
   "cell_type": "markdown",
   "id": "c326ef29",
   "metadata": {},
   "source": [
    "Q-8 Write a program in Python to remove duplicate items from a list.\n",
    "\n",
    "Input: [2,3,4,5,2,6,3,2]\n",
    "\n",
    "Output: [2,3,4,5,6]"
   ]
  },
  {
   "cell_type": "code",
   "execution_count": 88,
   "id": "f6b4505a",
   "metadata": {},
   "outputs": [
    {
     "data": {
      "text/plain": [
       "[2, 3, 4, 5, 6]"
      ]
     },
     "execution_count": 88,
     "metadata": {},
     "output_type": "execute_result"
    }
   ],
   "source": [
    "Inp= [2,3,4,5,2,6,3,2]\n",
    "inp=set(Inp)\n",
    "inp=list(inp)\n",
    "inp"
   ]
  },
  {
   "cell_type": "markdown",
   "id": "18a27787",
   "metadata": {},
   "source": [
    "Q-9 Write a Python program to add an item in a tuple.\n",
    "\n",
    "Input : t = (4, 6, 2, 8, 3, 1) adding items : 5, 20, 25\n",
    "\n",
    "Output t = (4, 6, 2, 8, 3, 1, 5, 20, 25)"
   ]
  },
  {
   "cell_type": "code",
   "execution_count": 91,
   "id": "af024cb7",
   "metadata": {},
   "outputs": [
    {
     "data": {
      "text/plain": [
       "(4, 6, 2, 8, 3, 1, 5, 20, 25)"
      ]
     },
     "execution_count": 91,
     "metadata": {},
     "output_type": "execute_result"
    }
   ],
   "source": [
    "t = (4, 6, 2, 8, 3, 1) \n",
    "\n",
    "t=list(t)\n",
    "\n",
    "ad=5,20,25\n",
    "\n",
    "t.extend(ad)\n",
    "\n",
    "t=tuple(t)\n",
    "\n",
    "t"
   ]
  },
  {
   "cell_type": "code",
   "execution_count": 1,
   "id": "f414ae51",
   "metadata": {},
   "outputs": [
    {
     "data": {
      "text/plain": [
       "(4, 6, 2, 8, 3, 1, 5, 20, 25)"
      ]
     },
     "execution_count": 1,
     "metadata": {},
     "output_type": "execute_result"
    }
   ],
   "source": [
    "t = (4, 6, 2, 8, 3, 1) \n",
    "ad=5,20,25\n",
    "\n",
    "t+ad"
   ]
  },
  {
   "cell_type": "markdown",
   "id": "6176a609",
   "metadata": {},
   "source": [
    "Q-10 Write a Python program to convert a tuple to a string.\n",
    "\n",
    "Input: tup = ('e', 'x', 'e', 'r', 'c', 'i', 's', 'e', 's')\n",
    "\n",
    "Output: exercises"
   ]
  },
  {
   "cell_type": "code",
   "execution_count": 3,
   "id": "38b7f7ba",
   "metadata": {},
   "outputs": [
    {
     "name": "stdout",
     "output_type": "stream",
     "text": [
      "exercises"
     ]
    }
   ],
   "source": [
    "tup = ('e', 'x', 'e', 'r', 'c', 'i', 's', 'e', 's')\n",
    "\n",
    "for i in tup:\n",
    "    print(i,end=\"\")\n",
    "\n"
   ]
  },
  {
   "cell_type": "code",
   "execution_count": 4,
   "id": "51f374b1",
   "metadata": {},
   "outputs": [
    {
     "name": "stdout",
     "output_type": "stream",
     "text": [
      "e,x,e,r,c,i,s,e,s\n"
     ]
    }
   ],
   "source": [
    "print((',').join(tup))"
   ]
  },
  {
   "cell_type": "markdown",
   "id": "6837884a",
   "metadata": {},
   "source": [
    "Q-11 Write a Python program to check whether an element exists within a \n",
    "tuple\n",
    "\n",
    "Input : to check r and 5 present in given tuple, \n",
    "    \n",
    "tuplex = (\"w\", 3, \"r\", \"e\", \"s\", \"o\", \"u\", \"r\", \"c\", \"e\")\n",
    "\n",
    "Output: True , False"
   ]
  },
  {
   "cell_type": "code",
   "execution_count": 97,
   "id": "c123f939",
   "metadata": {},
   "outputs": [
    {
     "name": "stdout",
     "output_type": "stream",
     "text": [
      "False\n"
     ]
    }
   ],
   "source": [
    "tuplex = (\"w\", 3, \"r\", \"e\", \"s\", \"o\", \"u\", \"r\", \"c\", \"e\")\n",
    "\n",
    "if \"r\" and 5 in tuplex:\n",
    "    print(\"True\")\n",
    "else:\n",
    "    print(\"False\")"
   ]
  },
  {
   "cell_type": "markdown",
   "id": "2b31c446",
   "metadata": {},
   "source": [
    "Q-12 Write a Python script to add a key to a dictionary.\n",
    "\n",
    "Sample Dictionary : {0: 10, 1: 20}\n",
    "\n",
    "Expected Result : {0: 10, 1: 20, 2: 30}"
   ]
  },
  {
   "cell_type": "code",
   "execution_count": 99,
   "id": "fa8963f2",
   "metadata": {},
   "outputs": [
    {
     "data": {
      "text/plain": [
       "{0: 10, 1: 20, 2: 30}"
      ]
     },
     "execution_count": 99,
     "metadata": {},
     "output_type": "execute_result"
    }
   ],
   "source": [
    "x={0: 10, 1: 20}\n",
    "x[2]=30\n",
    "x"
   ]
  },
  {
   "cell_type": "markdown",
   "id": "6327390d",
   "metadata": {},
   "source": [
    "Q-13 Write a Python script to concatenate the following dictionaries to create a new one.\n",
    "Sample Dictionary :\n",
    "\n",
    "dic1={1:10, 2:20}\n",
    "\n",
    "dic2={3:30, 4:40}\n",
    "\n",
    "dic3={5:50,6:60}\n",
    "\n",
    "Expected Result : {1: 10, 2: 20, 3: 30, 4: 40, 5: 50, 6: 60}"
   ]
  },
  {
   "cell_type": "code",
   "execution_count": 107,
   "id": "c490764d",
   "metadata": {},
   "outputs": [
    {
     "data": {
      "text/plain": [
       "{1: 10, 2: 20, 3: 30, 4: 40, 5: 50, 6: 60}"
      ]
     },
     "execution_count": 107,
     "metadata": {},
     "output_type": "execute_result"
    }
   ],
   "source": [
    "dic1={1:10, 2:20}\n",
    "\n",
    "dic2={3:30, 4:40}\n",
    "\n",
    "dic3={5:50,6:60}\n",
    "\n",
    "dic1.update(dic2)\n",
    "dic1.update(dic3)\n",
    "dic1"
   ]
  },
  {
   "cell_type": "markdown",
   "id": "f374d737",
   "metadata": {},
   "source": [
    "Q-14 Write a Python script to merge two Python dictionaries.\n",
    "\n",
    "Sample \n",
    "\n",
    "d1 = {'a': 100, 'b': 200}\n",
    "\n",
    "d2 = {'x': 300, 'y': 200}\n",
    " \n",
    "Sample Output: {'x': 300, 'y': 200, 'a': 100, 'b': 200}\n"
   ]
  },
  {
   "cell_type": "code",
   "execution_count": 108,
   "id": "c579728d",
   "metadata": {},
   "outputs": [
    {
     "data": {
      "text/plain": [
       "{'x': 300, 'y': 200, 'a': 100, 'b': 200}"
      ]
     },
     "execution_count": 108,
     "metadata": {},
     "output_type": "execute_result"
    }
   ],
   "source": [
    "d1 = {'a': 100, 'b': 200}\n",
    "\n",
    "d2 = {'x': 300, 'y': 200}\n",
    "\n",
    "\n",
    "d2.update(d1)\n",
    "\n",
    "d2"
   ]
  },
  {
   "cell_type": "markdown",
   "id": "acfa2bd8",
   "metadata": {},
   "source": [
    "Q-15 Write a Python program to get a string made of the first 2 and the last 2 chars from a given a string. If \n",
    "the string length is less than 2, return instead of the empty string.\n",
    "\n",
    "Sample String : 'w3resource'\n",
    "\n",
    "Expected Result : 'w3ce'\n",
    "\n",
    "Sample String : 'w3'\n",
    "\n",
    "Expected Result : 'w3w3'\n",
    "\n",
    "Sample String : ' w'\n",
    "\n",
    "Expected Result : Empty String\n"
   ]
  },
  {
   "cell_type": "code",
   "execution_count": 121,
   "id": "e244ecb2",
   "metadata": {},
   "outputs": [
    {
     "name": "stdout",
     "output_type": "stream",
     "text": [
      "w3ce\n",
      "W3W3\n",
      "Empty string\n"
     ]
    }
   ],
   "source": [
    "str15 = 'w3resource'\n",
    "\n",
    "print(str15[0:2]+str15[len(str15)-2:])\n",
    "\n",
    "str16='W3'\n",
    "\n",
    "print(str16*2)\n",
    "\n",
    "str17='w'\n",
    "\n",
    "if len(str17)<2:\n",
    "    print(\"Empty string\")\n",
    "\n",
    "\n"
   ]
  },
  {
   "cell_type": "code",
   "execution_count": null,
   "id": "22f0b2fe",
   "metadata": {},
   "outputs": [],
   "source": []
  }
 ],
 "metadata": {
  "kernelspec": {
   "display_name": "Python 3 (ipykernel)",
   "language": "python",
   "name": "python3"
  },
  "language_info": {
   "codemirror_mode": {
    "name": "ipython",
    "version": 3
   },
   "file_extension": ".py",
   "mimetype": "text/x-python",
   "name": "python",
   "nbconvert_exporter": "python",
   "pygments_lexer": "ipython3",
   "version": "3.10.1"
  }
 },
 "nbformat": 4,
 "nbformat_minor": 5
}

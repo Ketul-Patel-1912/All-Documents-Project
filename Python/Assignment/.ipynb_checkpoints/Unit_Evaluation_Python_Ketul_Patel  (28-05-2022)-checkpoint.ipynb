{
 "cells": [
  {
   "cell_type": "markdown",
   "metadata": {
    "id": "6JiYkpckpwJ_"
   },
   "source": [
    "# Instructions"
   ]
  },
  {
   "cell_type": "markdown",
   "metadata": {
    "id": "NvNQeOFAopmn"
   },
   "source": [
    "1. This paper contains 10 questions each carry 10 marks; Attend all the questions; Maximum Total 100 marks. \n",
    "2. Submit solution as .ipynb notebook; Use candidate name in notebook's name by replacing `<your-name>`.\n",
    "3. Do not use any libraries unless otherwise mentioned in the question."
   ]
  },
  {
   "cell_type": "markdown",
   "metadata": {
    "id": "-QXlRBDxqN33"
   },
   "source": [
    "# 1. Revised Budget\n",
    "\n",
    "### The awards committee of your Prepleaf asked for your assistance with a budget allocation problem they're facing. Originally, the committee planned to give N research grants this year. However, due to spending cutbacks, the budget was reduced to newBudget and now they need to reallocate the grants. The committee made a decision that they'd like to impact as few grant recipients as possible by applying a maximum cap on all grants. Every grant initially planned to be higher than cap will now be exactly cap. Grants less or equal to cap, obviously, won't be impacted.\n",
    "\n",
    "### Given an array grantsArray of the original grants and the reduced budget newBudget, write a function findGrantsCap that finds in the most efficient manner a cap such that the least number of recipients is impacted and that the new budget constraint is met (i.e. sum of the N reallocated grants equals to newBudget).\n",
    "\n",
    "\n",
    " Examples:\n",
    "> 1.\n",
    " input:  grantsArray = [2, 100, 50, 120, 1000], newBudget = 190\n",
    "\n",
    " output: new_cap = 47, \n",
    " new grants array = [2, 47, 47, 47, 47]. Notice that the sum of  the new grants is indeed 190\n",
    "\n",
    "> 2. \n",
    "input:  grantsArray = [2, 50, 50, 120, 1000], newBudget = 250 \n",
    "\n",
    "output: new_cap = 66,\n",
    "new grants  = [2, 50, 50, 66.0, 66.0] "
   ]
  },
  {
   "cell_type": "code",
   "execution_count": 123,
   "metadata": {},
   "outputs": [
    {
     "data": {
      "text/plain": [
       "47.0"
      ]
     },
     "execution_count": 123,
     "metadata": {},
     "output_type": "execute_result"
    }
   ],
   "source": [
    "def Cap(x,y):\n",
    "    \n",
    "    n = len(x)\n",
    "    \n",
    "    x.sort()\n",
    "    \n",
    "    ctn = n\n",
    "    \n",
    "    r_Budget = y\n",
    "    \n",
    "    divided_r_Budget = r_Budget / ctn\n",
    "    \n",
    "    for i in range(n):\n",
    "        \n",
    "        if x[i]<divided_r_Budget:\n",
    "            ctn-=1\n",
    "            r_Budget=r_Budget-x[i]\n",
    "            divided_r_Budget = r_Budget / ctn\n",
    "            \n",
    "        else:\n",
    "            break\n",
    "            \n",
    "    return divided_r_Budget\n",
    "            \n",
    "grantsArray = [2, 100, 50, 120, 1000]\n",
    "newBudget = 190        \n",
    "\n",
    "# grantsArray = [2, 50, 50, 120, 1000]\n",
    "# newBudget = 250\n",
    "\n",
    "\n",
    "Cap(grantsArray,newBudget)   "
   ]
  },
  {
   "cell_type": "markdown",
   "metadata": {
    "id": "VG8oBsw5vGa6"
   },
   "source": [
    "# 2. Contract or Expand?\n",
    "\n",
    "### A program is passed with a list of positive integers (lst). If the count of prime numbers in the list is odd pass the original list to a function **contract_diff(lst)** as described below, and if the count of prime numbers in the list is zero or even pass the original list to a function **expand_diff(lst)** as described below:\n",
    "\n",
    "### **contract_diff(lst)** is a function that takes as input a list of integer lst and returns True if the absolute difference between each adjacent pair of elements strictly decreases.\n",
    "\n",
    "### **expand_diff(lst)** is a function that takes as input a list of integer lst and returns True if the absolute difference between each adjacent pair of elements strictly increases.\n",
    "\n",
    "Here are some examples of how your functions should work.\n",
    "  > lst = [9,2,3,7]\n",
    "\n",
    "  > Output: False\n",
    "\n",
    "  > lst = [2,3,7,2,11] \n",
    "\n",
    "  > Output: True\n",
    "\n"
   ]
  },
  {
   "cell_type": "code",
   "execution_count": 122,
   "metadata": {},
   "outputs": [],
   "source": [
    "lst= [9,2,3,7]\n",
    "\n",
    "nums = []\n",
    "primes = []\n",
    "\n",
    "for i in range(2, n + 1):\n",
    "    for j in range(2, int(i ** 0.5) + 1):\n",
    "         if i%j == 0:\n",
    "            break\n",
    "    else:\n",
    "        primes.append(i)\n"
   ]
  },
  {
   "cell_type": "markdown",
   "metadata": {
    "id": "XewxhKRYvGrV"
   },
   "source": [
    "# 3. Peaks and Valleys\n",
    "\n",
    "### Given a list of integers lst write a program to formulate a new list l of length equal to lst with elements of lst modified such that if an element is even return its cube, else return its square. \n",
    "\n",
    "### After formulating the list l, the neighbours of l[i] are l[i-1] and l[i+1]. l[i] is a peak if it is strictly greater than its neighbours and a valley if it is strictly less than its neighbours.\n",
    "\n",
    "### Write a function peakvalley(l) that takes as input a list of integers l and returns a list [pc,vc] where hc is the number of peaks in l and vc is the number of valleys in l. If a number has only one neighbour, i.e. first element as well as last element of a list, skip that element in peak or valley calculations.\n",
    "\n",
    "### Here are some examples to show how your function should work.\n",
    "\n",
    "input: lst = [1,2,3,4,5,2]\n",
    "\n",
    "outputs: intermediate_list, l = 1,8,9,64,25,8\n",
    "\n",
    "peak_valley_count, [pc,vc] = [1,1] "
   ]
  },
  {
   "cell_type": "code",
   "execution_count": 124,
   "metadata": {},
   "outputs": [
    {
     "name": "stdout",
     "output_type": "stream",
     "text": [
      "[1, 8, 27, 64, 125, 8]\n",
      "Peaks and Valleys count : 1\n"
     ]
    }
   ],
   "source": [
    "test_list = [1,2,3,4,5,2]\n",
    "\n",
    "l1=[]\n",
    "\n",
    "res=0\n",
    "\n",
    "for i in range(1, len(test_list) - 1):\n",
    "    \n",
    "    if test_list[i + 1] > test_list[i] < test_list[i - 1] or test_list[i + 1] < test_list[i] > test_list[i- 1]:\n",
    "        res += 1\n",
    "    \n",
    "for i in test_list:\n",
    "    \n",
    "    l1.append(i**3)\n",
    "    \n",
    "print(l1)\n",
    "\n",
    "print(\"Peaks and Valleys count : \" + str(res))\n"
   ]
  },
  {
   "cell_type": "markdown",
   "metadata": {
    "id": "qJp7vISWvG6C"
   },
   "source": [
    "# 4. Balanced Brackets\n",
    "\n",
    "### Does a given string have balanced pairs of brackets?\n",
    "###    Given a string as input, return True or False depending on whether the string contains balanced (), {}, [], and/or <>\n",
    "\n",
    "Example: \n",
    "\n",
    "`(({{[]}))` --> True\n",
    "\n",
    "`(<)>{}` --> False\n",
    "\n",
    "`[]{})()` --> False\n"
   ]
  },
  {
   "cell_type": "code",
   "execution_count": 125,
   "metadata": {},
   "outputs": [
    {
     "name": "stdout",
     "output_type": "stream",
     "text": [
      "isbalanced? : False\n"
     ]
    }
   ],
   "source": [
    "string1=\"(({{[]}))\"\n",
    "\n",
    "def func(string1):\n",
    "    cnt =0\n",
    "    for i in string1:\n",
    "        if i==\"<\":\n",
    "            cnt+=1\n",
    "        elif i==\">\":\n",
    "            cnt-=1\n",
    "        elif i==\"(\":\n",
    "            cnt+=1\n",
    "        elif i==\")\":\n",
    "            cnt-=1\n",
    "        elif i==\"{\":\n",
    "            cnt+=1\n",
    "        elif i==\"}\":\n",
    "            cnt-=1\n",
    "    if cnt==0:\n",
    "        return True\n",
    "    if cnt<0:\n",
    "        return True\n",
    "    else:\n",
    "        return False\n",
    "    \n",
    "    \n",
    "print(\"isbalanced? :\",func(string1))\n"
   ]
  },
  {
   "cell_type": "markdown",
   "metadata": {
    "id": "ewiKnIKovHQv"
   },
   "source": [
    "# 5. Merge My Ranges\n",
    "\n",
    "### Write a function merge_ranges() that takes a list of meeting time ranges and returns a list of condensed ranges. Few examples are given below:\n",
    "\n",
    "\n",
    "    >>> merge_ranges([(3, 5), (4, 8), (10, 12), (9, 10), (0, 1),(4,7])\n",
    "    [(0, 1), (3, 8), (9, 12)]\n",
    "    >>> merge_ranges([(0, 3), (3, 5), (4, 8), (10, 12), (9, 10)])\n",
    "    [(0, 8), (9, 12)]\n",
    "    >>> merge_ranges([(0, 3), (3, 5)])\n",
    "    [(0, 5)]\n",
    "    >>> merge_ranges([(0, 3), (3, 5), (7, 8)])\n",
    "    [(0, 5), (7, 8)]\n",
    "    >>> merge_ranges([(1, 5), (2, 3)])\n",
    "    [(1, 5)] "
   ]
  },
  {
   "cell_type": "code",
   "execution_count": 107,
   "metadata": {},
   "outputs": [
    {
     "data": {
      "text/plain": [
       "[(0, 1), (3, 8), (9, 12)]"
      ]
     },
     "execution_count": 107,
     "metadata": {},
     "output_type": "execute_result"
    }
   ],
   "source": [
    "def merge_ranges(m):\n",
    "\n",
    "    m = sorted(m)\n",
    "    \n",
    "    a = [m[0]]\n",
    "    \n",
    "    m = m[1:]\n",
    "    \n",
    "    for (k, k1) in m:\n",
    "        \n",
    "        (start, end) = a[-1]\n",
    "        \n",
    "        if k <= end:\n",
    "            if end <= k1:\n",
    "                end = k1\n",
    "            a[-1] = (start, end)\n",
    "            \n",
    "        else:\n",
    "            a.append((k, k1))\n",
    "            \n",
    "    return a\n",
    "\n",
    "merge_ranges([(3, 5), (4, 8), (10, 12), (9, 10), (0, 1),(4,7)])"
   ]
  },
  {
   "cell_type": "markdown",
   "metadata": {
    "id": "1o5Did9MvJoH"
   },
   "source": [
    "# 6. Enemy's Secret Code\n",
    "### Decodes a string. A valid code is a sequence of numbers and alphabets. \n",
    "\n",
    "### Consider all the alphabets that occur before the first occurrence of a number.\n",
    "### Each number tells you how many characters to skip before landing on a good character. If the landed character is an alphabet, append that character as well as all other alphabets to decoded string. Else if the landed character is a digit skip that many characters in the original string. Decoded string should contain only alphabets.\n",
    "    >>> decode(\"0h\")\n",
    "    'h' \n",
    "    >>> decode(\"t2abhe3j\")\n",
    "    'the' \n",
    "    >>> decode(\"0h1ae2bc2hey\")\n",
    "    'hey' "
   ]
  },
  {
   "cell_type": "code",
   "execution_count": null,
   "metadata": {},
   "outputs": [],
   "source": []
  },
  {
   "cell_type": "markdown",
   "metadata": {
    "id": "zeADgg14vLFZ"
   },
   "source": [
    "# 7. Zigzag sub-array\n",
    "\n",
    "### A sequence of integers is called a zigzag sequence if each of its elements is either strictly less than both neighbors or strictly greater than both neighbors. For example, the sequence 4 2 3 1 5 3 is a zigzag, but 7 3 5 5 2 and 3 8 6 4 5 aren't.\n",
    "### For a given array of integers return the length of its longest contiguous sub-array that is a zigzag sequence.\n",
    " Example\n",
    " For a = [9, 8, 8, 5, 3, 5, 3, 2, 8, 6], the output should be zigzag(a) = 4.\n",
    " The longest zigzag sub-arrays are [5, 3, 5, 3] and [3, 2, 8, 6] and they both have length 4."
   ]
  },
  {
   "cell_type": "code",
   "execution_count": 102,
   "metadata": {},
   "outputs": [
    {
     "name": "stdout",
     "output_type": "stream",
     "text": [
      "3\n"
     ]
    }
   ],
   "source": [
    "def zigzag(a,n):\n",
    "    max=1\n",
    "    len=1\n",
    "    for j in range(n-1):\n",
    "        if j%2==0 and a[j]<a[j+1]:\n",
    "            len +-2\n",
    "        elif j%2==1 and a[j]>a[j+1]:\n",
    "            len+=1\n",
    "        else:\n",
    "            if max<len:\n",
    "                max=len\n",
    "            len =1\n",
    "    if max < len:\n",
    "        max=len\n",
    "    return max\n",
    "arr =[9, 8, 8, 5, 3, 5, 3, 2, 8, 6]\n",
    "n=len(arr)\n",
    "print(zigzag(arr,n))\n"
   ]
  },
  {
   "cell_type": "markdown",
   "metadata": {
    "id": "A59P1lbevMK5"
   },
   "source": [
    "# 8. Data Preprocessing\n",
    "\n",
    "Use Pandas library for the following 3 questions. These questions are based on a csv file \"unit evaluation.csv\". Do the following operations. Use seperate cells for separate operations:\n",
    "\n",
    "1. Load the file into a dataframe.\n",
    "2. Delete columns which have more than 30% of its elements as null values. Column names that are to be deleted should not be written manually. Print shape of dataframe.\n",
    "3. Fill null values with mean if column is numerical data type and fill with mode value if column is categorical datatype."
   ]
  },
  {
   "cell_type": "code",
   "execution_count": 84,
   "metadata": {},
   "outputs": [],
   "source": [
    "import pandas as pd\n",
    "\n",
    "path='unit_evaluation.csv'\n",
    "\n",
    "df=pd.read_csv(path)"
   ]
  },
  {
   "cell_type": "code",
   "execution_count": 79,
   "metadata": {},
   "outputs": [
    {
     "data": {
      "text/plain": [
       "Id                 0\n",
       "MSSubClass         0\n",
       "MSZoning           0\n",
       "LotFrontage      259\n",
       "LotArea            0\n",
       "                ... \n",
       "MoSold             0\n",
       "YrSold             0\n",
       "SaleType           0\n",
       "SaleCondition      0\n",
       "SalePrice          0\n",
       "Length: 81, dtype: int64"
      ]
     },
     "execution_count": 79,
     "metadata": {},
     "output_type": "execute_result"
    }
   ],
   "source": [
    "df.isnull().sum()"
   ]
  },
  {
   "cell_type": "code",
   "execution_count": 86,
   "metadata": {},
   "outputs": [
    {
     "data": {
      "text/plain": [
       "(1460, 76)"
      ]
     },
     "execution_count": 86,
     "metadata": {},
     "output_type": "execute_result"
    }
   ],
   "source": [
    "\n",
    "x = list(df.columns[df.isnull().sum() > (1460*0.3)])\n",
    "\n",
    "df=df.drop(x, axis=1)\n",
    "\n",
    "df.shape\n"
   ]
  },
  {
   "cell_type": "code",
   "execution_count": 87,
   "metadata": {},
   "outputs": [
    {
     "name": "stdout",
     "output_type": "stream",
     "text": [
      "<class 'pandas.core.frame.DataFrame'>\n",
      "RangeIndex: 1460 entries, 0 to 1459\n",
      "Data columns (total 76 columns):\n",
      " #   Column         Non-Null Count  Dtype  \n",
      "---  ------         --------------  -----  \n",
      " 0   Id             1460 non-null   int64  \n",
      " 1   MSSubClass     1460 non-null   int64  \n",
      " 2   MSZoning       1460 non-null   object \n",
      " 3   LotFrontage    1460 non-null   float64\n",
      " 4   LotArea        1460 non-null   int64  \n",
      " 5   Street         1460 non-null   object \n",
      " 6   LotShape       1460 non-null   object \n",
      " 7   LandContour    1460 non-null   object \n",
      " 8   Utilities      1460 non-null   object \n",
      " 9   LotConfig      1460 non-null   object \n",
      " 10  LandSlope      1460 non-null   object \n",
      " 11  Neighborhood   1460 non-null   object \n",
      " 12  Condition1     1460 non-null   object \n",
      " 13  Condition2     1460 non-null   object \n",
      " 14  BldgType       1460 non-null   object \n",
      " 15  HouseStyle     1460 non-null   object \n",
      " 16  OverallQual    1460 non-null   int64  \n",
      " 17  OverallCond    1460 non-null   int64  \n",
      " 18  YearBuilt      1460 non-null   int64  \n",
      " 19  YearRemodAdd   1460 non-null   int64  \n",
      " 20  RoofStyle      1460 non-null   object \n",
      " 21  RoofMatl       1460 non-null   object \n",
      " 22  Exterior1st    1460 non-null   object \n",
      " 23  Exterior2nd    1460 non-null   object \n",
      " 24  MasVnrType     1452 non-null   object \n",
      " 25  MasVnrArea     1460 non-null   float64\n",
      " 26  ExterQual      1460 non-null   object \n",
      " 27  ExterCond      1460 non-null   object \n",
      " 28  Foundation     1460 non-null   object \n",
      " 29  BsmtQual       1423 non-null   object \n",
      " 30  BsmtCond       1423 non-null   object \n",
      " 31  BsmtExposure   1422 non-null   object \n",
      " 32  BsmtFinType1   1423 non-null   object \n",
      " 33  BsmtFinSF1     1460 non-null   int64  \n",
      " 34  BsmtFinType2   1422 non-null   object \n",
      " 35  BsmtFinSF2     1460 non-null   int64  \n",
      " 36  BsmtUnfSF      1460 non-null   int64  \n",
      " 37  TotalBsmtSF    1460 non-null   int64  \n",
      " 38  Heating        1460 non-null   object \n",
      " 39  HeatingQC      1460 non-null   object \n",
      " 40  CentralAir     1460 non-null   object \n",
      " 41  Electrical     1459 non-null   object \n",
      " 42  1stFlrSF       1460 non-null   int64  \n",
      " 43  2ndFlrSF       1460 non-null   int64  \n",
      " 44  LowQualFinSF   1460 non-null   int64  \n",
      " 45  GrLivArea      1460 non-null   int64  \n",
      " 46  BsmtFullBath   1460 non-null   int64  \n",
      " 47  BsmtHalfBath   1460 non-null   int64  \n",
      " 48  FullBath       1460 non-null   int64  \n",
      " 49  HalfBath       1460 non-null   int64  \n",
      " 50  BedroomAbvGr   1460 non-null   int64  \n",
      " 51  KitchenAbvGr   1460 non-null   int64  \n",
      " 52  KitchenQual    1460 non-null   object \n",
      " 53  TotRmsAbvGrd   1460 non-null   int64  \n",
      " 54  Functional     1460 non-null   object \n",
      " 55  Fireplaces     1460 non-null   int64  \n",
      " 56  GarageType     1379 non-null   object \n",
      " 57  GarageYrBlt    1460 non-null   float64\n",
      " 58  GarageFinish   1379 non-null   object \n",
      " 59  GarageCars     1460 non-null   int64  \n",
      " 60  GarageArea     1460 non-null   int64  \n",
      " 61  GarageQual     1379 non-null   object \n",
      " 62  GarageCond     1379 non-null   object \n",
      " 63  PavedDrive     1460 non-null   object \n",
      " 64  WoodDeckSF     1460 non-null   int64  \n",
      " 65  OpenPorchSF    1460 non-null   int64  \n",
      " 66  EnclosedPorch  1460 non-null   int64  \n",
      " 67  3SsnPorch      1460 non-null   int64  \n",
      " 68  ScreenPorch    1460 non-null   int64  \n",
      " 69  PoolArea       1460 non-null   int64  \n",
      " 70  MiscVal        1460 non-null   int64  \n",
      " 71  MoSold         1460 non-null   int64  \n",
      " 72  YrSold         1460 non-null   int64  \n",
      " 73  SaleType       1460 non-null   object \n",
      " 74  SaleCondition  1460 non-null   object \n",
      " 75  SalePrice      1460 non-null   int64  \n",
      "dtypes: float64(3), int64(35), object(38)\n",
      "memory usage: 867.0+ KB\n"
     ]
    }
   ],
   "source": [
    "## Fill null values with mean if column is numerical data type and fill with mode value if column is categorical datatype.\n",
    "\n",
    "df.info()\n",
    "\n"
   ]
  },
  {
   "cell_type": "code",
   "execution_count": 39,
   "metadata": {},
   "outputs": [
    {
     "data": {
      "text/html": [
       "<div>\n",
       "<style scoped>\n",
       "    .dataframe tbody tr th:only-of-type {\n",
       "        vertical-align: middle;\n",
       "    }\n",
       "\n",
       "    .dataframe tbody tr th {\n",
       "        vertical-align: top;\n",
       "    }\n",
       "\n",
       "    .dataframe thead th {\n",
       "        text-align: right;\n",
       "    }\n",
       "</style>\n",
       "<table border=\"1\" class=\"dataframe\">\n",
       "  <thead>\n",
       "    <tr style=\"text-align: right;\">\n",
       "      <th></th>\n",
       "      <th>Id</th>\n",
       "      <th>MSSubClass</th>\n",
       "      <th>MSZoning</th>\n",
       "      <th>LotFrontage</th>\n",
       "      <th>LotArea</th>\n",
       "      <th>Street</th>\n",
       "      <th>Alley</th>\n",
       "      <th>LotShape</th>\n",
       "      <th>LandContour</th>\n",
       "      <th>Utilities</th>\n",
       "      <th>...</th>\n",
       "      <th>PoolArea</th>\n",
       "      <th>PoolQC</th>\n",
       "      <th>Fence</th>\n",
       "      <th>MiscFeature</th>\n",
       "      <th>MiscVal</th>\n",
       "      <th>MoSold</th>\n",
       "      <th>YrSold</th>\n",
       "      <th>SaleType</th>\n",
       "      <th>SaleCondition</th>\n",
       "      <th>SalePrice</th>\n",
       "    </tr>\n",
       "  </thead>\n",
       "  <tbody>\n",
       "    <tr>\n",
       "      <th>0</th>\n",
       "      <td>1</td>\n",
       "      <td>60</td>\n",
       "      <td>RL</td>\n",
       "      <td>65.0</td>\n",
       "      <td>8450</td>\n",
       "      <td>Pave</td>\n",
       "      <td>NaN</td>\n",
       "      <td>Reg</td>\n",
       "      <td>Lvl</td>\n",
       "      <td>AllPub</td>\n",
       "      <td>...</td>\n",
       "      <td>0</td>\n",
       "      <td>NaN</td>\n",
       "      <td>NaN</td>\n",
       "      <td>NaN</td>\n",
       "      <td>0</td>\n",
       "      <td>2</td>\n",
       "      <td>2008</td>\n",
       "      <td>WD</td>\n",
       "      <td>Normal</td>\n",
       "      <td>208500</td>\n",
       "    </tr>\n",
       "    <tr>\n",
       "      <th>1</th>\n",
       "      <td>2</td>\n",
       "      <td>20</td>\n",
       "      <td>RL</td>\n",
       "      <td>80.0</td>\n",
       "      <td>9600</td>\n",
       "      <td>Pave</td>\n",
       "      <td>NaN</td>\n",
       "      <td>Reg</td>\n",
       "      <td>Lvl</td>\n",
       "      <td>AllPub</td>\n",
       "      <td>...</td>\n",
       "      <td>0</td>\n",
       "      <td>NaN</td>\n",
       "      <td>NaN</td>\n",
       "      <td>NaN</td>\n",
       "      <td>0</td>\n",
       "      <td>5</td>\n",
       "      <td>2007</td>\n",
       "      <td>WD</td>\n",
       "      <td>Normal</td>\n",
       "      <td>181500</td>\n",
       "    </tr>\n",
       "    <tr>\n",
       "      <th>2</th>\n",
       "      <td>3</td>\n",
       "      <td>60</td>\n",
       "      <td>RL</td>\n",
       "      <td>68.0</td>\n",
       "      <td>11250</td>\n",
       "      <td>Pave</td>\n",
       "      <td>NaN</td>\n",
       "      <td>IR1</td>\n",
       "      <td>Lvl</td>\n",
       "      <td>AllPub</td>\n",
       "      <td>...</td>\n",
       "      <td>0</td>\n",
       "      <td>NaN</td>\n",
       "      <td>NaN</td>\n",
       "      <td>NaN</td>\n",
       "      <td>0</td>\n",
       "      <td>9</td>\n",
       "      <td>2008</td>\n",
       "      <td>WD</td>\n",
       "      <td>Normal</td>\n",
       "      <td>223500</td>\n",
       "    </tr>\n",
       "    <tr>\n",
       "      <th>3</th>\n",
       "      <td>4</td>\n",
       "      <td>70</td>\n",
       "      <td>RL</td>\n",
       "      <td>60.0</td>\n",
       "      <td>9550</td>\n",
       "      <td>Pave</td>\n",
       "      <td>NaN</td>\n",
       "      <td>IR1</td>\n",
       "      <td>Lvl</td>\n",
       "      <td>AllPub</td>\n",
       "      <td>...</td>\n",
       "      <td>0</td>\n",
       "      <td>NaN</td>\n",
       "      <td>NaN</td>\n",
       "      <td>NaN</td>\n",
       "      <td>0</td>\n",
       "      <td>2</td>\n",
       "      <td>2006</td>\n",
       "      <td>WD</td>\n",
       "      <td>Abnorml</td>\n",
       "      <td>140000</td>\n",
       "    </tr>\n",
       "    <tr>\n",
       "      <th>4</th>\n",
       "      <td>5</td>\n",
       "      <td>60</td>\n",
       "      <td>RL</td>\n",
       "      <td>84.0</td>\n",
       "      <td>14260</td>\n",
       "      <td>Pave</td>\n",
       "      <td>NaN</td>\n",
       "      <td>IR1</td>\n",
       "      <td>Lvl</td>\n",
       "      <td>AllPub</td>\n",
       "      <td>...</td>\n",
       "      <td>0</td>\n",
       "      <td>NaN</td>\n",
       "      <td>NaN</td>\n",
       "      <td>NaN</td>\n",
       "      <td>0</td>\n",
       "      <td>12</td>\n",
       "      <td>2008</td>\n",
       "      <td>WD</td>\n",
       "      <td>Normal</td>\n",
       "      <td>250000</td>\n",
       "    </tr>\n",
       "  </tbody>\n",
       "</table>\n",
       "<p>5 rows × 81 columns</p>\n",
       "</div>"
      ],
      "text/plain": [
       "   Id  MSSubClass MSZoning  LotFrontage  LotArea Street Alley LotShape  \\\n",
       "0   1          60       RL         65.0     8450   Pave   NaN      Reg   \n",
       "1   2          20       RL         80.0     9600   Pave   NaN      Reg   \n",
       "2   3          60       RL         68.0    11250   Pave   NaN      IR1   \n",
       "3   4          70       RL         60.0     9550   Pave   NaN      IR1   \n",
       "4   5          60       RL         84.0    14260   Pave   NaN      IR1   \n",
       "\n",
       "  LandContour Utilities  ... PoolArea PoolQC Fence MiscFeature MiscVal MoSold  \\\n",
       "0         Lvl    AllPub  ...        0    NaN   NaN         NaN       0      2   \n",
       "1         Lvl    AllPub  ...        0    NaN   NaN         NaN       0      5   \n",
       "2         Lvl    AllPub  ...        0    NaN   NaN         NaN       0      9   \n",
       "3         Lvl    AllPub  ...        0    NaN   NaN         NaN       0      2   \n",
       "4         Lvl    AllPub  ...        0    NaN   NaN         NaN       0     12   \n",
       "\n",
       "  YrSold  SaleType  SaleCondition  SalePrice  \n",
       "0   2008        WD         Normal     208500  \n",
       "1   2007        WD         Normal     181500  \n",
       "2   2008        WD         Normal     223500  \n",
       "3   2006        WD        Abnorml     140000  \n",
       "4   2008        WD         Normal     250000  \n",
       "\n",
       "[5 rows x 81 columns]"
      ]
     },
     "execution_count": 39,
     "metadata": {},
     "output_type": "execute_result"
    }
   ],
   "source": [
    "df.head()"
   ]
  },
  {
   "cell_type": "code",
   "execution_count": null,
   "metadata": {},
   "outputs": [],
   "source": []
  },
  {
   "cell_type": "markdown",
   "metadata": {
    "id": "Lh-yDSolVRg9"
   },
   "source": [
    "# 9. Yearwise Analysis\n",
    "\n",
    "### Do the following operations on preprocessed dataframe:\n",
    "\n",
    "1. Print Unique entries in the column `MSZoning`. \n",
    "2. Print Years as a list such that those years should have all possible `MSZoning` unique values occurred atleast 2 times."
   ]
  },
  {
   "cell_type": "code",
   "execution_count": 83,
   "metadata": {},
   "outputs": [
    {
     "data": {
      "text/html": [
       "<div>\n",
       "<style scoped>\n",
       "    .dataframe tbody tr th:only-of-type {\n",
       "        vertical-align: middle;\n",
       "    }\n",
       "\n",
       "    .dataframe tbody tr th {\n",
       "        vertical-align: top;\n",
       "    }\n",
       "\n",
       "    .dataframe thead th {\n",
       "        text-align: right;\n",
       "    }\n",
       "</style>\n",
       "<table border=\"1\" class=\"dataframe\">\n",
       "  <thead>\n",
       "    <tr style=\"text-align: right;\">\n",
       "      <th></th>\n",
       "      <th>0</th>\n",
       "    </tr>\n",
       "  </thead>\n",
       "  <tbody>\n",
       "    <tr>\n",
       "      <th>0</th>\n",
       "      <td>RL</td>\n",
       "    </tr>\n",
       "    <tr>\n",
       "      <th>1</th>\n",
       "      <td>RM</td>\n",
       "    </tr>\n",
       "    <tr>\n",
       "      <th>2</th>\n",
       "      <td>C (all)</td>\n",
       "    </tr>\n",
       "    <tr>\n",
       "      <th>3</th>\n",
       "      <td>FV</td>\n",
       "    </tr>\n",
       "    <tr>\n",
       "      <th>4</th>\n",
       "      <td>RH</td>\n",
       "    </tr>\n",
       "  </tbody>\n",
       "</table>\n",
       "</div>"
      ],
      "text/plain": [
       "         0\n",
       "0       RL\n",
       "1       RM\n",
       "2  C (all)\n",
       "3       FV\n",
       "4       RH"
      ]
     },
     "execution_count": 83,
     "metadata": {},
     "output_type": "execute_result"
    }
   ],
   "source": [
    "## Print Unique entries in the column MSZoning.\n",
    "\n",
    "df2=df\n",
    "\n",
    "df2=pd.DataFrame(df2['MSZoning'].unique())\n",
    "df2"
   ]
  },
  {
   "cell_type": "code",
   "execution_count": 92,
   "metadata": {},
   "outputs": [
    {
     "data": {
      "text/html": [
       "<div>\n",
       "<style scoped>\n",
       "    .dataframe tbody tr th:only-of-type {\n",
       "        vertical-align: middle;\n",
       "    }\n",
       "\n",
       "    .dataframe tbody tr th {\n",
       "        vertical-align: top;\n",
       "    }\n",
       "\n",
       "    .dataframe thead th {\n",
       "        text-align: right;\n",
       "    }\n",
       "</style>\n",
       "<table border=\"1\" class=\"dataframe\">\n",
       "  <thead>\n",
       "    <tr style=\"text-align: right;\">\n",
       "      <th></th>\n",
       "      <th>MSZoning</th>\n",
       "      <th>YrSold</th>\n",
       "      <th>count</th>\n",
       "    </tr>\n",
       "  </thead>\n",
       "  <tbody>\n",
       "    <tr>\n",
       "      <th>4</th>\n",
       "      <td>C (all)</td>\n",
       "      <td>2010</td>\n",
       "      <td>3</td>\n",
       "    </tr>\n",
       "    <tr>\n",
       "      <th>5</th>\n",
       "      <td>FV</td>\n",
       "      <td>2006</td>\n",
       "      <td>13</td>\n",
       "    </tr>\n",
       "    <tr>\n",
       "      <th>6</th>\n",
       "      <td>FV</td>\n",
       "      <td>2007</td>\n",
       "      <td>15</td>\n",
       "    </tr>\n",
       "    <tr>\n",
       "      <th>7</th>\n",
       "      <td>FV</td>\n",
       "      <td>2008</td>\n",
       "      <td>14</td>\n",
       "    </tr>\n",
       "    <tr>\n",
       "      <th>8</th>\n",
       "      <td>FV</td>\n",
       "      <td>2009</td>\n",
       "      <td>15</td>\n",
       "    </tr>\n",
       "    <tr>\n",
       "      <th>9</th>\n",
       "      <td>FV</td>\n",
       "      <td>2010</td>\n",
       "      <td>8</td>\n",
       "    </tr>\n",
       "    <tr>\n",
       "      <th>10</th>\n",
       "      <td>RH</td>\n",
       "      <td>2006</td>\n",
       "      <td>3</td>\n",
       "    </tr>\n",
       "    <tr>\n",
       "      <th>11</th>\n",
       "      <td>RH</td>\n",
       "      <td>2007</td>\n",
       "      <td>6</td>\n",
       "    </tr>\n",
       "    <tr>\n",
       "      <th>12</th>\n",
       "      <td>RH</td>\n",
       "      <td>2008</td>\n",
       "      <td>3</td>\n",
       "    </tr>\n",
       "    <tr>\n",
       "      <th>13</th>\n",
       "      <td>RH</td>\n",
       "      <td>2009</td>\n",
       "      <td>4</td>\n",
       "    </tr>\n",
       "    <tr>\n",
       "      <th>14</th>\n",
       "      <td>RL</td>\n",
       "      <td>2006</td>\n",
       "      <td>246</td>\n",
       "    </tr>\n",
       "    <tr>\n",
       "      <th>15</th>\n",
       "      <td>RL</td>\n",
       "      <td>2007</td>\n",
       "      <td>262</td>\n",
       "    </tr>\n",
       "    <tr>\n",
       "      <th>16</th>\n",
       "      <td>RL</td>\n",
       "      <td>2008</td>\n",
       "      <td>232</td>\n",
       "    </tr>\n",
       "    <tr>\n",
       "      <th>17</th>\n",
       "      <td>RL</td>\n",
       "      <td>2009</td>\n",
       "      <td>270</td>\n",
       "    </tr>\n",
       "    <tr>\n",
       "      <th>18</th>\n",
       "      <td>RL</td>\n",
       "      <td>2010</td>\n",
       "      <td>141</td>\n",
       "    </tr>\n",
       "    <tr>\n",
       "      <th>19</th>\n",
       "      <td>RM</td>\n",
       "      <td>2006</td>\n",
       "      <td>50</td>\n",
       "    </tr>\n",
       "    <tr>\n",
       "      <th>20</th>\n",
       "      <td>RM</td>\n",
       "      <td>2007</td>\n",
       "      <td>45</td>\n",
       "    </tr>\n",
       "    <tr>\n",
       "      <th>21</th>\n",
       "      <td>RM</td>\n",
       "      <td>2008</td>\n",
       "      <td>53</td>\n",
       "    </tr>\n",
       "    <tr>\n",
       "      <th>22</th>\n",
       "      <td>RM</td>\n",
       "      <td>2009</td>\n",
       "      <td>47</td>\n",
       "    </tr>\n",
       "    <tr>\n",
       "      <th>23</th>\n",
       "      <td>RM</td>\n",
       "      <td>2010</td>\n",
       "      <td>23</td>\n",
       "    </tr>\n",
       "  </tbody>\n",
       "</table>\n",
       "</div>"
      ],
      "text/plain": [
       "   MSZoning  YrSold  count\n",
       "4   C (all)    2010      3\n",
       "5        FV    2006     13\n",
       "6        FV    2007     15\n",
       "7        FV    2008     14\n",
       "8        FV    2009     15\n",
       "9        FV    2010      8\n",
       "10       RH    2006      3\n",
       "11       RH    2007      6\n",
       "12       RH    2008      3\n",
       "13       RH    2009      4\n",
       "14       RL    2006    246\n",
       "15       RL    2007    262\n",
       "16       RL    2008    232\n",
       "17       RL    2009    270\n",
       "18       RL    2010    141\n",
       "19       RM    2006     50\n",
       "20       RM    2007     45\n",
       "21       RM    2008     53\n",
       "22       RM    2009     47\n",
       "23       RM    2010     23"
      ]
     },
     "execution_count": 92,
     "metadata": {},
     "output_type": "execute_result"
    }
   ],
   "source": [
    "## Print Years as a list such that those years should have all possible MSZoning unique values occurred atleast 2 times.\n",
    "\n",
    "new=df.groupby(['MSZoning','YrSold'])['MSZoning'].agg(['count']).reset_index()\n",
    "\n",
    "new[new['count']>2]"
   ]
  },
  {
   "cell_type": "markdown",
   "metadata": {
    "id": "88R-FXF9Zzc3"
   },
   "source": [
    "# 10. Plot a Pie \n",
    "\n",
    "### Using preprocessed data, Draw a pie chart for the highest `MSSubClass` value corresponding to each of the `LotShape` features where `SalesPrice` is more than its mean value, `EnclosedPorch` is above 10 and `RoofStyle` is any of Gable, Hip and Gambrel\n"
   ]
  },
  {
   "cell_type": "code",
   "execution_count": null,
   "metadata": {},
   "outputs": [],
   "source": []
  },
  {
   "cell_type": "code",
   "execution_count": 101,
   "metadata": {},
   "outputs": [
    {
     "data": {
      "text/plain": [
       "<AxesSubplot:ylabel='MSSubClass'>"
      ]
     },
     "execution_count": 101,
     "metadata": {},
     "output_type": "execute_result"
    },
    {
     "data": {
      "image/png": "[encoded data removed]",
      "text/plain": [
       "<Figure size 432x288 with 1 Axes>"
      ]
     },
     "metadata": {},
     "output_type": "display_data"
    }
   ],
   "source": [
    "# EnclosedPorch is above 10 and RoofStyle is any of Gable, Hip and Gambrel\n",
    "\n",
    "df1 = df[(df.EnclosedPorch>10) & df.RoofStyle.isin(['Gable','Hip','Gambrel'])]\n",
    "\n",
    "df1=df1[df1['SalePrice']>df1['SalePrice'].mean()]\n",
    "\n",
    "\n",
    "df1.groupby('LotShape')['MSSubClass'].sum().plot(kind=\"pie\")"
   ]
  },
  {
   "cell_type": "code",
   "execution_count": null,
   "metadata": {},
   "outputs": [],
   "source": []
  },
  {
   "cell_type": "code",
   "execution_count": null,
   "metadata": {},
   "outputs": [],
   "source": []
  }
 ],
 "metadata": {
  "colab": {
   "collapsed_sections": [],
   "name": "Unit_Evaluation_Python_<your-name>.ipynb",
   "provenance": []
  },
  "kernelspec": {
   "display_name": "Python 3 (ipykernel)",
   "language": "python",
   "name": "python3"
  },
  "language_info": {
   "codemirror_mode": {
    "name": "ipython",
    "version": 3
   },
   "file_extension": ".py",
   "mimetype": "text/x-python",
   "name": "python",
   "nbconvert_exporter": "python",
   "pygments_lexer": "ipython3",
   "version": "3.10.1"
  }
 },
 "nbformat": 4,
 "nbformat_minor": 1
}

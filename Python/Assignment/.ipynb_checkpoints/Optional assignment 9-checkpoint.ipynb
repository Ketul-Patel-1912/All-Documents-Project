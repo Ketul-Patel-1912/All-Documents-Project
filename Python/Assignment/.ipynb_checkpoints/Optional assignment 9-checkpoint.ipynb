{
 "cells": [
  {
   "cell_type": "raw",
   "metadata": {},
   "source": [
    "1. Write a NumPy program to compute the multiplication of two given matrixes. \n",
    "\n",
    "2. Write a NumPy program to compute the outer product of two given vectors. \n",
    "\n",
    "3. Write a NumPy program to compute the cross product of two given vectors. \n",
    "\n",
    "4. Write a NumPy program to compute the determinant of a given square array. \n",
    "\n",
    "5. Write a NumPy program to evaluate Einstein's summation convention of two given multidimensional arrays. \n",
    "\n",
    "6. Write a NumPy program to compute the inner product of vectors for 1-D arrays (without complex conjugation)\n",
    "and in higher dimension. \n",
    "\n",
    "7. Write a NumPy program to compute the eigenvalues and right eigenvectors of a given square array. \n",
    "\n",
    "8. Write a NumPy program to compute the Kronecker product of two given mulitdimension arrays. \n",
    "\n",
    "9. Write a NumPy program to compute the condition number of a given matrix. \n",
    "\n",
    "10. Write a NumPy program to find a matrix or vector norm. \n",
    "\n",
    "11. Write a NumPy program to compute the determinant of an array. \n",
    "\n",
    "12. Write a NumPy program to compute the inverse of a given matrix. \n",
    "\n",
    "13. Write a NumPy program to calculate the QR decomposition of a given matrix. \n",
    "\n",
    "14. Write a NumPy program to compute the condition number of a given matrix. \n",
    "\n",
    "15. Write a NumPy program to compute the sum of the diagonal element of a given array. "
   ]
  },
  {
   "cell_type": "code",
   "execution_count": 1,
   "metadata": {},
   "outputs": [],
   "source": [
    "import numpy as np\n"
   ]
  },
  {
   "cell_type": "code",
   "execution_count": 3,
   "metadata": {},
   "outputs": [
    {
     "data": {
      "text/plain": [
       "array([ 0,  1,  4,  9, 16, 25, 36, 49])"
      ]
     },
     "execution_count": 3,
     "metadata": {},
     "output_type": "execute_result"
    }
   ],
   "source": [
    "a=np.arange(8)\n",
    "b=np.arange(8)\n",
    "a*b"
   ]
  },
  {
   "cell_type": "code",
   "execution_count": null,
   "metadata": {},
   "outputs": [],
   "source": []
  }
 ],
 "metadata": {
  "kernelspec": {
   "display_name": "Python 3 (ipykernel)",
   "language": "python",
   "name": "python3"
  },
  "language_info": {
   "codemirror_mode": {
    "name": "ipython",
    "version": 3
   },
   "file_extension": ".py",
   "mimetype": "text/x-python",
   "name": "python",
   "nbconvert_exporter": "python",
   "pygments_lexer": "ipython3",
   "version": "3.10.1"
  }
 },
 "nbformat": 4,
 "nbformat_minor": 2
}

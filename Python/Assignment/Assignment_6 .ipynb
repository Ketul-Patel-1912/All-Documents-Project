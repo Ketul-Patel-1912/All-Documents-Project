{
  "cells": [
    {
      "cell_type": "markdown",
      "metadata": {
        "id": "A3BhTrEBMr4o"
      },
      "source": [
        "# Assignment 6"
      ]
    },
    {
      "cell_type": "markdown",
      "metadata": {
        "id": "NywuguUFMr4y"
      },
      "source": [
        "#### Q 1  Write a Python function to multiply all the numbers in a list. Go to the editor\n",
        "#### Sample List : (8, 2, 3, -1, 7)\n",
        "#### Expected Output : -336"
      ]
    },
    {
      "cell_type": "code",
      "source": [
        "def number_multiplication(*n):\n",
        "    multi=1\n",
        "    for i in n:   \n",
        "        multi=multi*i\n",
        "    return multi\n",
        "\n",
        "# n=8, 2, 3, -1, 7\n",
        "\n",
        "number_multiplication(8,2,3,-1,7)"
      ],
      "metadata": {
        "colab": {
          "base_uri": "https://localhost:8080/"
        },
        "id": "dzEud2xhcWoI",
        "outputId": "50b7d046-95d2-4958-b083-7ec02b8d8159"
      },
      "execution_count": null,
      "outputs": [
        {
          "output_type": "execute_result",
          "data": {
            "text/plain": [
              "-336"
            ]
          },
          "metadata": {},
          "execution_count": 47
        }
      ]
    },
    {
      "cell_type": "markdown",
      "metadata": {
        "id": "5Lh7vDf4Mr43"
      },
      "source": [
        "#### Q 2 Write a Python function that checks whether a passed string is palindrome or not"
      ]
    },
    {
      "cell_type": "code",
      "execution_count": null,
      "metadata": {
        "colab": {
          "base_uri": "https://localhost:8080/"
        },
        "id": "M6KBs0bkMr44",
        "outputId": "c70ca2c4-8a2e-44bc-aaaa-d5dc9b5e6e68"
      },
      "outputs": [
        {
          "output_type": "stream",
          "name": "stdout",
          "text": [
            "True\n"
          ]
        },
        {
          "output_type": "execute_result",
          "data": {
            "text/plain": [
              "False"
            ]
          },
          "metadata": {},
          "execution_count": 52
        }
      ],
      "source": [
        "# your code goes here\n",
        "# palidrome , example= ketul=lutek\n",
        "\n",
        "def ispalidrome(a):\n",
        "    if a.lower()==a[::-1].lower():\n",
        "        return True\n",
        "    return False\n",
        "\n",
        "a='Wow'\n",
        "print(ispalidrome(a))\n",
        "\n",
        "\n",
        "#Anadrome function\n",
        "def isAnadrome(n,m):\n",
        "    if sorted(n)==sorted(m):\n",
        "        return True\n",
        "    return False\n",
        "\n",
        "str1='level'\n",
        "str2='evlek'\n",
        "\n",
        "isAnadrome(str1,str2)"
      ]
    },
    {
      "cell_type": "code",
      "source": [
        "#Anadrome function Using Loops\n",
        "\n",
        "str1='java'\n",
        "str2='ajv'\n",
        "\n",
        "cnt=0\n",
        "for i in str1:\n",
        "    for j in str2:\n",
        "        if i==j:\n",
        "            cnt+=1\n",
        "            break\n",
        "                    \n",
        "if cnt==len(str1) and cnt==len(str2):\n",
        "    \n",
        "    print(\"both string are Anadrome\")\n",
        "else:\n",
        "    print(\"both string are not Anadrome\")\n",
        "\n"
      ],
      "metadata": {
        "colab": {
          "base_uri": "https://localhost:8080/"
        },
        "id": "eyI-cMmVRONk",
        "outputId": "8ad2b7d6-1678-41cc-f0cf-18e2ca615678"
      },
      "execution_count": null,
      "outputs": [
        {
          "output_type": "stream",
          "name": "stdout",
          "text": [
            "both string are not Anadrome\n"
          ]
        }
      ]
    },
    {
      "cell_type": "markdown",
      "metadata": {
        "id": "CtFy6FMvMr45"
      },
      "source": [
        "#### Q 3 Write a Python function that accepts a hyphen-separated sequence of words as input and prints the words in a hyphen-separated sequence after sorting them alphabetically. Go to the editor\n",
        "#### Sample Items : green-red-yellow-black-white\n",
        "#### Expected Result : black-green-red-white-yellow"
      ]
    },
    {
      "cell_type": "code",
      "source": [
        "def hyphon_separated(n):\n",
        "    # n=input().split(\"-\")\n",
        "   \n",
        "    x=sorted(n)\n",
        "    y=(\"-\").join(x)\n",
        "    print(y)\n",
        "n=input().split(\"-\")\n",
        "hyphon_separated(n) \n",
        "   \n",
        "\n",
        "\n",
        "    # obj=list(enumerate(n,0))\n",
        "    # print(obj)\n",
        "    # obj=dict(sorted(obj,key=lambda x:x[1]))\n",
        "    # print(obj)\n",
        "    # return (\"-\").join(obj.values())\n"
      ],
      "metadata": {
        "colab": {
          "base_uri": "https://localhost:8080/"
        },
        "id": "ZWClaMhyqB_3",
        "outputId": "ed7aed4c-5367-4a5d-bb9b-75c7309fd3e4"
      },
      "execution_count": null,
      "outputs": [
        {
          "output_type": "stream",
          "name": "stdout",
          "text": [
            "green-red-yellow-black-white\n",
            "black-green-red-white-yellow\n"
          ]
        }
      ]
    },
    {
      "cell_type": "markdown",
      "metadata": {
        "id": "6hnTrIb7Mr49"
      },
      "source": [
        "#### Q 4 Write a Python program to access a function inside a function"
      ]
    },
    {
      "cell_type": "code",
      "execution_count": null,
      "metadata": {
        "colab": {
          "base_uri": "https://localhost:8080/"
        },
        "id": "x-skRGpGMr4-",
        "outputId": "81afd3ec-754e-4df0-d5c4-d34b135bc462"
      },
      "outputs": [
        {
          "output_type": "execute_result",
          "data": {
            "text/plain": [
              "([3, 4, 5, 6], 18)"
            ]
          },
          "metadata": {},
          "execution_count": 85
        }
      ],
      "source": [
        "# your code goes here\n",
        "\n",
        "def add_number(lst1,num2):\n",
        "    if max(lst1)>num2:\n",
        "        return True\n",
        "    return \"Your argument-2 is Out of range\"\n",
        "\n",
        "def check_list(lst,num):\n",
        "    res=0\n",
        "    arr=[]\n",
        "    if add_number(lst,num)==True:\n",
        "        for i in lst:\n",
        "            if i>num:\n",
        "                arr.append(i)\n",
        "                res=res+i\n",
        "        return (arr,res)\n",
        "    return (\"Not found\")\n",
        "\n",
        "lst4=[1,2,3,4,5,6]\n",
        "\n",
        "check_list(lst4,2)\n"
      ]
    },
    {
      "cell_type": "markdown",
      "metadata": {
        "id": "w5KHEf3RMr4_"
      },
      "source": [
        "#### Q 5 Please write a program using generator to print the even numbers between 0 and n in comma separated form while n is input by console.\n",
        "#### Example: If the following n is given as input to the program: 10\n",
        "####Then, the output of the program should be: 0,2,4,6,8,10"
      ]
    },
    {
      "cell_type": "code",
      "execution_count": null,
      "metadata": {
        "colab": {
          "base_uri": "https://localhost:8080/"
        },
        "id": "pgS8IlDXMr5A",
        "outputId": "83b46845-ff9a-497c-9ec0-1a9253df33cb"
      },
      "outputs": [
        {
          "output_type": "stream",
          "name": "stdout",
          "text": [
            "Enter number:10\n",
            "0,2,4,6,8,10,"
          ]
        }
      ],
      "source": [
        "n=int(input(\"Enter number:\"))\n",
        "emt=[]\n",
        "for i in range(0,n+1):\n",
        "    if i%2==0:\n",
        "        print(i,end=\",\")\n",
        "\n",
        "    \n",
        "\n",
        "\n"
      ]
    },
    {
      "cell_type": "markdown",
      "metadata": {
        "id": "YLGXUzlYMr5B"
      },
      "source": [
        "#### Q 6 By using list comprehension, please write a program to print the list after removing the 0th, 2nd, 4th,6th numbers in [12,24,35,70,88,120,155]."
      ]
    },
    {
      "cell_type": "code",
      "execution_count": null,
      "metadata": {
        "colab": {
          "base_uri": "https://localhost:8080/"
        },
        "id": "4ebGGoJ_Mr5B",
        "outputId": "b2432985-b0e4-4330-ed03-00e33d3b585e"
      },
      "outputs": [
        {
          "output_type": "execute_result",
          "data": {
            "text/plain": [
              "[24, 70, 120]"
            ]
          },
          "metadata": {},
          "execution_count": 193
        }
      ],
      "source": [
        "l1=[12,24,35,70,88,120,155]\n",
        "\n",
        "k3=[]        \n",
        "kt=[k3.append(l1[i]) if i%2==1 else \"\" for i in range(0,len(l1))]\n",
        "k3\n",
        " "
      ]
    },
    {
      "cell_type": "markdown",
      "metadata": {
        "id": "bsDjcZAkMr5C"
      },
      "source": [
        "#### Q 7 By using list comprehension, please write a program generate a 3 * 5 * 8  3D array whose each element is 0.\n",
        "#### Hints: Use list comprehension to make an array."
      ]
    },
    {
      "cell_type": "code",
      "execution_count": null,
      "metadata": {
        "colab": {
          "base_uri": "https://localhost:8080/"
        },
        "id": "7RC2fsqZMr5C",
        "outputId": "2e85932f-7437-4019-933b-d6242fc278c7"
      },
      "outputs": [
        {
          "output_type": "execute_result",
          "data": {
            "text/plain": [
              "[[[0, 0, 0, 0, 0, 0, 0, 0],\n",
              "  [0, 0, 0, 0, 0, 0, 0, 0],\n",
              "  [0, 0, 0, 0, 0, 0, 0, 0],\n",
              "  [0, 0, 0, 0, 0, 0, 0, 0],\n",
              "  [0, 0, 0, 0, 0, 0, 0, 0]],\n",
              " [[0, 0, 0, 0, 0, 0, 0, 0],\n",
              "  [0, 0, 0, 0, 0, 0, 0, 0],\n",
              "  [0, 0, 0, 0, 0, 0, 0, 0],\n",
              "  [0, 0, 0, 0, 0, 0, 0, 0],\n",
              "  [0, 0, 0, 0, 0, 0, 0, 0]],\n",
              " [[0, 0, 0, 0, 0, 0, 0, 0],\n",
              "  [0, 0, 0, 0, 0, 0, 0, 0],\n",
              "  [0, 0, 0, 0, 0, 0, 0, 0],\n",
              "  [0, 0, 0, 0, 0, 0, 0, 0],\n",
              "  [0, 0, 0, 0, 0, 0, 0, 0]]]"
            ]
          },
          "metadata": {},
          "execution_count": 23
        }
      ],
      "source": [
        "array = [[([0 for col in range(8)]) for col in range(5)] for col in range(3)]\n",
        "\n",
        "array"
      ]
    },
    {
      "cell_type": "markdown",
      "metadata": {
        "id": "-G9aJ34YMr5D"
      },
      "source": [
        "#### 8. Write a function that asks for an integer input and prints its square. Use a while loop with a try, except, else block to account for incorrect inputs. "
      ]
    },
    {
      "cell_type": "code",
      "execution_count": null,
      "metadata": {
        "colab": {
          "base_uri": "https://localhost:8080/"
        },
        "id": "UlKIZ4yDMr5D",
        "outputId": "c9172e5a-9c38-4ab3-b74e-b288557f1c0c"
      },
      "outputs": [
        {
          "output_type": "stream",
          "name": "stdout",
          "text": [
            "10\n",
            "5\n",
            "4.0\n",
            "Try block successfully run\n",
            "After Try and else excetion completed run finally\n",
            "Also, after error finally run\n"
          ]
        }
      ],
      "source": [
        "def sq(n):\n",
        "    return n*2\n",
        "\n",
        "while True:\n",
        "    try:\n",
        "        a=int(input())\n",
        "        a=sq(a)\n",
        "        b=int(input())\n",
        "        print(a/b)\n",
        "        \n",
        "    except:\n",
        "        print(\"Error\")\n",
        "\n",
        "    else:\n",
        "        print(\"Try block successfully run\")\n",
        "        break\n",
        "        \n",
        "    finally:\n",
        "        print(\"After Try and else execution completed run finally\\nAlso, after error finally run\")\n"
      ]
    },
    {
      "cell_type": "markdown",
      "metadata": {
        "id": "txpIIitdMr5E"
      },
      "source": [
        "+### Q 9. Handle the exception thrown by the code below by using try and except blocks. Also identify the type of error."
      ]
    },
    {
      "cell_type": "code",
      "execution_count": null,
      "metadata": {
        "id": "Xz2TeNdrMr5E",
        "colab": {
          "base_uri": "https://localhost:8080/"
        },
        "outputId": "5d9461d4-3928-400c-df0e-c615bb57c82b"
      },
      "outputs": [
        {
          "output_type": "stream",
          "name": "stdout",
          "text": [
            "Loop Error look into once\n"
          ]
        }
      ],
      "source": [
        "#code here\n",
        "try:\n",
        "    for i in ['a','b','c']:\n",
        "        print(i**2)\n",
        "\n",
        "except TypeError:\n",
        "   print (\"Loop Error look into once\")\n"
      ]
    },
    {
      "cell_type": "markdown",
      "metadata": {
        "id": "Hi-KJeB3Mr5F"
      },
      "source": [
        "### Q 10. divide a number by other and when there is divide-by-zero situation, raise ZeroDivisionError.\n",
        "\n",
        "Eg. \n",
        "1. 5 / 2 => print 2.5\n",
        "2. 5 / 0 => print ZeroDivisionError\n"
      ]
    },
    {
      "cell_type": "code",
      "execution_count": null,
      "metadata": {
        "colab": {
          "base_uri": "https://localhost:8080/"
        },
        "id": "WBlfa52AMr5G",
        "outputId": "60cd4c17-d3a2-4a10-a353-f8a930033ed3"
      },
      "outputs": [
        {
          "output_type": "stream",
          "name": "stdout",
          "text": [
            "2.5\n",
            "Fine!!! Your code works fine\n",
            "Don't worry!!!\n"
          ]
        }
      ],
      "source": [
        "try:\n",
        "    a=5\n",
        "    b=2\n",
        "    print(a/b)\n",
        "\n",
        "except ZeroDivisionError as a:\n",
        "    print(\"Division:\",a)\n",
        "except Exception:\n",
        "    print(\"no error12\")\n",
        "else:\n",
        "    print(\"Fine!!! Your code works fine\")\n",
        "finally:\n",
        "    print(\"Don't worry!!!\")\n",
        "\n"
      ]
    }
  ],
  "metadata": {
    "interpreter": {
      "hash": "916dbcbb3f70747c44a77c7bcd40155683ae19c65e1c03b4aa3499c5328201f1"
    },
    "kernelspec": {
      "display_name": "Python 3",
      "language": "python",
      "name": "python3"
    },
    "language_info": {
      "codemirror_mode": {
        "name": "ipython",
        "version": 3
      },
      "file_extension": ".py",
      "mimetype": "text/x-python",
      "name": "python",
      "nbconvert_exporter": "python",
      "pygments_lexer": "ipython3",
      "version": "3.7.4"
    },
    "colab": {
      "name": "Assignment 6_1.ipynb",
      "provenance": [],
      "collapsed_sections": []
    }
  },
  "nbformat": 4,
  "nbformat_minor": 0
}
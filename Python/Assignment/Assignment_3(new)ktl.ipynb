{
 "cells": [
  {
   "cell_type": "markdown",
   "id": "nbI6NA6_9dtY",
   "metadata": {
    "id": "nbI6NA6_9dtY"
   },
   "source": [
    "#                                           Assignment 3"
   ]
  },
  {
   "cell_type": "markdown",
   "id": "SuLsGvZo9dth",
   "metadata": {
    "id": "SuLsGvZo9dth"
   },
   "source": [
    "### 1 .  Remove duplicates from a list?\n",
    "* hint : convert list into set "
   ]
  },
  {
   "cell_type": "code",
   "execution_count": 4,
   "id": "clAz51MM9dtj",
   "metadata": {
    "colab": {
     "base_uri": "https://localhost:8080/"
    },
    "id": "clAz51MM9dtj",
    "outputId": "2d9b84fd-9b28-4fea-dfad-e34bda9c918b"
   },
   "outputs": [
    {
     "data": {
      "text/plain": [
       "{'hardik', 'ketul'}"
      ]
     },
     "execution_count": 4,
     "metadata": {},
     "output_type": "execute_result"
    }
   ],
   "source": [
    "a=['ketul','hardik','ketul']\n",
    "\n",
    "setA=set(a)\n",
    "setA\n"
   ]
  },
  {
   "cell_type": "markdown",
   "id": "89V0R9479dtl",
   "metadata": {
    "id": "89V0R9479dtl"
   },
   "source": [
    "### 2. Write a Python program to print the following floating numbers upto 2 decimal places?\n",
    "* num = 3.14523\n",
    "* o/p - 3.14# "
   ]
  },
  {
   "cell_type": "code",
   "execution_count": 32,
   "id": "X028m90n9dtm",
   "metadata": {
    "colab": {
     "base_uri": "https://localhost:8080/"
    },
    "id": "X028m90n9dtm",
    "outputId": "30ba3230-6a46-43c2-f0b1-cde67ac99d39"
   },
   "outputs": [
    {
     "name": "stdout",
     "output_type": "stream",
     "text": [
      "\n",
      "Original Number:  3.1415926\n",
      "Formatted Number: 3.14\n",
      "Original Number:  12.9999\n",
      "Formatted Number: 13.000\n",
      "\n"
     ]
    }
   ],
   "source": [
    "\n",
    "x = 3.1415926\n",
    "y = 12.9999\n",
    "print(\"\\nOriginal Number: \", x)\n",
    "print(\"Formatted Number: {:.2f}\".format(x));\n",
    "print(\"Original Number: \", y)\n",
    "print(\"Formatted Number: {:.3f}\".format(y));\n",
    "print() \n",
    "\n"
   ]
  },
  {
   "cell_type": "markdown",
   "id": "_rnS3N7l9dtn",
   "metadata": {
    "id": "_rnS3N7l9dtn"
   },
   "source": [
    "### 3. Write a Python program to print the following floating numbers without any decimal places\n",
    "* num = 3.14523\n",
    "* o/p - 3"
   ]
  },
  {
   "cell_type": "code",
   "execution_count": 34,
   "id": "DOnSd8BK9dto",
   "metadata": {
    "colab": {
     "base_uri": "https://localhost:8080/"
    },
    "id": "DOnSd8BK9dto",
    "outputId": "168c4280-f8e7-4cc1-e1f9-7650031cf99e"
   },
   "outputs": [
    {
     "name": "stdout",
     "output_type": "stream",
     "text": [
      "3\n",
      "3\n"
     ]
    }
   ],
   "source": [
    "num = 3.14523\n",
    "print(round(num))\n",
    "print(int(num))"
   ]
  },
  {
   "cell_type": "markdown",
   "id": "_WapmPfc9dtq",
   "metadata": {
    "id": "_WapmPfc9dtq"
   },
   "source": [
    "### 4. Create a set containing numbers 1 to 5"
   ]
  },
  {
   "cell_type": "code",
   "execution_count": 6,
   "id": "xzrIRSsW9dtr",
   "metadata": {
    "id": "xzrIRSsW9dtr"
   },
   "outputs": [],
   "source": [
    "numset={1,2,3,4,5}"
   ]
  },
  {
   "cell_type": "markdown",
   "id": "5VnzrPex9dts",
   "metadata": {
    "id": "5VnzrPex9dts"
   },
   "source": [
    "### 5. convert list1 into set and print the data type\n",
    "* convert list1 and store it in X \n",
    "* print the datatype of X"
   ]
  },
  {
   "cell_type": "code",
   "execution_count": 8,
   "id": "1bKXcOIZ9dtt",
   "metadata": {
    "colab": {
     "base_uri": "https://localhost:8080/"
    },
    "id": "1bKXcOIZ9dtt",
    "outputId": "c56d3f77-6c9a-4f2a-e970-f909eac4c6e4"
   },
   "outputs": [
    {
     "name": "stdout",
     "output_type": "stream",
     "text": [
      "<class 'set'>\n"
     ]
    }
   ],
   "source": [
    "list1=[\"hello\",\"world\"]\n",
    "setB=set(list1)\n",
    "print(type(setB))"
   ]
  },
  {
   "cell_type": "markdown",
   "id": "9ggFVp7p9dtu",
   "metadata": {
    "id": "9ggFVp7p9dtu"
   },
   "source": [
    "### 6. Create a set of mixed data types\n",
    "* eg: (int, float, string)"
   ]
  },
  {
   "cell_type": "code",
   "execution_count": 9,
   "id": "beJpBOxa9dtv",
   "metadata": {
    "colab": {
     "base_uri": "https://localhost:8080/"
    },
    "id": "beJpBOxa9dtv",
    "outputId": "a2f23ce6-2d80-4b38-9d5f-f33db1f03a0d"
   },
   "outputs": [
    {
     "data": {
      "text/plain": [
       "{1, 1.25, 1.54, 2, 3, 'mix Number'}"
      ]
     },
     "execution_count": 9,
     "metadata": {},
     "output_type": "execute_result"
    }
   ],
   "source": [
    "mixSet={1,2,3,1.25,1.54,\"mix Number\"}\n",
    "mixSet"
   ]
  },
  {
   "cell_type": "markdown",
   "id": "QZUz_FxO9dtw",
   "metadata": {
    "id": "QZUz_FxO9dtw"
   },
   "source": [
    "### 7. create a Tuple containing numbers form 1 to 5?\n",
    "* Append number 25 to the tuple if possible?\n",
    "* print the length of the tuple"
   ]
  },
  {
   "cell_type": "code",
   "execution_count": 35,
   "id": "2ogKjRSc9dtx",
   "metadata": {
    "colab": {
     "base_uri": "https://localhost:8080/"
    },
    "id": "2ogKjRSc9dtx",
    "outputId": "c6491ce4-4134-4e96-818a-e447acb72dcd"
   },
   "outputs": [
    {
     "name": "stdout",
     "output_type": "stream",
     "text": [
      "6\n",
      "6\n"
     ]
    }
   ],
   "source": [
    "tpl=(1,2,3,4,5)\n",
    "lsttpl=list(tpl)\n",
    "lsttpl.append(25)\n",
    "tpl=tuple(lsttpl)\n",
    "print(len(lsttpl))\n",
    "print(len(tpl))"
   ]
  },
  {
   "cell_type": "markdown",
   "id": "MBncWX1K9dty",
   "metadata": {
    "id": "MBncWX1K9dty"
   },
   "source": [
    "### 8. create a Dictionary containing numbers from 1 to 5?\n",
    "*  key = one, value = 1\n",
    "* eg: {'one':1}\n",
    "* print dictionary value using key \"one\" "
   ]
  },
  {
   "cell_type": "code",
   "execution_count": 17,
   "id": "xVrPZhHm9dtz",
   "metadata": {
    "colab": {
     "base_uri": "https://localhost:8080/"
    },
    "id": "xVrPZhHm9dtz",
    "outputId": "442732fd-6baa-4965-937e-4e0b9a86fa09"
   },
   "outputs": [
    {
     "data": {
      "text/plain": [
       "1"
      ]
     },
     "execution_count": 17,
     "metadata": {},
     "output_type": "execute_result"
    }
   ],
   "source": [
    "dict1={'one':1,'two':2,'Three':3,'Four':4,\"FIve\":5}\n",
    "\n",
    "dict1['one']"
   ]
  },
  {
   "cell_type": "markdown",
   "id": "aOuJqyid9dtz",
   "metadata": {
    "id": "aOuJqyid9dtz"
   },
   "source": [
    "### 9. Perform following operations on a dictionary?\n",
    "* Print all keys of the dictionary\n",
    "* Print all values of the dictionary\n",
    "* print dictionary"
   ]
  },
  {
   "cell_type": "code",
   "execution_count": 20,
   "id": "8ls9uZpY9dt0",
   "metadata": {
    "colab": {
     "base_uri": "https://localhost:8080/"
    },
    "id": "8ls9uZpY9dt0",
    "outputId": "958479c6-5717-4c17-c32b-d66768b85cb4"
   },
   "outputs": [
    {
     "name": "stdout",
     "output_type": "stream",
     "text": [
      "dict_keys(['one', 'two', 'Three', 'Four', 'FIve'])\n",
      "dict_values([1, 2, 3, 4, 5])\n",
      "{'one': 1, 'two': 2, 'Three': 3, 'Four': 4, 'FIve': 5}\n"
     ]
    }
   ],
   "source": [
    "print(dict1.keys())\n",
    "print(dict1.values())\n",
    "print(dict1)\n"
   ]
  },
  {
   "cell_type": "markdown",
   "id": "RUvNI1Th9dt1",
   "metadata": {
    "id": "RUvNI1Th9dt1"
   },
   "source": [
    "### 10 nested tuple\n",
    "* n_tuple = (\"mouse\", [8, 4, 6], (1, 2, 3))\n",
    "* access the element 3 from the above tuple"
   ]
  },
  {
   "cell_type": "code",
   "execution_count": 21,
   "id": "g6JPIcVx9dt2",
   "metadata": {
    "colab": {
     "base_uri": "https://localhost:8080/"
    },
    "id": "g6JPIcVx9dt2",
    "outputId": "895f727f-fed5-4fb9-ad28-8dee93d4c679"
   },
   "outputs": [
    {
     "data": {
      "text/plain": [
       "3"
      ]
     },
     "execution_count": 21,
     "metadata": {},
     "output_type": "execute_result"
    }
   ],
   "source": [
    "n_tuple = (\"mouse\", [8, 4, 6], (1, 2, 3))\n",
    "n_tuple[2][2]\n"
   ]
  },
  {
   "cell_type": "markdown",
   "id": "5OO_pR919dt2",
   "metadata": {
    "id": "5OO_pR919dt2"
   },
   "source": [
    "### 11.Removing elements from a dictionary\n",
    "\n",
    "* create a dictionary\n",
    "* remove a particular item, returns its value\n"
   ]
  },
  {
   "cell_type": "code",
   "execution_count": 56,
   "id": "02DY7MEL9dt3",
   "metadata": {
    "colab": {
     "base_uri": "https://localhost:8080/"
    },
    "id": "02DY7MEL9dt3",
    "outputId": "b63b3bb8-0c34-455b-d826-401ee30eb3a1"
   },
   "outputs": [
    {
     "data": {
      "text/plain": [
       "{5: 25}"
      ]
     },
     "execution_count": 56,
     "metadata": {},
     "output_type": "execute_result"
    }
   ],
   "source": [
    "# Output: 16\n",
    "squares = {1: 1, 2: 4, 3: 9, 4: 16, 5: 25}\n",
    "# remove an arbitrary item, return (key,value)\n",
    "# Output: (5, 25)\n",
    "\n",
    "\n",
    "t1=list(squares.items())\n",
    "t1\n",
    "del t1[0]\n",
    "del t1[0]\n",
    "del t1[0]\n",
    "del t1[0]\n",
    "\n",
    "squares=dict(t1)\n",
    "\n",
    "squares\n",
    "\n",
    "\n"
   ]
  },
  {
   "cell_type": "code",
   "execution_count": null,
   "id": "rWuhkaxb9dt5",
   "metadata": {
    "id": "rWuhkaxb9dt5"
   },
   "outputs": [],
   "source": []
  },
  {
   "cell_type": "markdown",
   "id": "ru2GyyWH9dt5",
   "metadata": {
    "id": "ru2GyyWH9dt5"
   },
   "source": [
    "### 12 accessing elements from a nested dictionary\n",
    "* access the element \"for\" in the nested dictionary below"
   ]
  },
  {
   "cell_type": "code",
   "execution_count": 28,
   "id": "khoYy7sK9dt6",
   "metadata": {
    "colab": {
     "base_uri": "https://localhost:8080/",
     "height": 35
    },
    "id": "khoYy7sK9dt6",
    "outputId": "545d5698-671f-4519-ce3f-a2ebb8ca9c0a"
   },
   "outputs": [
    {
     "data": {
      "application/vnd.google.colaboratory.intrinsic+json": {
       "type": "string"
      },
      "text/plain": [
       "'For'"
      ]
     },
     "execution_count": 28,
     "metadata": {},
     "output_type": "execute_result"
    }
   ],
   "source": [
    "\n",
    "# Creating a Dictionary\n",
    "Dict = {'Dict1': {1: 'Geeks'},'Dict2': {'Name': 'For'}}\n",
    "        \n",
    "\n",
    "Dict['Dict2']['Name']"
   ]
  },
  {
   "cell_type": "code",
   "execution_count": null,
   "id": "SYPW-WVME_Ji",
   "metadata": {
    "id": "SYPW-WVME_Ji"
   },
   "outputs": [],
   "source": []
  }
 ],
 "metadata": {
  "colab": {
   "collapsed_sections": [],
   "name": "Assignment 3(new).ipynb",
   "provenance": []
  },
  "kernelspec": {
   "display_name": "Python 3 (ipykernel)",
   "language": "python",
   "name": "python3"
  },
  "language_info": {
   "codemirror_mode": {
    "name": "ipython",
    "version": 3
   },
   "file_extension": ".py",
   "mimetype": "text/x-python",
   "name": "python",
   "nbconvert_exporter": "python",
   "pygments_lexer": "ipython3",
   "version": "3.10.1"
  }
 },
 "nbformat": 4,
 "nbformat_minor": 5
}

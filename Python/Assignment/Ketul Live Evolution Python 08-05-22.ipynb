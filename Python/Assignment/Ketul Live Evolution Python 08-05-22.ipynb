{
 "cells": [
  {
   "cell_type": "markdown",
   "id": "c63a28cf",
   "metadata": {},
   "source": [
    "# Q1\n",
    "\n",
    "A company decided to give bonus of 5% to employee if his/her year of service is more \n",
    "than 5 years. Ask user for their salary and year of service and print the net bonus \n",
    "amount. \n"
   ]
  },
  {
   "cell_type": "code",
   "execution_count": 3,
   "id": "71a181dd",
   "metadata": {},
   "outputs": [
    {
     "name": "stdout",
     "output_type": "stream",
     "text": [
      "Enter salary:- 20000\n",
      "Enter your year of services :- 6\n",
      "1000.0\n"
     ]
    }
   ],
   "source": [
    "salary=int(input(\"Enter salary:- \"))\n",
    "\n",
    "Year_Service=int(input(\"Enter your year of services :- \"))\n",
    "\n",
    "if Year_Service>5:\n",
    "    net_bonus=(salary*5/100)\n",
    "    \n",
    "print(net_bonus)\n",
    "\n"
   ]
  },
  {
   "cell_type": "markdown",
   "id": "2cf17e2b",
   "metadata": {},
   "source": [
    "## Q2\n",
    "A shop will give discount of 10% if the cost of purchased quantity is more than 1000.Ask \n",
    "user for quantity Suppose one unit will cost 100. Judge and print total cost for user. \n",
    "(Marks-5)\n"
   ]
  },
  {
   "cell_type": "code",
   "execution_count": 1,
   "id": "6c34a3bd",
   "metadata": {},
   "outputs": [
    {
     "name": "stdout",
     "output_type": "stream",
     "text": [
      "Enter Quantity:- 1200\n",
      "108000.0\n"
     ]
    }
   ],
   "source": [
    "qty=int(input(\"Enter Quantity:- \"))\n",
    "\n",
    "cost_one_unit=100\n",
    "\n",
    "if qty>1000:\n",
    "    \n",
    "    discount=(qty*cost_one_unit)*0.1\n",
    "    \n",
    "    total_cost=(cost_one_unit*qty)-discount\n",
    "\n",
    "    print(total_cost)"
   ]
  },
  {
   "cell_type": "markdown",
   "id": "3bdb92bd",
   "metadata": {},
   "source": [
    "## Q3\n",
    "\n",
    "A 4 digit number is entered through keyboard. Write a program to print a new number with digits \n",
    "reversed as of orignal one. Using mathematical logic not using string logic \n",
    "E.g.INPUT : 1234 OUTPUT : 4321 and INPUT : 5982 OUTPUT : 2895 (marks-10"
   ]
  },
  {
   "cell_type": "code",
   "execution_count": 1,
   "id": "dc92d5bd",
   "metadata": {},
   "outputs": [
    {
     "name": "stdout",
     "output_type": "stream",
     "text": [
      "Enter digit number:- 1234\n",
      "4321\n"
     ]
    }
   ],
   "source": [
    "dgt=int(input(\"Enter digit number:- \"))\n",
    "\n",
    "new_number=0\n",
    "\n",
    "while (dgt>0):\n",
    "    \n",
    "    last_digit = dgt % 10\n",
    "    \n",
    "    new_number = (new_number*10) + last_digit\n",
    "    \n",
    "    dgt=dgt//10\n",
    "    \n",
    "print(new_number)\n",
    "\n"
   ]
  },
  {
   "cell_type": "markdown",
   "id": "f0fe2fce",
   "metadata": {},
   "source": [
    "##  Q4. \n",
    "A three digit number is called Armstrong number if sum of cube of its digit is equal to number itself. \n",
    "E.g.- 153 is an Armstrong number because (13)+(53)+(33) = 153. Write all Armstrong numbers between \n",
    "50 to 1000. "
   ]
  },
  {
   "cell_type": "code",
   "execution_count": null,
   "id": "50865c04",
   "metadata": {},
   "outputs": [],
   "source": [
    "min1=50\n",
    "max1=1000\n",
    "\n",
    "for i in range(min1,max1+1):\n",
    "    \n",
    "        \n",
    "    \n",
    "    \n",
    "    "
   ]
  },
  {
   "cell_type": "markdown",
   "id": "1a7c4f33",
   "metadata": {},
   "source": [
    "## Q5\n",
    "\n",
    "Write a program to find prime factor of a number. If a factor of a number is prime number then it is \n",
    "its prime factor. Eg 45=3*3*5"
   ]
  },
  {
   "cell_type": "code",
   "execution_count": 3,
   "id": "f3b12099",
   "metadata": {},
   "outputs": [],
   "source": [
    "def factorial(i):\n",
    "    if i<0:\n",
    "        return 0\n",
    "    elif i==1:\n",
    "        return 1\n",
    "    else:\n",
    "        f=1\n",
    "        for k in range(1,i+1):\n",
    "            f=f*k\n",
    "    return f\n",
    "\n",
    "        "
   ]
  },
  {
   "cell_type": "code",
   "execution_count": 4,
   "id": "7333e9b1",
   "metadata": {},
   "outputs": [
    {
     "name": "stdout",
     "output_type": "stream",
     "text": [
      "5\n",
      "120 not a prime\n"
     ]
    }
   ],
   "source": [
    "fac_result=factorial(int(input()))\n",
    "\n",
    "if fac_result>1:\n",
    "    \n",
    "        for i in range(2,int(fac_result/2)+1):\n",
    "            if (fac_result % i)==0:\n",
    "                print(fac_result,\"not a prime\")\n",
    "                break\n",
    "        else:\n",
    "            print(fac_result, \"is prime number\")\n",
    "            \n",
    "else:\n",
    "    print(fac_result,\"not a prime\")\n",
    "            \n",
    "                \n",
    "            \n",
    "\n",
    "\n",
    "    \n"
   ]
  },
  {
   "cell_type": "markdown",
   "id": "c8e1d9b3",
   "metadata": {},
   "source": [
    "## Q6 \n",
    "Write a program to add and multiply two 2x2 matrices. Using loop"
   ]
  },
  {
   "cell_type": "code",
   "execution_count": 36,
   "id": "f32868f3",
   "metadata": {},
   "outputs": [
    {
     "name": "stdout",
     "output_type": "stream",
     "text": [
      "[3, 8]\n",
      "[12, 20]\n",
      "[4, 6]\n",
      "[7, 9]\n"
     ]
    }
   ],
   "source": [
    "first=[[1,2],\n",
    "    [3,4]]\n",
    "second=[[3,4],\n",
    "    [4,5]]\n",
    "\n",
    "empt_for_Add=[[0,0],[0,0]]\n",
    "empt_for_multi=[[0,0],[0,0]]\n",
    "\n",
    "for i in range(len(first)):\n",
    "    \n",
    "    for j in range(len(second)):\n",
    "        \n",
    "        empt_for_multi[i][j]+=first[i][j]*second[i][j]\n",
    "        \n",
    "        empt_for_Add[i][j]+=first[i][j]+second[i][j]\n",
    "        \n",
    "        \n",
    "for k in empt_for_multi:\n",
    "    print(k)\n",
    "for h in empt_for_Add:\n",
    "    print(h)"
   ]
  },
  {
   "cell_type": "markdown",
   "id": "63ec0411",
   "metadata": {},
   "source": [
    "## Q7. \n",
    "\n",
    "Write a program to check if the two strings entered by user are anagrams or not. Two words are said \n",
    "to be anagrams if the letters of one word can be rearranged to form the other word. \n",
    "Example:- jaxa and ajax are anagrams of each other."
   ]
  },
  {
   "cell_type": "code",
   "execution_count": 95,
   "id": "1204b473",
   "metadata": {},
   "outputs": [
    {
     "name": "stdout",
     "output_type": "stream",
     "text": [
      "Enter str1:dave\n",
      "Enter str2:adev\n",
      "string is anagrams\n"
     ]
    }
   ],
   "source": [
    " \n",
    "x=input(\"Enter str1:\")\n",
    "y=input(\"Enter str2:\")\n",
    "z=0\n",
    "for i in x:\n",
    "  for j in y:\n",
    "    if i==j:\n",
    "      z+=1\n",
    "if z==len(x):\n",
    "  print(\"string is anagrams\")\n",
    "else:\n",
    "  print(\"string is not anagrams\")\n",
    "\n",
    "\n",
    "    \n",
    "    "
   ]
  },
  {
   "cell_type": "markdown",
   "id": "9a220144",
   "metadata": {},
   "source": [
    "## Q8.\n",
    "\n",
    "Take a list contain only strings. Now, take a string input from user and rearrange the \n",
    "elements of the list according to the number of occurrence of the string taken from user \n",
    "in the elements of the list. \n",
    "E.g.-LIST : [\"no bun\",\"bug bun bug bun bug bug\",\"bunny bug\",\"buggy bug bug buggy\"] \n",
    "STRING TAKEN : \"bug\" \n",
    "OUTPUT LIST:[\"bug bun bug bun bug bug\",\"buggy bug bug buggy\",\"bunny bug\",\"no \n",
    "bun\"] "
   ]
  },
  {
   "cell_type": "code",
   "execution_count": 10,
   "id": "5116e514",
   "metadata": {},
   "outputs": [
    {
     "name": "stdout",
     "output_type": "stream",
     "text": [
      "[(['no', 'bun'], 0), (['bug', 'bun', 'bug', 'bun', 'bug', 'bug'], 4), (['bunny', 'bug'], 1), (['buggy', 'bug', 'bug', 'buggy'], 2)]\n"
     ]
    }
   ],
   "source": [
    "lst = [\"no bun\",\"bug bun bug bun bug bug\",\"bunny bug\",\"buggy bug bug buggy\"] \n",
    "\n",
    "\n",
    "count1=[]\n",
    "\n",
    "for i in lst:\n",
    "    \n",
    "    i=i.split(\" \")\n",
    "    \n",
    "    for j in range(0,len(i)):\n",
    "        k=i.count(\"bug\")\n",
    "    count1.append(i)\n",
    "    count1.append(k)\n",
    "    \n",
    "    for h in count1:\n",
    "        key=count1[0::2]\n",
    "        value=count1[1::2]\n",
    "    \n",
    "res=list(zip(key,value))\n",
    "\n",
    "print(res)\n",
    "\n",
    "\n",
    "\n"
   ]
  },
  {
   "cell_type": "code",
   "execution_count": 12,
   "id": "588211ce",
   "metadata": {},
   "outputs": [
    {
     "name": "stdout",
     "output_type": "stream",
     "text": [
      "[(4, ['bug', 'bun', 'bug', 'bun', 'bug', 'bug']), (2, ['buggy', 'bug', 'bug', 'buggy']), (3, ['bunny', 'bug', 'bug', 'bug']), (0, ['no', 'bun'])]\n"
     ]
    }
   ],
   "source": [
    "lst = [\"no bun\",\"bug bun bug bun bug bug\",\"bunny bug bug bug\",\"buggy bug bug buggy\"] \n",
    "\n",
    "empty={}\n",
    "\n",
    "for i in lst:\n",
    "    i=i.split(\" \")\n",
    "\n",
    "    for j in i:\n",
    "        counter=i.count(\"bug\")\n",
    "\n",
    "    empty[counter]=i\n",
    "\n",
    "print(sorted (empty.items(), key=lambda x:x[1]))\n"
   ]
  },
  {
   "cell_type": "code",
   "execution_count": 42,
   "id": "95fe501c",
   "metadata": {},
   "outputs": [
    {
     "name": "stdout",
     "output_type": "stream",
     "text": [
      "{2: '64', 1: '69', 4: '64', 5: '65', 6: '34', 3: '76'}\n",
      "dict_keys([2, 1, 4, 5, 6, 3])\n",
      "[1, 2, 3, 4, 5, 6]\n",
      "[(1, '69'), (2, '64'), (3, '76'), (4, '64'), (5, '65'), (6, '34')]\n",
      "[(6, '34'), (2, '64'), (4, '64'), (5, '65'), (1, '69'), (3, '76')]\n"
     ]
    }
   ],
   "source": [
    "#(i) Create a dictionary and display its keys alphabetically.\n",
    "\n",
    "key_value={}\n",
    "key_value[2] = '64'\n",
    "key_value[1] = '69'\n",
    "key_value[4] = '64'\n",
    "key_value[5] = '65'\n",
    "key_value[6] = '34'\n",
    "key_value[3] = '76'\n",
    "\n",
    "print(key_value)\n",
    "\n",
    "print(key_value.keys())\n",
    "\n",
    "print(sorted (key_value.keys()))\n",
    "\n",
    "\n",
    "#(ii) Display both the keys and values sorted in alphabetical order by the key.\n",
    "\n",
    "print(sorted (key_value.items()))\n",
    "\n",
    "#(iii) Same as part (ii), but sorted in alphabetical order by the value.\n",
    "\n",
    "print(sorted (key_value.items(), key=lambda k:k[1]))"
   ]
  },
  {
   "cell_type": "markdown",
   "id": "6e0b7e90",
   "metadata": {},
   "source": [
    "## Q9\n",
    "\n",
    "check if the matrix is symmetric or not. (marks-10) \n",
    "E.g.- Initilize a 2D list of a matrix \n",
    "[[1,2,3], \n",
    "[4,5,6], \n",
    "[7,8,9]] \n"
   ]
  },
  {
   "cell_type": "code",
   "execution_count": 68,
   "id": "10e63ba0",
   "metadata": {},
   "outputs": [
    {
     "name": "stdout",
     "output_type": "stream",
     "text": [
      "Yes it is symmetric\n"
     ]
    }
   ],
   "source": [
    "def symmetric(mtr,k):\n",
    "    for i in range(k):\n",
    "        for j in range(k):\n",
    "            if (mtr[i][j]!=mtr[j][i]):\n",
    "                return False\n",
    "    return True\n",
    "\n",
    "mtr= [[1,2,3], \n",
    "      [4,5,6], \n",
    "      [7,8,9]]\n",
    "\n",
    "k=1\n",
    "\n",
    "\n",
    "if (symmetric(mtr,k)):\n",
    "    print('Yes it is symmetric')\n",
    "else:\n",
    "    print('No it does Not symmetric')\n",
    "                "
   ]
  },
  {
   "cell_type": "markdown",
   "id": "c72035d3",
   "metadata": {},
   "source": [
    "## Q10\n",
    "\n",
    "Write a function to check if a number is prime or not. "
   ]
  },
  {
   "cell_type": "code",
   "execution_count": 75,
   "id": "9a8051a8",
   "metadata": {},
   "outputs": [
    {
     "name": "stdout",
     "output_type": "stream",
     "text": [
      "False\n",
      "True\n"
     ]
    }
   ],
   "source": [
    "def prm(n):\n",
    "  n=int(n)\n",
    "  for j in range (2,n):\n",
    "    if n%j==0:\n",
    "      return (n),\"is not prime\"\n",
    "  return (n),\"is prime\"\n",
    "\n",
    "prm(input(\"Enter number:\"))\n",
    "\n",
    "\n",
    "\n",
    "#Optional\n",
    "\n",
    "# def checkprime(k):\n",
    "    \n",
    "#     x=int(k**0.5)+1\n",
    "#     for i in range(2,x):\n",
    "#         if k % i ==0:\n",
    "#             return False\n",
    "#     return True\n",
    "\n",
    "# print(checkprime(4))\n",
    "# print(checkprime(5))"
   ]
  },
  {
   "cell_type": "markdown",
   "id": "f1df82f8",
   "metadata": {},
   "source": [
    "## Q11.\n",
    "\n",
    "Write a function to calculate area and perimeter of a rectangle\n"
   ]
  },
  {
   "cell_type": "code",
   "execution_count": 77,
   "id": "0e95dce6",
   "metadata": {},
   "outputs": [
    {
     "name": "stdout",
     "output_type": "stream",
     "text": [
      "enter width:- 10\n",
      "enter height:-15\n",
      "Area->  150.0\n",
      "perimeter -> 50.0\n"
     ]
    }
   ],
   "source": [
    "def abc(w,h):\n",
    "    area=w*h\n",
    "    perimeter=2*(w+h)\n",
    "    \n",
    "    print(\"Area-> \",area)\n",
    "    print(\"perimeter ->\",perimeter)\n",
    "    \n",
    "w=float(input(\"enter width:- \"))\n",
    "h=float(input(\"enter height:-\"))\n",
    "\n",
    "abc(w,h)\n"
   ]
  },
  {
   "cell_type": "markdown",
   "id": "276a7f2e",
   "metadata": {},
   "source": [
    "## Q12. \n",
    "\n",
    "Calculate a function to calculate factorial of a number and store the factorial in a dictionary \n",
    "with respect to the the number. (marks-10) \n",
    "eg:-{0:1,1:1,2:2,3:6,4:24} \n",
    "take range from 50 to 70"
   ]
  },
  {
   "cell_type": "code",
   "execution_count": 89,
   "id": "b21efb47",
   "metadata": {},
   "outputs": [
    {
     "name": "stdout",
     "output_type": "stream",
     "text": [
      "{50: 30414093201713378043612608166064768844377641568960512000000000000, 51: 1551118753287382280224243016469303211063259720016986112000000000000, 52: 80658175170943878571660636856403766975289505440883277824000000000000, 53: 4274883284060025564298013753389399649690343788366813724672000000000000, 54: 230843697339241380472092742683027581083278564571807941132288000000000000, 55: 12696403353658275925965100847566516959580321051449436762275840000000000000, 56: 710998587804863451854045647463724949736497978881168458687447040000000000000, 57: 40526919504877216755680601905432322134980384796226602145184481280000000000000, 58: 2350561331282878571829474910515074683828862318181142924420699914240000000000000, 59: 138683118545689835737939019720389406345902876772687432540821294940160000000000000, 60: 8320987112741390144276341183223364380754172606361245952449277696409600000000000000, 61: 507580213877224798800856812176625227226004528988036003099405939480985600000000000000, 62: 31469973260387937525653122354950764088012280797258232192163168247821107200000000000000, 63: 1982608315404440064116146708361898137544773690227268628106279599612729753600000000000000, 64: 126886932185884164103433389335161480802865516174545192198801894375214704230400000000000000, 65: 8247650592082470666723170306785496252186258551345437492922123134388955774976000000000000000, 66: 544344939077443064003729240247842752644293064388798874532860126869671081148416000000000000000, 67: 36471110918188685288249859096605464427167635314049524593701628500267962436943872000000000000000, 68: 2480035542436830599600990418569171581047399201355367672371710738018221445712183296000000000000000, 69: 171122452428141311372468338881272839092270544893520369393648040923257279754140647424000000000000000}\n"
     ]
    }
   ],
   "source": [
    "#NOTE-->  i already created factorial function in QN 5\n",
    "\n",
    "emtdict={}\n",
    "\n",
    "for i in range(50,70):\n",
    "    \n",
    "    emtdict.update({i:factorial(i)})\n",
    "\n",
    "print(emtdict)\n",
    "\n",
    "    \n",
    "\n",
    "#enumerate "
   ]
  },
  {
   "cell_type": "code",
   "execution_count": 5,
   "id": "ee590297",
   "metadata": {},
   "outputs": [
    {
     "data": {
      "text/plain": [
       "20.0"
      ]
     },
     "execution_count": 5,
     "metadata": {},
     "output_type": "execute_result"
    }
   ],
   "source": [
    "40/2\n"
   ]
  },
  {
   "cell_type": "code",
   "execution_count": 9,
   "id": "553f03c0",
   "metadata": {},
   "outputs": [
    {
     "name": "stdout",
     "output_type": "stream",
     "text": [
      "1 hello\n"
     ]
    }
   ],
   "source": [
    "for i in range(1,2):\n",
    "    print(i,\"hello\")"
   ]
  },
  {
   "cell_type": "code",
   "execution_count": 10,
   "id": "01a56912",
   "metadata": {},
   "outputs": [
    {
     "data": {
      "text/plain": [
       "22.5"
      ]
     },
     "execution_count": 10,
     "metadata": {},
     "output_type": "execute_result"
    }
   ],
   "source": [
    "45/2"
   ]
  },
  {
   "cell_type": "code",
   "execution_count": null,
   "id": "eaa21c70",
   "metadata": {},
   "outputs": [],
   "source": []
  }
 ],
 "metadata": {
  "kernelspec": {
   "display_name": "Python 3 (ipykernel)",
   "language": "python",
   "name": "python3"
  },
  "language_info": {
   "codemirror_mode": {
    "name": "ipython",
    "version": 3
   },
   "file_extension": ".py",
   "mimetype": "text/x-python",
   "name": "python",
   "nbconvert_exporter": "python",
   "pygments_lexer": "ipython3",
   "version": "3.10.1"
  }
 },
 "nbformat": 4,
 "nbformat_minor": 5
}

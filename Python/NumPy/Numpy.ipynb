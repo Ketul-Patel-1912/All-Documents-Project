{
 "cells": [
  {
   "cell_type": "markdown",
   "id": "c4d8b547",
   "metadata": {},
   "source": [
    "# This resurces from w3resource"
   ]
  },
  {
   "cell_type": "markdown",
   "id": "7f452c94",
   "metadata": {},
   "source": [
    "###  NumPy is a Python package providing fast, flexible, and expressive data structures designed to make working with 'relationa' or 'labeled' data both easy and intuitive. It aims to be the fundamental high-level building block for doing practical, real world data analysis in Python."
   ]
  },
  {
   "cell_type": "markdown",
   "id": "3c18b9c6",
   "metadata": {},
   "source": [
    "## why we are using numpy ruther than list?\n",
    "\n",
    "provide efficient storage  --> nUmber store in efficient ways\n",
    "\n",
    "it also provides better ways of handling data for processing  --> 32bit use, 64bit use\n",
    "\n",
    "it is fast  ---> loop fast process\n",
    "\n",
    "it is easy to learn --> access easy \n",
    "\n",
    "uses relative less memories to store data -->No pointers, occupy required space \n"
   ]
  },
  {
   "cell_type": "code",
   "execution_count": 8,
   "id": "85d62b38",
   "metadata": {},
   "outputs": [],
   "source": [
    "import numpy as np"
   ]
  },
  {
   "cell_type": "code",
   "execution_count": 5,
   "id": "9fbfed65",
   "metadata": {},
   "outputs": [],
   "source": [
    "single=np.array([1,2,3].np.int)"
   ]
  },
  {
   "cell_type": "code",
   "execution_count": 6,
   "id": "93d3e502",
   "metadata": {},
   "outputs": [
    {
     "data": {
      "text/plain": [
       "array([1, 2, 3])"
      ]
     },
     "execution_count": 6,
     "metadata": {},
     "output_type": "execute_result"
    }
   ],
   "source": [
    "single"
   ]
  },
  {
   "cell_type": "code",
   "execution_count": 10,
   "id": "d4246002",
   "metadata": {},
   "outputs": [
    {
     "name": "stdout",
     "output_type": "stream",
     "text": [
      "1.22.3\n"
     ]
    }
   ],
   "source": [
    "print(np.__version__)"
   ]
  },
  {
   "cell_type": "code",
   "execution_count": 12,
   "id": "e57f87c8",
   "metadata": {},
   "outputs": [
    {
     "name": "stdout",
     "output_type": "stream",
     "text": [
      "openblas64__info:\n",
      "    library_dirs = ['D:\\\\a\\\\1\\\\s\\\\numpy\\\\build\\\\openblas64__info']\n",
      "    libraries = ['openblas64__info']\n",
      "    language = f77\n",
      "    define_macros = [('HAVE_CBLAS', None), ('BLAS_SYMBOL_SUFFIX', '64_'), ('HAVE_BLAS_ILP64', None)]\n",
      "blas_ilp64_opt_info:\n",
      "    library_dirs = ['D:\\\\a\\\\1\\\\s\\\\numpy\\\\build\\\\openblas64__info']\n",
      "    libraries = ['openblas64__info']\n",
      "    language = f77\n",
      "    define_macros = [('HAVE_CBLAS', None), ('BLAS_SYMBOL_SUFFIX', '64_'), ('HAVE_BLAS_ILP64', None)]\n",
      "openblas64__lapack_info:\n",
      "    library_dirs = ['D:\\\\a\\\\1\\\\s\\\\numpy\\\\build\\\\openblas64__lapack_info']\n",
      "    libraries = ['openblas64__lapack_info']\n",
      "    language = f77\n",
      "    define_macros = [('HAVE_CBLAS', None), ('BLAS_SYMBOL_SUFFIX', '64_'), ('HAVE_BLAS_ILP64', None), ('HAVE_LAPACKE', None)]\n",
      "lapack_ilp64_opt_info:\n",
      "    library_dirs = ['D:\\\\a\\\\1\\\\s\\\\numpy\\\\build\\\\openblas64__lapack_info']\n",
      "    libraries = ['openblas64__lapack_info']\n",
      "    language = f77\n",
      "    define_macros = [('HAVE_CBLAS', None), ('BLAS_SYMBOL_SUFFIX', '64_'), ('HAVE_BLAS_ILP64', None), ('HAVE_LAPACKE', None)]\n",
      "Supported SIMD extensions in this NumPy install:\n",
      "    baseline = SSE,SSE2,SSE3\n",
      "    found = SSSE3,SSE41,POPCNT,SSE42,AVX,F16C,FMA3,AVX2\n",
      "    not found = AVX512F,AVX512CD,AVX512_SKX,AVX512_CLX,AVX512_CNL\n",
      "None\n"
     ]
    }
   ],
   "source": [
    "print(np.show_config())"
   ]
  },
  {
   "cell_type": "code",
   "execution_count": 13,
   "id": "137fa056",
   "metadata": {},
   "outputs": [
    {
     "name": "stdout",
     "output_type": "stream",
     "text": [
      "add(x1, x2, /, out=None, *, where=True, casting='same_kind', order='K', dtype=None, subok=True[, signature, extobj])\n",
      "\n",
      "Add arguments element-wise.\n",
      "\n",
      "Parameters\n",
      "----------\n",
      "x1, x2 : array_like\n",
      "    The arrays to be added.\n",
      "    If ``x1.shape != x2.shape``, they must be broadcastable to a common\n",
      "    shape (which becomes the shape of the output).\n",
      "out : ndarray, None, or tuple of ndarray and None, optional\n",
      "    A location into which the result is stored. If provided, it must have\n",
      "    a shape that the inputs broadcast to. If not provided or None,\n",
      "    a freshly-allocated array is returned. A tuple (possible only as a\n",
      "    keyword argument) must have length equal to the number of outputs.\n",
      "where : array_like, optional\n",
      "    This condition is broadcast over the input. At locations where the\n",
      "    condition is True, the `out` array will be set to the ufunc result.\n",
      "    Elsewhere, the `out` array will retain its original value.\n",
      "    Note that if an uninitialized `out` array is created via the default\n",
      "    ``out=None``, locations within it where the condition is False will\n",
      "    remain uninitialized.\n",
      "**kwargs\n",
      "    For other keyword-only arguments, see the\n",
      "    :ref:`ufunc docs <ufuncs.kwargs>`.\n",
      "\n",
      "Returns\n",
      "-------\n",
      "add : ndarray or scalar\n",
      "    The sum of `x1` and `x2`, element-wise.\n",
      "    This is a scalar if both `x1` and `x2` are scalars.\n",
      "\n",
      "Notes\n",
      "-----\n",
      "Equivalent to `x1` + `x2` in terms of array broadcasting.\n",
      "\n",
      "Examples\n",
      "--------\n",
      ">>> np.add(1.0, 4.0)\n",
      "5.0\n",
      ">>> x1 = np.arange(9.0).reshape((3, 3))\n",
      ">>> x2 = np.arange(3.0)\n",
      ">>> np.add(x1, x2)\n",
      "array([[  0.,   2.,   4.],\n",
      "       [  3.,   5.,   7.],\n",
      "       [  6.,   8.,  10.]])\n",
      "\n",
      "The ``+`` operator can be used as a shorthand for ``np.add`` on ndarrays.\n",
      "\n",
      ">>> x1 = np.arange(9.0).reshape((3, 3))\n",
      ">>> x2 = np.arange(3.0)\n",
      ">>> x1 + x2\n",
      "array([[ 0.,  2.,  4.],\n",
      "       [ 3.,  5.,  7.],\n",
      "       [ 6.,  8., 10.]])\n"
     ]
    }
   ],
   "source": [
    "np.info(np.add)"
   ]
  },
  {
   "cell_type": "code",
   "execution_count": 20,
   "id": "b38defb2",
   "metadata": {},
   "outputs": [],
   "source": [
    "myarray=np.array([[3,6,4,32],[1,4,5,6]],np.int32)"
   ]
  },
  {
   "cell_type": "code",
   "execution_count": 29,
   "id": "b819807b",
   "metadata": {},
   "outputs": [
    {
     "name": "stdout",
     "output_type": "stream",
     "text": [
      "[[ 3  6  4 32]\n",
      " [ 1  4  5  6]]\n",
      "[[3 6]\n",
      " [1 4]]\n",
      "6\n",
      "6\n"
     ]
    }
   ],
   "source": [
    "print(myarray)\n",
    "\n",
    "\n",
    "print(myarray[0:3,0:2])\n",
    "print(myarray[0,1])\n",
    "print(myarray[0][1])"
   ]
  },
  {
   "cell_type": "code",
   "execution_count": 30,
   "id": "e07862a6",
   "metadata": {},
   "outputs": [
    {
     "data": {
      "text/plain": [
       "(2, 4)"
      ]
     },
     "execution_count": 30,
     "metadata": {},
     "output_type": "execute_result"
    }
   ],
   "source": [
    "myarray.shape"
   ]
  },
  {
   "cell_type": "code",
   "execution_count": 31,
   "id": "d7bed023",
   "metadata": {},
   "outputs": [
    {
     "data": {
      "text/plain": [
       "dtype('int32')"
      ]
     },
     "execution_count": 31,
     "metadata": {},
     "output_type": "execute_result"
    }
   ],
   "source": [
    "myarray.dtype"
   ]
  },
  {
   "cell_type": "code",
   "execution_count": 35,
   "id": "749af0e4",
   "metadata": {},
   "outputs": [
    {
     "data": {
      "text/plain": [
       "array([[ 3, 45,  4, 32],\n",
       "       [ 1,  4,  5,  6]])"
      ]
     },
     "execution_count": 35,
     "metadata": {},
     "output_type": "execute_result"
    }
   ],
   "source": [
    "myarray[0,1]=45\n",
    "myarray"
   ]
  },
  {
   "cell_type": "markdown",
   "id": "3010222f",
   "metadata": {},
   "source": [
    "## Array creation := \n",
    "\n",
    "# conversion from other python structures\n",
    "\n"
   ]
  },
  {
   "cell_type": "code",
   "execution_count": 36,
   "id": "31627816",
   "metadata": {},
   "outputs": [],
   "source": [
    "list_arr=np.array([[1,2,3],[4,5,6],[7,8,9]])"
   ]
  },
  {
   "cell_type": "code",
   "execution_count": 37,
   "id": "b35ed712",
   "metadata": {},
   "outputs": [
    {
     "data": {
      "text/plain": [
       "array([[1, 2, 3],\n",
       "       [4, 5, 6],\n",
       "       [7, 8, 9]])"
      ]
     },
     "execution_count": 37,
     "metadata": {},
     "output_type": "execute_result"
    }
   ],
   "source": [
    "list_arr"
   ]
  },
  {
   "cell_type": "code",
   "execution_count": 38,
   "id": "232abbd0",
   "metadata": {},
   "outputs": [
    {
     "data": {
      "text/plain": [
       "dtype('int32')"
      ]
     },
     "execution_count": 38,
     "metadata": {},
     "output_type": "execute_result"
    }
   ],
   "source": [
    "list_arr.dtype"
   ]
  },
  {
   "cell_type": "code",
   "execution_count": 39,
   "id": "34510a3d",
   "metadata": {},
   "outputs": [
    {
     "data": {
      "text/plain": [
       "(3, 3)"
      ]
     },
     "execution_count": 39,
     "metadata": {},
     "output_type": "execute_result"
    }
   ],
   "source": [
    "list_arr.shape"
   ]
  },
  {
   "cell_type": "code",
   "execution_count": 40,
   "id": "60d3880a",
   "metadata": {},
   "outputs": [
    {
     "data": {
      "text/plain": [
       "9"
      ]
     },
     "execution_count": 40,
     "metadata": {},
     "output_type": "execute_result"
    }
   ],
   "source": [
    "list_arr.size"
   ]
  },
  {
   "cell_type": "markdown",
   "id": "d28ee42a",
   "metadata": {},
   "source": [
    "## Intrinsic numpy creation objects"
   ]
  },
  {
   "cell_type": "code",
   "execution_count": 43,
   "id": "b0869ced",
   "metadata": {},
   "outputs": [
    {
     "data": {
      "text/plain": [
       "array([[0., 0., 0., 0., 0.],\n",
       "       [0., 0., 0., 0., 0.]])"
      ]
     },
     "execution_count": 43,
     "metadata": {},
     "output_type": "execute_result"
    }
   ],
   "source": [
    "zeros=np.zeros((2,5))\n",
    "zeros"
   ]
  },
  {
   "cell_type": "code",
   "execution_count": 46,
   "id": "1cda2a3f",
   "metadata": {},
   "outputs": [
    {
     "data": {
      "text/plain": [
       "array([ 0,  1,  2,  3,  4,  5,  6,  7,  8,  9, 10, 11, 12, 13, 14])"
      ]
     },
     "execution_count": 46,
     "metadata": {},
     "output_type": "execute_result"
    }
   ],
   "source": [
    "np.arange(15)"
   ]
  },
  {
   "cell_type": "code",
   "execution_count": 48,
   "id": "2713068c",
   "metadata": {},
   "outputs": [
    {
     "data": {
      "text/plain": [
       "array([ 1.        ,  6.44444444, 11.88888889, 17.33333333, 22.77777778,\n",
       "       28.22222222, 33.66666667, 39.11111111, 44.55555556, 50.        ])"
      ]
     },
     "execution_count": 48,
     "metadata": {},
     "output_type": "execute_result"
    }
   ],
   "source": [
    "Lspace=np.linspace(1,50,10)  \n",
    "Lspace\n"
   ]
  },
  {
   "cell_type": "code",
   "execution_count": 49,
   "id": "3f3bc282",
   "metadata": {},
   "outputs": [
    {
     "data": {
      "text/plain": [
       "array([[1.09363752e-311, 6.22522714e-322, 0.00000000e+000,\n",
       "        0.00000000e+000, 8.01097888e-307],\n",
       "       [1.15998412e-028, 4.31603868e-080, 1.94919985e-153,\n",
       "        1.35717430e+131, 7.06652016e-096],\n",
       "       [7.06652016e-096, 1.81148490e-152, 9.37041222e-076,\n",
       "        6.98345624e-077, 6.98345624e-077],\n",
       "       [1.06239598e-153, 3.98472821e+252, 1.06244660e-153,\n",
       "        9.78750380e+199, 6.97843734e+252]])"
      ]
     },
     "execution_count": 49,
     "metadata": {},
     "output_type": "execute_result"
    }
   ],
   "source": [
    "emp=np.empty((4,5))\n",
    "emp"
   ]
  },
  {
   "cell_type": "code",
   "execution_count": 51,
   "id": "a8d26239",
   "metadata": {},
   "outputs": [
    {
     "data": {
      "text/plain": [
       "array([ 1.        ,  6.44444444, 11.88888889, 17.33333333, 22.77777778,\n",
       "       28.22222222, 33.66666667, 39.11111111, 44.55555556, 50.        ])"
      ]
     },
     "execution_count": 51,
     "metadata": {},
     "output_type": "execute_result"
    }
   ],
   "source": [
    "emp_like=np.empty_like(Lspace)\n",
    "emp_like"
   ]
  },
  {
   "cell_type": "code",
   "execution_count": 56,
   "id": "3cfbfc05",
   "metadata": {},
   "outputs": [
    {
     "name": "stdout",
     "output_type": "stream",
     "text": [
      "[[1. 0. 0. 0. 0. 0. 0. 0. 0. 0.]\n",
      " [0. 1. 0. 0. 0. 0. 0. 0. 0. 0.]\n",
      " [0. 0. 1. 0. 0. 0. 0. 0. 0. 0.]\n",
      " [0. 0. 0. 1. 0. 0. 0. 0. 0. 0.]\n",
      " [0. 0. 0. 0. 1. 0. 0. 0. 0. 0.]\n",
      " [0. 0. 0. 0. 0. 1. 0. 0. 0. 0.]\n",
      " [0. 0. 0. 0. 0. 0. 1. 0. 0. 0.]\n",
      " [0. 0. 0. 0. 0. 0. 0. 1. 0. 0.]\n",
      " [0. 0. 0. 0. 0. 0. 0. 0. 1. 0.]\n",
      " [0. 0. 0. 0. 0. 0. 0. 0. 0. 1.]]\n"
     ]
    },
    {
     "data": {
      "text/plain": [
       "(10, 10)"
      ]
     },
     "execution_count": 56,
     "metadata": {},
     "output_type": "execute_result"
    }
   ],
   "source": [
    "ide=np.identity(10)\n",
    "print(ide)\n",
    "\n",
    "ide.shape"
   ]
  },
  {
   "cell_type": "code",
   "execution_count": 58,
   "id": "7f591873",
   "metadata": {},
   "outputs": [
    {
     "data": {
      "text/plain": [
       "array([ 0,  1,  2,  3,  4,  5,  6,  7,  8,  9, 10, 11, 12, 13, 14, 15, 16,\n",
       "       17, 18, 19, 20, 21, 22, 23, 24, 25, 26, 27, 28, 29, 30, 31, 32, 33,\n",
       "       34, 35, 36, 37, 38, 39, 40, 41, 42, 43, 44, 45, 46, 47, 48, 49, 50,\n",
       "       51, 52, 53, 54, 55, 56, 57, 58, 59, 60, 61, 62, 63, 64, 65, 66, 67,\n",
       "       68, 69, 70, 71, 72, 73, 74, 75, 76, 77, 78, 79, 80, 81, 82, 83, 84,\n",
       "       85, 86, 87, 88, 89, 90, 91, 92, 93, 94, 95, 96, 97, 98])"
      ]
     },
     "execution_count": 58,
     "metadata": {},
     "output_type": "execute_result"
    }
   ],
   "source": [
    "arr=np.arange(99)\n",
    "arr"
   ]
  },
  {
   "cell_type": "code",
   "execution_count": 59,
   "id": "2f7405d3",
   "metadata": {},
   "outputs": [
    {
     "data": {
      "text/plain": [
       "array([[ 0,  1,  2,  3,  4,  5,  6,  7,  8,  9, 10, 11, 12, 13, 14, 15,\n",
       "        16, 17, 18, 19, 20, 21, 22, 23, 24, 25, 26, 27, 28, 29, 30, 31,\n",
       "        32],\n",
       "       [33, 34, 35, 36, 37, 38, 39, 40, 41, 42, 43, 44, 45, 46, 47, 48,\n",
       "        49, 50, 51, 52, 53, 54, 55, 56, 57, 58, 59, 60, 61, 62, 63, 64,\n",
       "        65],\n",
       "       [66, 67, 68, 69, 70, 71, 72, 73, 74, 75, 76, 77, 78, 79, 80, 81,\n",
       "        82, 83, 84, 85, 86, 87, 88, 89, 90, 91, 92, 93, 94, 95, 96, 97,\n",
       "        98]])"
      ]
     },
     "execution_count": 59,
     "metadata": {},
     "output_type": "execute_result"
    }
   ],
   "source": [
    "arr.reshape(3,33)"
   ]
  },
  {
   "cell_type": "code",
   "execution_count": 60,
   "id": "e47bff0f",
   "metadata": {},
   "outputs": [
    {
     "data": {
      "text/plain": [
       "array([ 0,  1,  2,  3,  4,  5,  6,  7,  8,  9, 10, 11, 12, 13, 14, 15, 16,\n",
       "       17, 18, 19, 20, 21, 22, 23, 24, 25, 26, 27, 28, 29, 30, 31, 32, 33,\n",
       "       34, 35, 36, 37, 38, 39, 40, 41, 42, 43, 44, 45, 46, 47, 48, 49, 50,\n",
       "       51, 52, 53, 54, 55, 56, 57, 58, 59, 60, 61, 62, 63, 64, 65, 66, 67,\n",
       "       68, 69, 70, 71, 72, 73, 74, 75, 76, 77, 78, 79, 80, 81, 82, 83, 84,\n",
       "       85, 86, 87, 88, 89, 90, 91, 92, 93, 94, 95, 96, 97, 98])"
      ]
     },
     "execution_count": 60,
     "metadata": {},
     "output_type": "execute_result"
    }
   ],
   "source": [
    "arr.ravel()  ## one d array"
   ]
  },
  {
   "cell_type": "markdown",
   "id": "d4a42878",
   "metadata": {},
   "source": [
    "## Access"
   ]
  },
  {
   "cell_type": "code",
   "execution_count": 155,
   "id": "02c753b3",
   "metadata": {},
   "outputs": [
    {
     "data": {
      "text/plain": [
       "array([[1, 2, 3],\n",
       "       [4, 5, 6],\n",
       "       [7, 1, 0]])"
      ]
     },
     "execution_count": 155,
     "metadata": {},
     "output_type": "execute_result"
    }
   ],
   "source": [
    "# 1D axis -0\n",
    "# 2D axis- 0, axis-1\n",
    "# row =axis 0 \n",
    "# column = axis 1\n",
    "\n",
    "x=[[1,2,3],[4,5,6],[7,1,0]]\n",
    "ar=np.array(x)\n",
    "ar"
   ]
  },
  {
   "cell_type": "code",
   "execution_count": 76,
   "id": "60c3bb0f",
   "metadata": {},
   "outputs": [
    {
     "data": {
      "text/plain": [
       "array([12,  8,  9])"
      ]
     },
     "execution_count": 76,
     "metadata": {},
     "output_type": "execute_result"
    }
   ],
   "source": [
    "ar.sum(axis=0)"
   ]
  },
  {
   "cell_type": "code",
   "execution_count": 77,
   "id": "4a649837",
   "metadata": {},
   "outputs": [
    {
     "data": {
      "text/plain": [
       "array([ 6, 15,  8])"
      ]
     },
     "execution_count": 77,
     "metadata": {},
     "output_type": "execute_result"
    }
   ],
   "source": [
    "ar.sum(axis=1)"
   ]
  },
  {
   "cell_type": "markdown",
   "id": "2bc71265",
   "metadata": {},
   "source": [
    "# Attribute and Methods\n",
    "\n",
    "visit scipy.org"
   ]
  },
  {
   "cell_type": "code",
   "execution_count": 78,
   "id": "2fe721bf",
   "metadata": {},
   "outputs": [
    {
     "name": "stdout",
     "output_type": "stream",
     "text": [
      "[[1 2 3]\n",
      " [4 5 6]\n",
      " [7 1 0]]\n",
      "[[1 4 7]\n",
      " [2 5 1]\n",
      " [3 6 0]]\n"
     ]
    }
   ],
   "source": [
    "print(ar)\n",
    "print(ar.T)  #transpose"
   ]
  },
  {
   "cell_type": "code",
   "execution_count": 79,
   "id": "60bd8262",
   "metadata": {},
   "outputs": [
    {
     "name": "stdout",
     "output_type": "stream",
     "text": [
      "1 2 3 4 5 6 7 1 0 "
     ]
    }
   ],
   "source": [
    "\n",
    "for item in ar.flat:\n",
    "    print(item,end=\" \")"
   ]
  },
  {
   "cell_type": "code",
   "execution_count": 81,
   "id": "3dbc310e",
   "metadata": {},
   "outputs": [
    {
     "data": {
      "text/plain": [
       "2"
      ]
     },
     "execution_count": 81,
     "metadata": {},
     "output_type": "execute_result"
    }
   ],
   "source": [
    "ar.ndim"
   ]
  },
  {
   "cell_type": "code",
   "execution_count": 82,
   "id": "f02264b1",
   "metadata": {},
   "outputs": [
    {
     "data": {
      "text/plain": [
       "9"
      ]
     },
     "execution_count": 82,
     "metadata": {},
     "output_type": "execute_result"
    }
   ],
   "source": [
    "ar.size"
   ]
  },
  {
   "cell_type": "code",
   "execution_count": 83,
   "id": "6c799843",
   "metadata": {},
   "outputs": [
    {
     "data": {
      "text/plain": [
       "36"
      ]
     },
     "execution_count": 83,
     "metadata": {},
     "output_type": "execute_result"
    }
   ],
   "source": [
    "ar.nbytes  ## total bytes consume"
   ]
  },
  {
   "cell_type": "code",
   "execution_count": 88,
   "id": "4a1686ad",
   "metadata": {},
   "outputs": [],
   "source": [
    "one=np.array([7,2,4,5,8])"
   ]
  },
  {
   "cell_type": "code",
   "execution_count": 89,
   "id": "461a9089",
   "metadata": {},
   "outputs": [
    {
     "data": {
      "text/plain": [
       "4"
      ]
     },
     "execution_count": 89,
     "metadata": {},
     "output_type": "execute_result"
    }
   ],
   "source": [
    "one.argmax() #Return indices of the maximum values along the given axis."
   ]
  },
  {
   "cell_type": "code",
   "execution_count": 90,
   "id": "a5d9951f",
   "metadata": {},
   "outputs": [
    {
     "data": {
      "text/plain": [
       "1"
      ]
     },
     "execution_count": 90,
     "metadata": {},
     "output_type": "execute_result"
    }
   ],
   "source": [
    "one.argmin() #Return indices of the minimum values along the given axis."
   ]
  },
  {
   "cell_type": "code",
   "execution_count": 91,
   "id": "ac2220f2",
   "metadata": {},
   "outputs": [
    {
     "data": {
      "text/plain": [
       "array([1, 2, 3, 0, 4], dtype=int64)"
      ]
     },
     "execution_count": 91,
     "metadata": {},
     "output_type": "execute_result"
    }
   ],
   "source": [
    "one.argsort()  #Returns the indices that would sort this array."
   ]
  },
  {
   "cell_type": "code",
   "execution_count": 105,
   "id": "7f8de44f",
   "metadata": {},
   "outputs": [
    {
     "name": "stdout",
     "output_type": "stream",
     "text": [
      "[[1 2 3]\n",
      " [4 5 6]\n",
      " [7 1 0]]\n",
      "1 2 3 4 5 6 7 1 0 "
     ]
    }
   ],
   "source": [
    "print(ar)\n",
    "for i in ar.flat:\n",
    "    print(i,end=\" \")"
   ]
  },
  {
   "cell_type": "code",
   "execution_count": 108,
   "id": "1eaf01c5",
   "metadata": {},
   "outputs": [
    {
     "name": "stdout",
     "output_type": "stream",
     "text": [
      "Min Number 0\n",
      "Min number index  8\n",
      "Max Number 7\n",
      "Max Number Index 6\n",
      "[[0 1 2]\n",
      " [0 1 2]\n",
      " [2 1 0]]\n"
     ]
    }
   ],
   "source": [
    "print(\"Min Number\",ar.min())\n",
    "print(\"Min number index \",ar.argmin())\n",
    "print(\"Max Number\",ar.max())\n",
    "print(\"Max Number Index\",ar.argmax())\n",
    "\n"
   ]
  },
  {
   "cell_type": "code",
   "execution_count": 111,
   "id": "2292a245",
   "metadata": {},
   "outputs": [
    {
     "name": "stdout",
     "output_type": "stream",
     "text": [
      "[2 1 1]\n",
      "[2 2 0]\n"
     ]
    }
   ],
   "source": [
    "print(ar.argmax(axis=0)) ### axis=0 ,, 7 num is max , index of 2 ,,5 num max , index-1 ,,, 6 is max index-1\n",
    "print(ar.argmax(axis=1))"
   ]
  },
  {
   "cell_type": "code",
   "execution_count": 112,
   "id": "aa876ed5",
   "metadata": {},
   "outputs": [
    {
     "name": "stdout",
     "output_type": "stream",
     "text": [
      "[0 2 2]\n",
      "[0 0 2]\n"
     ]
    }
   ],
   "source": [
    "print(ar.argmin(axis=0))\n",
    "print(ar.argmin(axis=1))"
   ]
  },
  {
   "cell_type": "code",
   "execution_count": 115,
   "id": "98ce9a2d",
   "metadata": {},
   "outputs": [
    {
     "name": "stdout",
     "output_type": "stream",
     "text": [
      "[[0 2 2]\n",
      " [1 0 0]\n",
      " [2 1 1]]\n",
      "\n",
      "[[0 1 2]\n",
      " [0 1 2]\n",
      " [2 1 0]]\n"
     ]
    }
   ],
   "source": [
    "print(ar.argsort(axis=0))\n",
    "\n",
    "print(\"\")\n",
    "\n",
    "print(ar.argsort(axis=1))"
   ]
  },
  {
   "cell_type": "code",
   "execution_count": 116,
   "id": "35d08017",
   "metadata": {},
   "outputs": [
    {
     "data": {
      "text/plain": [
       "array([1, 2, 3, 4, 5, 6, 7, 1, 0])"
      ]
     },
     "execution_count": 116,
     "metadata": {},
     "output_type": "execute_result"
    }
   ],
   "source": [
    "ar.ravel()"
   ]
  },
  {
   "cell_type": "markdown",
   "id": "6dface3b",
   "metadata": {},
   "source": [
    "## MATHEMATICS "
   ]
  },
  {
   "cell_type": "code",
   "execution_count": 122,
   "id": "f5ec8ee4",
   "metadata": {},
   "outputs": [
    {
     "name": "stdout",
     "output_type": "stream",
     "text": [
      "[[1 2 3]\n",
      " [4 5 6]\n",
      " [7 1 0]]\n",
      "\n",
      "[[1 2 2]\n",
      " [4 3 5]\n",
      " [5 7 9]]\n"
     ]
    }
   ],
   "source": [
    "ar2=np.array([[1,2,2],[4,3,5],[5,7,9]])\n",
    "print(ar)\n",
    "print(\"\")\n",
    "print(ar2)"
   ]
  },
  {
   "cell_type": "code",
   "execution_count": 121,
   "id": "de89c924",
   "metadata": {},
   "outputs": [
    {
     "data": {
      "text/plain": [
       "array([[ 2,  4,  5],\n",
       "       [ 8,  8, 11],\n",
       "       [12,  8,  9]])"
      ]
     },
     "execution_count": 121,
     "metadata": {},
     "output_type": "execute_result"
    }
   ],
   "source": [
    "ar+ar2"
   ]
  },
  {
   "cell_type": "code",
   "execution_count": 123,
   "id": "f6dd1226",
   "metadata": {},
   "outputs": [
    {
     "data": {
      "text/plain": [
       "array([[ 1,  4,  6],\n",
       "       [16, 15, 30],\n",
       "       [35,  7,  0]])"
      ]
     },
     "execution_count": 123,
     "metadata": {},
     "output_type": "execute_result"
    }
   ],
   "source": [
    "ar*ar2"
   ]
  },
  {
   "cell_type": "code",
   "execution_count": 132,
   "id": "f54b1432",
   "metadata": {},
   "outputs": [
    {
     "name": "stdout",
     "output_type": "stream",
     "text": [
      "1 + 1 = 2\n",
      "2 + 2 = 4\n",
      "3 + 2 = 5\n",
      "4 + 4 = 8\n",
      "5 + 3 = 8\n",
      "6 + 5 = 11\n",
      "7 + 5 = 12\n",
      "1 + 7 = 8\n",
      "0 + 9 = 9\n"
     ]
    }
   ],
   "source": [
    "for i in range(len(ar)):\n",
    "    for j in range(3):\n",
    "        print(ar[i,j],\"+\",ar2[i,j] ,\"=\",ar[i,j]+ar2[i,j])\n"
   ]
  },
  {
   "cell_type": "code",
   "execution_count": 133,
   "id": "7616e312",
   "metadata": {},
   "outputs": [
    {
     "name": "stdout",
     "output_type": "stream",
     "text": [
      "[1 2 3] + [1 2 2] = [2 4 5]\n",
      "[4 5 6] + [4 3 5] = [ 8  8 11]\n",
      "[7 1 0] + [5 7 9] = [12  8  9]\n"
     ]
    }
   ],
   "source": [
    "for i in range(len(ar)):\n",
    "        print(ar[i],\"+\",ar2[i] ,\"=\",ar[i]+ar2[i])"
   ]
  },
  {
   "cell_type": "code",
   "execution_count": 134,
   "id": "eaa316e7",
   "metadata": {},
   "outputs": [
    {
     "data": {
      "text/plain": [
       "array([[1.        , 1.41421356, 1.73205081],\n",
       "       [2.        , 2.23606798, 2.44948974],\n",
       "       [2.64575131, 1.        , 0.        ]])"
      ]
     },
     "execution_count": 134,
     "metadata": {},
     "output_type": "execute_result"
    }
   ],
   "source": [
    "np.sqrt(ar)"
   ]
  },
  {
   "cell_type": "code",
   "execution_count": 136,
   "id": "b6a8da52",
   "metadata": {},
   "outputs": [
    {
     "data": {
      "text/plain": [
       "29"
      ]
     },
     "execution_count": 136,
     "metadata": {},
     "output_type": "execute_result"
    }
   ],
   "source": [
    "ar.sum()\n"
   ]
  },
  {
   "cell_type": "code",
   "execution_count": 146,
   "id": "8dfb0a12",
   "metadata": {},
   "outputs": [
    {
     "name": "stdout",
     "output_type": "stream",
     "text": [
      "(array([1, 2], dtype=int64), array([2, 0], dtype=int64))\n",
      "<class 'tuple'>\n"
     ]
    }
   ],
   "source": [
    "print(np.where(ar>5))\n",
    "print(type(np.where(ar>5)))"
   ]
  },
  {
   "cell_type": "code",
   "execution_count": 156,
   "id": "ff96bf76",
   "metadata": {},
   "outputs": [
    {
     "data": {
      "text/plain": [
       "array([[1, 2, 3],\n",
       "       [4, 5, 6],\n",
       "       [7, 1, 0]])"
      ]
     },
     "execution_count": 156,
     "metadata": {},
     "output_type": "execute_result"
    }
   ],
   "source": [
    "ar"
   ]
  },
  {
   "cell_type": "code",
   "execution_count": 157,
   "id": "cf476e96",
   "metadata": {},
   "outputs": [
    {
     "data": {
      "text/plain": [
       "8"
      ]
     },
     "execution_count": 157,
     "metadata": {},
     "output_type": "execute_result"
    }
   ],
   "source": [
    "np.count_nonzero(ar) # Counts the number of non-zero values in the array ``ar``."
   ]
  },
  {
   "cell_type": "code",
   "execution_count": 158,
   "id": "746058ee",
   "metadata": {},
   "outputs": [
    {
     "data": {
      "text/plain": [
       "(array([0, 0, 0, 1, 1, 1, 2, 2], dtype=int64),\n",
       " array([0, 1, 2, 0, 1, 2, 0, 1], dtype=int64))"
      ]
     },
     "execution_count": 158,
     "metadata": {},
     "output_type": "execute_result"
    }
   ],
   "source": [
    "np.nonzero(ar)  ## non zero index not show index"
   ]
  },
  {
   "cell_type": "markdown",
   "id": "98ac5d26",
   "metadata": {},
   "source": [
    "## Size Difference List and array between"
   ]
  },
  {
   "cell_type": "code",
   "execution_count": 159,
   "id": "b3d9d688",
   "metadata": {},
   "outputs": [],
   "source": [
    "import sys"
   ]
  },
  {
   "cell_type": "code",
   "execution_count": 166,
   "id": "cceec882",
   "metadata": {},
   "outputs": [],
   "source": [
    "py_ar=[0,4,55,2] ## regular list"
   ]
  },
  {
   "cell_type": "code",
   "execution_count": 167,
   "id": "851d5c55",
   "metadata": {},
   "outputs": [],
   "source": [
    "np_ar=np.array(py_ar) ## numpy list"
   ]
  },
  {
   "cell_type": "code",
   "execution_count": 168,
   "id": "57ac2ac3",
   "metadata": {},
   "outputs": [
    {
     "data": {
      "text/plain": [
       "112"
      ]
     },
     "execution_count": 168,
     "metadata": {},
     "output_type": "execute_result"
    }
   ],
   "source": [
    "sys.getsizeof(1)*len(py_ar)"
   ]
  },
  {
   "cell_type": "code",
   "execution_count": 170,
   "id": "48792a85",
   "metadata": {},
   "outputs": [
    {
     "data": {
      "text/plain": [
       "16"
      ]
     },
     "execution_count": 170,
     "metadata": {},
     "output_type": "execute_result"
    }
   ],
   "source": [
    "np_ar.itemsize * np_ar.size"
   ]
  },
  {
   "cell_type": "markdown",
   "id": "ba2724d7",
   "metadata": {},
   "source": [
    "## Write a NumPy program to test whether none of the elements of a given array is zero"
   ]
  },
  {
   "cell_type": "code",
   "execution_count": 22,
   "id": "1aba5f4c",
   "metadata": {
    "scrolled": true
   },
   "outputs": [
    {
     "name": "stdout",
     "output_type": "stream",
     "text": [
      "True\n",
      "False\n",
      " all(a, axis=None, out=None, keepdims=<no value>, *, where=<no value>)\n",
      "\n",
      "Test whether all array elements along a given axis evaluate to True.\n",
      "\n",
      "Parameters\n",
      "----------\n",
      "a : array_like\n",
      "    Input array or object that can be converted to an array.\n",
      "axis : None or int or tuple of ints, optional\n",
      "    Axis or axes along which a logical AND reduction is performed.\n",
      "    The default (``axis=None``) is to perform a logical AND over all\n",
      "    the dimensions of the input array. `axis` may be negative, in\n",
      "    which case it counts from the last to the first axis.\n",
      "\n",
      "    .. versionadded:: 1.7.0\n",
      "\n",
      "    If this is a tuple of ints, a reduction is performed on multiple\n",
      "    axes, instead of a single axis or all the axes as before.\n",
      "out : ndarray, optional\n",
      "    Alternate output array in which to place the result.\n",
      "    It must have the same shape as the expected output and its\n",
      "    type is preserved (e.g., if ``dtype(out)`` is float, the result\n",
      "    will consist of 0.0's and 1.0's). See :ref:`ufuncs-output-type` for more\n",
      "    details.\n",
      "\n",
      "keepdims : bool, optional\n",
      "    If this is set to True, the axes which are reduced are left\n",
      "    in the result as dimensions with size one. With this option,\n",
      "    the result will broadcast correctly against the input array.\n",
      "\n",
      "    If the default value is passed, then `keepdims` will not be\n",
      "    passed through to the `all` method of sub-classes of\n",
      "    `ndarray`, however any non-default value will be.  If the\n",
      "    sub-class' method does not implement `keepdims` any\n",
      "    exceptions will be raised.\n",
      "\n",
      "where : array_like of bool, optional\n",
      "    Elements to include in checking for all `True` values.\n",
      "    See `~numpy.ufunc.reduce` for details.\n",
      "\n",
      "    .. versionadded:: 1.20.0\n",
      "\n",
      "Returns\n",
      "-------\n",
      "all : ndarray, bool\n",
      "    A new boolean or array is returned unless `out` is specified,\n",
      "    in which case a reference to `out` is returned.\n",
      "\n",
      "See Also\n",
      "--------\n",
      "ndarray.all : equivalent method\n",
      "\n",
      "any : Test whether any element along a given axis evaluates to True.\n",
      "\n",
      "Notes\n",
      "-----\n",
      "Not a Number (NaN), positive infinity and negative infinity\n",
      "evaluate to `True` because these are not equal to zero.\n",
      "\n",
      "Examples\n",
      "--------\n",
      ">>> np.all([[True,False],[True,True]])\n",
      "False\n",
      "\n",
      ">>> np.all([[True,False],[True,True]], axis=0)\n",
      "array([ True, False])\n",
      "\n",
      ">>> np.all([-1, 4, 5])\n",
      "True\n",
      "\n",
      ">>> np.all([1.0, np.nan])\n",
      "True\n",
      "\n",
      ">>> np.all([[True, True], [False, True]], where=[[True], [False]])\n",
      "True\n",
      "\n",
      ">>> o=np.array(False)\n",
      ">>> z=np.all([-1, 4, 5], out=o)\n",
      ">>> id(z), id(o), z\n",
      "(28293632, 28293632, array(True)) # may vary\n",
      "None\n"
     ]
    }
   ],
   "source": [
    "x=np.array([1,2,3,4])\n",
    "y=np.array([1,0,3,4])\n",
    "\n",
    "print(np.any(x)) ## check all elements are non zero --> result is yes\n",
    "print(np.all(y))\n",
    "\n",
    "print(np.info(np.all))\n",
    "\n",
    "\n"
   ]
  },
  {
   "cell_type": "code",
   "execution_count": 37,
   "id": "df6803ec",
   "metadata": {},
   "outputs": [
    {
     "name": "stdout",
     "output_type": "stream",
     "text": [
      "False\n",
      "[ True False]\n",
      "False\n",
      "True\n",
      "True\n"
     ]
    },
    {
     "data": {
      "text/plain": [
       "(2271087176528, 2271087176528, array(True))"
      ]
     },
     "execution_count": 37,
     "metadata": {},
     "output_type": "execute_result"
    }
   ],
   "source": [
    "print(np.all([[True,False],[True,True]]))\n",
    "\n",
    "\n",
    "print(np.all([[True,False],[True,True]], axis=0))\n",
    "\n",
    "\n",
    "print(np.all([-1, 0, 5]))\n",
    "\n",
    "\n",
    "print(np.all([1.0, np.nan]))\n",
    "\n",
    "\n",
    "print(np.all([[True, True], [False, True]], where=[[True], [False]]))\n",
    "\n",
    "\n",
    "o=np.array(False)\n",
    "z=np.all([-1, 4, 5], out=o)\n",
    "id(z), id(o), z\n",
    "\n"
   ]
  },
  {
   "cell_type": "code",
   "execution_count": 36,
   "id": "0c47030d",
   "metadata": {},
   "outputs": [
    {
     "data": {
      "text/plain": [
       "False"
      ]
     },
     "execution_count": 36,
     "metadata": {},
     "output_type": "execute_result"
    }
   ],
   "source": [
    "x1 = np.array([1,0,0,0,0,0])\n",
    "y1=np.array([0,0,0,0,0,0])\n",
    "np.any(y1)\n",
    "\n",
    "## all elements are zer0 than result are False\n",
    "\n"
   ]
  },
  {
   "cell_type": "code",
   "execution_count": 38,
   "id": "97e9a935",
   "metadata": {},
   "outputs": [
    {
     "data": {
      "text/plain": [
       "array([ True,  True, False, False])"
      ]
     },
     "execution_count": 38,
     "metadata": {},
     "output_type": "execute_result"
    }
   ],
   "source": [
    "a = np.array([1, 0, np.nan, np.inf])\n",
    "\n",
    "np.isfinite(a)"
   ]
  },
  {
   "cell_type": "code",
   "execution_count": 39,
   "id": "09de5e9d",
   "metadata": {
    "scrolled": true
   },
   "outputs": [
    {
     "data": {
      "text/plain": [
       "array([False, False, False,  True])"
      ]
     },
     "execution_count": 39,
     "metadata": {},
     "output_type": "execute_result"
    }
   ],
   "source": [
    "## Write a NumPy program to test element-wise for positive or negative infinity.\n",
    "\n",
    "np.isinf(a)\n"
   ]
  },
  {
   "cell_type": "code",
   "execution_count": 40,
   "id": "8ca44f93",
   "metadata": {},
   "outputs": [
    {
     "data": {
      "text/plain": [
       "array([False, False,  True, False])"
      ]
     },
     "execution_count": 40,
     "metadata": {},
     "output_type": "execute_result"
    }
   ],
   "source": [
    "### Write a NumPy program to test element-wise for NaN of a given array.\n",
    "\n",
    "np.isnan(a)"
   ]
  },
  {
   "cell_type": "code",
   "execution_count": 42,
   "id": "cf3f8ac0",
   "metadata": {},
   "outputs": [
    {
     "name": "stdout",
     "output_type": "stream",
     "text": [
      "[ True False False False False  True]\n",
      "Checking for real number:\n",
      "[False  True  True  True  True False]\n",
      "Checking for scalar type:\n",
      "True\n",
      "False\n"
     ]
    }
   ],
   "source": [
    "## Write a NumPy program to test element-wise for complex number, real number of a given array. Also test whether a given number is a scalar type or not.\n",
    "\n",
    "a=np.array([1+1j,1+0j,4.5,3,2,2j])\n",
    "\n",
    "print(np.iscomplex(a))\n",
    "print(\"Checking for real number:\")\n",
    "\n",
    "print(np.isreal(a))\n",
    "print(\"Checking for scalar type:\")\n",
    "\n",
    "print(np.isscalar(3.1))\n",
    "\n",
    "print(np.isscalar([3.1]))\n"
   ]
  },
  {
   "cell_type": "code",
   "execution_count": 44,
   "id": "642e67e2",
   "metadata": {},
   "outputs": [
    {
     "name": "stdout",
     "output_type": "stream",
     "text": [
      "Original numbers:\n",
      "[3 5]\n",
      "[2 5]\n",
      "Comparison - greater\n",
      "[ True False]\n",
      "Comparison - greater_equal\n",
      "[ True  True]\n",
      "Comparison - less\n",
      "[False False]\n",
      "Comparison - less_equal\n",
      "[False  True]\n"
     ]
    }
   ],
   "source": [
    "### Write a NumPy program to create an element-wise comparison (greater, greater_equal, less and less_equal) of two given arrays.\n",
    "\n",
    "\n",
    "x = np.array([3, 5])\n",
    "\n",
    "y = np.array([2, 5])\n",
    "\n",
    "print(\"Original numbers:\")\n",
    "\n",
    "print(x)\n",
    "print(y)\n",
    "\n",
    "print(\"Comparison - greater\")\n",
    "print(np.greater(x, y))\n",
    "\n",
    "print(\"Comparison - greater_equal\")\n",
    "\n",
    "print(np.greater_equal(x, y))\n",
    "print(\"Comparison - less\")\n",
    "print(np.less(x, y))\n",
    "print(\"Comparison - less_equal\")\n",
    "print(np.less_equal(x, y))\n"
   ]
  },
  {
   "cell_type": "code",
   "execution_count": 51,
   "id": "11a4ed66",
   "metadata": {},
   "outputs": [
    {
     "name": "stdout",
     "output_type": "stream",
     "text": [
      "[ True  True  True  True  True  True  True  True  True False]\n",
      "False\n"
     ]
    }
   ],
   "source": [
    "## Write a NumPy program to create an element-wise comparison (equal, equal within a tolerance) of two given arrays\n",
    "\n",
    "x = np.array([72, 79, 85, 90, 150, -135, 120, -10, 60, 100])\n",
    "y = np.array([72, 79, 85, 90, 150, -135, 120, -10, 60, 100.1])\n",
    "\n",
    "print(np.equal(x,y))\n",
    "\n",
    "print(np.allclose(x, y))\n"
   ]
  },
  {
   "cell_type": "code",
   "execution_count": 60,
   "id": "f3aaa94c",
   "metadata": {},
   "outputs": [
    {
     "name": "stdout",
     "output_type": "stream",
     "text": [
      "16 bytes\n"
     ]
    }
   ],
   "source": [
    "arr=np.array([1,7,13,105])\n",
    "print(\"%d bytes\" %(arr.size*arr.itemsize))"
   ]
  },
  {
   "cell_type": "code",
   "execution_count": 77,
   "id": "5d80f980",
   "metadata": {},
   "outputs": [
    {
     "name": "stdout",
     "output_type": "stream",
     "text": [
      "[10 10 10 10 10 10 10 10 10 10]\n",
      "[1. 1. 1. 1. 1. 1. 1. 1. 1. 1.]\n",
      "[0. 0. 0. 0. 0. 0. 0. 0. 0. 0.]\n"
     ]
    }
   ],
   "source": [
    "## Write a NumPy program to create an array of 10 zeros,10 ones, 10 fives.\n",
    "zero=np.zeros(10)\n",
    "one=np.ones(10)\n",
    "tens=np.ones(10,dtype='int32')*10\n",
    "print(tens)\n",
    "print(one)\n",
    "print(zero)"
   ]
  },
  {
   "cell_type": "code",
   "execution_count": 81,
   "id": "bb136317",
   "metadata": {},
   "outputs": [
    {
     "data": {
      "text/plain": [
       "array([30, 31, 32, 33, 34, 35, 36, 37, 38, 39, 40, 41, 42, 43, 44, 45, 46,\n",
       "       47, 48, 49, 50, 51, 52, 53, 54, 55, 56, 57, 58, 59, 60, 61, 62, 63,\n",
       "       64, 65, 66, 67, 68, 69])"
      ]
     },
     "execution_count": 81,
     "metadata": {},
     "output_type": "execute_result"
    }
   ],
   "source": [
    "rang= np.arange(30,70)\n",
    "rang"
   ]
  },
  {
   "cell_type": "code",
   "execution_count": 82,
   "id": "dfb723a8",
   "metadata": {},
   "outputs": [
    {
     "data": {
      "text/plain": [
       "array([30, 32, 34, 36, 38, 40, 42, 44, 46, 48, 50, 52, 54, 56, 58, 60, 62,\n",
       "       64, 66, 68])"
      ]
     },
     "execution_count": 82,
     "metadata": {},
     "output_type": "execute_result"
    }
   ],
   "source": [
    "ran= np.arange(30,70,2)\n",
    "ran"
   ]
  },
  {
   "cell_type": "code",
   "execution_count": 85,
   "id": "0072dfb3",
   "metadata": {},
   "outputs": [
    {
     "data": {
      "text/plain": [
       "array([[1., 0., 0.],\n",
       "       [0., 1., 0.],\n",
       "       [0., 0., 1.]])"
      ]
     },
     "execution_count": 85,
     "metadata": {},
     "output_type": "execute_result"
    }
   ],
   "source": [
    "iD= np.identity(3)\n",
    "iD"
   ]
  },
  {
   "cell_type": "code",
   "execution_count": 90,
   "id": "6ccf56ae",
   "metadata": {},
   "outputs": [],
   "source": [
    "rand = np.random.normal(0,1,20)"
   ]
  },
  {
   "cell_type": "code",
   "execution_count": 91,
   "id": "a0805081",
   "metadata": {},
   "outputs": [
    {
     "data": {
      "text/plain": [
       "array([ 0.12096419, -0.73317481,  0.29157518, -1.55140732,  0.09967593,\n",
       "       -1.1983341 ,  0.65282132, -0.77921229, -0.71368624,  0.6577175 ,\n",
       "       -0.72336665, -1.76642239, -0.18705863, -1.33138678,  0.15432137,\n",
       "        0.45815395,  1.09491279, -2.22070293, -1.02478004, -0.82630116])"
      ]
     },
     "execution_count": 91,
     "metadata": {},
     "output_type": "execute_result"
    }
   ],
   "source": [
    "rand"
   ]
  },
  {
   "cell_type": "code",
   "execution_count": 96,
   "id": "dc38a4b8",
   "metadata": {},
   "outputs": [],
   "source": [
    "rand = np.random.randn(0,10,2)"
   ]
  },
  {
   "cell_type": "code",
   "execution_count": 97,
   "id": "960366b7",
   "metadata": {},
   "outputs": [
    {
     "data": {
      "text/plain": [
       "array([], shape=(0, 10, 2), dtype=float64)"
      ]
     },
     "execution_count": 97,
     "metadata": {},
     "output_type": "execute_result"
    }
   ],
   "source": [
    "rand"
   ]
  },
  {
   "cell_type": "code",
   "execution_count": 99,
   "id": "0a82a2a9",
   "metadata": {},
   "outputs": [
    {
     "data": {
      "text/plain": [
       "array([16, 17, 18, 19, 20, 21, 22, 23, 24, 25, 26, 27, 28, 29, 30, 31, 32,\n",
       "       33, 34, 35, 36, 37, 38, 39, 40, 41, 42, 43, 44, 45, 46, 47, 48, 49,\n",
       "       50, 51, 52, 53])"
      ]
     },
     "execution_count": 99,
     "metadata": {},
     "output_type": "execute_result"
    }
   ],
   "source": [
    "v = np.arange(15,55)\n",
    "v[1:-1]"
   ]
  },
  {
   "cell_type": "code",
   "execution_count": 101,
   "id": "82624fd2",
   "metadata": {},
   "outputs": [
    {
     "data": {
      "text/plain": [
       "array([[10, 11, 12, 13],\n",
       "       [14, 15, 16, 17],\n",
       "       [18, 19, 20, 21]])"
      ]
     },
     "execution_count": 101,
     "metadata": {},
     "output_type": "execute_result"
    }
   ],
   "source": [
    "a = np.arange(10,22).reshape(3,4)\n",
    "a"
   ]
  },
  {
   "cell_type": "code",
   "execution_count": 103,
   "id": "dd01507d",
   "metadata": {},
   "outputs": [
    {
     "name": "stdout",
     "output_type": "stream",
     "text": [
      "10\n",
      "11\n",
      "12\n",
      "13\n",
      "14\n",
      "15\n",
      "16\n",
      "17\n",
      "18\n",
      "19\n",
      "20\n",
      "21\n"
     ]
    }
   ],
   "source": [
    "for i in np.nditer(a):\n",
    "    print(i)"
   ]
  },
  {
   "cell_type": "code",
   "execution_count": 110,
   "id": "9f8d3711",
   "metadata": {},
   "outputs": [],
   "source": [
    "evn = np.linspace(10,49,5)\n"
   ]
  },
  {
   "cell_type": "code",
   "execution_count": 111,
   "id": "2b7b5034",
   "metadata": {},
   "outputs": [
    {
     "data": {
      "text/plain": [
       "array([10.  , 19.75, 29.5 , 39.25, 49.  ])"
      ]
     },
     "execution_count": 111,
     "metadata": {},
     "output_type": "execute_result"
    }
   ],
   "source": [
    "evn"
   ]
  },
  {
   "cell_type": "code",
   "execution_count": 123,
   "id": "8c573cd1",
   "metadata": {},
   "outputs": [
    {
     "data": {
      "text/plain": [
       "array([  0,   1,   2,   3,   4,   5,   6,   7,   8,  -9, -10, -11, -12,\n",
       "       -13, -14, -15,  16,  17,  18,  19,  20])"
      ]
     },
     "execution_count": 123,
     "metadata": {},
     "output_type": "execute_result"
    }
   ],
   "source": [
    "## Write a NumPy program to create a vector with values from 0 to 20 and change the sign of the numbers in the range from 9 to 15.\n",
    "\n",
    "x= np.arange(21)\n",
    "\n",
    "x[(x>=9) & (x<=15)] =x[(x>=9) & (x<=15)] *-1\n",
    "x"
   ]
  },
  {
   "cell_type": "code",
   "execution_count": 127,
   "id": "def3b49a",
   "metadata": {},
   "outputs": [
    {
     "name": "stdout",
     "output_type": "stream",
     "text": [
      "Vector of length 5 filled with arbitrary integers from 0 to 10:\n",
      "[7 0 4 4 2]\n"
     ]
    }
   ],
   "source": [
    "x = np.random.randint(0, 11, 5)\n",
    "\n",
    "print(\"Vector of length 5 filled with arbitrary integers from 0 to 10:\")\n",
    "\n",
    "print(x)"
   ]
  },
  {
   "cell_type": "code",
   "execution_count": 132,
   "id": "d2ecab40",
   "metadata": {},
   "outputs": [
    {
     "name": "stdout",
     "output_type": "stream",
     "text": [
      "[ 4 17  9 11 12] [24 28 29 22 24]\n"
     ]
    },
    {
     "data": {
      "text/plain": [
       "array([ 96, 476, 261, 242, 288])"
      ]
     },
     "execution_count": 132,
     "metadata": {},
     "output_type": "execute_result"
    }
   ],
   "source": [
    "a= np.random.randint(1,20,5)\n",
    "b= np.random.randint(20,30,5)\n",
    "print(a,b)\n",
    "a*b"
   ]
  },
  {
   "cell_type": "code",
   "execution_count": 136,
   "id": "bf0f8614",
   "metadata": {},
   "outputs": [
    {
     "data": {
      "text/plain": [
       "array([[10, 15, 17, 12],\n",
       "       [16, 12, 14, 16],\n",
       "       [19, 20, 15, 10]])"
      ]
     },
     "execution_count": 136,
     "metadata": {},
     "output_type": "execute_result"
    }
   ],
   "source": [
    "b= np.random.randint(10,21,12).reshape(3,4)\n",
    "b"
   ]
  },
  {
   "cell_type": "code",
   "execution_count": 137,
   "id": "942f2b92",
   "metadata": {},
   "outputs": [
    {
     "data": {
      "text/plain": [
       "array([[10, 11, 12, 13],\n",
       "       [14, 15, 16, 17],\n",
       "       [18, 19, 20, 21]])"
      ]
     },
     "execution_count": 137,
     "metadata": {},
     "output_type": "execute_result"
    }
   ],
   "source": [
    "c = np.arange(10,22).reshape(3,4)\n",
    "c"
   ]
  },
  {
   "cell_type": "code",
   "execution_count": null,
   "id": "f1eeb7f1",
   "metadata": {},
   "outputs": [],
   "source": []
  }
 ],
 "metadata": {
  "kernelspec": {
   "display_name": "Python 3 (ipykernel)",
   "language": "python",
   "name": "python3"
  },
  "language_info": {
   "codemirror_mode": {
    "name": "ipython",
    "version": 3
   },
   "file_extension": ".py",
   "mimetype": "text/x-python",
   "name": "python",
   "nbconvert_exporter": "python",
   "pygments_lexer": "ipython3",
   "version": "3.10.1"
  }
 },
 "nbformat": 4,
 "nbformat_minor": 5
}

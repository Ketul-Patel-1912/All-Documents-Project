{
 "cells": [
  {
   "cell_type": "markdown",
   "id": "0f8e05e7",
   "metadata": {},
   "source": [
    "## Instance level attribute vs class level attribute\n",
    "\n",
    "class\n",
    "object\n",
    "\n",
    "Assert --> It is validation tool, for validate any things \n",
    "\n",
    "magic method"
   ]
  },
  {
   "cell_type": "code",
   "execution_count": 24,
   "id": "e6e851d8",
   "metadata": {},
   "outputs": [
    {
     "name": "stdout",
     "output_type": "stream",
     "text": [
      "1600.0\n",
      "14000.0\n"
     ]
    }
   ],
   "source": [
    "class Items:\n",
    "     \n",
    "    # if we are define outside of init is call call atribute     \n",
    "    pay_rate=0.8\n",
    "                        \n",
    "    # we are defined in init is call intance attribute\n",
    "    \n",
    "    def __init__(self,name: str,price: float,quantity=0):  ## accept value perticular same datatype\n",
    "        \n",
    "        ## Run validations to the recevied arguments \n",
    "       \n",
    "        assert price>=0,f'Price {price} is not greater than or equal'\n",
    "        assert quantity>=0,f'Price {quantity} is not greater than or equal'\n",
    "        \n",
    "        ## Assigning self object\n",
    "\n",
    "        self.name=name\n",
    "        self.price=price\n",
    "        self.quantity=quantity\n",
    "      \n",
    "    def calculate_total_price(self):\n",
    "        return self.price*self.quantity\n",
    "    \n",
    "    def apply_dicount(self):\n",
    "        self.price=self.price * self.pay_rate\n",
    "\n",
    "        \n",
    "        \n",
    "item1=Items(\"mobile\",2000,3)\n",
    "item1.apply_dicount()\n",
    "print(item1.price) # overide the price \n",
    "\n",
    "\n",
    "item2=Items(\"laptop\",20000,2)\n",
    "item2.pay_rate=0.7  ## Update the discount % for item2 ..it will not affected to item1 ,,, item1 dicount rate is 80%\n",
    "item2.apply_dicount()\n",
    "print(item2.price)\n",
    "\n",
    "\n",
    "\n",
    "\n",
    "# print(item1.name,item2.name)\n",
    "# print(item1.calculate_total_price())\n",
    "# print(Items.pay_rate)\n",
    "\n",
    "# print(Items.__dict__)# All the attributes for class lavel\n",
    "# print(item1.__dict__)# All the attributes for instance lavel\n"
   ]
  },
  {
   "cell_type": "markdown",
   "id": "331e5d42",
   "metadata": {},
   "source": [
    "## Topic-2 := if we are defining multiple object(instances) , how to handle !!\n",
    "\n",
    "\\_\\_repr__ :- representing our object ,, if we append multiple object in list then \\_\\_repr__ usefull to get object details in conveniant way\n",
    "\n"
   ]
  },
  {
   "cell_type": "code",
   "execution_count": 26,
   "id": "3641ddea",
   "metadata": {},
   "outputs": [
    {
     "name": "stdout",
     "output_type": "stream",
     "text": [
      "[Item('Phone',7000,10), Item('Laptop',15000,5), Item('Cable',50,50), Item('Mouse',500,100), Item('Keyboard',200,8)]\n"
     ]
    }
   ],
   "source": [
    "class Items: # Topic 2\n",
    "    \n",
    "    pay_rate=0.8\n",
    "    \n",
    "    all=[] # we are defining empty list for append all the instances\n",
    "                        \n",
    "    # we are defined in init is call intance attribute\n",
    "    \n",
    "    def __init__(self,name: str,price: float,quantity=0):  ## accept value perticular same datatype\n",
    "        \n",
    "        ## Run validations to the recevied arguments \n",
    "       \n",
    "        assert price>=0,f'Price {price} is not greater than or equal'\n",
    "        assert quantity>=0,f'Price {quantity} is not greater than or equal'\n",
    "        \n",
    "        ## Assigning self object\n",
    "\n",
    "        self.name=name\n",
    "        self.price=price\n",
    "        self.quantity=quantity\n",
    "        \n",
    "        ## Action to execute\n",
    "        \n",
    "        Items.all.append(self) # append all object to empty list\n",
    "        \n",
    "        \n",
    "    def __repr__(self):\n",
    "        \n",
    "            \n",
    "        return f\"{self.__class__.__name__}('{self.name}',{self.price},{self.quantity})\"\n",
    "        \n",
    "#         return f\"Item('{self.name}',{self.price},{self.quantity})\"\n",
    "    \n",
    "        \n",
    "item1=Items(\"Phone\",7000,10)\n",
    "item2=Items(\"Laptop\",15000,5)\n",
    "item3=Items(\"Cable\",50,50)\n",
    "item4=Items(\"Mouse\",500,100)\n",
    "item5=Items(\"Keyboard\",200,8)\n",
    "\n",
    "print(Items.all)\n",
    "\n",
    "# for instance in Items.all:\n",
    "#     print(instance.name)"
   ]
  },
  {
   "cell_type": "markdown",
   "id": "a7ba55d9",
   "metadata": {},
   "source": [
    "## Topic-3   Class Method"
   ]
  },
  {
   "cell_type": "code",
   "execution_count": 42,
   "id": "ffae3b4e",
   "metadata": {},
   "outputs": [
    {
     "name": "stdout",
     "output_type": "stream",
     "text": [
      "{'name': 'Phone', 'price': '7000', 'quantity': '10'}\n",
      "{'name': 'Laptop', 'price': '15000', 'quantity': '5'}\n",
      "{'name': 'Cable', 'price': '50', 'quantity': '50'}\n",
      "{'name': 'Mouse', 'price': '500', 'quantity': '100'}\n",
      "{'name': 'Keyboard', 'price': '200', 'quantity': '8'}\n"
     ]
    }
   ],
   "source": [
    "# How will i get data from csv using class Method\n",
    "\n",
    "import csv\n",
    "\n",
    "class Items: \n",
    "      \n",
    "    @classmethod\n",
    "    def instantiate_from_csv(cls):\n",
    "        with open('items.csv','r') as f:\n",
    "            reader=csv.DictReader(f)\n",
    "            items=list(reader)\n",
    "       \n",
    "        for item in items:\n",
    "            print(item)\n",
    "            \n",
    "Items.instantiate_from_csv()"
   ]
  },
  {
   "cell_type": "code",
   "execution_count": 3,
   "id": "680eba67",
   "metadata": {},
   "outputs": [
    {
     "name": "stdout",
     "output_type": "stream",
     "text": [
      "[Item('Phone',7000.0,10.0), Item('Laptop',15000.0,5.0), Item('Cable',50.0,50.0), Item('Mouse',500.0,100.0), Item('Keyboard',200.0,8.0)]\n"
     ]
    }
   ],
   "source": [
    "import csv\n",
    "\n",
    "class Items:\n",
    "    \n",
    "    all=[] \n",
    "    \n",
    "    def __init__(self,name: str, price: float, quantity=0):\n",
    "        \n",
    "        ## Assigning self object\n",
    "\n",
    "        self.name=name\n",
    "        self.price=price\n",
    "        self.quantity=quantity\n",
    "        \n",
    "        ## Action to execute\n",
    "        \n",
    "        Items.all.append(self) # append all object to empty list\n",
    "    \n",
    "    @classmethod\n",
    "    def instantiate_from_csv(cls):\n",
    "        with open('items.csv','r') as f:\n",
    "            reader=csv.DictReader(f)\n",
    "            items=list(reader)\n",
    "            \n",
    "        for item in items:\n",
    "            Items(\n",
    "                  name=item.get('name'),\n",
    "                  price=float(item.get('price')),\n",
    "                  quantity=float(item.get('quantity'))\n",
    "                )\n",
    "\n",
    "    def __repr__(self):       \n",
    "        return f\"Item('{self.name}',{self.price},{self.quantity})\"\n",
    "    \n",
    "Items.instantiate_from_csv()\n",
    "\n",
    "print(Items.all)"
   ]
  },
  {
   "cell_type": "markdown",
   "id": "2c97cc2e",
   "metadata": {},
   "source": [
    "## Topic-4   Static Method\n",
    "\n",
    "Static method has some logical connection to a class \n",
    "ex.- I fwe want to chcek number is an interger or float, than static mathod comes in picture"
   ]
  },
  {
   "cell_type": "code",
   "execution_count": 51,
   "id": "a7217660",
   "metadata": {},
   "outputs": [
    {
     "name": "stdout",
     "output_type": "stream",
     "text": [
      "True\n"
     ]
    }
   ],
   "source": [
    "class Items:\n",
    "    \n",
    "    \n",
    "    # we are going to check number is integer or not , if integer reture true else false\n",
    "    \n",
    "    @staticmethod\n",
    "    def is_integer(num):  # is method works like regular our function\n",
    "        \n",
    "        # we will count the floats that are point zero\n",
    "        # For i.e. 5.0 , 10.0 \n",
    "        \n",
    "        if isinstance(num, float):\n",
    "            # count out the floats that are point zero\n",
    "            return num.is_integer()\n",
    "        \n",
    "        elif isinstance(num, int):\n",
    "            return True\n",
    "        \n",
    "        else:\n",
    "            False\n",
    "\n",
    "print(Items.is_integer(7.0))\n",
    "    \n"
   ]
  },
  {
   "cell_type": "markdown",
   "id": "3bb82ba0",
   "metadata": {},
   "source": [
    "## When to use class method and When to use Static method"
   ]
  },
  {
   "cell_type": "code",
   "execution_count": null,
   "id": "69c23b6f",
   "metadata": {},
   "outputs": [],
   "source": [
    "class Items:\n",
    "    pass\n",
    "    \n",
    "    @staticmethod\n",
    "    def is_integer():\n",
    "        pass\n",
    "        '''\n",
    "        This should be something that has a relationship with the class, \n",
    "        but not something that must be unique per instance!!\n",
    "        \n",
    "        Static method will work like isolate function means regular function thats why it is directly come under main class\n",
    "        \n",
    "        not mandatory trequired of parameter (regular parameter) \n",
    "        '''\n",
    "    @classmethod\n",
    "    def instantiate_from_something(cls):\n",
    "        pass\n",
    "        \n",
    "        '''\n",
    "        This should be something that has a relationship with the class, \n",
    "        but usually, those are usded to manipulate different structure of data to instantiate object,\n",
    "        like we have done with CSv. different file we can intantiate object like jason file,yaml file etc..\n",
    "        \n",
    "        mandatory parameter required like cls parameter\n",
    "        '''\n",
    "        \n"
   ]
  },
  {
   "cell_type": "markdown",
   "id": "d00e161f",
   "metadata": {},
   "source": [
    "## inheritance\n",
    "\n",
    "make child class to get all atribute and methods from parent class\n",
    "\n",
    "super function allow to us get all attribute and access methods from parent class.. dont need to write constructor again and again\n"
   ]
  },
  {
   "cell_type": "code",
   "execution_count": 27,
   "id": "b128c7bc",
   "metadata": {},
   "outputs": [
    {
     "name": "stdout",
     "output_type": "stream",
     "text": [
      "2\n",
      "1\n",
      "Phone\n",
      "Mi note 5\n",
      "[Item('Phone',7000,10), Item('Laptop',15000,5), Item('Cable',50,50), Item('Mouse',500,100), Item('Keyboard',200,8), Item('Mi note 5',500,5), Item('samsung A71',12000,4)]\n"
     ]
    }
   ],
   "source": [
    "class phone(Items):\n",
    "    \n",
    "    def __init__(self,name: str,price: float,quantity=0,broken_phone=0):\n",
    "        \n",
    "        ## call to super function to have access to all arguments and methods\n",
    "        \n",
    "        super().__init__(name,price,quantity)\n",
    "        \n",
    "        self.broken_phone=broken_phone\n",
    "            \n",
    "\n",
    "    \n",
    "phone1=Items(\"Mi note 5\",500,5)\n",
    "phone1.broken_phone=2\n",
    "phone2=Items(\"samsung A71\",12000,4)\n",
    "phone2.broken_phone=1\n",
    "\n",
    "# print(phone2.calculate_total_price())  ## we are calling Items class method through phone class object\n",
    "# print(phone1.calculate_total_price())\n",
    "\n",
    "print(phone1.broken_phone)\n",
    "print(phone2.broken_phone)\n",
    "\n",
    "print(item1.name)  ## we are calling Items class object item1\n",
    "print(phone1.name)  ## we are calling phone class object phone1\n",
    "\n",
    "print(phone.all)  ## we are getting same result while using items class [Item('Phone',7000,10), Item('Laptop',15000,5)] \n",
    "#like that but we have to change ITems name so how we can do that\n",
    "\n",
    "\n"
   ]
  },
  {
   "cell_type": "code",
   "execution_count": null,
   "id": "0ba11e17",
   "metadata": {},
   "outputs": [],
   "source": []
  },
  {
   "cell_type": "code",
   "execution_count": null,
   "id": "fd83cf94",
   "metadata": {},
   "outputs": [],
   "source": []
  },
  {
   "cell_type": "code",
   "execution_count": null,
   "id": "0e99c608",
   "metadata": {},
   "outputs": [],
   "source": []
  },
  {
   "cell_type": "code",
   "execution_count": null,
   "id": "d61ce519",
   "metadata": {},
   "outputs": [],
   "source": []
  }
 ],
 "metadata": {
  "kernelspec": {
   "display_name": "Python 3 (ipykernel)",
   "language": "python",
   "name": "python3"
  },
  "language_info": {
   "codemirror_mode": {
    "name": "ipython",
    "version": 3
   },
   "file_extension": ".py",
   "mimetype": "text/x-python",
   "name": "python",
   "nbconvert_exporter": "python",
   "pygments_lexer": "ipython3",
   "version": "3.10.1"
  }
 },
 "nbformat": 4,
 "nbformat_minor": 5
}
